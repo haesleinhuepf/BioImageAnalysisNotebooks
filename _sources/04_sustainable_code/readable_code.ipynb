{
 "cells": [
  {
   "cell_type": "markdown",
   "id": "798022dd-fa69-4ddd-9049-922c5583275c",
   "metadata": {},
   "source": [
    "# Writing good code\n",
    "## Writing readable code\n",
    "Technically, python allows us to write code like this."
   ]
  },
  {
   "cell_type": "code",
   "execution_count": 1,
   "id": "80e01b1a-431c-4c2b-ae1c-3a889d2f81d5",
   "metadata": {},
   "outputs": [
    {
     "name": "stdout",
     "output_type": "stream",
     "text": [
      "Yang\n"
     ]
    }
   ],
   "source": [
    "a=5;b=3;c=8;d=(a+b)/c;print(\"Yin\" if d==5 else \"Yang\")"
   ]
  },
  {
   "cell_type": "markdown",
   "id": "bd574e9a-d2a5-43a6-acf8-4af73b00181f",
   "metadata": {},
   "source": [
    "However, for readability, it is recommended to write individual statements in individual lines. Also put empty lines between sections and introduce comments to explain why things are done."
   ]
  },
  {
   "cell_type": "code",
   "execution_count": 2,
   "id": "af8aa5aa-4a9d-4f0a-8776-0a29878f23ba",
   "metadata": {},
   "outputs": [],
   "source": [
    "# initialize program\n",
    "a=5\n",
    "b=3\n",
    "c=8\n",
    "\n",
    "# compute result before we can evaluate it\n",
    "d=(a+b)/c"
   ]
  },
  {
   "cell_type": "markdown",
   "id": "a25300a1-f85b-4c9a-8629-5780b6e8aeb2",
   "metadata": {},
   "source": [
    "If you work with Jupyter notebooks, print out intermediate results to allow the reader to see what's happening."
   ]
  },
  {
   "cell_type": "code",
   "execution_count": 3,
   "id": "81b2dca6-2e25-46e7-9ad6-bee83b2256ad",
   "metadata": {},
   "outputs": [
    {
     "data": {
      "text/plain": [
       "1.0"
      ]
     },
     "execution_count": 3,
     "metadata": {},
     "output_type": "execute_result"
    }
   ],
   "source": [
    "d"
   ]
  },
  {
   "cell_type": "markdown",
   "id": "1d7342d7-7e76-437c-bee3-21fa509b31c8",
   "metadata": {},
   "source": [
    "Consider writing spaces between variables, operators and numbers, because this is easier toreadthanthat,right?"
   ]
  },
  {
   "cell_type": "code",
   "execution_count": 4,
   "id": "024f1ec4-79e8-4559-ac1e-2d8df7602b8b",
   "metadata": {},
   "outputs": [
    {
     "data": {
      "text/plain": [
       "1.0"
      ]
     },
     "execution_count": 4,
     "metadata": {},
     "output_type": "execute_result"
    }
   ],
   "source": [
    "d = (a + b) / c\n",
    "d"
   ]
  },
  {
   "cell_type": "markdown",
   "id": "30bb9bbc-5153-4bd6-aa81-6bdf479e221c",
   "metadata": {},
   "source": [
    "Some people are ok with such short statements:"
   ]
  },
  {
   "cell_type": "code",
   "execution_count": 5,
   "id": "4fb1a25d-0669-4b1e-b0d2-9ae27bf00317",
   "metadata": {},
   "outputs": [
    {
     "name": "stdout",
     "output_type": "stream",
     "text": [
      "Yang\n"
     ]
    }
   ],
   "source": [
    "print(\"Yin\" if d==5 else \"Yang\")"
   ]
  },
  {
   "cell_type": "markdown",
   "id": "e87712f2-e265-4434-9b1b-2a01d089241d",
   "metadata": {},
   "source": [
    "Others prefer to write code out."
   ]
  },
  {
   "cell_type": "code",
   "execution_count": 6,
   "id": "5db81d1a-0671-4485-b501-9c324bb2527f",
   "metadata": {},
   "outputs": [
    {
     "name": "stdout",
     "output_type": "stream",
     "text": [
      "Yang\n"
     ]
    }
   ],
   "source": [
    "if d == 5:\n",
    "    print(\"Yin\")\n",
    "else:\n",
    "    print(\"Yang\")"
   ]
  }
 ],
 "metadata": {
  "kernelspec": {
   "display_name": "Python 3 (ipykernel)",
   "language": "python",
   "name": "python3"
  },
  "language_info": {
   "codemirror_mode": {
    "name": "ipython",
    "version": 3
   },
   "file_extension": ".py",
   "mimetype": "text/x-python",
   "name": "python",
   "nbconvert_exporter": "python",
   "pygments_lexer": "ipython3",
   "version": "3.9.15"
  }
 },
 "nbformat": 4,
 "nbformat_minor": 5
}
