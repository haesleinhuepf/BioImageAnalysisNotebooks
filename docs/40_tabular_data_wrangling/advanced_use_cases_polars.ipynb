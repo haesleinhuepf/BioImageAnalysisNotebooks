{
 "cells": [
  {
   "cell_type": "markdown",
   "metadata": {},
   "source": [
    "# Advanced Use Cases with Polars\n",
    "\n",
    "In this notebook, we'll explore some advanced features of the Polars library, an efficient DataFrame library in Python.\n",
    "We'll assume that you're familiar with the basics of Polars from a previous introduction."
   ]
  },
  {
   "cell_type": "code",
   "execution_count": null,
   "metadata": {},
   "outputs": [],
   "source": [
    "import polars as pl\n\n",
    "# Sample dataset:\n",
    "data = {\n",
    "    \"product\": [\"A\", \"B\", \"C\"],\n",
    "    \"sales\": [100, 170, 90],\n",
    "    \"budget\": [80, 160, 95]\n",
    "}\n",
    "\n",
    "# Create DataFrame\n",
    "df = pl.DataFrame(data)\n",
    "df"
   ]
  },
  {
   "cell_type": "markdown",
   "metadata": {},
   "source": [
    "## Advanced GroupBy Operations\n",
    "\n",
    "Polars allows you to perform complex grouping and aggregations efficiently. Let's see how to use custom aggregation functions."
   ]
  },
  {
   "cell_type": "code",
   "execution_count": null,
   "metadata": {},
   "outputs": [],
   "source": [
    "# Define a custom aggregation function\n",
    "custom_agg = pl.Expr.mean((pl.col(\"sales\") - pl.col(\"budget\")).alias(\"over_budget\"))\n\n",
    "# Group by product and apply the custom function\n",
    "result = df.groupby(\"product\").agg(custom_agg)\n",
    "result"
   ]
  },
  {
   "cell_type": "markdown",
   "metadata": {},
   "source": [
    "## Join Operations\n",
    "\n",
    "Polars supports fast join operations with DataFrames. Here's an example of performing a join between two DataFrames."
   ]
  },
  {
   "cell_type": "code",
   "execution_count": null,
   "metadata": {},
   "outputs": [],
   "source": [
    "another_data = {\n",
    "    \"product\": [\"A\", \"B\", \"D\"],\n",
    "    \"profit\": [50, 60, 30]\n",
    "}\n",
    "\n",
    "df2 = pl.DataFrame(another_data)\n\n",
    "# Perform an inner join on 'product'\n",
    "joined_df = df.join(df2, on=\"product\", how=\"inner\")\n",
    "joined_df"
   ]
  },
  {
   "cell_type": "markdown",
   "metadata": {},
   "source": [
    "## Pivoting and Melting\n",
    "\n",
    "Transformations like pivoting and melting DataFrames can be easily accomplished using Polars."
   ]
  },
  {
   "cell_type": "code",
   "execution_count": null,
   "metadata": {},
   "outputs": [],
   "source": [
    "# Example: Pivot operation\n",
    "pivot_df = df.pivot(values=\"sales\", index=\"product\", columns=\"budget\")\n",
    "pivot_df"
   ]
  },
  {
   "cell_type": "markdown",
   "metadata": {},
   "source": [
    "## Conclusion\n",
    "\n",
    "This notebook provided a glimpse into the complex operations one can perform with Polars, showcasing its abilities to efficiently handle large datasets. For further learning, consider exploring more of Polars' official documentation and experimenting with its various functionalities."
   ]
  }
 ],
 "metadata": {
  "kernelspec": {
   "display_name": "Python 3",
   "language": "python",
   "name": "python3"
  },
  "language_info": {
   "codemirror_mode": {
    "name": "ipython",
    "version": 3
   },
   "file_extension": ".py",
   "mimetype": "text/x-python",
   "name": "python",
   "nbconvert_exporter": "python",
   "pygments_lexer": "ipython3",
   "version": "3.8.5"
  }
 },
 "nbformat": 4,
 "nbformat_minor": 2
}
