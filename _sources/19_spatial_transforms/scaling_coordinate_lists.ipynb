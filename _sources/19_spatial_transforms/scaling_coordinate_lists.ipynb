{
 "cells": [
  {
   "cell_type": "markdown",
   "id": "8bfa86fc-d854-419e-a91f-da1dbc91e390",
   "metadata": {
    "tags": []
   },
   "source": [
    "# Scaling coordinate lists\n",
    "\n",
    "Presume you have a list of coordinates derived from an image. In case the image has a specified pixel size, you can convert pixel coordinates in physical coordinates."
   ]
  },
  {
   "cell_type": "code",
   "execution_count": 1,
   "id": "b2f0de47-ecf1-413e-922e-acbe01b8fc19",
   "metadata": {
    "tags": []
   },
   "outputs": [],
   "source": [
    "from skimage.io import imread\n",
    "import pyclesperanto_prototype as cle\n",
    "import stackview"
   ]
  },
  {
   "cell_type": "raw",
   "id": "abfa82f9-6a82-4367-af0f-53991061642e",
   "metadata": {},
   "source": [
    "Or starting point for this demonstration is a label image."
   ]
  },
  {
   "cell_type": "code",
   "execution_count": 2,
   "id": "d6680458-dbc7-4967-824e-761224c5bad0",
   "metadata": {
    "tags": []
   },
   "outputs": [
    {
     "data": {
      "text/html": [
       "<table>\n",
       "<tr>\n",
       "<td>\n",
       "<img src=\"data:image/png;base64,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\"></img>\n",
       "</td>\n",
       "<td style=\"text-align: center; vertical-align: top;\">\n",
       "<b><a href=\"https://github.com/clEsperanto/pyclesperanto_prototype\" target=\"_blank\">cle._</a> image</b><br/>\n",
       "<table>\n",
       "<tr><td>shape</td><td>(50,&nbsp;50)</td></tr>\n",
       "<tr><td>dtype</td><td>uint32</td></tr>\n",
       "<tr><td>size</td><td>9.8 kB</td></tr>\n",
       "<tr><td>min</td><td>0.0</td></tr><tr><td>max</td><td>6.0</td></tr>\n",
       "</table>\n",
       "\n",
       "</td>\n",
       "</tr>\n",
       "</table>"
      ],
      "text/plain": [
       "cl.OCLArray([[0, 0, 0, ..., 0, 0, 0],\n",
       "       [0, 0, 0, ..., 0, 0, 0],\n",
       "       [0, 0, 0, ..., 0, 0, 0],\n",
       "       ...,\n",
       "       [0, 0, 0, ..., 0, 0, 0],\n",
       "       [0, 0, 0, ..., 0, 0, 0],\n",
       "       [0, 0, 0, ..., 0, 0, 0]], dtype=uint32)"
      ]
     },
     "execution_count": 2,
     "metadata": {},
     "output_type": "execute_result"
    }
   ],
   "source": [
    "image = imread(\"../../data/blobs.tif\")[:50,:50]\n",
    "\n",
    "label_image = cle.voronoi_otsu_labeling(image, spot_sigma=4)\n",
    "\n",
    "label_image"
   ]
  },
  {
   "cell_type": "markdown",
   "id": "8b223465-39d0-43b1-bc3c-43df92601503",
   "metadata": {},
   "source": [
    "From the objects in this label image, we can derive centroid coordinates."
   ]
  },
  {
   "cell_type": "code",
   "execution_count": 3,
   "id": "6d35fad4-7c0a-4eb5-89cb-358302adcd8b",
   "metadata": {
    "tags": []
   },
   "outputs": [
    {
     "data": {
      "text/html": [
       "<pre>cle.array([[ 0.7586207  7.7894735 17.849672  24.59091   29.01266   43.57143  ]\n",
       " [26.275862  44.63158   17.79085    4.071429  47.02532   26.266666 ]], dtype=float32)</pre>"
      ],
      "text/plain": [
       "cl.OCLArray([[ 0.7586207,  7.7894735, 17.849672 , 24.59091  , 29.01266  ,\n",
       "        43.57143  ],\n",
       "       [26.275862 , 44.63158  , 17.79085  ,  4.071429 , 47.02532  ,\n",
       "        26.266666 ]], dtype=float32)"
      ]
     },
     "execution_count": 3,
     "metadata": {},
     "output_type": "execute_result"
    }
   ],
   "source": [
    "centroids = cle.centroids_of_labels(label_image)\n",
    "centroids"
   ]
  },
  {
   "cell_type": "markdown",
   "id": "00f4ca87-0593-45e7-a7f3-70590256cd48",
   "metadata": {
    "tags": []
   },
   "source": [
    "Such a point list has d times n numbers for d dimensions (commonly 2 or 3) and n points."
   ]
  },
  {
   "cell_type": "code",
   "execution_count": 4,
   "id": "3b1979ab-36e9-42fb-865a-4253b004f6fa",
   "metadata": {
    "tags": []
   },
   "outputs": [
    {
     "data": {
      "text/plain": [
       "(2, 6)"
      ]
     },
     "execution_count": 4,
     "metadata": {},
     "output_type": "execute_result"
    }
   ],
   "source": [
    "centroids.shape"
   ]
  },
  {
   "cell_type": "markdown",
   "id": "f3b3541c-ed8f-4095-8c51-a3ca9c4c96fc",
   "metadata": {
    "tags": []
   },
   "source": [
    "In case pixel size is known, we can compute the centroid coordinates in physical units."
   ]
  },
  {
   "cell_type": "code",
   "execution_count": 5,
   "id": "a1ba4332-a51a-45c4-a81d-64e6376e2eed",
   "metadata": {
    "tags": []
   },
   "outputs": [],
   "source": [
    "pixel_size_in_microns = [0.1, 0.1]"
   ]
  },
  {
   "cell_type": "code",
   "execution_count": 6,
   "id": "b1db7b9a-352b-4d75-afe3-2c5e2359317b",
   "metadata": {
    "tags": []
   },
   "outputs": [
    {
     "data": {
      "text/html": [
       "<pre>cle.array([[0.07586207 0.77894735 1.7849673  2.459091   2.9012659  4.357143  ]\n",
       " [2.6275861  4.463158   1.779085   0.40714288 4.702532   2.6266668 ]], dtype=float32)</pre>"
      ],
      "text/plain": [
       "cl.OCLArray([[0.07586207, 0.77894735, 1.7849673 , 2.459091  , 2.9012659 ,\n",
       "        4.357143  ],\n",
       "       [2.6275861 , 4.463158  , 1.779085  , 0.40714288, 4.702532  ,\n",
       "        2.6266668 ]], dtype=float32)"
      ]
     },
     "execution_count": 6,
     "metadata": {},
     "output_type": "execute_result"
    }
   ],
   "source": [
    "centroids_in_microns = centroids * cle.asarray([pixel_size_in_microns]).T\n",
    "\n",
    "centroids_in_microns"
   ]
  },
  {
   "cell_type": "code",
   "execution_count": null,
   "id": "ffe27c58-9219-4edd-a99d-9151514d98f7",
   "metadata": {},
   "outputs": [],
   "source": []
  }
 ],
 "metadata": {
  "kernelspec": {
   "display_name": "Python 3 (ipykernel)",
   "language": "python",
   "name": "python3"
  },
  "language_info": {
   "codemirror_mode": {
    "name": "ipython",
    "version": 3
   },
   "file_extension": ".py",
   "mimetype": "text/x-python",
   "name": "python",
   "nbconvert_exporter": "python",
   "pygments_lexer": "ipython3",
   "version": "3.9.16"
  }
 },
 "nbformat": 4,
 "nbformat_minor": 5
}
