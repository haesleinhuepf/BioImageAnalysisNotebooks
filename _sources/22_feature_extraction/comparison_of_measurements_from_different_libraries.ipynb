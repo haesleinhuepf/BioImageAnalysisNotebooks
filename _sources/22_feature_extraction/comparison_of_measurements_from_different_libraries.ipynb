{
 "cells": [
  {
   "cell_type": "markdown",
   "id": "21c9c7c0-e43a-48d8-9393-3d373d4035c7",
   "metadata": {},
   "source": [
    "# Comparison of measurements from different libraries"
   ]
  },
  {
   "cell_type": "markdown",
   "id": "bcfc84c9-1709-4d75-840e-2f19d15e39d7",
   "metadata": {},
   "source": [
    "We now compare the implementation of the measurement `perimeter` in [napari-skimage-regionprops](https://github.com/haesleinhuepf/napari-skimage-regionprops) `regionprops_table` and [napari-simpleitk-image-processing](https://github.com/haesleinhuepf/napari-simpleitk-image-processing) `label_statistics`."
   ]
  },
  {
   "cell_type": "code",
   "execution_count": 1,
   "id": "56f7ea8d-b46d-42f8-ab98-00cced843237",
   "metadata": {
    "tags": []
   },
   "outputs": [
    {
     "name": "stderr",
     "output_type": "stream",
     "text": [
      "C:\\Users\\maral\\mambaforge\\envs\\feature_blogpost\\lib\\site-packages\\morphometrics\\measure\\label.py:7: TqdmExperimentalWarning: Using `tqdm.autonotebook.tqdm` in notebook mode. Use `tqdm.tqdm` instead to force console mode (e.g. in jupyter console)\n",
      "  from tqdm.autonotebook import tqdm\n"
     ]
    }
   ],
   "source": [
    "import numpy as np\n",
    "import pandas as pd\n",
    "from skimage.io import imread\n",
    "from pyclesperanto_prototype import imshow\n",
    "from skimage import filters\n",
    "from skimage import measure\n",
    "import matplotlib.pyplot as plt\n",
    "from napari_skimage_regionprops import regionprops_table\n",
    "from skimage import filters\n",
    "from napari_simpleitk_image_processing import label_statistics"
   ]
  },
  {
   "cell_type": "markdown",
   "id": "599a6a28-49da-4161-94e3-b269df3e851e",
   "metadata": {},
   "source": [
    "Therefore, we need an `image` and a `label image`."
   ]
  },
  {
   "cell_type": "code",
   "execution_count": 2,
   "id": "c0b1e5a3-7cbe-4ceb-adc2-fa46d0fcd736",
   "metadata": {
    "tags": []
   },
   "outputs": [
    {
     "data": {
      "image/png": "[encoded data removed]",
      "text/plain": [
       "<Figure size 640x480 with 1 Axes>"
      ]
     },
     "metadata": {},
     "output_type": "display_data"
    }
   ],
   "source": [
    "# load image\n",
    "image = imread(\"../../data/blobs.tif\")\n",
    "\n",
    "# denoising\n",
    "blurred_image = filters.gaussian(image, sigma=1)\n",
    "\n",
    "# binarization\n",
    "threshold = filters.threshold_otsu(blurred_image)\n",
    "thresholded_image = blurred_image >= threshold\n",
    "\n",
    "# labeling\n",
    "label_image = measure.label(thresholded_image)\n",
    "\n",
    "# visualization\n",
    "imshow(label_image, labels=True)"
   ]
  },
  {
   "cell_type": "markdown",
   "id": "a64f2c50-b09e-4640-a265-ad51865c6055",
   "metadata": {},
   "source": [
    "We derive the perimeter measurements using the `regionprops_table` function"
   ]
  },
  {
   "cell_type": "code",
   "execution_count": 4,
   "id": "8bbc1ec2-1fa3-4455-a6da-07b22eda33f9",
   "metadata": {
    "tags": []
   },
   "outputs": [
    {
     "data": {
      "text/html": [
       "<div>\n",
       "<style scoped>\n",
       "    .dataframe tbody tr th:only-of-type {\n",
       "        vertical-align: middle;\n",
       "    }\n",
       "\n",
       "    .dataframe tbody tr th {\n",
       "        vertical-align: top;\n",
       "    }\n",
       "\n",
       "    .dataframe thead th {\n",
       "        text-align: right;\n",
       "    }\n",
       "</style>\n",
       "<table border=\"1\" class=\"dataframe\">\n",
       "  <thead>\n",
       "    <tr style=\"text-align: right;\">\n",
       "      <th></th>\n",
       "      <th>label</th>\n",
       "      <th>area</th>\n",
       "      <th>bbox_area</th>\n",
       "      <th>equivalent_diameter</th>\n",
       "      <th>convex_area</th>\n",
       "      <th>max_intensity</th>\n",
       "      <th>mean_intensity</th>\n",
       "      <th>min_intensity</th>\n",
       "      <th>perimeter</th>\n",
       "      <th>perimeter_crofton</th>\n",
       "      <th>standard_deviation_intensity</th>\n",
       "    </tr>\n",
       "  </thead>\n",
       "  <tbody>\n",
       "    <tr>\n",
       "      <th>0</th>\n",
       "      <td>1</td>\n",
       "      <td>429</td>\n",
       "      <td>750</td>\n",
       "      <td>23.371345</td>\n",
       "      <td>479</td>\n",
       "      <td>232.0</td>\n",
       "      <td>191.440559</td>\n",
       "      <td>128.0</td>\n",
       "      <td>89.012193</td>\n",
       "      <td>87.070368</td>\n",
       "      <td>29.793138</td>\n",
       "    </tr>\n",
       "    <tr>\n",
       "      <th>1</th>\n",
       "      <td>2</td>\n",
       "      <td>183</td>\n",
       "      <td>231</td>\n",
       "      <td>15.264430</td>\n",
       "      <td>190</td>\n",
       "      <td>224.0</td>\n",
       "      <td>179.846995</td>\n",
       "      <td>128.0</td>\n",
       "      <td>53.556349</td>\n",
       "      <td>53.456120</td>\n",
       "      <td>21.270534</td>\n",
       "    </tr>\n",
       "    <tr>\n",
       "      <th>2</th>\n",
       "      <td>3</td>\n",
       "      <td>658</td>\n",
       "      <td>756</td>\n",
       "      <td>28.944630</td>\n",
       "      <td>673</td>\n",
       "      <td>248.0</td>\n",
       "      <td>205.604863</td>\n",
       "      <td>120.0</td>\n",
       "      <td>95.698485</td>\n",
       "      <td>93.409370</td>\n",
       "      <td>29.392255</td>\n",
       "    </tr>\n",
       "    <tr>\n",
       "      <th>3</th>\n",
       "      <td>4</td>\n",
       "      <td>433</td>\n",
       "      <td>529</td>\n",
       "      <td>23.480049</td>\n",
       "      <td>445</td>\n",
       "      <td>248.0</td>\n",
       "      <td>217.515012</td>\n",
       "      <td>120.0</td>\n",
       "      <td>77.455844</td>\n",
       "      <td>76.114262</td>\n",
       "      <td>35.852345</td>\n",
       "    </tr>\n",
       "    <tr>\n",
       "      <th>4</th>\n",
       "      <td>5</td>\n",
       "      <td>472</td>\n",
       "      <td>551</td>\n",
       "      <td>24.514670</td>\n",
       "      <td>486</td>\n",
       "      <td>248.0</td>\n",
       "      <td>213.033898</td>\n",
       "      <td>128.0</td>\n",
       "      <td>83.798990</td>\n",
       "      <td>82.127941</td>\n",
       "      <td>28.741080</td>\n",
       "    </tr>\n",
       "    <tr>\n",
       "      <th>...</th>\n",
       "      <td>...</td>\n",
       "      <td>...</td>\n",
       "      <td>...</td>\n",
       "      <td>...</td>\n",
       "      <td>...</td>\n",
       "      <td>...</td>\n",
       "      <td>...</td>\n",
       "      <td>...</td>\n",
       "      <td>...</td>\n",
       "      <td>...</td>\n",
       "      <td>...</td>\n",
       "    </tr>\n",
       "    <tr>\n",
       "      <th>57</th>\n",
       "      <td>58</td>\n",
       "      <td>213</td>\n",
       "      <td>285</td>\n",
       "      <td>16.468152</td>\n",
       "      <td>221</td>\n",
       "      <td>224.0</td>\n",
       "      <td>184.525822</td>\n",
       "      <td>120.0</td>\n",
       "      <td>52.284271</td>\n",
       "      <td>52.250114</td>\n",
       "      <td>28.255467</td>\n",
       "    </tr>\n",
       "    <tr>\n",
       "      <th>58</th>\n",
       "      <td>59</td>\n",
       "      <td>79</td>\n",
       "      <td>108</td>\n",
       "      <td>10.029253</td>\n",
       "      <td>84</td>\n",
       "      <td>248.0</td>\n",
       "      <td>184.810127</td>\n",
       "      <td>128.0</td>\n",
       "      <td>39.313708</td>\n",
       "      <td>39.953250</td>\n",
       "      <td>33.739912</td>\n",
       "    </tr>\n",
       "    <tr>\n",
       "      <th>59</th>\n",
       "      <td>60</td>\n",
       "      <td>88</td>\n",
       "      <td>110</td>\n",
       "      <td>10.585135</td>\n",
       "      <td>92</td>\n",
       "      <td>216.0</td>\n",
       "      <td>182.727273</td>\n",
       "      <td>128.0</td>\n",
       "      <td>45.692388</td>\n",
       "      <td>46.196967</td>\n",
       "      <td>24.417173</td>\n",
       "    </tr>\n",
       "    <tr>\n",
       "      <th>60</th>\n",
       "      <td>61</td>\n",
       "      <td>52</td>\n",
       "      <td>75</td>\n",
       "      <td>8.136858</td>\n",
       "      <td>56</td>\n",
       "      <td>248.0</td>\n",
       "      <td>189.538462</td>\n",
       "      <td>128.0</td>\n",
       "      <td>30.692388</td>\n",
       "      <td>32.924135</td>\n",
       "      <td>37.867411</td>\n",
       "    </tr>\n",
       "    <tr>\n",
       "      <th>61</th>\n",
       "      <td>62</td>\n",
       "      <td>48</td>\n",
       "      <td>68</td>\n",
       "      <td>7.817640</td>\n",
       "      <td>53</td>\n",
       "      <td>224.0</td>\n",
       "      <td>173.833333</td>\n",
       "      <td>128.0</td>\n",
       "      <td>33.071068</td>\n",
       "      <td>35.375614</td>\n",
       "      <td>27.987596</td>\n",
       "    </tr>\n",
       "  </tbody>\n",
       "</table>\n",
       "<p>62 rows × 11 columns</p>\n",
       "</div>"
      ],
      "text/plain": [
       "    label  area  bbox_area  equivalent_diameter  convex_area  max_intensity   \n",
       "0       1   429        750            23.371345          479          232.0  \\\n",
       "1       2   183        231            15.264430          190          224.0   \n",
       "2       3   658        756            28.944630          673          248.0   \n",
       "3       4   433        529            23.480049          445          248.0   \n",
       "4       5   472        551            24.514670          486          248.0   \n",
       "..    ...   ...        ...                  ...          ...            ...   \n",
       "57     58   213        285            16.468152          221          224.0   \n",
       "58     59    79        108            10.029253           84          248.0   \n",
       "59     60    88        110            10.585135           92          216.0   \n",
       "60     61    52         75             8.136858           56          248.0   \n",
       "61     62    48         68             7.817640           53          224.0   \n",
       "\n",
       "    mean_intensity  min_intensity  perimeter  perimeter_crofton   \n",
       "0       191.440559          128.0  89.012193          87.070368  \\\n",
       "1       179.846995          128.0  53.556349          53.456120   \n",
       "2       205.604863          120.0  95.698485          93.409370   \n",
       "3       217.515012          120.0  77.455844          76.114262   \n",
       "4       213.033898          128.0  83.798990          82.127941   \n",
       "..             ...            ...        ...                ...   \n",
       "57      184.525822          120.0  52.284271          52.250114   \n",
       "58      184.810127          128.0  39.313708          39.953250   \n",
       "59      182.727273          128.0  45.692388          46.196967   \n",
       "60      189.538462          128.0  30.692388          32.924135   \n",
       "61      173.833333          128.0  33.071068          35.375614   \n",
       "\n",
       "    standard_deviation_intensity  \n",
       "0                      29.793138  \n",
       "1                      21.270534  \n",
       "2                      29.392255  \n",
       "3                      35.852345  \n",
       "4                      28.741080  \n",
       "..                           ...  \n",
       "57                     28.255467  \n",
       "58                     33.739912  \n",
       "59                     24.417173  \n",
       "60                     37.867411  \n",
       "61                     27.987596  \n",
       "\n",
       "[62 rows x 11 columns]"
      ]
     },
     "execution_count": 4,
     "metadata": {},
     "output_type": "execute_result"
    }
   ],
   "source": [
    "skimage_statistics = regionprops_table(image, label_image, perimeter = True)\n",
    "skimage_statistics"
   ]
  },
  {
   "cell_type": "markdown",
   "id": "c6420a4f-1ed9-4041-930b-5ebe4f6ddece",
   "metadata": {},
   "source": [
    "... and using the `label_statistics` function"
   ]
  },
  {
   "cell_type": "code",
   "execution_count": 6,
   "id": "87275ecd-314c-43c8-bfa2-44169d03391c",
   "metadata": {
    "tags": []
   },
   "outputs": [
    {
     "data": {
      "text/html": [
       "<div>\n",
       "<style scoped>\n",
       "    .dataframe tbody tr th:only-of-type {\n",
       "        vertical-align: middle;\n",
       "    }\n",
       "\n",
       "    .dataframe tbody tr th {\n",
       "        vertical-align: top;\n",
       "    }\n",
       "\n",
       "    .dataframe thead th {\n",
       "        text-align: right;\n",
       "    }\n",
       "</style>\n",
       "<table border=\"1\" class=\"dataframe\">\n",
       "  <thead>\n",
       "    <tr style=\"text-align: right;\">\n",
       "      <th></th>\n",
       "      <th>label</th>\n",
       "      <th>perimeter</th>\n",
       "      <th>perimeter_on_border</th>\n",
       "      <th>perimeter_on_border_ratio</th>\n",
       "    </tr>\n",
       "  </thead>\n",
       "  <tbody>\n",
       "    <tr>\n",
       "      <th>0</th>\n",
       "      <td>1</td>\n",
       "      <td>87.070368</td>\n",
       "      <td>16.0</td>\n",
       "      <td>0.183759</td>\n",
       "    </tr>\n",
       "    <tr>\n",
       "      <th>1</th>\n",
       "      <td>2</td>\n",
       "      <td>53.456120</td>\n",
       "      <td>21.0</td>\n",
       "      <td>0.392846</td>\n",
       "    </tr>\n",
       "    <tr>\n",
       "      <th>2</th>\n",
       "      <td>3</td>\n",
       "      <td>93.409370</td>\n",
       "      <td>23.0</td>\n",
       "      <td>0.246228</td>\n",
       "    </tr>\n",
       "    <tr>\n",
       "      <th>3</th>\n",
       "      <td>4</td>\n",
       "      <td>76.114262</td>\n",
       "      <td>20.0</td>\n",
       "      <td>0.262763</td>\n",
       "    </tr>\n",
       "    <tr>\n",
       "      <th>4</th>\n",
       "      <td>5</td>\n",
       "      <td>82.127941</td>\n",
       "      <td>40.0</td>\n",
       "      <td>0.487045</td>\n",
       "    </tr>\n",
       "    <tr>\n",
       "      <th>...</th>\n",
       "      <td>...</td>\n",
       "      <td>...</td>\n",
       "      <td>...</td>\n",
       "      <td>...</td>\n",
       "    </tr>\n",
       "    <tr>\n",
       "      <th>57</th>\n",
       "      <td>58</td>\n",
       "      <td>52.250114</td>\n",
       "      <td>0.0</td>\n",
       "      <td>0.000000</td>\n",
       "    </tr>\n",
       "    <tr>\n",
       "      <th>58</th>\n",
       "      <td>59</td>\n",
       "      <td>39.953250</td>\n",
       "      <td>18.0</td>\n",
       "      <td>0.450527</td>\n",
       "    </tr>\n",
       "    <tr>\n",
       "      <th>59</th>\n",
       "      <td>60</td>\n",
       "      <td>46.196967</td>\n",
       "      <td>22.0</td>\n",
       "      <td>0.476222</td>\n",
       "    </tr>\n",
       "    <tr>\n",
       "      <th>60</th>\n",
       "      <td>61</td>\n",
       "      <td>32.924135</td>\n",
       "      <td>15.0</td>\n",
       "      <td>0.455593</td>\n",
       "    </tr>\n",
       "    <tr>\n",
       "      <th>61</th>\n",
       "      <td>62</td>\n",
       "      <td>35.375614</td>\n",
       "      <td>17.0</td>\n",
       "      <td>0.480557</td>\n",
       "    </tr>\n",
       "  </tbody>\n",
       "</table>\n",
       "<p>62 rows × 4 columns</p>\n",
       "</div>"
      ],
      "text/plain": [
       "    label  perimeter  perimeter_on_border  perimeter_on_border_ratio\n",
       "0       1  87.070368                 16.0                   0.183759\n",
       "1       2  53.456120                 21.0                   0.392846\n",
       "2       3  93.409370                 23.0                   0.246228\n",
       "3       4  76.114262                 20.0                   0.262763\n",
       "4       5  82.127941                 40.0                   0.487045\n",
       "..    ...        ...                  ...                        ...\n",
       "57     58  52.250114                  0.0                   0.000000\n",
       "58     59  39.953250                 18.0                   0.450527\n",
       "59     60  46.196967                 22.0                   0.476222\n",
       "60     61  32.924135                 15.0                   0.455593\n",
       "61     62  35.375614                 17.0                   0.480557\n",
       "\n",
       "[62 rows x 4 columns]"
      ]
     },
     "execution_count": 6,
     "metadata": {},
     "output_type": "execute_result"
    }
   ],
   "source": [
    "simpleitk_statistics = label_statistics(image, label_image, size = False, intensity = False, perimeter = True)\n",
    "simpleitk_statistics"
   ]
  },
  {
   "cell_type": "markdown",
   "id": "679a37aa-bab9-4e97-8693-0ac049b263ec",
   "metadata": {},
   "source": [
    "For this comparison, we are only interested in the column named `perimeter`. So we are selecting this column and convert the included measurements into a [numpy array](https://haesleinhuepf.github.io/BioImageAnalysisNotebooks/12_image_analysis_basics/01_Images_as_arrays.html):"
   ]
  },
  {
   "cell_type": "code",
   "execution_count": 15,
   "id": "8c11f3c8-4c8e-4b64-ab1e-575a9f10435e",
   "metadata": {
    "tags": []
   },
   "outputs": [],
   "source": [
    "skimage_perimeter = np.asarray(skimage_statistics['perimeter'])\n",
    "simpleitk_perimeter = np.asarray(simpleitk_statistics['perimeter'])"
   ]
  },
  {
   "cell_type": "markdown",
   "id": "2649592d-2450-4b88-8ad8-cb403edea268",
   "metadata": {},
   "source": [
    "## Scatter plot"
   ]
  },
  {
   "cell_type": "markdown",
   "id": "7371caf1-4e49-4d78-8e28-6c312f0f060c",
   "metadata": {
    "tags": []
   },
   "source": [
    "If we now use [matplotlib](https://matplotlib.org/stable/api/_as_gen/matplotlib.pyplot.plot.html) to plot the two perimeter measurements against each other, we receive the following scatter plot:"
   ]
  },
  {
   "cell_type": "code",
   "execution_count": 20,
   "id": "3643d2ff-b502-4b70-9654-4d01221b0861",
   "metadata": {
    "tags": []
   },
   "outputs": [
    {
     "data": {
      "text/plain": [
       "[<matplotlib.lines.Line2D at 0x1912b551220>]"
      ]
     },
     "execution_count": 20,
     "metadata": {},
     "output_type": "execute_result"
    },
    {
     "data": {
      "image/png": "[encoded data removed]",
      "text/plain": [
       "<Figure size 640x480 with 1 Axes>"
      ]
     },
     "metadata": {},
     "output_type": "display_data"
    }
   ],
   "source": [
    "plt.plot(skimage_perimeter, simpleitk_perimeter, 'o')"
   ]
  },
  {
   "cell_type": "markdown",
   "id": "36c75b41-64a0-445f-b9c4-5aaebc42c1f3",
   "metadata": {
    "tags": []
   },
   "source": [
    "If the two libraries would compute the perimeter in the same way, all of our datapoints would lie on a straight line. As you can see, they are not. This suggests that perimeter is implemented differently in [napari-skimage-regionprops](https://github.com/haesleinhuepf/napari-skimage-regionprops) and [napari-simpleitk-image-processing](https://github.com/haesleinhuepf/napari-simpleitk-image-processing)."
   ]
  },
  {
   "cell_type": "markdown",
   "id": "ca04bfac-eb60-4900-b59d-0f4148c434f2",
   "metadata": {},
   "source": [
    "## Bland-Altman plot"
   ]
  },
  {
   "cell_type": "markdown",
   "id": "c604c36c-9442-4bdc-be93-865ad11ce245",
   "metadata": {},
   "source": [
    "The [Bland-Altman plot](https://www.youtube.com/watch?v=PbSrSupnZFQ) helps to visualize the difference between measurements. We can compute a Bland-Altman plot for our two different `perimeter` implementations like this:"
   ]
  },
  {
   "cell_type": "code",
   "execution_count": 27,
   "id": "765e41d7-a718-4e08-a3fb-9ea23be4cc5f",
   "metadata": {
    "tags": []
   },
   "outputs": [
    {
     "data": {
      "text/plain": [
       "Text(0, 0.5, 'Difference of Measurement')"
      ]
     },
     "execution_count": 27,
     "metadata": {},
     "output_type": "execute_result"
    },
    {
     "data": {
      "image/png": "[encoded data removed]",
      "text/plain": [
       "<Figure size 640x480 with 1 Axes>"
      ]
     },
     "metadata": {},
     "output_type": "display_data"
    }
   ],
   "source": [
    "# compute mean, diff, md and sd\n",
    "mean = (skimage_perimeter + simpleitk_perimeter) / 2\n",
    "diff = skimage_perimeter - simpleitk_perimeter\n",
    "md = np.mean(diff) # mean of difference\n",
    "sd = np.std(diff, axis = 0) # standard deviation of difference\n",
    "\n",
    "# add mean and diff\n",
    "plt.plot(mean, diff, 'o')\n",
    "\n",
    "# add lines\n",
    "plt.axhline(md,           color='gray', linestyle='--')\n",
    "plt.axhline(md + 1.96*sd, color='gray', linestyle='--')\n",
    "plt.axhline(md - 1.96*sd, color='gray', linestyle='--')\n",
    "\n",
    "# add title and axes labels\n",
    "plt.title('Bland-Altman Plot')\n",
    "plt.xlabel('Average Measurement')\n",
    "plt.ylabel('Difference of Measurement')"
   ]
  },
  {
   "cell_type": "markdown",
   "id": "79813f01-4ffd-4690-9e67-cec8adfa26ad",
   "metadata": {
    "tags": []
   },
   "source": [
    "With \n",
    "- center line = mean difference between the methods\n",
    "- two outer lines = confidence interval of agreement (_CI_)"
   ]
  },
  {
   "cell_type": "markdown",
   "id": "e3a45727-b7f6-4a0b-bc58-113d7129bab1",
   "metadata": {},
   "source": [
    "The points do not go towards 0 which means it is not an agreement with random relative error, but systematic. This makes a lot of sense, because we are comparing here the __implementation__ of a measurement. "
   ]
  },
  {
   "cell_type": "markdown",
   "id": "4507a171-2322-49f6-a302-c2ee5cfe19a1",
   "metadata": {},
   "source": [
    "# Exercise "
   ]
  },
  {
   "cell_type": "markdown",
   "id": "bb52d4ec-dd0b-44d2-a647-92f6fb14f641",
   "metadata": {},
   "source": [
    "Use the functions `regionprops_table` and `label_statistics` to measure `feret_diameter_max` of your label image. Plot the Scatter plot and the Bland-Altman plot. Do you think `feret_diameter_max` is implemented differently in the two libraries?"
   ]
  }
 ],
 "metadata": {
  "kernelspec": {
   "display_name": "Python 3 (ipykernel)",
   "language": "python",
   "name": "python3"
  },
  "language_info": {
   "codemirror_mode": {
    "name": "ipython",
    "version": 3
   },
   "file_extension": ".py",
   "mimetype": "text/x-python",
   "name": "python",
   "nbconvert_exporter": "python",
   "pygments_lexer": "ipython3",
   "version": "3.9.16"
  }
 },
 "nbformat": 4,
 "nbformat_minor": 5
}
