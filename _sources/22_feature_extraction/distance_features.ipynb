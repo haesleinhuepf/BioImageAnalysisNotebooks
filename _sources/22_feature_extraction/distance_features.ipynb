{
 "cells": [
  {
   "cell_type": "markdown",
   "id": "853d0f10-7070-475c-b418-31d7dbd7fe2a",
   "metadata": {},
   "source": [
    "# Measuring distances between objects\n",
    "This notebook demonstrates how to measure distance of objects in one image to the closest object in another image. A use-case for this is measuring the distance of objects such as cells to a vessel. The following procedure is demonstrated in 2D and should work analogously in 3D."
   ]
  },
  {
   "cell_type": "code",
   "execution_count": 1,
   "id": "ce725f76-a238-4f3a-ad04-52321504a6ed",
   "metadata": {},
   "outputs": [],
   "source": [
    "import numpy as np\n",
    "import pyclesperanto_prototype as cle\n",
    "import napari_simpleitk_image_processing as nsitk\n",
    "import pandas as pd"
   ]
  },
  {
   "cell_type": "markdown",
   "id": "586de060-d4b6-4e09-b5b5-454f1640729b",
   "metadata": {},
   "source": [
    "As example data, we use two synthetic images: a binary image showing where a vessel is as stripe, and a label image showing where cells / objects are."
   ]
  },
  {
   "cell_type": "code",
   "execution_count": 2,
   "id": "e185f2a6-4623-4648-bd45-2233d70d1761",
   "metadata": {},
   "outputs": [
    {
     "data": {
      "image/png": "[encoded data removed]",
      "text/plain": [
       "<Figure size 432x288 with 1 Axes>"
      ]
     },
     "metadata": {
      "needs_background": "light"
     },
     "output_type": "display_data"
    }
   ],
   "source": [
    "vessel = np.asarray([\n",
    "    [0, 0, 0, 1, 1, 1, 0, 0, 0, 0],\n",
    "    [0, 0, 0, 1, 1, 1, 0, 0, 0, 0],\n",
    "    [0, 0, 0, 1, 1, 1, 0, 0, 0, 0],\n",
    "    [0, 0, 1, 1, 1, 0, 0, 0, 0, 0],\n",
    "    [0, 0, 1, 1, 1, 0, 0, 0, 0, 0],\n",
    "    [0, 0, 1, 1, 1, 0, 0, 0, 0, 0],\n",
    "    [0, 0, 1, 1, 1, 0, 0, 0, 0, 0],\n",
    "])\n",
    "\n",
    "objects = np.asarray([\n",
    "    [0, 0, 0, 0, 0, 0, 0, 0, 0, 0],\n",
    "    [1, 1, 0, 0, 0, 0, 0, 0, 0, 0],\n",
    "    [1, 1, 0, 0, 0, 0, 0, 0, 0, 0],\n",
    "    [0, 0, 0, 0, 0, 0, 0, 0, 5, 5],\n",
    "    [0, 0, 0, 0, 2, 0, 0, 0, 5, 5],\n",
    "    [0, 4, 4, 0, 0, 0, 3, 0, 0, 0],\n",
    "    [0, 4, 4, 0, 0, 0, 3, 0, 0, 0],\n",
    "])\n",
    "\n",
    "cle.imshow(vessel, continue_drawing=True)\n",
    "cle.imshow(objects, labels=True, alpha=0.7)"
   ]
  },
  {
   "cell_type": "markdown",
   "id": "dd561406-1bc1-4ea5-8467-252bdcce40b8",
   "metadata": {},
   "source": [
    "## Distance maps\n",
    "For measuring the average distance of labeled pixels to some other object, one strategy involes [distance maps](https://en.wikipedia.org/wiki/Distance_transform). Here we use the [signed Maurer distance map](https://itk.org/ITKExamples/src/Filtering/DistanceMap/MaurerDistanceMapOfBinary/Documentation.html) implemented in [SimpleITK](https://simpleitk.readthedocs.io/). More precisely, we use the scriptable napari-plugin [napari-simpleitk-image-processing](https://www.napari-hub.org/plugins/napari-simpleitk-image-processing) to access that map. If the values are positive, we are outside the vessel. Negative values suggest we are inside."
   ]
  },
  {
   "cell_type": "code",
   "execution_count": 3,
   "id": "ff0b33fa-057d-48e0-99e6-3009658bf286",
   "metadata": {},
   "outputs": [
    {
     "data": {
      "image/png": "[encoded data removed]",
      "text/plain": [
       "<Figure size 432x288 with 2 Axes>"
      ]
     },
     "metadata": {
      "needs_background": "light"
     },
     "output_type": "display_data"
    }
   ],
   "source": [
    "not_vessel = cle.binary_not(vessel)\n",
    "\n",
    "distance_from_vessel = nsitk.signed_maurer_distance_map(not_vessel)\n",
    "\n",
    "cle.imshow(distance_from_vessel, colorbar=True, colormap=\"jet\")"
   ]
  },
  {
   "cell_type": "markdown",
   "id": "e6693378-5438-4465-9bed-ee8f5249e91a",
   "metadata": {},
   "source": [
    "## Object distance map\n",
    "Next, we measure the average intensity in the distance map where the objects are. These intensities represent the average distance of these objects to the vessel. Background intensity in these maps (distance in our case) is 0, per definition."
   ]
  },
  {
   "cell_type": "code",
   "execution_count": 4,
   "id": "f68775cf-4d08-46a9-9f74-9a9411fc687f",
   "metadata": {},
   "outputs": [
    {
     "data": {
      "image/png": "[encoded data removed]",
      "text/plain": [
       "<Figure size 432x288 with 2 Axes>"
      ]
     },
     "metadata": {
      "needs_background": "light"
     },
     "output_type": "display_data"
    }
   ],
   "source": [
    "mean_distance_map = cle.mean_intensity_map(distance_from_vessel, objects)\n",
    "\n",
    "cle.imshow(mean_distance_map, colorbar=True, colormap=\"jet\")"
   ]
  },
  {
   "cell_type": "markdown",
   "id": "2a669017-a8c8-423a-b07e-7d5e369656a0",
   "metadata": {},
   "source": [
    "Alternatively, to this visualization, we can also read out the average distance using pixel statistics and print them out using a [pandas Dataframe](https://pandas.pydata.org/docs/reference/api/pandas.DataFrame.html)."
   ]
  },
  {
   "cell_type": "code",
   "execution_count": 5,
   "id": "9449f4bb-e214-466d-9dd9-fc2bfcfb14eb",
   "metadata": {},
   "outputs": [
    {
     "data": {
      "text/html": [
       "<div>\n",
       "<style scoped>\n",
       "    .dataframe tbody tr th:only-of-type {\n",
       "        vertical-align: middle;\n",
       "    }\n",
       "\n",
       "    .dataframe tbody tr th {\n",
       "        vertical-align: top;\n",
       "    }\n",
       "\n",
       "    .dataframe thead th {\n",
       "        text-align: right;\n",
       "    }\n",
       "</style>\n",
       "<table border=\"1\" class=\"dataframe\">\n",
       "  <thead>\n",
       "    <tr style=\"text-align: right;\">\n",
       "      <th></th>\n",
       "      <th>label</th>\n",
       "      <th>mean_distance</th>\n",
       "    </tr>\n",
       "  </thead>\n",
       "  <tbody>\n",
       "    <tr>\n",
       "      <th>0</th>\n",
       "      <td>1</td>\n",
       "      <td>0.853553</td>\n",
       "    </tr>\n",
       "    <tr>\n",
       "      <th>1</th>\n",
       "      <td>2</td>\n",
       "      <td>-1.000000</td>\n",
       "    </tr>\n",
       "    <tr>\n",
       "      <th>2</th>\n",
       "      <td>3</td>\n",
       "      <td>1.000000</td>\n",
       "    </tr>\n",
       "    <tr>\n",
       "      <th>3</th>\n",
       "      <td>4</td>\n",
       "      <td>-0.500000</td>\n",
       "    </tr>\n",
       "    <tr>\n",
       "      <th>4</th>\n",
       "      <td>5</td>\n",
       "      <td>2.599586</td>\n",
       "    </tr>\n",
       "  </tbody>\n",
       "</table>\n",
       "</div>"
      ],
      "text/plain": [
       "   label  mean_distance\n",
       "0      1       0.853553\n",
       "1      2      -1.000000\n",
       "2      3       1.000000\n",
       "3      4      -0.500000\n",
       "4      5       2.599586"
      ]
     },
     "execution_count": 5,
     "metadata": {},
     "output_type": "execute_result"
    }
   ],
   "source": [
    "statistics = cle.statistics_of_labelled_pixels(distance_from_vessel, objects)\n",
    "\n",
    "table = pd.DataFrame(statistics)\n",
    "table = table[['label', 'mean_intensity']]\n",
    "table = table.rename(columns={'mean_intensity':'mean_distance'})\n",
    "\n",
    "table"
   ]
  },
  {
   "cell_type": "markdown",
   "id": "6418310e-b5ee-444f-aabd-6a568c4397b8",
   "metadata": {},
   "source": [
    "## Filtering objects\n",
    "You can also filter out object according to their distance to the vessel."
   ]
  },
  {
   "cell_type": "code",
   "execution_count": 6,
   "id": "04d0412f-d0d2-468e-b29b-7d628d526899",
   "metadata": {},
   "outputs": [
    {
     "data": {
      "image/png": "[encoded data removed]",
      "text/plain": [
       "<Figure size 432x288 with 1 Axes>"
      ]
     },
     "metadata": {
      "needs_background": "light"
     },
     "output_type": "display_data"
    }
   ],
   "source": [
    "min_distance = -4\n",
    "max_distance = 2\n",
    "objects_close_by_vessel = cle.exclude_labels_with_map_values_out_of_range(\n",
    "    mean_distance_map,\n",
    "    objects,\n",
    "    minimum_value_range=min_distance,\n",
    "    maximum_value_range=max_distance\n",
    ")\n",
    "\n",
    "cle.imshow(vessel, continue_drawing=True)\n",
    "cle.imshow(objects_close_by_vessel, labels=True, alpha=0.7)"
   ]
  },
  {
   "cell_type": "code",
   "execution_count": null,
   "id": "7b73c528-fc9c-4c84-a968-27a3baf65b82",
   "metadata": {},
   "outputs": [],
   "source": []
  }
 ],
 "metadata": {
  "kernelspec": {
   "display_name": "Python 3 (ipykernel)",
   "language": "python",
   "name": "python3"
  },
  "language_info": {
   "codemirror_mode": {
    "name": "ipython",
    "version": 3
   },
   "file_extension": ".py",
   "mimetype": "text/x-python",
   "name": "python",
   "nbconvert_exporter": "python",
   "pygments_lexer": "ipython3",
   "version": "3.9.10"
  }
 },
 "nbformat": 4,
 "nbformat_minor": 5
}
