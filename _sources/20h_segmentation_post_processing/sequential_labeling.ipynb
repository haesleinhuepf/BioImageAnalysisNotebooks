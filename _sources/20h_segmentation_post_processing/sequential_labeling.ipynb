{
 "cells": [
  {
   "cell_type": "markdown",
   "id": "e8248096-a84a-4bd2-b7ef-a82c7f7cf2a8",
   "metadata": {},
   "source": [
    "(image-segmentation:relabel-sequential)=\n",
    "# Sequential object (re-)labeling\n",
    "\n",
    "As mentioned above, depending on the use-case it might be important to label objects in an image subsequently. It could for example be that a post-processing algorithm for label images crashes in case we pass a label image with missing labels. Hence, we should know how to relabel an image sequentially."
   ]
  },
  {
   "cell_type": "code",
   "execution_count": 1,
   "id": "b36594e9-bb16-401b-8fd1-9b53b9467f70",
   "metadata": {},
   "outputs": [],
   "source": [
    "import numpy as np\n",
    "from skimage.io import imread\n",
    "from skimage.segmentation import relabel_sequential\n",
    "import pyclesperanto_prototype as cle"
   ]
  },
  {
   "cell_type": "markdown",
   "id": "4835213a-332f-4cfc-aa99-3b1db0893025",
   "metadata": {},
   "source": [
    "Our starting point is a label image with labels 1-8, where some labels are not present:"
   ]
  },
  {
   "cell_type": "code",
   "execution_count": 2,
   "id": "bb8c2c52-55b6-406c-bb4a-ffd5705ed195",
   "metadata": {},
   "outputs": [
    {
     "data": {
      "image/png": "[encoded data removed]",
      "text/plain": [
       "<Figure size 432x288 with 1 Axes>"
      ]
     },
     "metadata": {
      "needs_background": "light"
     },
     "output_type": "display_data"
    }
   ],
   "source": [
    "label_image = imread(\"../../data/label_map_with_index_gaps.tif\")\n",
    "cle.imshow(label_image, labels=True)"
   ]
  },
  {
   "cell_type": "markdown",
   "id": "2178fa92-5b4e-4ace-bcd1-1158f5446c48",
   "metadata": {},
   "source": [
    "When measuring the maximum intensity in the image, we can see that this label image containing 4 labels is obviously not sequentially labeled."
   ]
  },
  {
   "cell_type": "code",
   "execution_count": 3,
   "id": "45e0cc56-d8af-4c91-b150-54685a7c9432",
   "metadata": {},
   "outputs": [
    {
     "data": {
      "text/plain": [
       "8"
      ]
     },
     "execution_count": 3,
     "metadata": {},
     "output_type": "execute_result"
    }
   ],
   "source": [
    "np.max(label_image)"
   ]
  },
  {
   "cell_type": "markdown",
   "id": "2112511b-2314-4c47-97b1-c79ab0987f7f",
   "metadata": {},
   "source": [
    "We can use the `unique` function to figure out which labels are present:"
   ]
  },
  {
   "cell_type": "code",
   "execution_count": 4,
   "id": "018477c8-6219-4764-8af9-cd31cc2d3289",
   "metadata": {},
   "outputs": [
    {
     "data": {
      "text/plain": [
       "array([0, 1, 2, 4, 8], dtype=uint8)"
      ]
     },
     "execution_count": 4,
     "metadata": {},
     "output_type": "execute_result"
    }
   ],
   "source": [
    "np.unique(label_image)"
   ]
  },
  {
   "cell_type": "markdown",
   "id": "c473353f-3a44-4a5d-b941-e7820fb9b3c3",
   "metadata": {},
   "source": [
    "## Sequential labeling\n",
    "We can now relabel this image and remove these gaps using [scikit-image's `relabel_sequential()` function](https://scikit-image.org/docs/dev/api/skimage.segmentation.html#skimage.segmentation.relabel_sequential). We're entering the `_` as additional return variables as we're not interested in them. This is necessary because the `relabel_sequential` function returns three things, but we only need the first."
   ]
  },
  {
   "cell_type": "code",
   "execution_count": 5,
   "id": "ca80dc93-0bb4-47c7-baad-ec8227da6ee5",
   "metadata": {},
   "outputs": [
    {
     "data": {
      "image/png": "[encoded data removed]",
      "text/plain": [
       "<Figure size 432x288 with 1 Axes>"
      ]
     },
     "metadata": {
      "needs_background": "light"
     },
     "output_type": "display_data"
    }
   ],
   "source": [
    "relabeled, _, _ = relabel_sequential(label_image)\n",
    "\n",
    "cle.imshow(relabeled, labels=True)"
   ]
  },
  {
   "cell_type": "markdown",
   "id": "cbe5f912-73e7-49f5-9dc1-e621a416f397",
   "metadata": {},
   "source": [
    "Afterwards, the unique labels should be sequential:"
   ]
  },
  {
   "cell_type": "code",
   "execution_count": 6,
   "id": "2dfa897e-4777-42d9-b0c4-2da192ba56ff",
   "metadata": {},
   "outputs": [
    {
     "data": {
      "text/plain": [
       "array([0, 1, 2, 3, 4], dtype=uint8)"
      ]
     },
     "execution_count": 6,
     "metadata": {},
     "output_type": "execute_result"
    }
   ],
   "source": [
    "np.unique(relabeled)"
   ]
  },
  {
   "cell_type": "markdown",
   "id": "0b567dd2-669e-4ae2-927b-ef848020e628",
   "metadata": {},
   "source": [
    "Also pyclesperanto has a function for relabeling label images sequentially. The result is supposed identical to the result in scikit-image. It just doesn't return the additional values."
   ]
  },
  {
   "cell_type": "code",
   "execution_count": 7,
   "id": "4227c8ef-3d49-491f-8442-27334cdb9f41",
   "metadata": {},
   "outputs": [
    {
     "data": {
      "image/png": "[encoded data removed]",
      "text/plain": [
       "<Figure size 432x288 with 1 Axes>"
      ]
     },
     "metadata": {
      "needs_background": "light"
     },
     "output_type": "display_data"
    }
   ],
   "source": [
    "relabeled1 = cle.relabel_sequential(label_image)\n",
    "\n",
    "cle.imshow(relabeled1, labels=True)"
   ]
  },
  {
   "cell_type": "markdown",
   "id": "808de5dc-8d62-4443-9b65-1a508531c01c",
   "metadata": {},
   "source": [
    "## Reverting sequential labeling\n",
    "In some cases we apply an operation to a label image that returns a new label image with less labels that are sequentially labeled but the label-identity is lost. This happens for example when excluding labels from the label image that are too small."
   ]
  },
  {
   "cell_type": "code",
   "execution_count": 8,
   "id": "20d3d763-de55-41c7-b323-3cbeb3f3a2bd",
   "metadata": {},
   "outputs": [
    {
     "data": {
      "image/png": "[encoded data removed]",
      "text/plain": [
       "<Figure size 432x288 with 1 Axes>"
      ]
     },
     "metadata": {
      "needs_background": "light"
     },
     "output_type": "display_data"
    }
   ],
   "source": [
    "large_labels = cle.exclude_small_labels(relabeled, maximum_size=260)\n",
    "\n",
    "cle.imshow(large_labels, labels=True, max_display_intensity=4)"
   ]
  },
  {
   "cell_type": "code",
   "execution_count": 9,
   "id": "7368c923-f77f-4385-9b7b-494ea2e16075",
   "metadata": {},
   "outputs": [
    {
     "data": {
      "text/plain": [
       "array([0, 1, 2], dtype=uint32)"
      ]
     },
     "execution_count": 9,
     "metadata": {},
     "output_type": "execute_result"
    }
   ],
   "source": [
    "np.unique(large_labels)"
   ]
  },
  {
   "cell_type": "markdown",
   "id": "21249e67-33ee-414d-acac-fecbe2df3996",
   "metadata": {},
   "source": [
    "To restore the original label identities, we need to multiply a binary image representing the remaining labels with the original label image."
   ]
  },
  {
   "cell_type": "code",
   "execution_count": 10,
   "id": "0452cb83-10db-4ae5-96e9-50b122813fc4",
   "metadata": {},
   "outputs": [
    {
     "data": {
      "image/png": "[encoded data removed]",
      "text/plain": [
       "<Figure size 432x288 with 1 Axes>"
      ]
     },
     "metadata": {
      "needs_background": "light"
     },
     "output_type": "display_data"
    }
   ],
   "source": [
    "binary_remaining_labels = large_labels > 0\n",
    "\n",
    "cle.imshow(binary_remaining_labels)"
   ]
  },
  {
   "cell_type": "code",
   "execution_count": 11,
   "id": "6d7b565d-1c6f-4e16-88e7-066cfbed4aa5",
   "metadata": {},
   "outputs": [
    {
     "data": {
      "image/png": "[encoded data removed]",
      "text/plain": [
       "<Figure size 432x288 with 1 Axes>"
      ]
     },
     "metadata": {
      "needs_background": "light"
     },
     "output_type": "display_data"
    }
   ],
   "source": [
    "large_labels_with_original_identity = binary_remaining_labels * relabeled\n",
    "\n",
    "cle.imshow(large_labels_with_original_identity, labels=True, max_display_intensity=4)"
   ]
  },
  {
   "cell_type": "code",
   "execution_count": 12,
   "id": "533d0716-ee9a-4871-8cee-f4446db28b64",
   "metadata": {},
   "outputs": [
    {
     "data": {
      "text/plain": [
       "array([0., 1., 3.], dtype=float32)"
      ]
     },
     "execution_count": 12,
     "metadata": {},
     "output_type": "execute_result"
    }
   ],
   "source": [
    "np.unique(large_labels_with_original_identity)"
   ]
  },
  {
   "cell_type": "markdown",
   "id": "e0971158-a816-4bd6-ad4a-23f8f62aa4d4",
   "metadata": {},
   "source": [
    "We can now conclude that labels with identities 2 and 4 were too small and thus, excluded."
   ]
  },
  {
   "cell_type": "code",
   "execution_count": null,
   "id": "2d738ea2-bcd7-4c96-84e1-81c6136e4d7e",
   "metadata": {},
   "outputs": [],
   "source": []
  }
 ],
 "metadata": {
  "kernelspec": {
   "display_name": "Python 3 (ipykernel)",
   "language": "python",
   "name": "python3"
  },
  "language_info": {
   "codemirror_mode": {
    "name": "ipython",
    "version": 3
   },
   "file_extension": ".py",
   "mimetype": "text/x-python",
   "name": "python",
   "nbconvert_exporter": "python",
   "pygments_lexer": "ipython3",
   "version": "3.9.9"
  }
 },
 "nbformat": 4,
 "nbformat_minor": 5
}
