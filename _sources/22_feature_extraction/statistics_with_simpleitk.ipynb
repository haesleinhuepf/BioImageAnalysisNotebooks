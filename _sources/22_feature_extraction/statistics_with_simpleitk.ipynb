{
 "cells": [
  {
   "cell_type": "markdown",
   "id": "aae3bd80-16e5-4bed-b09e-5ee84f25d33e",
   "metadata": {},
   "source": [
    "# Statistics using SimpleITK\n",
    "We can use [SimpleITK](https://simpleitk.readthedocs.io/) for extracting features from label images. For convenience reasons we use the [napari-simpleitk-image-processing](https://github.com/haesleinhuepf/napari-simpleitk-image-processing) library."
   ]
  },
  {
   "cell_type": "code",
   "execution_count": 3,
   "id": "36ad16e3",
   "metadata": {
    "tags": []
   },
   "outputs": [],
   "source": [
    "import numpy as np\n",
    "import pandas as pd\n",
    "from skimage.io import imread\n",
    "from pyclesperanto_prototype import imshow\n",
    "from skimage import measure\n",
    "import pyclesperanto_prototype as cle\n",
    "from skimage import filters\n",
    "from napari_simpleitk_image_processing import label_statistics"
   ]
  },
  {
   "cell_type": "code",
   "execution_count": 4,
   "id": "7e1c47f4",
   "metadata": {
    "tags": []
   },
   "outputs": [
    {
     "data": {
      "image/png": "[encoded data removed]",
      "text/plain": [
       "<Figure size 640x480 with 1 Axes>"
      ]
     },
     "metadata": {},
     "output_type": "display_data"
    }
   ],
   "source": [
    "# load image\n",
    "image = imread(\"../../data/blobs.tif\")\n",
    "\n",
    "# denoising\n",
    "blurred_image = filters.gaussian(image, sigma=1)\n",
    "\n",
    "# binarization\n",
    "threshold = filters.threshold_otsu(blurred_image)\n",
    "thresholded_image = blurred_image >= threshold\n",
    "\n",
    "# labeling\n",
    "label_image = measure.label(thresholded_image)\n",
    "\n",
    "# visualization\n",
    "imshow(label_image, labels=True)"
   ]
  },
  {
   "cell_type": "markdown",
   "id": "2b76cf8f",
   "metadata": {},
   "source": [
    "## Measurements/ region properties"
   ]
  },
  {
   "cell_type": "markdown",
   "id": "cd9b8b7c-d2d2-4fbf-9b9f-946b1a585225",
   "metadata": {},
   "source": [
    "We are now using the very handy function `label_statistics` which provides a table of features. Let us check first what we need to provide for this function:"
   ]
  },
  {
   "cell_type": "code",
   "execution_count": 5,
   "id": "720b6ce2-e330-4127-9c45-1073502312f4",
   "metadata": {
    "tags": []
   },
   "outputs": [
    {
     "data": {
      "text/plain": [
       "\u001b[1;31mSignature:\u001b[0m\n",
       "\u001b[0mlabel_statistics\u001b[0m\u001b[1;33m(\u001b[0m\u001b[1;33m\n",
       "\u001b[0m    \u001b[0mintensity_image\u001b[0m\u001b[1;33m:\u001b[0m \u001b[1;34m'napari.types.ImageData'\u001b[0m\u001b[1;33m,\u001b[0m\u001b[1;33m\n",
       "\u001b[0m    \u001b[0mlabel_image\u001b[0m\u001b[1;33m:\u001b[0m \u001b[1;34m'napari.types.LabelsData'\u001b[0m\u001b[1;33m,\u001b[0m\u001b[1;33m\n",
       "\u001b[0m    \u001b[0msize\u001b[0m\u001b[1;33m:\u001b[0m \u001b[0mbool\u001b[0m \u001b[1;33m=\u001b[0m \u001b[1;32mTrue\u001b[0m\u001b[1;33m,\u001b[0m\u001b[1;33m\n",
       "\u001b[0m    \u001b[0mintensity\u001b[0m\u001b[1;33m:\u001b[0m \u001b[0mbool\u001b[0m \u001b[1;33m=\u001b[0m \u001b[1;32mTrue\u001b[0m\u001b[1;33m,\u001b[0m\u001b[1;33m\n",
       "\u001b[0m    \u001b[0mperimeter\u001b[0m\u001b[1;33m:\u001b[0m \u001b[0mbool\u001b[0m \u001b[1;33m=\u001b[0m \u001b[1;32mFalse\u001b[0m\u001b[1;33m,\u001b[0m\u001b[1;33m\n",
       "\u001b[0m    \u001b[0mshape\u001b[0m\u001b[1;33m:\u001b[0m \u001b[0mbool\u001b[0m \u001b[1;33m=\u001b[0m \u001b[1;32mFalse\u001b[0m\u001b[1;33m,\u001b[0m\u001b[1;33m\n",
       "\u001b[0m    \u001b[0mposition\u001b[0m\u001b[1;33m:\u001b[0m \u001b[0mbool\u001b[0m \u001b[1;33m=\u001b[0m \u001b[1;32mFalse\u001b[0m\u001b[1;33m,\u001b[0m\u001b[1;33m\n",
       "\u001b[0m    \u001b[0mmoments\u001b[0m\u001b[1;33m:\u001b[0m \u001b[0mbool\u001b[0m \u001b[1;33m=\u001b[0m \u001b[1;32mFalse\u001b[0m\u001b[1;33m,\u001b[0m\u001b[1;33m\n",
       "\u001b[0m    \u001b[0mnapari_viewer\u001b[0m\u001b[1;33m:\u001b[0m \u001b[1;34m'napari.Viewer'\u001b[0m \u001b[1;33m=\u001b[0m \u001b[1;32mNone\u001b[0m\u001b[1;33m,\u001b[0m\u001b[1;33m\n",
       "\u001b[0m\u001b[1;33m)\u001b[0m \u001b[1;33m->\u001b[0m \u001b[1;34m'pandas.DataFrame'\u001b[0m\u001b[1;33m\u001b[0m\u001b[1;33m\u001b[0m\u001b[0m\n",
       "\u001b[1;31mDocstring:\u001b[0m\n",
       "Measure intensity/shape/... statistics per label\n",
       "\n",
       "Parameters\n",
       "----------\n",
       "intensity_image: ndarray, optional\n",
       "    Can be None\n",
       "label_image: ndarray\n",
       "    Must be subsequently labeled\n",
       "size: bool, optional\n",
       "intensity: bool, optional\n",
       "perimeter: bool, optional\n",
       "shape: bool, optional\n",
       "position: bool, optional\n",
       "moments: bool, optional\n",
       "napari_viewer: napari.Viewer, optional\n",
       "\n",
       "Returns\n",
       "-------\n",
       "pandas DataFrame, in case napari_viewr is None, otherwise the DataFrame will be added to\n",
       "the passed label_image's layer.features\n",
       "\n",
       "\n",
       "See Also\n",
       "--------\n",
       "..[0] https://simpleitk.org/doxygen/latest/html/classitk_1_1simple_1_1LabelShapeStatisticsImageFilter\n",
       "..[1] http://insightsoftwareconsortium.github.io/SimpleITK-Notebooks/Python_html/35_Segmentation_Shape_Analysis.html\n",
       "\u001b[1;31mFile:\u001b[0m      c:\\users\\maral\\mambaforge\\envs\\feature_blogpost\\lib\\site-packages\\napari_simpleitk_image_processing\\_simpleitk_image_processing.py\n",
       "\u001b[1;31mType:\u001b[0m      function"
      ]
     },
     "metadata": {},
     "output_type": "display_data"
    }
   ],
   "source": [
    "label_statistics?"
   ]
  },
  {
   "cell_type": "markdown",
   "id": "561451f5-67d3-4fa6-824f-e061980fc597",
   "metadata": {
    "tags": []
   },
   "source": [
    "Feature categories which are set to `True` are measured by default. In this case, the categories are `size` and `intensity`. But the rest might be also interesting to investigate. So we need to set them to `True` as well:"
   ]
  },
  {
   "cell_type": "code",
   "execution_count": 7,
   "id": "267088d1",
   "metadata": {
    "tags": []
   },
   "outputs": [
    {
     "data": {
      "text/html": [
       "<div>\n",
       "<style scoped>\n",
       "    .dataframe tbody tr th:only-of-type {\n",
       "        vertical-align: middle;\n",
       "    }\n",
       "\n",
       "    .dataframe tbody tr th {\n",
       "        vertical-align: top;\n",
       "    }\n",
       "\n",
       "    .dataframe thead th {\n",
       "        text-align: right;\n",
       "    }\n",
       "</style>\n",
       "<table border=\"1\" class=\"dataframe\">\n",
       "  <thead>\n",
       "    <tr style=\"text-align: right;\">\n",
       "      <th></th>\n",
       "      <th>label</th>\n",
       "      <th>maximum</th>\n",
       "      <th>mean</th>\n",
       "      <th>median</th>\n",
       "      <th>minimum</th>\n",
       "      <th>sigma</th>\n",
       "      <th>sum</th>\n",
       "      <th>variance</th>\n",
       "      <th>bbox_0</th>\n",
       "      <th>bbox_1</th>\n",
       "      <th>...</th>\n",
       "      <th>number_of_pixels_on_border</th>\n",
       "      <th>perimeter</th>\n",
       "      <th>perimeter_on_border</th>\n",
       "      <th>perimeter_on_border_ratio</th>\n",
       "      <th>principal_axes0</th>\n",
       "      <th>principal_axes1</th>\n",
       "      <th>principal_axes2</th>\n",
       "      <th>principal_axes3</th>\n",
       "      <th>principal_moments0</th>\n",
       "      <th>principal_moments1</th>\n",
       "    </tr>\n",
       "  </thead>\n",
       "  <tbody>\n",
       "    <tr>\n",
       "      <th>0</th>\n",
       "      <td>1</td>\n",
       "      <td>232.0</td>\n",
       "      <td>191.440559</td>\n",
       "      <td>200.0</td>\n",
       "      <td>128.0</td>\n",
       "      <td>29.827923</td>\n",
       "      <td>82128.0</td>\n",
       "      <td>889.704987</td>\n",
       "      <td>10</td>\n",
       "      <td>0</td>\n",
       "      <td>...</td>\n",
       "      <td>16</td>\n",
       "      <td>87.070368</td>\n",
       "      <td>16.0</td>\n",
       "      <td>0.183759</td>\n",
       "      <td>0.905569</td>\n",
       "      <td>0.424199</td>\n",
       "      <td>-0.424199</td>\n",
       "      <td>0.905569</td>\n",
       "      <td>17.336255</td>\n",
       "      <td>75.599678</td>\n",
       "    </tr>\n",
       "    <tr>\n",
       "      <th>1</th>\n",
       "      <td>2</td>\n",
       "      <td>224.0</td>\n",
       "      <td>179.846995</td>\n",
       "      <td>184.0</td>\n",
       "      <td>128.0</td>\n",
       "      <td>21.328889</td>\n",
       "      <td>32912.0</td>\n",
       "      <td>454.921516</td>\n",
       "      <td>53</td>\n",
       "      <td>0</td>\n",
       "      <td>...</td>\n",
       "      <td>21</td>\n",
       "      <td>53.456120</td>\n",
       "      <td>21.0</td>\n",
       "      <td>0.392846</td>\n",
       "      <td>-0.042759</td>\n",
       "      <td>-0.999085</td>\n",
       "      <td>0.999085</td>\n",
       "      <td>-0.042759</td>\n",
       "      <td>8.637199</td>\n",
       "      <td>27.432794</td>\n",
       "    </tr>\n",
       "    <tr>\n",
       "      <th>2</th>\n",
       "      <td>3</td>\n",
       "      <td>248.0</td>\n",
       "      <td>205.604863</td>\n",
       "      <td>208.0</td>\n",
       "      <td>120.0</td>\n",
       "      <td>29.414615</td>\n",
       "      <td>135288.0</td>\n",
       "      <td>865.219581</td>\n",
       "      <td>95</td>\n",
       "      <td>0</td>\n",
       "      <td>...</td>\n",
       "      <td>23</td>\n",
       "      <td>93.409370</td>\n",
       "      <td>23.0</td>\n",
       "      <td>0.246228</td>\n",
       "      <td>0.989650</td>\n",
       "      <td>0.143505</td>\n",
       "      <td>-0.143505</td>\n",
       "      <td>0.989650</td>\n",
       "      <td>49.994764</td>\n",
       "      <td>56.996778</td>\n",
       "    </tr>\n",
       "    <tr>\n",
       "      <th>3</th>\n",
       "      <td>4</td>\n",
       "      <td>248.0</td>\n",
       "      <td>217.515012</td>\n",
       "      <td>232.0</td>\n",
       "      <td>120.0</td>\n",
       "      <td>35.893817</td>\n",
       "      <td>94184.0</td>\n",
       "      <td>1288.366094</td>\n",
       "      <td>144</td>\n",
       "      <td>0</td>\n",
       "      <td>...</td>\n",
       "      <td>20</td>\n",
       "      <td>76.114262</td>\n",
       "      <td>20.0</td>\n",
       "      <td>0.262763</td>\n",
       "      <td>0.902854</td>\n",
       "      <td>0.429947</td>\n",
       "      <td>-0.429947</td>\n",
       "      <td>0.902854</td>\n",
       "      <td>33.290649</td>\n",
       "      <td>37.542552</td>\n",
       "    </tr>\n",
       "    <tr>\n",
       "      <th>4</th>\n",
       "      <td>5</td>\n",
       "      <td>248.0</td>\n",
       "      <td>213.033898</td>\n",
       "      <td>224.0</td>\n",
       "      <td>128.0</td>\n",
       "      <td>28.771575</td>\n",
       "      <td>100552.0</td>\n",
       "      <td>827.803519</td>\n",
       "      <td>237</td>\n",
       "      <td>0</td>\n",
       "      <td>...</td>\n",
       "      <td>39</td>\n",
       "      <td>82.127941</td>\n",
       "      <td>40.0</td>\n",
       "      <td>0.487045</td>\n",
       "      <td>0.999090</td>\n",
       "      <td>0.042642</td>\n",
       "      <td>-0.042642</td>\n",
       "      <td>0.999090</td>\n",
       "      <td>24.209327</td>\n",
       "      <td>60.391416</td>\n",
       "    </tr>\n",
       "    <tr>\n",
       "      <th>...</th>\n",
       "      <td>...</td>\n",
       "      <td>...</td>\n",
       "      <td>...</td>\n",
       "      <td>...</td>\n",
       "      <td>...</td>\n",
       "      <td>...</td>\n",
       "      <td>...</td>\n",
       "      <td>...</td>\n",
       "      <td>...</td>\n",
       "      <td>...</td>\n",
       "      <td>...</td>\n",
       "      <td>...</td>\n",
       "      <td>...</td>\n",
       "      <td>...</td>\n",
       "      <td>...</td>\n",
       "      <td>...</td>\n",
       "      <td>...</td>\n",
       "      <td>...</td>\n",
       "      <td>...</td>\n",
       "      <td>...</td>\n",
       "      <td>...</td>\n",
       "    </tr>\n",
       "    <tr>\n",
       "      <th>57</th>\n",
       "      <td>58</td>\n",
       "      <td>224.0</td>\n",
       "      <td>184.525822</td>\n",
       "      <td>192.0</td>\n",
       "      <td>120.0</td>\n",
       "      <td>28.322029</td>\n",
       "      <td>39304.0</td>\n",
       "      <td>802.137302</td>\n",
       "      <td>39</td>\n",
       "      <td>232</td>\n",
       "      <td>...</td>\n",
       "      <td>0</td>\n",
       "      <td>52.250114</td>\n",
       "      <td>0.0</td>\n",
       "      <td>0.000000</td>\n",
       "      <td>0.976281</td>\n",
       "      <td>0.216509</td>\n",
       "      <td>-0.216509</td>\n",
       "      <td>0.976281</td>\n",
       "      <td>13.084485</td>\n",
       "      <td>21.981750</td>\n",
       "    </tr>\n",
       "    <tr>\n",
       "      <th>58</th>\n",
       "      <td>59</td>\n",
       "      <td>248.0</td>\n",
       "      <td>184.810127</td>\n",
       "      <td>184.0</td>\n",
       "      <td>128.0</td>\n",
       "      <td>33.955505</td>\n",
       "      <td>14600.0</td>\n",
       "      <td>1152.976306</td>\n",
       "      <td>170</td>\n",
       "      <td>248</td>\n",
       "      <td>...</td>\n",
       "      <td>18</td>\n",
       "      <td>39.953250</td>\n",
       "      <td>18.0</td>\n",
       "      <td>0.450527</td>\n",
       "      <td>-0.012197</td>\n",
       "      <td>-0.999926</td>\n",
       "      <td>0.999926</td>\n",
       "      <td>-0.012197</td>\n",
       "      <td>2.075392</td>\n",
       "      <td>20.902016</td>\n",
       "    </tr>\n",
       "    <tr>\n",
       "      <th>59</th>\n",
       "      <td>60</td>\n",
       "      <td>216.0</td>\n",
       "      <td>182.727273</td>\n",
       "      <td>184.0</td>\n",
       "      <td>128.0</td>\n",
       "      <td>24.557101</td>\n",
       "      <td>16080.0</td>\n",
       "      <td>603.051202</td>\n",
       "      <td>117</td>\n",
       "      <td>249</td>\n",
       "      <td>...</td>\n",
       "      <td>22</td>\n",
       "      <td>46.196967</td>\n",
       "      <td>22.0</td>\n",
       "      <td>0.476222</td>\n",
       "      <td>-0.014920</td>\n",
       "      <td>-0.999889</td>\n",
       "      <td>0.999889</td>\n",
       "      <td>-0.014920</td>\n",
       "      <td>1.815666</td>\n",
       "      <td>29.359308</td>\n",
       "    </tr>\n",
       "    <tr>\n",
       "      <th>60</th>\n",
       "      <td>61</td>\n",
       "      <td>248.0</td>\n",
       "      <td>189.538462</td>\n",
       "      <td>192.0</td>\n",
       "      <td>128.0</td>\n",
       "      <td>38.236858</td>\n",
       "      <td>9856.0</td>\n",
       "      <td>1462.057315</td>\n",
       "      <td>227</td>\n",
       "      <td>249</td>\n",
       "      <td>...</td>\n",
       "      <td>15</td>\n",
       "      <td>32.924135</td>\n",
       "      <td>15.0</td>\n",
       "      <td>0.455593</td>\n",
       "      <td>-0.013675</td>\n",
       "      <td>-0.999906</td>\n",
       "      <td>0.999906</td>\n",
       "      <td>-0.013675</td>\n",
       "      <td>1.592570</td>\n",
       "      <td>12.843450</td>\n",
       "    </tr>\n",
       "    <tr>\n",
       "      <th>61</th>\n",
       "      <td>62</td>\n",
       "      <td>224.0</td>\n",
       "      <td>173.833333</td>\n",
       "      <td>176.0</td>\n",
       "      <td>128.0</td>\n",
       "      <td>28.283770</td>\n",
       "      <td>8344.0</td>\n",
       "      <td>799.971631</td>\n",
       "      <td>66</td>\n",
       "      <td>250</td>\n",
       "      <td>...</td>\n",
       "      <td>17</td>\n",
       "      <td>35.375614</td>\n",
       "      <td>17.0</td>\n",
       "      <td>0.480557</td>\n",
       "      <td>0.030675</td>\n",
       "      <td>-0.999529</td>\n",
       "      <td>0.999529</td>\n",
       "      <td>0.030675</td>\n",
       "      <td>0.917610</td>\n",
       "      <td>17.904873</td>\n",
       "    </tr>\n",
       "  </tbody>\n",
       "</table>\n",
       "<p>62 rows × 33 columns</p>\n",
       "</div>"
      ],
      "text/plain": [
       "    label  maximum        mean  median  minimum      sigma       sum   \n",
       "0       1    232.0  191.440559   200.0    128.0  29.827923   82128.0  \\\n",
       "1       2    224.0  179.846995   184.0    128.0  21.328889   32912.0   \n",
       "2       3    248.0  205.604863   208.0    120.0  29.414615  135288.0   \n",
       "3       4    248.0  217.515012   232.0    120.0  35.893817   94184.0   \n",
       "4       5    248.0  213.033898   224.0    128.0  28.771575  100552.0   \n",
       "..    ...      ...         ...     ...      ...        ...       ...   \n",
       "57     58    224.0  184.525822   192.0    120.0  28.322029   39304.0   \n",
       "58     59    248.0  184.810127   184.0    128.0  33.955505   14600.0   \n",
       "59     60    216.0  182.727273   184.0    128.0  24.557101   16080.0   \n",
       "60     61    248.0  189.538462   192.0    128.0  38.236858    9856.0   \n",
       "61     62    224.0  173.833333   176.0    128.0  28.283770    8344.0   \n",
       "\n",
       "       variance  bbox_0  bbox_1  ...  number_of_pixels_on_border  perimeter   \n",
       "0    889.704987      10       0  ...                          16  87.070368  \\\n",
       "1    454.921516      53       0  ...                          21  53.456120   \n",
       "2    865.219581      95       0  ...                          23  93.409370   \n",
       "3   1288.366094     144       0  ...                          20  76.114262   \n",
       "4    827.803519     237       0  ...                          39  82.127941   \n",
       "..          ...     ...     ...  ...                         ...        ...   \n",
       "57   802.137302      39     232  ...                           0  52.250114   \n",
       "58  1152.976306     170     248  ...                          18  39.953250   \n",
       "59   603.051202     117     249  ...                          22  46.196967   \n",
       "60  1462.057315     227     249  ...                          15  32.924135   \n",
       "61   799.971631      66     250  ...                          17  35.375614   \n",
       "\n",
       "    perimeter_on_border  perimeter_on_border_ratio  principal_axes0   \n",
       "0                  16.0                   0.183759         0.905569  \\\n",
       "1                  21.0                   0.392846        -0.042759   \n",
       "2                  23.0                   0.246228         0.989650   \n",
       "3                  20.0                   0.262763         0.902854   \n",
       "4                  40.0                   0.487045         0.999090   \n",
       "..                  ...                        ...              ...   \n",
       "57                  0.0                   0.000000         0.976281   \n",
       "58                 18.0                   0.450527        -0.012197   \n",
       "59                 22.0                   0.476222        -0.014920   \n",
       "60                 15.0                   0.455593        -0.013675   \n",
       "61                 17.0                   0.480557         0.030675   \n",
       "\n",
       "    principal_axes1  principal_axes2  principal_axes3  principal_moments0   \n",
       "0          0.424199        -0.424199         0.905569           17.336255  \\\n",
       "1         -0.999085         0.999085        -0.042759            8.637199   \n",
       "2          0.143505        -0.143505         0.989650           49.994764   \n",
       "3          0.429947        -0.429947         0.902854           33.290649   \n",
       "4          0.042642        -0.042642         0.999090           24.209327   \n",
       "..              ...              ...              ...                 ...   \n",
       "57         0.216509        -0.216509         0.976281           13.084485   \n",
       "58        -0.999926         0.999926        -0.012197            2.075392   \n",
       "59        -0.999889         0.999889        -0.014920            1.815666   \n",
       "60        -0.999906         0.999906        -0.013675            1.592570   \n",
       "61        -0.999529         0.999529         0.030675            0.917610   \n",
       "\n",
       "    principal_moments1  \n",
       "0            75.599678  \n",
       "1            27.432794  \n",
       "2            56.996778  \n",
       "3            37.542552  \n",
       "4            60.391416  \n",
       "..                 ...  \n",
       "57           21.981750  \n",
       "58           20.902016  \n",
       "59           29.359308  \n",
       "60           12.843450  \n",
       "61           17.904873  \n",
       "\n",
       "[62 rows x 33 columns]"
      ]
     },
     "execution_count": 7,
     "metadata": {},
     "output_type": "execute_result"
    }
   ],
   "source": [
    "df = pd.DataFrame(label_statistics(image, label_image,  \n",
    "                              shape=True, \n",
    "                              perimeter=True, \n",
    "                              position=True,\n",
    "                              moments=True))\n",
    "\n",
    "df"
   ]
  },
  {
   "cell_type": "markdown",
   "id": "8294dbed-9684-4207-a904-da967f83c467",
   "metadata": {},
   "source": [
    "These are all columns that are available:"
   ]
  },
  {
   "cell_type": "code",
   "execution_count": 8,
   "id": "fa083df5-9c61-4513-9723-bed43e8e20d3",
   "metadata": {
    "tags": []
   },
   "outputs": [
    {
     "name": "stdout",
     "output_type": "stream",
     "text": [
      "Index(['label', 'maximum', 'mean', 'median', 'minimum', 'sigma', 'sum',\n",
      "       'variance', 'bbox_0', 'bbox_1', 'bbox_2', 'bbox_3', 'centroid_0',\n",
      "       'centroid_1', 'elongation', 'feret_diameter', 'flatness', 'roundness',\n",
      "       'equivalent_ellipsoid_diameter_0', 'equivalent_ellipsoid_diameter_1',\n",
      "       'equivalent_spherical_perimeter', 'equivalent_spherical_radius',\n",
      "       'number_of_pixels', 'number_of_pixels_on_border', 'perimeter',\n",
      "       'perimeter_on_border', 'perimeter_on_border_ratio', 'principal_axes0',\n",
      "       'principal_axes1', 'principal_axes2', 'principal_axes3',\n",
      "       'principal_moments0', 'principal_moments1'],\n",
      "      dtype='object')\n"
     ]
    }
   ],
   "source": [
    "print(df.keys())"
   ]
  },
  {
   "cell_type": "code",
   "execution_count": 9,
   "id": "ea23a512",
   "metadata": {
    "tags": []
   },
   "outputs": [
    {
     "data": {
      "text/html": [
       "<div>\n",
       "<style scoped>\n",
       "    .dataframe tbody tr th:only-of-type {\n",
       "        vertical-align: middle;\n",
       "    }\n",
       "\n",
       "    .dataframe tbody tr th {\n",
       "        vertical-align: top;\n",
       "    }\n",
       "\n",
       "    .dataframe thead th {\n",
       "        text-align: right;\n",
       "    }\n",
       "</style>\n",
       "<table border=\"1\" class=\"dataframe\">\n",
       "  <thead>\n",
       "    <tr style=\"text-align: right;\">\n",
       "      <th></th>\n",
       "      <th>label</th>\n",
       "      <th>maximum</th>\n",
       "      <th>mean</th>\n",
       "      <th>median</th>\n",
       "      <th>minimum</th>\n",
       "      <th>sigma</th>\n",
       "      <th>sum</th>\n",
       "      <th>variance</th>\n",
       "      <th>bbox_0</th>\n",
       "      <th>bbox_1</th>\n",
       "      <th>...</th>\n",
       "      <th>number_of_pixels_on_border</th>\n",
       "      <th>perimeter</th>\n",
       "      <th>perimeter_on_border</th>\n",
       "      <th>perimeter_on_border_ratio</th>\n",
       "      <th>principal_axes0</th>\n",
       "      <th>principal_axes1</th>\n",
       "      <th>principal_axes2</th>\n",
       "      <th>principal_axes3</th>\n",
       "      <th>principal_moments0</th>\n",
       "      <th>principal_moments1</th>\n",
       "    </tr>\n",
       "  </thead>\n",
       "  <tbody>\n",
       "    <tr>\n",
       "      <th>count</th>\n",
       "      <td>62.000000</td>\n",
       "      <td>62.000000</td>\n",
       "      <td>62.000000</td>\n",
       "      <td>62.000000</td>\n",
       "      <td>62.000000</td>\n",
       "      <td>62.000000</td>\n",
       "      <td>62.000000</td>\n",
       "      <td>62.000000</td>\n",
       "      <td>62.000000</td>\n",
       "      <td>62.000000</td>\n",
       "      <td>...</td>\n",
       "      <td>62.000000</td>\n",
       "      <td>62.000000</td>\n",
       "      <td>62.000000</td>\n",
       "      <td>62.000000</td>\n",
       "      <td>62.000000</td>\n",
       "      <td>62.000000</td>\n",
       "      <td>62.000000</td>\n",
       "      <td>62.000000</td>\n",
       "      <td>62.000000</td>\n",
       "      <td>62.000000</td>\n",
       "    </tr>\n",
       "    <tr>\n",
       "      <th>mean</th>\n",
       "      <td>31.500000</td>\n",
       "      <td>233.548387</td>\n",
       "      <td>190.429888</td>\n",
       "      <td>196.258065</td>\n",
       "      <td>125.161290</td>\n",
       "      <td>28.767558</td>\n",
       "      <td>69534.451613</td>\n",
       "      <td>864.079980</td>\n",
       "      <td>121.532258</td>\n",
       "      <td>112.629032</td>\n",
       "      <td>...</td>\n",
       "      <td>5.564516</td>\n",
       "      <td>67.071263</td>\n",
       "      <td>5.580645</td>\n",
       "      <td>0.102864</td>\n",
       "      <td>0.703539</td>\n",
       "      <td>-0.114112</td>\n",
       "      <td>0.114112</td>\n",
       "      <td>0.703539</td>\n",
       "      <td>20.742486</td>\n",
       "      <td>43.535735</td>\n",
       "    </tr>\n",
       "    <tr>\n",
       "      <th>std</th>\n",
       "      <td>18.041619</td>\n",
       "      <td>19.371838</td>\n",
       "      <td>15.382559</td>\n",
       "      <td>19.527144</td>\n",
       "      <td>4.602898</td>\n",
       "      <td>6.091478</td>\n",
       "      <td>42911.182492</td>\n",
       "      <td>311.860596</td>\n",
       "      <td>80.574925</td>\n",
       "      <td>76.921129</td>\n",
       "      <td>...</td>\n",
       "      <td>9.667625</td>\n",
       "      <td>23.507575</td>\n",
       "      <td>9.724986</td>\n",
       "      <td>0.173858</td>\n",
       "      <td>0.459158</td>\n",
       "      <td>0.537821</td>\n",
       "      <td>0.537821</td>\n",
       "      <td>0.459158</td>\n",
       "      <td>13.092549</td>\n",
       "      <td>32.666912</td>\n",
       "    </tr>\n",
       "    <tr>\n",
       "      <th>min</th>\n",
       "      <td>1.000000</td>\n",
       "      <td>152.000000</td>\n",
       "      <td>146.285714</td>\n",
       "      <td>144.000000</td>\n",
       "      <td>112.000000</td>\n",
       "      <td>6.047432</td>\n",
       "      <td>1024.000000</td>\n",
       "      <td>36.571429</td>\n",
       "      <td>0.000000</td>\n",
       "      <td>0.000000</td>\n",
       "      <td>...</td>\n",
       "      <td>0.000000</td>\n",
       "      <td>9.155272</td>\n",
       "      <td>0.000000</td>\n",
       "      <td>0.000000</td>\n",
       "      <td>-0.651619</td>\n",
       "      <td>-0.999926</td>\n",
       "      <td>-0.660963</td>\n",
       "      <td>-0.651619</td>\n",
       "      <td>0.489796</td>\n",
       "      <td>0.571429</td>\n",
       "    </tr>\n",
       "    <tr>\n",
       "      <th>25%</th>\n",
       "      <td>16.250000</td>\n",
       "      <td>232.000000</td>\n",
       "      <td>182.969505</td>\n",
       "      <td>186.000000</td>\n",
       "      <td>120.000000</td>\n",
       "      <td>26.561523</td>\n",
       "      <td>36010.000000</td>\n",
       "      <td>705.524752</td>\n",
       "      <td>53.000000</td>\n",
       "      <td>43.250000</td>\n",
       "      <td>...</td>\n",
       "      <td>0.000000</td>\n",
       "      <td>52.551616</td>\n",
       "      <td>0.000000</td>\n",
       "      <td>0.000000</td>\n",
       "      <td>0.752633</td>\n",
       "      <td>-0.624188</td>\n",
       "      <td>-0.318631</td>\n",
       "      <td>0.752633</td>\n",
       "      <td>11.068721</td>\n",
       "      <td>22.027192</td>\n",
       "    </tr>\n",
       "    <tr>\n",
       "      <th>50%</th>\n",
       "      <td>31.500000</td>\n",
       "      <td>240.000000</td>\n",
       "      <td>190.749492</td>\n",
       "      <td>200.000000</td>\n",
       "      <td>128.000000</td>\n",
       "      <td>29.089645</td>\n",
       "      <td>71148.000000</td>\n",
       "      <td>846.217207</td>\n",
       "      <td>121.000000</td>\n",
       "      <td>110.500000</td>\n",
       "      <td>...</td>\n",
       "      <td>0.000000</td>\n",
       "      <td>68.204464</td>\n",
       "      <td>0.000000</td>\n",
       "      <td>0.000000</td>\n",
       "      <td>0.937869</td>\n",
       "      <td>0.040942</td>\n",
       "      <td>-0.040942</td>\n",
       "      <td>0.937869</td>\n",
       "      <td>18.744728</td>\n",
       "      <td>35.367902</td>\n",
       "    </tr>\n",
       "    <tr>\n",
       "      <th>75%</th>\n",
       "      <td>46.750000</td>\n",
       "      <td>248.000000</td>\n",
       "      <td>199.725305</td>\n",
       "      <td>208.000000</td>\n",
       "      <td>128.000000</td>\n",
       "      <td>32.583571</td>\n",
       "      <td>99962.000000</td>\n",
       "      <td>1061.691674</td>\n",
       "      <td>197.250000</td>\n",
       "      <td>172.250000</td>\n",
       "      <td>...</td>\n",
       "      <td>12.500000</td>\n",
       "      <td>84.307520</td>\n",
       "      <td>12.500000</td>\n",
       "      <td>0.184963</td>\n",
       "      <td>0.994807</td>\n",
       "      <td>0.318631</td>\n",
       "      <td>0.624188</td>\n",
       "      <td>0.994807</td>\n",
       "      <td>29.519182</td>\n",
       "      <td>56.938641</td>\n",
       "    </tr>\n",
       "    <tr>\n",
       "      <th>max</th>\n",
       "      <td>62.000000</td>\n",
       "      <td>248.000000</td>\n",
       "      <td>220.026144</td>\n",
       "      <td>240.000000</td>\n",
       "      <td>136.000000</td>\n",
       "      <td>38.374793</td>\n",
       "      <td>177944.000000</td>\n",
       "      <td>1472.624704</td>\n",
       "      <td>251.000000</td>\n",
       "      <td>250.000000</td>\n",
       "      <td>...</td>\n",
       "      <td>39.000000</td>\n",
       "      <td>125.912897</td>\n",
       "      <td>40.000000</td>\n",
       "      <td>0.487045</td>\n",
       "      <td>1.000000</td>\n",
       "      <td>0.660963</td>\n",
       "      <td>0.999926</td>\n",
       "      <td>1.000000</td>\n",
       "      <td>49.994764</td>\n",
       "      <td>186.225041</td>\n",
       "    </tr>\n",
       "  </tbody>\n",
       "</table>\n",
       "<p>8 rows × 33 columns</p>\n",
       "</div>"
      ],
      "text/plain": [
       "           label     maximum        mean      median     minimum      sigma   \n",
       "count  62.000000   62.000000   62.000000   62.000000   62.000000  62.000000  \\\n",
       "mean   31.500000  233.548387  190.429888  196.258065  125.161290  28.767558   \n",
       "std    18.041619   19.371838   15.382559   19.527144    4.602898   6.091478   \n",
       "min     1.000000  152.000000  146.285714  144.000000  112.000000   6.047432   \n",
       "25%    16.250000  232.000000  182.969505  186.000000  120.000000  26.561523   \n",
       "50%    31.500000  240.000000  190.749492  200.000000  128.000000  29.089645   \n",
       "75%    46.750000  248.000000  199.725305  208.000000  128.000000  32.583571   \n",
       "max    62.000000  248.000000  220.026144  240.000000  136.000000  38.374793   \n",
       "\n",
       "                 sum     variance      bbox_0      bbox_1  ...   \n",
       "count      62.000000    62.000000   62.000000   62.000000  ...  \\\n",
       "mean    69534.451613   864.079980  121.532258  112.629032  ...   \n",
       "std     42911.182492   311.860596   80.574925   76.921129  ...   \n",
       "min      1024.000000    36.571429    0.000000    0.000000  ...   \n",
       "25%     36010.000000   705.524752   53.000000   43.250000  ...   \n",
       "50%     71148.000000   846.217207  121.000000  110.500000  ...   \n",
       "75%     99962.000000  1061.691674  197.250000  172.250000  ...   \n",
       "max    177944.000000  1472.624704  251.000000  250.000000  ...   \n",
       "\n",
       "       number_of_pixels_on_border   perimeter  perimeter_on_border   \n",
       "count                   62.000000   62.000000            62.000000  \\\n",
       "mean                     5.564516   67.071263             5.580645   \n",
       "std                      9.667625   23.507575             9.724986   \n",
       "min                      0.000000    9.155272             0.000000   \n",
       "25%                      0.000000   52.551616             0.000000   \n",
       "50%                      0.000000   68.204464             0.000000   \n",
       "75%                     12.500000   84.307520            12.500000   \n",
       "max                     39.000000  125.912897            40.000000   \n",
       "\n",
       "       perimeter_on_border_ratio  principal_axes0  principal_axes1   \n",
       "count                  62.000000        62.000000        62.000000  \\\n",
       "mean                    0.102864         0.703539        -0.114112   \n",
       "std                     0.173858         0.459158         0.537821   \n",
       "min                     0.000000        -0.651619        -0.999926   \n",
       "25%                     0.000000         0.752633        -0.624188   \n",
       "50%                     0.000000         0.937869         0.040942   \n",
       "75%                     0.184963         0.994807         0.318631   \n",
       "max                     0.487045         1.000000         0.660963   \n",
       "\n",
       "       principal_axes2  principal_axes3  principal_moments0   \n",
       "count        62.000000        62.000000           62.000000  \\\n",
       "mean          0.114112         0.703539           20.742486   \n",
       "std           0.537821         0.459158           13.092549   \n",
       "min          -0.660963        -0.651619            0.489796   \n",
       "25%          -0.318631         0.752633           11.068721   \n",
       "50%          -0.040942         0.937869           18.744728   \n",
       "75%           0.624188         0.994807           29.519182   \n",
       "max           0.999926         1.000000           49.994764   \n",
       "\n",
       "       principal_moments1  \n",
       "count           62.000000  \n",
       "mean            43.535735  \n",
       "std             32.666912  \n",
       "min              0.571429  \n",
       "25%             22.027192  \n",
       "50%             35.367902  \n",
       "75%             56.938641  \n",
       "max            186.225041  \n",
       "\n",
       "[8 rows x 33 columns]"
      ]
     },
     "execution_count": 9,
     "metadata": {},
     "output_type": "execute_result"
    }
   ],
   "source": [
    "df.describe()"
   ]
  },
  {
   "cell_type": "markdown",
   "id": "7b3f73da-bf47-4c0d-a9d4-00650f5484d0",
   "metadata": {},
   "source": [
    "## Specific measures\n",
    "SimpleITK offers some non-standard measurements which deserve additional documentation"
   ]
  },
  {
   "cell_type": "markdown",
   "id": "f9c5d7c5-2094-4396-bae7-23088c4478e3",
   "metadata": {
    "tags": []
   },
   "source": [
    "### `number_of_pixels_on_border`"
   ]
  },
  {
   "cell_type": "markdown",
   "id": "525ed2ff-dd8e-4b58-8831-ef6457ed93dd",
   "metadata": {},
   "source": [
    "First, we check its range on the above example image."
   ]
  },
  {
   "cell_type": "code",
   "execution_count": 10,
   "id": "95f76aa6-508d-42ba-8f1f-3d9e7f54053d",
   "metadata": {
    "tags": []
   },
   "outputs": [
    {
     "data": {
      "text/plain": [
       "(0, 39)"
      ]
     },
     "execution_count": 10,
     "metadata": {},
     "output_type": "execute_result"
    }
   ],
   "source": [
    "number_of_pixels_on_border = df['number_of_pixels_on_border'].tolist()\n",
    "np.min(number_of_pixels_on_border), np.max(number_of_pixels_on_border)"
   ]
  },
  {
   "cell_type": "markdown",
   "id": "3812a897-ee0f-4878-8433-968cab68fcdc",
   "metadata": {
    "tags": []
   },
   "source": [
    "Next, we visualize the measurement in space."
   ]
  },
  {
   "cell_type": "code",
   "execution_count": 11,
   "id": "ff634315-b5b2-4034-a6c6-4c68471ffa51",
   "metadata": {
    "tags": []
   },
   "outputs": [
    {
     "data": {
      "text/html": [
       "<table>\n",
       "<tr>\n",
       "<td>\n",
       "<img src=\"data:image/png;base64,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\"></img>\n",
       "</td>\n",
       "<td style=\"text-align: center; vertical-align: top;\">\n",
       "<b><a href=\"https://github.com/clEsperanto/pyclesperanto_prototype\" target=\"_blank\">cle._</a> image</b><br/>\n",
       "<table>\n",
       "<tr><td>shape</td><td>(254,&nbsp;256)</td></tr>\n",
       "<tr><td>dtype</td><td>float32</td></tr>\n",
       "<tr><td>size</td><td>254.0 kB</td></tr>\n",
       "<tr><td>min</td><td>0.0</td></tr><tr><td>max</td><td>39.0</td></tr>\n",
       "</table>\n",
       "<img src=\"data:image/png;base64,iVBORw0KGgoAAAANSUhEUgAAALQAAAB4CAYAAABb59j9AAAAOXRFWHRTb2Z0d2FyZQBNYXRwbG90bGliIHZlcnNpb24zLjcuMSwgaHR0cHM6Ly9tYXRwbG90bGliLm9yZy/bCgiHAAAACXBIWXMAAA9hAAAPYQGoP6dpAAACZUlEQVR4nO3YQWrbQBiG4V8mW/kAxoIcoPfoIhfKrnSXC2XRe/QAAQcdwIZCN5ouSkwhaWmQp6Yfz7MaIzwzMi9i5KG11gpCbK69AbgkQRNF0EQRNFEETRRBE0XQRBE0UQRNFEETRdBEETRRbnpNvCxLzfNc4zjWMAy9liFAa61Op1PtdrvabNY9Y7sFPc9zTdPUa3oCHQ6H2u/3q+boFvQ4jlX1c5Pb7bbXMgQ4Ho81TdO5mTW6Bf1yzNhut4Lmr1ziaOqlkCiCJkq3I8ef3N4/nsdPD3fX2AKhPKGJImiiCJoogiaKoIkiaKIImiiCJoqgiSJoogiaKIImiqCJImiiCJoogiaKoIkiaKIImiiCJoqgiSJoogiaKIImiqCJImiiCJoogiaKoIkiaKIImiiCJoqgiSJoogiaKIImiqCJImiiCJoogiaKoIkiaKIImiiCJoqgiSJoogiaKIImiqCJImiiCJoogiaKoIkiaKIImiiCJoqgiSJoogiaKIImiqCJImiiCJoogiaKoIkiaKIImiiCJoqgiSJoogiaKIImiqCJImiiCJoogiaKoIkiaKIImiiCJoqgiSJoogiaKIImiqCJcnPtDfDa7f3jefz0cHfFnfx/ugXdWquqquPx+Ora8v3befzW9X/tw6cv5/HXzx9ffX7v99eud+nf5737u6Rf1/7d+i/3+NLMGkO7xCxveH5+rmmaekxNqMPhUPv9ftUc3YJelqXmea5xHGsYhh5LEKK1VqfTqXa7XW02617rugUN1+BfDqIImiiCJoqgiSJoogiaKIImiqCJImiiCJooPwBli23FLdc5bAAAAABJRU5ErkJggg==\"></img>\n",
       "</td>\n",
       "</tr>\n",
       "</table>"
      ],
      "text/plain": [
       "cl.OCLArray([[ 0.,  0.,  0., ..., 39., 39., 39.],\n",
       "       [ 0.,  0.,  0., ..., 39., 39., 39.],\n",
       "       [ 0.,  0.,  0., ..., 39., 39., 39.],\n",
       "       ...,\n",
       "       [ 0.,  0.,  0., ...,  0.,  0.,  0.],\n",
       "       [ 0.,  0.,  0., ...,  0.,  0.,  0.],\n",
       "       [ 0.,  0.,  0., ...,  0.,  0.,  0.]], dtype=float32)"
      ]
     },
     "execution_count": 11,
     "metadata": {},
     "output_type": "execute_result"
    }
   ],
   "source": [
    "number_of_pixels_on_border_map = cle.replace_intensities(label_image, [0] + number_of_pixels_on_border)\n",
    "number_of_pixels_on_border_map"
   ]
  },
  {
   "cell_type": "markdown",
   "id": "7cb52971-cffa-4cec-ae79-a770fd46267d",
   "metadata": {},
   "source": [
    "The visualization suggests that `number_of_pixels_on_border` is the count of pixels within a label that is located at the image border."
   ]
  },
  {
   "cell_type": "markdown",
   "id": "ead03047-2ad9-4542-923e-394d99195043",
   "metadata": {
    "tags": []
   },
   "source": [
    "### `perimeter_on_border`"
   ]
  },
  {
   "cell_type": "code",
   "execution_count": 12,
   "id": "3377a017-28d9-4574-8e98-a08085f247a1",
   "metadata": {
    "tags": []
   },
   "outputs": [
    {
     "data": {
      "text/html": [
       "<table>\n",
       "<tr>\n",
       "<td>\n",
       "<img src=\"data:image/png;base64,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\"></img>\n",
       "</td>\n",
       "<td style=\"text-align: center; vertical-align: top;\">\n",
       "<b><a href=\"https://github.com/clEsperanto/pyclesperanto_prototype\" target=\"_blank\">cle._</a> image</b><br/>\n",
       "<table>\n",
       "<tr><td>shape</td><td>(254,&nbsp;256)</td></tr>\n",
       "<tr><td>dtype</td><td>float32</td></tr>\n",
       "<tr><td>size</td><td>254.0 kB</td></tr>\n",
       "<tr><td>min</td><td>0.0</td></tr><tr><td>max</td><td>40.0</td></tr>\n",
       "</table>\n",
       "<img src=\"data:image/png;base64,iVBORw0KGgoAAAANSUhEUgAAALQAAAB4CAYAAABb59j9AAAAOXRFWHRTb2Z0d2FyZQBNYXRwbG90bGliIHZlcnNpb24zLjcuMSwgaHR0cHM6Ly9tYXRwbG90bGliLm9yZy/bCgiHAAAACXBIWXMAAA9hAAAPYQGoP6dpAAACZklEQVR4nO3YQWrbQBiG4V8mW/kAxoIcoPfoIhfKrnSXC2XRe/QAAQcdwIZCN5ouQkxpQluQp6Yfz7MaIzPz27wI2UNrrRWE2Fx7ALgkQRNF0EQRNFEETRRBE0XQRBE0UQRNFEETRdBEETRRbnptvCxLzfNc4zjWMAy9jiFAa61Op1PtdrvabNbdY7sFPc9zTdPUa3sCHQ6H2u/3q/boFvQ4jlX1MuR2u+11DAGOx2NN03RuZo1uQb8+Zmy3W0HzVy7xaOpHIVEETZRujxy/c3v/eF4/PdxdYwRCuUMTRdBEETRRBE0UQRNF0EQRNFEETRRBE0XQRBE0UQRNFEETRdBEETRRBE0UQRNF0EQRNFEETRRBE0XQRBE0UQRNFEETRdBEETRRBE0UQRNF0EQRNFEETRRBE0XQRBE0UQRNFEETRdBEETRRBE0UQRNF0EQRNFEETRRBE0XQRBE0UQRNFEETRdBEETRRBE0UQRNF0EQRNFEETRRBE0XQRBE0UQRNFEETRdBEETRRBE0UQRNF0EQRNFEETRRBE0XQRBE0UQRNFEETRdBEETRRBE0UQRNF0EQRNFEETRRBE0XQRBE0UQRNFEET5ebaA/DW7f3jef30cHfFSf4/3YJurVVV1fF4fHNt+f7tvH7v+r/24dOX8/rr549vXv/p/WvP+9Xa72ftfJf08yxV78/z+hlfm1ljaJfY5R3Pz881TVOPrQl1OBxqv9+v2qNb0Muy1DzPNY5jDcPQ4whCtNbqdDrVbrerzWbdz7puQcM1+JeDKIImiqCJImiiCJoogiaKoIkiaKIImiiCJsoPGjxqxVQsLjgAAAAASUVORK5CYII=\"></img>\n",
       "</td>\n",
       "</tr>\n",
       "</table>"
      ],
      "text/plain": [
       "cl.OCLArray([[ 0.,  0.,  0., ..., 40., 40., 40.],\n",
       "       [ 0.,  0.,  0., ..., 40., 40., 40.],\n",
       "       [ 0.,  0.,  0., ..., 40., 40., 40.],\n",
       "       ...,\n",
       "       [ 0.,  0.,  0., ...,  0.,  0.,  0.],\n",
       "       [ 0.,  0.,  0., ...,  0.,  0.,  0.],\n",
       "       [ 0.,  0.,  0., ...,  0.,  0.,  0.]], dtype=float32)"
      ]
     },
     "execution_count": 12,
     "metadata": {},
     "output_type": "execute_result"
    }
   ],
   "source": [
    "perimeter_on_border = df['perimeter_on_border'].tolist()\n",
    "np.min(perimeter_on_border), np.max(perimeter_on_border)\n",
    "\n",
    "perimeter_on_border_map = cle.replace_intensities(label_image, [0] + perimeter_on_border)\n",
    "perimeter_on_border_map"
   ]
  },
  {
   "cell_type": "markdown",
   "id": "57f191bd-9c2c-4185-b72a-33c319e677a5",
   "metadata": {},
   "source": [
    "The visualization suggests that `perimeter_on_border` is the perimeter of labels that are located at the image border."
   ]
  },
  {
   "cell_type": "markdown",
   "id": "8757ccc3-80ea-45b4-8c82-e19eddb3296b",
   "metadata": {
    "tags": []
   },
   "source": [
    "### `perimeter_on_border_ratio`\n",
    "\n",
    "In this context, the [SimpleITK documentation]() points to a [publication](https://www.insight-journal.org/browse/publication/176) which mentiones \"'SizeOnBorder' is the number of pixels in the objects which are on the border of the image.\" While the documentation is wage, the `perimeter_on_border_ratio` may be related."
   ]
  },
  {
   "cell_type": "code",
   "execution_count": 13,
   "id": "4e2c732b-a5c1-4ce2-a7bf-1b7e5ae74ce2",
   "metadata": {
    "tags": []
   },
   "outputs": [
    {
     "data": {
      "text/html": [
       "<table>\n",
       "<tr>\n",
       "<td>\n",
       "<img src=\"data:image/png;base64,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\"></img>\n",
       "</td>\n",
       "<td style=\"text-align: center; vertical-align: top;\">\n",
       "<b><a href=\"https://github.com/clEsperanto/pyclesperanto_prototype\" target=\"_blank\">cle._</a> image</b><br/>\n",
       "<table>\n",
       "<tr><td>shape</td><td>(254,&nbsp;256)</td></tr>\n",
       "<tr><td>dtype</td><td>float32</td></tr>\n",
       "<tr><td>size</td><td>254.0 kB</td></tr>\n",
       "<tr><td>min</td><td>0.0</td></tr><tr><td>max</td><td>0.48704496</td></tr>\n",
       "</table>\n",
       "<img src=\"data:image/png;base64,iVBORw0KGgoAAAANSUhEUgAAALQAAAB4CAYAAABb59j9AAAAOXRFWHRTb2Z0d2FyZQBNYXRwbG90bGliIHZlcnNpb24zLjcuMSwgaHR0cHM6Ly9tYXRwbG90bGliLm9yZy/bCgiHAAAACXBIWXMAAA9hAAAPYQGoP6dpAAACX0lEQVR4nO3YT2rbQBjG4U8mW/kAxoIcoPfoIhfKrnSXC2XRe/QAAQcdwIZCN5ougr1p+ofKg+nL86wGZL4Zmx9C8tBaawUhNrc+AFyToIkiaKIImiiCJoqgiSJoogiaKIImiqCJImiiCJood70GL8tS8zzXOI41DEOvbQjQWqvT6VS73a42m3X32G5Bz/Nc0zT1Gk+gw+FQ+/1+1YxuQY/jWFVvh9xut722IcDxeKxpmi7NrNEt6PNjxna7FTR/5RqPpl4KiSJoonR75Pid+8fny/rl6eEWRyCUOzRRBE0UQRNF0EQRNFEETRRBE0XQRBE0UQRNFEETRdBEETRRBE0UQRNF0EQRNFEETRRBE0XQRBE0UQRNFEETRdBEETRRBE0UQRNF0EQRNFEETRRBE0XQRBE0UQRNFEETRdBEETRRBE0UQRNF0EQRNFEETRRBE0XQRBE0UQRNFEETRdBEETRRBE0UQRNF0EQRNFEETRRBE0XQRBE0UQRNFEETRdBEETRRBE0UQRNF0EQRNFEETRRBE0XQRBE0UQRNFEETRdBEETRRBE0UQRNF0EQRNFEETRRBE0XQRBE0UQRNFEETRdBEETRR7m59AKruH58v65enhxue5P/XLejWWlVVHY/Hn64t379d1u9dv7UPn75c1l8/f+x+/dq/x5/2X/v5fz3Lr+afv/O5mTWGdo0p73h9fa1pmnqMJtThcKj9fr9qRregl2WpeZ5rHMcahqHHFoRordXpdKrdblebzbrXum5Bwy34l4MogiaKoIkiaKIImiiCJoqgiSJoogiaKIImyg/hnW3FuJwckQAAAABJRU5ErkJggg==\"></img>\n",
       "</td>\n",
       "</tr>\n",
       "</table>"
      ],
      "text/plain": [
       "cl.OCLArray([[0.        , 0.        , 0.        , ..., 0.48704496, 0.48704496,\n",
       "        0.48704496],\n",
       "       [0.        , 0.        , 0.        , ..., 0.48704496, 0.48704496,\n",
       "        0.48704496],\n",
       "       [0.        , 0.        , 0.        , ..., 0.48704496, 0.48704496,\n",
       "        0.48704496],\n",
       "       ...,\n",
       "       [0.        , 0.        , 0.        , ..., 0.        , 0.        ,\n",
       "        0.        ],\n",
       "       [0.        , 0.        , 0.        , ..., 0.        , 0.        ,\n",
       "        0.        ],\n",
       "       [0.        , 0.        , 0.        , ..., 0.        , 0.        ,\n",
       "        0.        ]], dtype=float32)"
      ]
     },
     "execution_count": 13,
     "metadata": {},
     "output_type": "execute_result"
    }
   ],
   "source": [
    "perimeter_on_border_ratio = df['perimeter_on_border_ratio'].tolist()\n",
    "np.min(perimeter_on_border_ratio), np.max(perimeter_on_border_ratio)\n",
    "\n",
    "perimeter_on_border_ratio_map = cle.replace_intensities(label_image, [0] + perimeter_on_border_ratio)\n",
    "perimeter_on_border_ratio_map"
   ]
  },
  {
   "cell_type": "markdown",
   "id": "9484d6b8-1816-409c-8910-f0f343196e3c",
   "metadata": {},
   "source": [
    "The visualization reinforces our assumption that the `perimeter_on_border_ratio` indeed is related to the amount the object touches the image border."
   ]
  },
  {
   "cell_type": "markdown",
   "id": "29cf8778-1e48-46c9-9728-5e3c15977ad7",
   "metadata": {
    "tags": []
   },
   "source": [
    "### `principal axes`"
   ]
  },
  {
   "cell_type": "markdown",
   "id": "72172e61-2304-4344-bf85-8dd736fcd150",
   "metadata": {},
   "source": [
    "In our example, we have `principal_axes0` - `principal_axes3`"
   ]
  },
  {
   "cell_type": "code",
   "execution_count": 14,
   "id": "1dd8dac7-877f-45bf-8063-59f35b9861ea",
   "metadata": {
    "tags": []
   },
   "outputs": [
    {
     "data": {
      "text/html": [
       "<table>\n",
       "<tr>\n",
       "<td>\n",
       "<img src=\"data:image/png;base64,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\"></img>\n",
       "</td>\n",
       "<td style=\"text-align: center; vertical-align: top;\">\n",
       "<b><a href=\"https://github.com/clEsperanto/pyclesperanto_prototype\" target=\"_blank\">cle._</a> image</b><br/>\n",
       "<table>\n",
       "<tr><td>shape</td><td>(254,&nbsp;256)</td></tr>\n",
       "<tr><td>dtype</td><td>float32</td></tr>\n",
       "<tr><td>size</td><td>254.0 kB</td></tr>\n",
       "<tr><td>min</td><td>-0.6516188</td></tr><tr><td>max</td><td>1.0</td></tr>\n",
       "</table>\n",
       "<img src=\"data:image/png;base64,iVBORw0KGgoAAAANSUhEUgAAALQAAAB4CAYAAABb59j9AAAAOXRFWHRTb2Z0d2FyZQBNYXRwbG90bGliIHZlcnNpb24zLjcuMSwgaHR0cHM6Ly9tYXRwbG90bGliLm9yZy/bCgiHAAAACXBIWXMAAA9hAAAPYQGoP6dpAAACiUlEQVR4nO3ZQWrbQACG0ZHJVj6AsSAH6D26yIWyK93lQln0Hj1AwEEHsKHQjaaLEJM6gdbIE5mf91aSZY/G+EOMpa7WWguEWC09AbgkQRNF0EQRNFEETRRBE0XQRBE0UQRNFEETRdBEETRRbloNPE1TGcex9H1fuq5rdRoC1FrL4XAom82mrFbzrrHNgh7HsQzD0Gp4Au12u7LdbmeN0Szovu9LKS+TXK/XrU5DgP1+X4ZhODYzR7OgX5cZ6/Va0PyXSyxN/SkkiqCJ0mzJkez2/vG4/fRwt+BMOOUKTRRBE0XQRBE0UQRNFEETRdBEETRRBE0UQRNF0EQRNFEETRRBE0XQRBE0UQRNFEETRdBEETRRBE0UQRNF0EQRNFEETRRBE0XQRBE0UQRNFEETRdBEETRRBE0UQRNF0EQRNFEETRRBE0XQRBE0UQRNFEETRdBEETRRBE0UQRNF0EQRNFEETRRBE0XQRBE0UQRNFEETRdBEETRRBE0UQRNF0EQRNFEETRRBE0XQRBE0UQRNFEETRdBEETRRBE0UQRNF0EQRNFFulp4A2W7vH//af3q4a3o+V2iiCJoogiaKoIkiaKK4y8FFnd7V+Gyu0EQRNFEETRRraGZZes18StANvP2RWz/qXcK1RfyWoBeQHvySBH0Fri3wa5vPOZoFXWstpZSy3+/fHfvy7cdx++f3r+/2L23u+Kefn37/Ou5/9P3OPf6v93+2c+Z/ro/Ge33ttZk5unqJUT7w/PxchmFoMTShdrtd2W63s8ZoFvQ0TWUcx9L3fem6rsUpCFFrLYfDoWw2m7JazbuT3CxoWIIHK0QRNFEETRRBE0XQRBE0UQRNFEETRdBEETRR/gDrBovCVdCzBgAAAABJRU5ErkJggg==\"></img>\n",
       "</td>\n",
       "</tr>\n",
       "</table>"
      ],
      "text/plain": [
       "cl.OCLArray([[0.        , 0.        , 0.        , ..., 0.99909043, 0.99909043,\n",
       "        0.99909043],\n",
       "       [0.        , 0.        , 0.        , ..., 0.99909043, 0.99909043,\n",
       "        0.99909043],\n",
       "       [0.        , 0.        , 0.        , ..., 0.99909043, 0.99909043,\n",
       "        0.99909043],\n",
       "       ...,\n",
       "       [0.        , 0.        , 0.        , ..., 0.        , 0.        ,\n",
       "        0.        ],\n",
       "       [0.        , 0.        , 0.        , ..., 0.        , 0.        ,\n",
       "        0.        ],\n",
       "       [0.        , 0.        , 0.        , ..., 0.        , 0.        ,\n",
       "        0.        ]], dtype=float32)"
      ]
     },
     "execution_count": 14,
     "metadata": {},
     "output_type": "execute_result"
    }
   ],
   "source": [
    "principal_axes_0 = df['principal_axes0'].tolist()\n",
    "np.min(principal_axes_0), np.max(principal_axes_0)\n",
    "\n",
    "principal_axes_0_map = cle.replace_intensities(label_image, [0] + principal_axes_0)\n",
    "principal_axes_0_map"
   ]
  },
  {
   "cell_type": "markdown",
   "id": "b2741272-640e-4988-8feb-965736b63fc0",
   "metadata": {},
   "source": [
    "(`principal_axes3` looks the same)"
   ]
  },
  {
   "cell_type": "code",
   "execution_count": 15,
   "id": "008a8386-64b3-4eef-b0b8-1b7e881d38c4",
   "metadata": {
    "tags": []
   },
   "outputs": [
    {
     "data": {
      "text/html": [
       "<table>\n",
       "<tr>\n",
       "<td>\n",
       "<img src=\"data:image/png;base64,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\"></img>\n",
       "</td>\n",
       "<td style=\"text-align: center; vertical-align: top;\">\n",
       "<b><a href=\"https://github.com/clEsperanto/pyclesperanto_prototype\" target=\"_blank\">cle._</a> image</b><br/>\n",
       "<table>\n",
       "<tr><td>shape</td><td>(254,&nbsp;256)</td></tr>\n",
       "<tr><td>dtype</td><td>float32</td></tr>\n",
       "<tr><td>size</td><td>254.0 kB</td></tr>\n",
       "<tr><td>min</td><td>-0.9999256</td></tr><tr><td>max</td><td>0.6609634</td></tr>\n",
       "</table>\n",
       "<img src=\"data:image/png;base64,iVBORw0KGgoAAAANSUhEUgAAALQAAAB4CAYAAABb59j9AAAAOXRFWHRTb2Z0d2FyZQBNYXRwbG90bGliIHZlcnNpb24zLjcuMSwgaHR0cHM6Ly9tYXRwbG90bGliLm9yZy/bCgiHAAAACXBIWXMAAA9hAAAPYQGoP6dpAAACmUlEQVR4nO3YQWrbQACG0ZHJVj6AsSAH6D26yIWyK93lQln0Hj1AwEEHkKHQjaaLEhOSNI5rD3b/vreSkDwzFh9i7K7WWguEWJx7AXBKgiaKoIkiaKIImiiCJoqgiSJoogiaKIImiqCJImiiXLUaeJ7nMo5j6fu+dF3XahoC1FrLdrstq9WqLBbHvWObBT2OYxmGodXwBNpsNmW9Xh81RrOg+74vpfxe5HK5bDUNAaZpKsMw7Jo5RrOgn7YZy+VS0HzIKbamfhQSRdBEabbl4HSub+93xw93N2dcyeXzhiaKoIkiaKIImiiCJoqgiSJoogiaKIImiqCJImiiCJoogiaKoIkiaKIImiiCJoqgiSJoogiaKIImiqCJImiiCJoogiaKoIkiaKIImiiCJoqgiSJoogiaKIImiqCJImiiCJoogiaKoIkiaKIImiiCJoqgiSJoogiaKIImiqCJImiiCJoogiaKoIkiaKIImiiCJoqgiSJoogiaKIImiqCJImiiCJoogiaKoIkiaKIImiiCJoqgiSJoogiaKIImiqCJImiiCJoogiaKoIkiaKIImiiCJoqgiSJoogiaKFfnmPT69n53/HB3c44lEMobmiiCJspZthy879K2ZJe2nvcI+j+wL8h/Kdh9LiLopAf6Nw79/i/v33d+6HyHrOf5vR+5v7VmQddaSymlTNP06tr888fueJqmV+f7fPrybXf8/evnV+f77j/0+qnX89K+53Fp539a+1vXnz+LUt5+Hk+feWrmGF09xShveHx8LMMwtBiaUJvNpqzX66PGaBb0PM9lHMfS933puq7FFISotZbtdltWq1VZLI77461Z0HAO/ocmiqCJImiiCJoogiaKoIkiaKIImiiCJoqgifILOD7W784s0PcAAAAASUVORK5CYII=\"></img>\n",
       "</td>\n",
       "</tr>\n",
       "</table>"
      ],
      "text/plain": [
       "cl.OCLArray([[0.        , 0.        , 0.        , ..., 0.04264205, 0.04264205,\n",
       "        0.04264205],\n",
       "       [0.        , 0.        , 0.        , ..., 0.04264205, 0.04264205,\n",
       "        0.04264205],\n",
       "       [0.        , 0.        , 0.        , ..., 0.04264205, 0.04264205,\n",
       "        0.04264205],\n",
       "       ...,\n",
       "       [0.        , 0.        , 0.        , ..., 0.        , 0.        ,\n",
       "        0.        ],\n",
       "       [0.        , 0.        , 0.        , ..., 0.        , 0.        ,\n",
       "        0.        ],\n",
       "       [0.        , 0.        , 0.        , ..., 0.        , 0.        ,\n",
       "        0.        ]], dtype=float32)"
      ]
     },
     "execution_count": 15,
     "metadata": {},
     "output_type": "execute_result"
    }
   ],
   "source": [
    "principal_axes_1 = df['principal_axes1'].tolist()\n",
    "np.min(principal_axes_1), np.max(principal_axes_1)\n",
    "\n",
    "principal_axes_1_map = cle.replace_intensities(label_image, [0] + principal_axes_1)\n",
    "principal_axes_1_map"
   ]
  },
  {
   "cell_type": "code",
   "execution_count": 16,
   "id": "bfd536b1-43db-494f-bb68-dde1d6abb5f6",
   "metadata": {
    "tags": []
   },
   "outputs": [
    {
     "data": {
      "text/html": [
       "<table>\n",
       "<tr>\n",
       "<td>\n",
       "<img src=\"data:image/png;base64,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\"></img>\n",
       "</td>\n",
       "<td style=\"text-align: center; vertical-align: top;\">\n",
       "<b><a href=\"https://github.com/clEsperanto/pyclesperanto_prototype\" target=\"_blank\">cle._</a> image</b><br/>\n",
       "<table>\n",
       "<tr><td>shape</td><td>(254,&nbsp;256)</td></tr>\n",
       "<tr><td>dtype</td><td>float32</td></tr>\n",
       "<tr><td>size</td><td>254.0 kB</td></tr>\n",
       "<tr><td>min</td><td>-0.6609634</td></tr><tr><td>max</td><td>0.9999256</td></tr>\n",
       "</table>\n",
       "<img src=\"data:image/png;base64,iVBORw0KGgoAAAANSUhEUgAAALQAAAB4CAYAAABb59j9AAAAOXRFWHRTb2Z0d2FyZQBNYXRwbG90bGliIHZlcnNpb24zLjcuMSwgaHR0cHM6Ly9tYXRwbG90bGliLm9yZy/bCgiHAAAACXBIWXMAAA9hAAAPYQGoP6dpAAACkklEQVR4nO3YQWrbQACG0ZHJVj6AsSAH6D26yIWyK93lQln0Hj1AwEEHsKHQjaaLYJM6BicoUyd/31tJHjwaiw9ZUldrrQVCLC69AHhPgiaKoIkiaKIImiiCJoqgiSJoogiaKIImiqCJImiiXLWaeJqmMo5j6fu+dF3X6jAEqLWW3W5XVqtVWSzmXWObBT2OYxmGodX0BNpsNmW9Xs+ao1nQfd+XUp4WuVwuWx2GANvttgzDcGhmjmZB728zlsuloHmV97g19VBIFEETpdktR7Lr2/vD9sPdzQVXwjFXaKIImiiCJoqgiSJoogiaKIImiqCJImiiCJoogiaKoIkiaKIImiiCJoqgiSJoogiaKIImiqCJImiiCJoogiaKoIkiaKIImiiCJoqgiSJoogiaKIImiqCJImiiCJoogiaKoIkiaKIImiiCJoqgiSJoogiaKIImiqCJImiiCJoogiaKoIkiaKIImiiCJoqgiSJoogiaKIImiqCJImiiCJoogiaKoIkiaKIImiiCJoqgiSJoogiaKIImiqCJImiiCJoogiaKoIkiaKIImiiCJoqgiSJoogiaKIImiqCJcnXpBZDt+vb+r/2Hu5umx3OFJoqgifIpbzme/421/gt7jY+2nv/Zpwz6nHOBCTDXhwz6rcHNDfh4/Nz+3PUkO34I/NeaBV1rLaWUst1uX4x9+fbjsP3z+9cX49PvX4ftU98/Hv/o++ccn49z5+et880df8t6nv/2U06dj/1n+2bm6Op7zHLC4+NjGYahxdSE2mw2Zb1ez5qjWdDTNJVxHEvf96XruhaHIESttex2u7JarcpiMe/FW7Og4RK8hyaKoIkiaKIImiiCJoqgiSJoogiaKIImiqCJ8gexZc95IhTeXwAAAABJRU5ErkJggg==\"></img>\n",
       "</td>\n",
       "</tr>\n",
       "</table>"
      ],
      "text/plain": [
       "cl.OCLArray([[ 0.        ,  0.        ,  0.        , ..., -0.04264205,\n",
       "        -0.04264205, -0.04264205],\n",
       "       [ 0.        ,  0.        ,  0.        , ..., -0.04264205,\n",
       "        -0.04264205, -0.04264205],\n",
       "       [ 0.        ,  0.        ,  0.        , ..., -0.04264205,\n",
       "        -0.04264205, -0.04264205],\n",
       "       ...,\n",
       "       [ 0.        ,  0.        ,  0.        , ...,  0.        ,\n",
       "         0.        ,  0.        ],\n",
       "       [ 0.        ,  0.        ,  0.        , ...,  0.        ,\n",
       "         0.        ,  0.        ],\n",
       "       [ 0.        ,  0.        ,  0.        , ...,  0.        ,\n",
       "         0.        ,  0.        ]], dtype=float32)"
      ]
     },
     "execution_count": 16,
     "metadata": {},
     "output_type": "execute_result"
    }
   ],
   "source": [
    "principal_axes_2 = df['principal_axes2'].tolist()\n",
    "np.min(principal_axes_2), np.max(principal_axes_2)\n",
    "\n",
    "principal_axes_2_map = cle.replace_intensities(label_image, [0] + principal_axes_2)\n",
    "principal_axes_2_map"
   ]
  },
  {
   "cell_type": "markdown",
   "id": "723b2b36-f427-43dd-9e9b-d46e8446aae1",
   "metadata": {
    "tags": []
   },
   "source": [
    "### `principal moments`"
   ]
  },
  {
   "cell_type": "code",
   "execution_count": 17,
   "id": "c3c5394f-bcb8-4d89-ab2c-8e9ecf8b15e5",
   "metadata": {
    "tags": []
   },
   "outputs": [
    {
     "data": {
      "text/html": [
       "<table>\n",
       "<tr>\n",
       "<td>\n",
       "<img src=\"data:image/png;base64,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\"></img>\n",
       "</td>\n",
       "<td style=\"text-align: center; vertical-align: top;\">\n",
       "<b><a href=\"https://github.com/clEsperanto/pyclesperanto_prototype\" target=\"_blank\">cle._</a> image</b><br/>\n",
       "<table>\n",
       "<tr><td>shape</td><td>(254,&nbsp;256)</td></tr>\n",
       "<tr><td>dtype</td><td>float32</td></tr>\n",
       "<tr><td>size</td><td>254.0 kB</td></tr>\n",
       "<tr><td>min</td><td>0.0</td></tr><tr><td>max</td><td>49.994762</td></tr>\n",
       "</table>\n",
       "<img src=\"data:image/png;base64,iVBORw0KGgoAAAANSUhEUgAAALQAAAB4CAYAAABb59j9AAAAOXRFWHRTb2Z0d2FyZQBNYXRwbG90bGliIHZlcnNpb24zLjcuMSwgaHR0cHM6Ly9tYXRwbG90bGliLm9yZy/bCgiHAAAACXBIWXMAAA9hAAAPYQGoP6dpAAACkUlEQVR4nO3YQWrbQBiG4ZHJVj6AsSAH6D26yIW6K93lQln0Hj1AwEEHkKHQjaaLEhOStGoqT12+Ps9Ksux/ZHgZZHe11logxObSNwDnJGiiCJoogiaKoIkiaKIImiiCJoqgiSJoogiaKIImylWrwfM8l3EcS9/3peu6VssQoNZajsdj2e12ZbNZt8c2C3ocxzIMQ6vxBDocDmW/36+a0Szovu9LKT9ucrvdtlqGANM0lWEYTs2s0Szox8eM7XYraH7LOR5N/SgkiqCJ0uyR41euP9ydju9vby5xC4SyQxNF0EQRNFEETRRBE0XQRBE0UQRNFEETRdBEETRRBE0UQRNF0EQRNFEETRRBE0XQRBE0UQRNFEETRdBEETRRBE0UQRNF0EQRNFEETRRBE0XQRBE0UQRNFEETRdBEETRRBE0UQRNF0EQRNFEETRRBE0XQRBE0UQRNFEETRdBEETRRBE0UQRNF0EQRNFEETRRBE0XQRBE0UQRNFEETRdBEETRRBE0UQRNF0EQRNFEETRRBE0XQRBE0UQRNFEETRdBEETRRBE0UQRNF0EQRNFEETRRBE0XQRBE0UQRNFEETRdBEETRRri59A/+i6w93p+P725sX53/782utnXfu+2nJDk2U/3KHvvSOdekd+JzrP5312ryl6+fWLOhaaymllGmaXlybv309HU/TVN59/Hw6//Lp/ZvXev75pXlL6z+/vnS+NH/pfGn955be/9bv89b5P/uuf3L96WuPzazR1XNMecXDw0MZhqHFaEIdDoey3+9XzWgW9DzPZRzH0vd96bquxRKEqLWW4/FYdrtd2WzW/axrFjRcgn85iCJoogiaKIImiqCJImiiCJoogiaKoIkiaKJ8Bz1k4q4Iqm32AAAAAElFTkSuQmCC\"></img>\n",
       "</td>\n",
       "</tr>\n",
       "</table>"
      ],
      "text/plain": [
       "cl.OCLArray([[ 0.      ,  0.      ,  0.      , ..., 24.209328, 24.209328,\n",
       "        24.209328],\n",
       "       [ 0.      ,  0.      ,  0.      , ..., 24.209328, 24.209328,\n",
       "        24.209328],\n",
       "       [ 0.      ,  0.      ,  0.      , ..., 24.209328, 24.209328,\n",
       "        24.209328],\n",
       "       ...,\n",
       "       [ 0.      ,  0.      ,  0.      , ...,  0.      ,  0.      ,\n",
       "         0.      ],\n",
       "       [ 0.      ,  0.      ,  0.      , ...,  0.      ,  0.      ,\n",
       "         0.      ],\n",
       "       [ 0.      ,  0.      ,  0.      , ...,  0.      ,  0.      ,\n",
       "         0.      ]], dtype=float32)"
      ]
     },
     "execution_count": 17,
     "metadata": {},
     "output_type": "execute_result"
    }
   ],
   "source": [
    "principal_moments_0 = df['principal_moments0'].tolist()\n",
    "np.min(principal_moments_0), np.max(principal_moments_0)\n",
    "\n",
    "principal_moments_0_map = cle.replace_intensities(label_image, [0] + principal_moments_0)\n",
    "principal_moments_0_map"
   ]
  },
  {
   "cell_type": "code",
   "execution_count": 18,
   "id": "aecfbe48-9a0e-4b37-8bc7-780c729df273",
   "metadata": {
    "tags": []
   },
   "outputs": [
    {
     "data": {
      "text/html": [
       "<table>\n",
       "<tr>\n",
       "<td>\n",
       "<img src=\"data:image/png;base64,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\"></img>\n",
       "</td>\n",
       "<td style=\"text-align: center; vertical-align: top;\">\n",
       "<b><a href=\"https://github.com/clEsperanto/pyclesperanto_prototype\" target=\"_blank\">cle._</a> image</b><br/>\n",
       "<table>\n",
       "<tr><td>shape</td><td>(254,&nbsp;256)</td></tr>\n",
       "<tr><td>dtype</td><td>float32</td></tr>\n",
       "<tr><td>size</td><td>254.0 kB</td></tr>\n",
       "<tr><td>min</td><td>0.0</td></tr><tr><td>max</td><td>186.22504</td></tr>\n",
       "</table>\n",
       "<img src=\"data:image/png;base64,iVBORw0KGgoAAAANSUhEUgAAALQAAAB4CAYAAABb59j9AAAAOXRFWHRTb2Z0d2FyZQBNYXRwbG90bGliIHZlcnNpb24zLjcuMSwgaHR0cHM6Ly9tYXRwbG90bGliLm9yZy/bCgiHAAAACXBIWXMAAA9hAAAPYQGoP6dpAAACiElEQVR4nO3ZQWrbQBiG4V8mW/kAxoIcoPfoIhfKrnSXC2XRe/QAAQcdwIZCN1IXJSYkoWkqT518PM9KtuQZDbwSst3N8zwXhFid+wTglARNFEETRdBEETRRBE0UQRNF0EQRNFEETRRBE0XQRLloNfA0TTWOY/V9X13XtZqGAPM81+FwqM1mU6vVsntss6DHcaxhGFoNT6Ddblfb7XbRGM2C7vu+qn6f5Hq9bjUNAfb7fQ3DcGxmiWZBPzxmrNdrQfNXTvFo6kshUQRNlGaPHH9yeX173L67uTrHKRDKHZoogiaKoIkiaKIImiiCJoqgiSJoogiaKIImiqCJImiiCJoogiaKoIkiaKIImiiCJoqgiSJoogiaKIImiqCJImiiCJoogiaKoIkiaKIImiiCJoqgiSJoogiaKIImiqCJImiiCJoogiaKoIkiaKIImiiCJoqgiSJoogiaKIImiqCJImiiCJoogiaKoIkiaKIImiiCJoqgiSJoogiaKIImiqCJImiiCJoogiaKoIkiaKIImiiCJoqgiSJoogiaKIImiqCJImiiCJoogiaKoIkiaKIImiiCJoqgiSJoogiaKIImysW5T+BfXF7fHrfvbq7evH/p8bxfHzLot3oarIBzRQTdOtDXLggXyPvxIYL+38Esne/cn39PHq+lqv16mgU9z3NVVe33+2f7pp8/jtsv7f/05dtx+/vXz8+O/2ivX/Paek/t6XwtPV5L1cvreXjvoZkluvkUo7zg/v6+hmFoMTShdrtdbbfbRWM0C3qaphrHsfq+r67rWkxBiHme63A41GazqdVq2S/JzYKGc/DHClEETRRBE0XQRBE0UQRNFEETRdBEETRRBE2UX/U407IouqZqAAAAAElFTkSuQmCC\"></img>\n",
       "</td>\n",
       "</tr>\n",
       "</table>"
      ],
      "text/plain": [
       "cl.OCLArray([[ 0.      ,  0.      ,  0.      , ..., 60.391415, 60.391415,\n",
       "        60.391415],\n",
       "       [ 0.      ,  0.      ,  0.      , ..., 60.391415, 60.391415,\n",
       "        60.391415],\n",
       "       [ 0.      ,  0.      ,  0.      , ..., 60.391415, 60.391415,\n",
       "        60.391415],\n",
       "       ...,\n",
       "       [ 0.      ,  0.      ,  0.      , ...,  0.      ,  0.      ,\n",
       "         0.      ],\n",
       "       [ 0.      ,  0.      ,  0.      , ...,  0.      ,  0.      ,\n",
       "         0.      ],\n",
       "       [ 0.      ,  0.      ,  0.      , ...,  0.      ,  0.      ,\n",
       "         0.      ]], dtype=float32)"
      ]
     },
     "execution_count": 18,
     "metadata": {},
     "output_type": "execute_result"
    }
   ],
   "source": [
    "principal_moments_1 = df['principal_moments1'].tolist()\n",
    "np.min(principal_moments_1), np.max(principal_moments_1)\n",
    "\n",
    "principal_moments_1_map = cle.replace_intensities(label_image, [0] + principal_moments_1)\n",
    "principal_moments_1_map"
   ]
  }
 ],
 "metadata": {
  "kernelspec": {
   "display_name": "Python 3 (ipykernel)",
   "language": "python",
   "name": "python3"
  },
  "language_info": {
   "codemirror_mode": {
    "name": "ipython",
    "version": 3
   },
   "file_extension": ".py",
   "mimetype": "text/x-python",
   "name": "python",
   "nbconvert_exporter": "python",
   "pygments_lexer": "ipython3",
   "version": "3.9.16"
  }
 },
 "nbformat": 4,
 "nbformat_minor": 5
}
