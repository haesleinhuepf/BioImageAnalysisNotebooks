{
 "cells": [
  {
   "cell_type": "markdown",
   "metadata": {},
   "source": [
    "# Quantitative image analysis\n",
    "After segmenting and labeling objects in an image, we can measure properties of these objects.\n",
    "\n",
    "See also\n",
    "* [SciPy lecture notes: Measuring region properties](https://scipy-lectures.org/packages/scikit-image/index.html#measuring-regions-properties)\n",
    "* [Plot regionprops](https://scikit-image.org/docs/stable/auto_examples/segmentation/plot_regionprops.html)\n",
    "\n",
    "Before we can do measurements, we need an `image` and a corresponding `label_image`. Therefore, we recapitulate filtering, thresholding and labeling:"
   ]
  },
  {
   "cell_type": "code",
   "execution_count": 1,
   "metadata": {
    "tags": []
   },
   "outputs": [],
   "source": [
    "from skimage.io import imread\n",
    "from skimage import filters\n",
    "from skimage import measure\n",
    "from pyclesperanto_prototype import imshow\n",
    "import pandas as pd \n",
    "import numpy as np"
   ]
  },
  {
   "cell_type": "code",
   "execution_count": 2,
   "metadata": {
    "tags": []
   },
   "outputs": [
    {
     "data": {
      "image/png": "[encoded data removed]",
      "text/plain": [
       "<Figure size 640x480 with 1 Axes>"
      ]
     },
     "metadata": {},
     "output_type": "display_data"
    }
   ],
   "source": [
    "# load image\n",
    "image = imread(\"../../data/blobs.tif\")\n",
    "\n",
    "# denoising\n",
    "blurred_image = filters.gaussian(image, sigma=1)\n",
    "\n",
    "# binarization\n",
    "threshold = filters.threshold_otsu(blurred_image)\n",
    "thresholded_image = blurred_image >= threshold\n",
    "\n",
    "# labeling\n",
    "label_image = measure.label(thresholded_image)\n",
    "\n",
    "# visualization\n",
    "imshow(label_image, labels=True)"
   ]
  },
  {
   "cell_type": "markdown",
   "metadata": {},
   "source": [
    "## Measurements / region properties\n",
    "To read out properties from regions, we use the [`regionprops`](https://scikit-image.org/docs/dev/api/skimage.measure.html#skimage.measure.regionprops) function:"
   ]
  },
  {
   "cell_type": "code",
   "execution_count": 3,
   "metadata": {
    "tags": []
   },
   "outputs": [],
   "source": [
    "# analyse objects\n",
    "properties = measure.regionprops(label_image, intensity_image=image)"
   ]
  },
  {
   "cell_type": "markdown",
   "metadata": {},
   "source": [
    "The results are stored as `RegionProps` objects, which are not very informative:"
   ]
  },
  {
   "cell_type": "code",
   "execution_count": 4,
   "metadata": {
    "tags": []
   },
   "outputs": [
    {
     "data": {
      "text/plain": [
       "[<skimage.measure._regionprops.RegionProperties at 0x1c272b8f8e0>,\n",
       " <skimage.measure._regionprops.RegionProperties at 0x1c26d278af0>,\n",
       " <skimage.measure._regionprops.RegionProperties at 0x1c26d2784c0>,\n",
       " <skimage.measure._regionprops.RegionProperties at 0x1c26d278b20>,\n",
       " <skimage.measure._regionprops.RegionProperties at 0x1c26d278b80>]"
      ]
     },
     "execution_count": 4,
     "metadata": {},
     "output_type": "execute_result"
    }
   ],
   "source": [
    "properties[0:5]"
   ]
  },
  {
   "cell_type": "markdown",
   "metadata": {
    "tags": []
   },
   "source": [
    "If you are interested which properties we measured: They are listed in the [documentation of the `measure.regionprops` function](https://scikit-image.org/docs/dev/api/skimage.measure.html#skimage.measure.regionprops). Basically, we now have a variable `properties` which contains 40 different features. But we are only interested in a small subset of them."
   ]
  },
  {
   "cell_type": "markdown",
   "metadata": {},
   "source": [
    "Therefore, we can reorganize the measurements into a dictionary containing arrays with our features of interest:"
   ]
  },
  {
   "cell_type": "code",
   "execution_count": 5,
   "metadata": {
    "scrolled": true,
    "tags": []
   },
   "outputs": [],
   "source": [
    "statistics = {\n",
    "    'area':       [p.area               for p in properties],\n",
    "    'mean':       [p.mean_intensity     for p in properties],\n",
    "    'major_axis': [p.major_axis_length  for p in properties],\n",
    "    'minor_axis': [p.minor_axis_length for p in properties]\n",
    "}"
   ]
  },
  {
   "cell_type": "markdown",
   "metadata": {},
   "source": [
    "Reading those dictionaries of arrays is not very convenient. For that we introduce [pandas DataFrames](https://pandas.pydata.org/docs/reference/api/pandas.DataFrame.html) which are commonly used by data scientists. \"DataFrames\" is just another term for \"tables\" used in Python.  "
   ]
  },
  {
   "cell_type": "code",
   "execution_count": 8,
   "metadata": {
    "scrolled": true,
    "tags": []
   },
   "outputs": [
    {
     "data": {
      "text/html": [
       "<div>\n",
       "<style scoped>\n",
       "    .dataframe tbody tr th:only-of-type {\n",
       "        vertical-align: middle;\n",
       "    }\n",
       "\n",
       "    .dataframe tbody tr th {\n",
       "        vertical-align: top;\n",
       "    }\n",
       "\n",
       "    .dataframe thead th {\n",
       "        text-align: right;\n",
       "    }\n",
       "</style>\n",
       "<table border=\"1\" class=\"dataframe\">\n",
       "  <thead>\n",
       "    <tr style=\"text-align: right;\">\n",
       "      <th></th>\n",
       "      <th>area</th>\n",
       "      <th>mean</th>\n",
       "      <th>major_axis</th>\n",
       "      <th>minor_axis</th>\n",
       "    </tr>\n",
       "  </thead>\n",
       "  <tbody>\n",
       "    <tr>\n",
       "      <th>0</th>\n",
       "      <td>429</td>\n",
       "      <td>191.440559</td>\n",
       "      <td>34.779230</td>\n",
       "      <td>16.654732</td>\n",
       "    </tr>\n",
       "    <tr>\n",
       "      <th>1</th>\n",
       "      <td>183</td>\n",
       "      <td>179.846995</td>\n",
       "      <td>20.950530</td>\n",
       "      <td>11.755645</td>\n",
       "    </tr>\n",
       "    <tr>\n",
       "      <th>2</th>\n",
       "      <td>658</td>\n",
       "      <td>205.604863</td>\n",
       "      <td>30.198484</td>\n",
       "      <td>28.282790</td>\n",
       "    </tr>\n",
       "    <tr>\n",
       "      <th>3</th>\n",
       "      <td>433</td>\n",
       "      <td>217.515012</td>\n",
       "      <td>24.508791</td>\n",
       "      <td>23.079220</td>\n",
       "    </tr>\n",
       "    <tr>\n",
       "      <th>4</th>\n",
       "      <td>472</td>\n",
       "      <td>213.033898</td>\n",
       "      <td>31.084766</td>\n",
       "      <td>19.681190</td>\n",
       "    </tr>\n",
       "    <tr>\n",
       "      <th>...</th>\n",
       "      <td>...</td>\n",
       "      <td>...</td>\n",
       "      <td>...</td>\n",
       "      <td>...</td>\n",
       "    </tr>\n",
       "    <tr>\n",
       "      <th>57</th>\n",
       "      <td>213</td>\n",
       "      <td>184.525822</td>\n",
       "      <td>18.753879</td>\n",
       "      <td>14.468993</td>\n",
       "    </tr>\n",
       "    <tr>\n",
       "      <th>58</th>\n",
       "      <td>79</td>\n",
       "      <td>184.810127</td>\n",
       "      <td>18.287489</td>\n",
       "      <td>5.762488</td>\n",
       "    </tr>\n",
       "    <tr>\n",
       "      <th>59</th>\n",
       "      <td>88</td>\n",
       "      <td>182.727273</td>\n",
       "      <td>21.673692</td>\n",
       "      <td>5.389867</td>\n",
       "    </tr>\n",
       "    <tr>\n",
       "      <th>60</th>\n",
       "      <td>52</td>\n",
       "      <td>189.538462</td>\n",
       "      <td>14.335104</td>\n",
       "      <td>5.047883</td>\n",
       "    </tr>\n",
       "    <tr>\n",
       "      <th>61</th>\n",
       "      <td>48</td>\n",
       "      <td>173.833333</td>\n",
       "      <td>16.925660</td>\n",
       "      <td>3.831678</td>\n",
       "    </tr>\n",
       "  </tbody>\n",
       "</table>\n",
       "<p>62 rows × 4 columns</p>\n",
       "</div>"
      ],
      "text/plain": [
       "    area        mean  major_axis  minor_axis\n",
       "0    429  191.440559   34.779230   16.654732\n",
       "1    183  179.846995   20.950530   11.755645\n",
       "2    658  205.604863   30.198484   28.282790\n",
       "3    433  217.515012   24.508791   23.079220\n",
       "4    472  213.033898   31.084766   19.681190\n",
       "..   ...         ...         ...         ...\n",
       "57   213  184.525822   18.753879   14.468993\n",
       "58    79  184.810127   18.287489    5.762488\n",
       "59    88  182.727273   21.673692    5.389867\n",
       "60    52  189.538462   14.335104    5.047883\n",
       "61    48  173.833333   16.925660    3.831678\n",
       "\n",
       "[62 rows x 4 columns]"
      ]
     },
     "execution_count": 8,
     "metadata": {},
     "output_type": "execute_result"
    }
   ],
   "source": [
    "df = pd.DataFrame(statistics)\n",
    "df"
   ]
  },
  {
   "cell_type": "markdown",
   "metadata": {},
   "source": [
    "You can also add custom columns by computing your own metric, for example the `aspect_ratio`:"
   ]
  },
  {
   "cell_type": "code",
   "execution_count": 9,
   "metadata": {
    "tags": []
   },
   "outputs": [
    {
     "data": {
      "text/html": [
       "<div>\n",
       "<style scoped>\n",
       "    .dataframe tbody tr th:only-of-type {\n",
       "        vertical-align: middle;\n",
       "    }\n",
       "\n",
       "    .dataframe tbody tr th {\n",
       "        vertical-align: top;\n",
       "    }\n",
       "\n",
       "    .dataframe thead th {\n",
       "        text-align: right;\n",
       "    }\n",
       "</style>\n",
       "<table border=\"1\" class=\"dataframe\">\n",
       "  <thead>\n",
       "    <tr style=\"text-align: right;\">\n",
       "      <th></th>\n",
       "      <th>area</th>\n",
       "      <th>mean</th>\n",
       "      <th>major_axis</th>\n",
       "      <th>minor_axis</th>\n",
       "      <th>aspect_ratio</th>\n",
       "    </tr>\n",
       "  </thead>\n",
       "  <tbody>\n",
       "    <tr>\n",
       "      <th>0</th>\n",
       "      <td>429</td>\n",
       "      <td>191.440559</td>\n",
       "      <td>34.779230</td>\n",
       "      <td>16.654732</td>\n",
       "      <td>2.088249</td>\n",
       "    </tr>\n",
       "    <tr>\n",
       "      <th>1</th>\n",
       "      <td>183</td>\n",
       "      <td>179.846995</td>\n",
       "      <td>20.950530</td>\n",
       "      <td>11.755645</td>\n",
       "      <td>1.782168</td>\n",
       "    </tr>\n",
       "    <tr>\n",
       "      <th>2</th>\n",
       "      <td>658</td>\n",
       "      <td>205.604863</td>\n",
       "      <td>30.198484</td>\n",
       "      <td>28.282790</td>\n",
       "      <td>1.067734</td>\n",
       "    </tr>\n",
       "    <tr>\n",
       "      <th>3</th>\n",
       "      <td>433</td>\n",
       "      <td>217.515012</td>\n",
       "      <td>24.508791</td>\n",
       "      <td>23.079220</td>\n",
       "      <td>1.061942</td>\n",
       "    </tr>\n",
       "    <tr>\n",
       "      <th>4</th>\n",
       "      <td>472</td>\n",
       "      <td>213.033898</td>\n",
       "      <td>31.084766</td>\n",
       "      <td>19.681190</td>\n",
       "      <td>1.579415</td>\n",
       "    </tr>\n",
       "    <tr>\n",
       "      <th>...</th>\n",
       "      <td>...</td>\n",
       "      <td>...</td>\n",
       "      <td>...</td>\n",
       "      <td>...</td>\n",
       "      <td>...</td>\n",
       "    </tr>\n",
       "    <tr>\n",
       "      <th>57</th>\n",
       "      <td>213</td>\n",
       "      <td>184.525822</td>\n",
       "      <td>18.753879</td>\n",
       "      <td>14.468993</td>\n",
       "      <td>1.296143</td>\n",
       "    </tr>\n",
       "    <tr>\n",
       "      <th>58</th>\n",
       "      <td>79</td>\n",
       "      <td>184.810127</td>\n",
       "      <td>18.287489</td>\n",
       "      <td>5.762488</td>\n",
       "      <td>3.173540</td>\n",
       "    </tr>\n",
       "    <tr>\n",
       "      <th>59</th>\n",
       "      <td>88</td>\n",
       "      <td>182.727273</td>\n",
       "      <td>21.673692</td>\n",
       "      <td>5.389867</td>\n",
       "      <td>4.021193</td>\n",
       "    </tr>\n",
       "    <tr>\n",
       "      <th>60</th>\n",
       "      <td>52</td>\n",
       "      <td>189.538462</td>\n",
       "      <td>14.335104</td>\n",
       "      <td>5.047883</td>\n",
       "      <td>2.839825</td>\n",
       "    </tr>\n",
       "    <tr>\n",
       "      <th>61</th>\n",
       "      <td>48</td>\n",
       "      <td>173.833333</td>\n",
       "      <td>16.925660</td>\n",
       "      <td>3.831678</td>\n",
       "      <td>4.417297</td>\n",
       "    </tr>\n",
       "  </tbody>\n",
       "</table>\n",
       "<p>62 rows × 5 columns</p>\n",
       "</div>"
      ],
      "text/plain": [
       "    area        mean  major_axis  minor_axis  aspect_ratio\n",
       "0    429  191.440559   34.779230   16.654732      2.088249\n",
       "1    183  179.846995   20.950530   11.755645      1.782168\n",
       "2    658  205.604863   30.198484   28.282790      1.067734\n",
       "3    433  217.515012   24.508791   23.079220      1.061942\n",
       "4    472  213.033898   31.084766   19.681190      1.579415\n",
       "..   ...         ...         ...         ...           ...\n",
       "57   213  184.525822   18.753879   14.468993      1.296143\n",
       "58    79  184.810127   18.287489    5.762488      3.173540\n",
       "59    88  182.727273   21.673692    5.389867      4.021193\n",
       "60    52  189.538462   14.335104    5.047883      2.839825\n",
       "61    48  173.833333   16.925660    3.831678      4.417297\n",
       "\n",
       "[62 rows x 5 columns]"
      ]
     },
     "execution_count": 9,
     "metadata": {},
     "output_type": "execute_result"
    }
   ],
   "source": [
    "df['aspect_ratio'] = [p.major_axis_length / p.minor_axis_length for p in properties]\n",
    "df"
   ]
  },
  {
   "cell_type": "markdown",
   "metadata": {},
   "source": [
    "Those dataframes can be saved to disk conveniently:"
   ]
  },
  {
   "cell_type": "code",
   "execution_count": 10,
   "metadata": {
    "tags": []
   },
   "outputs": [],
   "source": [
    "df.to_csv(\"blobs_analysis.csv\")"
   ]
  },
  {
   "cell_type": "markdown",
   "metadata": {},
   "source": [
    "Furthermore, one can measure properties from our `statistics` table using [numpy](https://numpy.org/doc/stable/). For example the mean area:"
   ]
  },
  {
   "cell_type": "code",
   "execution_count": 11,
   "metadata": {
    "tags": []
   },
   "outputs": [
    {
     "data": {
      "text/plain": [
       "355.3709677419355"
      ]
     },
     "execution_count": 11,
     "metadata": {},
     "output_type": "execute_result"
    }
   ],
   "source": [
    "# measure mean area\n",
    "np.mean(df['area'])"
   ]
  },
  {
   "cell_type": "markdown",
   "metadata": {},
   "source": [
    "## Exercises\n",
    "Analyse the loaded blobs `image`. "
   ]
  },
  {
   "cell_type": "markdown",
   "metadata": {},
   "source": [
    "* How many objects are in it?"
   ]
  },
  {
   "cell_type": "code",
   "execution_count": null,
   "metadata": {},
   "outputs": [],
   "source": []
  },
  {
   "cell_type": "markdown",
   "metadata": {},
   "source": [
    "* How large is the largest object?"
   ]
  },
  {
   "cell_type": "code",
   "execution_count": null,
   "metadata": {},
   "outputs": [],
   "source": []
  },
  {
   "cell_type": "markdown",
   "metadata": {},
   "source": [
    "* What are mean and standard deviation of the image?"
   ]
  },
  {
   "cell_type": "code",
   "execution_count": null,
   "metadata": {},
   "outputs": [],
   "source": []
  },
  {
   "cell_type": "markdown",
   "metadata": {},
   "source": [
    "* What are mean and standard deviation of the area of the segmented objects?"
   ]
  },
  {
   "cell_type": "code",
   "execution_count": null,
   "metadata": {},
   "outputs": [],
   "source": []
  }
 ],
 "metadata": {
  "kernelspec": {
   "display_name": "Python 3 (ipykernel)",
   "language": "python",
   "name": "python3"
  },
  "language_info": {
   "codemirror_mode": {
    "name": "ipython",
    "version": 3
   },
   "file_extension": ".py",
   "mimetype": "text/x-python",
   "name": "python",
   "nbconvert_exporter": "python",
   "pygments_lexer": "ipython3",
   "version": "3.9.16"
  },
  "toc": {
   "base_numbering": 1,
   "nav_menu": {},
   "number_sections": false,
   "sideBar": false,
   "skip_h1_title": false,
   "title_cell": "Table of Contents",
   "title_sidebar": "Contents",
   "toc_cell": false,
   "toc_position": {},
   "toc_section_display": false,
   "toc_window_display": false
  }
 },
 "nbformat": 4,
 "nbformat_minor": 4
}
