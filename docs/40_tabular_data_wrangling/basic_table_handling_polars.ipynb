{
 "cells": [
  {
   "cell_type": "markdown",
   "metadata": {},
   "source": [
    "# Basic Table Handling with Polars\n",
    "\n",
    "In this notebook, we will introduce how to use the Polars library for basic table handling. Polars is a fast DataFrame library implemented in Rust and is designed to process large data efficiently.\n",
    "\n",
    "We will cover the following operations:\n",
    "- Creating a DataFrame\n",
    "- Basic DataFrame Operations\n",
    "- Querying and Filtering\n",
    "- Addition of new columns"
   ]
  },
  {
   "cell_type": "code",
   "execution_count": null,
   "metadata": {},
   "outputs": [],
   "source": [
    "# Import Polars\n",
    "import polars as pl"
   ]
  },
  {
   "cell_type": "markdown",
   "metadata": {},
   "source": [
    "## Creating a DataFrame\n",
    "\n",
    "We can create a DataFrame in Polars using the `pl.DataFrame()` method. Here's an example:"
   ]
  },
  {
   "cell_type": "code",
   "execution_count": null,
   "metadata": {},
   "outputs": [],
   "source": [
    "data = {\n",
    "    'column_1': [1, 2, 3],\n",
    "    'column_2': ['a', 'b', 'c']\n",
    "}\n",
    "\n",
    "df = pl.DataFrame(data)\n",
    "df"
   ]
  },
  {
   "cell_type": "markdown",
   "metadata": {},
   "source": [
    "## Basic DataFrame Operations\n",
    "We can perform several basic operations on DataFrames such as selecting columns."
   ]
  },
  {
   "cell_type": "code",
   "execution_count": null,
   "metadata": {},
   "outputs": [],
   "source": [
    "# Selecting a single column\n",
    "df.select('column_1')"
   ]
  },
  {
   "cell_type": "markdown",
   "metadata": {},
   "source": [
    "## Querying and Filtering\n",
    "\n",
    "Polars provides a powerful API to perform queries and filter data."
   ]
  },
  {
   "cell_type": "code",
   "execution_count": null,
   "metadata": {},
   "outputs": [],
   "source": [
    "# Filtering rows where column_1 > 1\n",
    "df.filter(pl.col('column_1') > 1)"
   ]
  },
  {
   "cell_type": "markdown",
   "metadata": {},
   "source": [
    "## Addition of New Columns\n",
    "\n",
    "We can add new columns to the DataFrame as shown below."
   ]
  },
  {
   "cell_type": "code",
   "execution_count": null,
   "metadata": {},
   "outputs": [],
   "source": [
    "# Add a new column\n",
    "df.with_columns(pl.Series('column_3', [4, 5, 6]))"
   ]
  }
 ],
 "metadata": {
  "kernelspec": {
   "display_name": "Python 3",
   "language": "python",
   "name": "python3"
  },
  "language_info": {
   "codemirror_mode": {
    "name": "ipython",
    "version": 3
   },
   "file_extension": ".py",
   "mimetype": "text/x-python",
   "name": "python",
   "nbconvert_exporter": "python",
   "pygments_lexer": "ipython3",
   "version": "3.8.5"
  }
 },
 "nbformat": 4,
 "nbformat_minor": 5
}
