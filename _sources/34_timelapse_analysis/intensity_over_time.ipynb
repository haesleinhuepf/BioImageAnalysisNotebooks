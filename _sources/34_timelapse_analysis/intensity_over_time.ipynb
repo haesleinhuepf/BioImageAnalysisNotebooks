{
 "cells": [
  {
   "cell_type": "markdown",
   "id": "c210541e-e486-466d-b1a5-cc6a196b74de",
   "metadata": {},
   "source": [
    "# Measuring features in a time-lapse dataset"
   ]
  },
  {
   "cell_type": "markdown",
   "id": "0ed53345-df1a-45aa-80ac-63ac192d7d08",
   "metadata": {},
   "source": [
    "In this notebook, we will develop a workflow on a single timepoint of a timelapse and will learn how to apply the workflow on the whole time-lapse. This involves the following steps: preoprocessing, segmentation and feature extraction. "
   ]
  },
  {
   "cell_type": "code",
   "execution_count": 1,
   "id": "bd1558cd-bba0-4b66-82b4-87e77e4eb9e7",
   "metadata": {
    "tags": []
   },
   "outputs": [],
   "source": [
    "from skimage.io import imread\n",
    "import pyclesperanto_prototype as cle\n",
    "from skimage.measure import regionprops_table\n",
    "import numpy as np\n",
    "import pandas as pd"
   ]
  },
  {
   "cell_type": "markdown",
   "id": "9ec43007-ce2c-4c87-afb9-bbca4d36efda",
   "metadata": {},
   "source": [
    "## Developing a workflow"
   ]
  },
  {
   "cell_type": "markdown",
   "id": "7f8f069b-8e9e-42f9-87e8-7156209d53d4",
   "metadata": {},
   "source": [
    "First, we are reading in the image, scaling it and converting it to a [numpy](https://haesleinhuepf.github.io/BioImageAnalysisNotebooks/12_image_analysis_basics/05_Masking_images.html)-array:"
   ]
  },
  {
   "cell_type": "code",
   "execution_count": 2,
   "id": "795f9af2-e31a-472f-a2f0-28c55d70e1fe",
   "metadata": {
    "tags": []
   },
   "outputs": [],
   "source": [
    "# reading in the image\n",
    "image_stack = imread(\"../../data/CalibZAPWfixed_000154_max.tif\")[::10,:200,:200]\n",
    "\n",
    "# scaling the image and converting it to a np-array\n",
    "image_stack = np.asarray(cle.scale(image_stack, factor_z=1, factor_y=6, factor_x=6, auto_size=True))"
   ]
  },
  {
   "cell_type": "code",
   "execution_count": 3,
   "id": "a38e6156-70e6-4ed1-b007-7e1407d73e23",
   "metadata": {
    "tags": []
   },
   "outputs": [
    {
     "data": {
      "text/plain": [
       "(10, 1200, 1200)"
      ]
     },
     "execution_count": 3,
     "metadata": {},
     "output_type": "execute_result"
    }
   ],
   "source": [
    "image_stack.shape"
   ]
  },
  {
   "cell_type": "markdown",
   "id": "406704b6-370c-4256-9322-1d781c448d0a",
   "metadata": {},
   "source": [
    "Next, we define a function `segment_single_image` which does [background subtraction](https://haesleinhuepf.github.io/BioImageAnalysisNotebooks/18_image_filtering/03_background_removal.html) using `top_hat_box` and segmentation using [`voronoi_otsu_labeling`](https://haesleinhuepf.github.io/BioImageAnalysisNotebooks/20_image_segmentation/11_voronoi_otsu_labeling.html). \n",
    "\n",
    "Therefore, it needs as input:\n",
    "- an image\n",
    "- `bg_radius` (= background radius)\n",
    "- `spot_sigma` and `outline_sigma`. \n",
    "\n",
    "It returns the labels as numpy-array:"
   ]
  },
  {
   "cell_type": "code",
   "execution_count": 4,
   "id": "7aeec7b5-2a1e-4709-bdcd-57b655dedd50",
   "metadata": {
    "tags": []
   },
   "outputs": [],
   "source": [
    "def segment_single_image(image, bg_radius=50, spot_sigma=10, outline_sigma=3):\n",
    "    background_subtracted = cle.top_hat_box(image, radius_x=bg_radius, radius_y=bg_radius)\n",
    "    labels = cle.voronoi_otsu_labeling(background_subtracted, spot_sigma=spot_sigma, outline_sigma=outline_sigma)\n",
    "    return np.asarray(labels)"
   ]
  },
  {
   "cell_type": "markdown",
   "id": "6e296999-a321-4dc0-bb1c-7d8d8d5a3f74",
   "metadata": {},
   "source": [
    "We try the function on timepoint 6 (= 5th frame as we are counting from 0):"
   ]
  },
  {
   "cell_type": "code",
   "execution_count": 5,
   "id": "0a2bd698-ca85-4550-adb1-beaf30c2e49a",
   "metadata": {
    "tags": []
   },
   "outputs": [
    {
     "data": {
      "text/plain": [
       "array([[  0,   0,   0, ...,   0,   0,   0],\n",
       "       [  0,   0,   0, ...,   0,   0,   0],\n",
       "       [  0,   0,   0, ...,   0,   0,   0],\n",
       "       ...,\n",
       "       [  0,   0,   0, ..., 177, 177, 177],\n",
       "       [  0,   0,   0, ..., 177, 177, 177],\n",
       "       [  0,   0,   0, ..., 177, 177, 177]], dtype=uint32)"
      ]
     },
     "execution_count": 5,
     "metadata": {},
     "output_type": "execute_result"
    }
   ],
   "source": [
    "tp_6 = segment_single_image(image_stack[5])\n",
    "tp_6"
   ]
  },
  {
   "cell_type": "markdown",
   "id": "c82064da-3ca2-489c-8c1e-18d33c6666f2",
   "metadata": {},
   "source": [
    "## Visualizing images and image stacks"
   ]
  },
  {
   "cell_type": "markdown",
   "id": "9346d86a-43f1-4b21-a2d4-3d24e6ca7ef1",
   "metadata": {
    "tags": []
   },
   "source": [
    "We can visualize our numpy-array like this:"
   ]
  },
  {
   "cell_type": "code",
   "execution_count": 6,
   "id": "8bef4c90-a3fc-4402-bd4c-31454f99db69",
   "metadata": {
    "tags": []
   },
   "outputs": [
    {
     "data": {
      "image/png": "[encoded data removed]",
      "text/plain": [
       "<Figure size 640x480 with 1 Axes>"
      ]
     },
     "metadata": {},
     "output_type": "display_data"
    }
   ],
   "source": [
    "cle.imshow(tp_6, labels=True)"
   ]
  },
  {
   "cell_type": "markdown",
   "id": "42f040ab-2221-4ef8-ad50-517289820c38",
   "metadata": {
    "tags": []
   },
   "source": [
    "Now we can run our function in a for-loop over the whole time-lapse dataset:"
   ]
  },
  {
   "cell_type": "code",
   "execution_count": 7,
   "id": "3b261001-37b1-457f-bc2e-27055b1cd0fd",
   "metadata": {
    "tags": []
   },
   "outputs": [],
   "source": [
    "segmented_slices = [segment_single_image(image) for image in image_stack]\n",
    "segmented_stack = np.asarray(segmented_slices)"
   ]
  },
  {
   "cell_type": "markdown",
   "id": "8c78606b-fabf-4626-a4d6-1d8318d06266",
   "metadata": {
    "tags": []
   },
   "source": [
    "Our `segmented_stack` should keep the same shape as the original `image_stack`:"
   ]
  },
  {
   "cell_type": "code",
   "execution_count": 8,
   "id": "0e041905-893b-4855-9885-84b820fcf566",
   "metadata": {
    "tags": []
   },
   "outputs": [
    {
     "data": {
      "text/plain": [
       "(10, 1200, 1200)"
      ]
     },
     "execution_count": 8,
     "metadata": {},
     "output_type": "execute_result"
    }
   ],
   "source": [
    "segmented_stack.shape"
   ]
  },
  {
   "cell_type": "markdown",
   "id": "2e47efd1-9c74-4c13-a347-e836cb1c2a78",
   "metadata": {},
   "source": [
    "It does! Now, we can use `stackview` to visualize our whole image_stack. The function `curtain` provides a slider to visualize the label image on top of the original image."
   ]
  },
  {
   "cell_type": "code",
   "execution_count": 9,
   "id": "c0a0be3b-69a4-4b0a-a8e4-3a253ad7be68",
   "metadata": {
    "tags": []
   },
   "outputs": [
    {
     "data": {
      "application/vnd.jupyter.widget-view+json": {
       "model_id": "2e0c3da423044d318be53bb633d0ebfd",
       "version_major": 2,
       "version_minor": 0
      },
      "text/plain": [
       "VBox(children=(HBox(children=(VBox(children=(ImageWidget(height=360, width=360),)),)), IntSlider(value=5, desc…"
      ]
     },
     "execution_count": 9,
     "metadata": {},
     "output_type": "execute_result"
    }
   ],
   "source": [
    "import stackview\n",
    "stackview.curtain(image_stack, segmented_stack, zoom_factor=0.3)"
   ]
  },
  {
   "cell_type": "markdown",
   "id": "702eccc4-fe25-4681-a381-9b04d7b508a7",
   "metadata": {},
   "source": [
    "If you move the `Slice` slider you can see the segmentation result of the individual timepoints. As you can see, objects are not keeping the same label number over several frames. We are not doing tracking here, just segmenting timepoint-by-timepoint."
   ]
  },
  {
   "cell_type": "markdown",
   "id": "078db194-8c11-46f5-82f8-061445f89dc7",
   "metadata": {
    "tags": []
   },
   "source": [
    "## Measuring features on an image and a label image"
   ]
  },
  {
   "cell_type": "markdown",
   "id": "d877dcf1-61bb-4d48-8603-858e472c51ea",
   "metadata": {},
   "source": [
    "Our goal is to extract features from this time-lapse dataset.\n",
    "Therefore, we define another function `analyze_mean_intensity_single_timepoint`. The name says it all."
   ]
  },
  {
   "cell_type": "code",
   "execution_count": 10,
   "id": "e5d35c58-52e8-4b6d-ad9f-6492a84e7151",
   "metadata": {
    "tags": []
   },
   "outputs": [],
   "source": [
    "def analyze_mean_intensity_single_timepoint(image, labels, frame):\n",
    "    df = pd.DataFrame(regionprops_table(labels[frame], intensity_image=image[frame], properties=['mean_intensity']))\n",
    "    df['frame'] = frame\n",
    "    return df"
   ]
  },
  {
   "cell_type": "markdown",
   "id": "d22846d9-eee0-4e3f-863c-7df5012067f3",
   "metadata": {},
   "source": [
    "Now, we try it out on timepoint 6 of our time-lapse dataset:"
   ]
  },
  {
   "cell_type": "code",
   "execution_count": 11,
   "id": "2786bd86-dba5-4915-bd4f-0e1b6b116bce",
   "metadata": {
    "tags": []
   },
   "outputs": [],
   "source": [
    "df = analyze_mean_intensity_single_timepoint(image_stack, segmented_stack, 5)"
   ]
  },
  {
   "cell_type": "code",
   "execution_count": 12,
   "id": "e0892b54-d9cf-4736-9301-7adb3558a583",
   "metadata": {
    "tags": []
   },
   "outputs": [
    {
     "data": {
      "text/html": [
       "<div>\n",
       "<style scoped>\n",
       "    .dataframe tbody tr th:only-of-type {\n",
       "        vertical-align: middle;\n",
       "    }\n",
       "\n",
       "    .dataframe tbody tr th {\n",
       "        vertical-align: top;\n",
       "    }\n",
       "\n",
       "    .dataframe thead th {\n",
       "        text-align: right;\n",
       "    }\n",
       "</style>\n",
       "<table border=\"1\" class=\"dataframe\">\n",
       "  <thead>\n",
       "    <tr style=\"text-align: right;\">\n",
       "      <th></th>\n",
       "      <th>mean_intensity</th>\n",
       "      <th>frame</th>\n",
       "    </tr>\n",
       "  </thead>\n",
       "  <tbody>\n",
       "    <tr>\n",
       "      <th>0</th>\n",
       "      <td>193.721710</td>\n",
       "      <td>5</td>\n",
       "    </tr>\n",
       "    <tr>\n",
       "      <th>1</th>\n",
       "      <td>154.925858</td>\n",
       "      <td>5</td>\n",
       "    </tr>\n",
       "    <tr>\n",
       "      <th>2</th>\n",
       "      <td>142.510788</td>\n",
       "      <td>5</td>\n",
       "    </tr>\n",
       "    <tr>\n",
       "      <th>3</th>\n",
       "      <td>102.849998</td>\n",
       "      <td>5</td>\n",
       "    </tr>\n",
       "    <tr>\n",
       "      <th>4</th>\n",
       "      <td>88.570175</td>\n",
       "      <td>5</td>\n",
       "    </tr>\n",
       "    <tr>\n",
       "      <th>...</th>\n",
       "      <td>...</td>\n",
       "      <td>...</td>\n",
       "    </tr>\n",
       "    <tr>\n",
       "      <th>172</th>\n",
       "      <td>154.884216</td>\n",
       "      <td>5</td>\n",
       "    </tr>\n",
       "    <tr>\n",
       "      <th>173</th>\n",
       "      <td>147.652908</td>\n",
       "      <td>5</td>\n",
       "    </tr>\n",
       "    <tr>\n",
       "      <th>174</th>\n",
       "      <td>126.156464</td>\n",
       "      <td>5</td>\n",
       "    </tr>\n",
       "    <tr>\n",
       "      <th>175</th>\n",
       "      <td>89.161293</td>\n",
       "      <td>5</td>\n",
       "    </tr>\n",
       "    <tr>\n",
       "      <th>176</th>\n",
       "      <td>135.688721</td>\n",
       "      <td>5</td>\n",
       "    </tr>\n",
       "  </tbody>\n",
       "</table>\n",
       "<p>177 rows × 2 columns</p>\n",
       "</div>"
      ],
      "text/plain": [
       "     mean_intensity  frame\n",
       "0        193.721710      5\n",
       "1        154.925858      5\n",
       "2        142.510788      5\n",
       "3        102.849998      5\n",
       "4         88.570175      5\n",
       "..              ...    ...\n",
       "172      154.884216      5\n",
       "173      147.652908      5\n",
       "174      126.156464      5\n",
       "175       89.161293      5\n",
       "176      135.688721      5\n",
       "\n",
       "[177 rows x 2 columns]"
      ]
     },
     "execution_count": 12,
     "metadata": {},
     "output_type": "execute_result"
    }
   ],
   "source": [
    "df"
   ]
  },
  {
   "cell_type": "markdown",
   "id": "76ae361b-e61f-4241-a67b-42c84164e1cb",
   "metadata": {},
   "source": [
    "As we can see, the function returns a table with the mean intensities of the labels in a particular frame. "
   ]
  },
  {
   "cell_type": "markdown",
   "id": "66feb210-9f07-4171-a082-00aaba3c9618",
   "metadata": {},
   "source": [
    "## Measuring features on the whole time-lapse dataset"
   ]
  },
  {
   "cell_type": "markdown",
   "id": "761207f7-e2e6-485c-9020-9984d6ef8003",
   "metadata": {},
   "source": [
    "Next, we want to apply our function on the whole stack. We use a [for-loop](https://haesleinhuepf.github.io/BioImageAnalysisNotebooks/02_python_basics/08_loops.html) to do so:"
   ]
  },
  {
   "cell_type": "code",
   "execution_count": 13,
   "id": "e3a3ab60-c982-4aa1-ba45-96132f617251",
   "metadata": {
    "tags": []
   },
   "outputs": [
    {
     "data": {
      "text/html": [
       "<div>\n",
       "<style scoped>\n",
       "    .dataframe tbody tr th:only-of-type {\n",
       "        vertical-align: middle;\n",
       "    }\n",
       "\n",
       "    .dataframe tbody tr th {\n",
       "        vertical-align: top;\n",
       "    }\n",
       "\n",
       "    .dataframe thead th {\n",
       "        text-align: right;\n",
       "    }\n",
       "</style>\n",
       "<table border=\"1\" class=\"dataframe\">\n",
       "  <thead>\n",
       "    <tr style=\"text-align: right;\">\n",
       "      <th></th>\n",
       "      <th>mean_intensity</th>\n",
       "      <th>frame</th>\n",
       "    </tr>\n",
       "  </thead>\n",
       "  <tbody>\n",
       "    <tr>\n",
       "      <th>0</th>\n",
       "      <td>223.347107</td>\n",
       "      <td>0</td>\n",
       "    </tr>\n",
       "    <tr>\n",
       "      <th>1</th>\n",
       "      <td>93.042557</td>\n",
       "      <td>0</td>\n",
       "    </tr>\n",
       "    <tr>\n",
       "      <th>2</th>\n",
       "      <td>112.046814</td>\n",
       "      <td>0</td>\n",
       "    </tr>\n",
       "    <tr>\n",
       "      <th>3</th>\n",
       "      <td>192.766434</td>\n",
       "      <td>0</td>\n",
       "    </tr>\n",
       "    <tr>\n",
       "      <th>4</th>\n",
       "      <td>162.704330</td>\n",
       "      <td>0</td>\n",
       "    </tr>\n",
       "    <tr>\n",
       "      <th>...</th>\n",
       "      <td>...</td>\n",
       "      <td>...</td>\n",
       "    </tr>\n",
       "    <tr>\n",
       "      <th>335</th>\n",
       "      <td>135.748642</td>\n",
       "      <td>9</td>\n",
       "    </tr>\n",
       "    <tr>\n",
       "      <th>336</th>\n",
       "      <td>116.306427</td>\n",
       "      <td>9</td>\n",
       "    </tr>\n",
       "    <tr>\n",
       "      <th>337</th>\n",
       "      <td>121.075317</td>\n",
       "      <td>9</td>\n",
       "    </tr>\n",
       "    <tr>\n",
       "      <th>338</th>\n",
       "      <td>98.173592</td>\n",
       "      <td>9</td>\n",
       "    </tr>\n",
       "    <tr>\n",
       "      <th>339</th>\n",
       "      <td>82.390472</td>\n",
       "      <td>9</td>\n",
       "    </tr>\n",
       "  </tbody>\n",
       "</table>\n",
       "<p>1702 rows × 2 columns</p>\n",
       "</div>"
      ],
      "text/plain": [
       "     mean_intensity  frame\n",
       "0        223.347107      0\n",
       "1         93.042557      0\n",
       "2        112.046814      0\n",
       "3        192.766434      0\n",
       "4        162.704330      0\n",
       "..              ...    ...\n",
       "335      135.748642      9\n",
       "336      116.306427      9\n",
       "337      121.075317      9\n",
       "338       98.173592      9\n",
       "339       82.390472      9\n",
       "\n",
       "[1702 rows x 2 columns]"
      ]
     },
     "execution_count": 13,
     "metadata": {},
     "output_type": "execute_result"
    }
   ],
   "source": [
    "num_frames = image_stack.shape[0]\n",
    "all_frames_df = pd.concat([analyze_mean_intensity_single_timepoint(image_stack, segmented_stack, t) for t in range(num_frames)])\n",
    "all_frames_df"
   ]
  },
  {
   "cell_type": "markdown",
   "id": "c5c8d4a4-e238-4889-ba2e-fb6ef90ff92f",
   "metadata": {},
   "source": [
    "Now, we want to measure how long it takes to execute our code snipped. Therefore, we use [`timeit`](https://docs.python.org/3/library/timeit.html)."
   ]
  },
  {
   "cell_type": "code",
   "execution_count": 14,
   "id": "50109e07-d00e-4ff0-94ac-bac2ff6372c2",
   "metadata": {
    "tags": []
   },
   "outputs": [],
   "source": [
    "import timeit"
   ]
  },
  {
   "cell_type": "code",
   "execution_count": 15,
   "id": "60c0aa46-63fb-412e-913d-d9378e45f21a",
   "metadata": {
    "tags": []
   },
   "outputs": [
    {
     "name": "stdout",
     "output_type": "stream",
     "text": [
      "115 ms ± 2.77 ms per loop (mean ± std. dev. of 7 runs, 10 loops each)\n"
     ]
    }
   ],
   "source": [
    "%%timeit\n",
    "pd.concat([analyze_mean_intensity_single_timepoint(image_stack, segmented_stack, t) for t in range(num_frames)])"
   ]
  },
  {
   "cell_type": "markdown",
   "id": "a6ca0e91-d500-41d8-88e8-2a6f927e50b7",
   "metadata": {},
   "source": [
    "It tells us the execution time per loop (here per image) in our time-lapse dataset."
   ]
  },
  {
   "cell_type": "markdown",
   "id": "47d9c4eb-4a17-44ac-8b13-ab7af2f007cb",
   "metadata": {},
   "source": [
    "## Short side note: What is a good way to write a function?"
   ]
  },
  {
   "cell_type": "markdown",
   "id": "5cf349c6-73e5-49b2-9d26-1992e37d94ca",
   "metadata": {},
   "source": [
    "If we define functions, one function should do only one thing. Then, this function can be called by another function which brings another novelty. We call this modularization. Have a look at the two functions`get_intensity_for_timepoint` and `get_intensity`:"
   ]
  },
  {
   "cell_type": "code",
   "execution_count": 16,
   "id": "4edee1bd-48f2-480f-ad4f-f4ccf36b7a22",
   "metadata": {
    "tags": []
   },
   "outputs": [],
   "source": [
    "def get_intensity_for_timepoint(intensity_image, label_layer):\n",
    "    stats = regionprops_table(label_layer, intensity_image=intensity_image, properties=['mean_intensity'])\n",
    "    return stats['mean_intensity']\n",
    "\n",
    "def get_intensity(intensity_image_stack, labels_layer_stack):\n",
    "    result = []        \n",
    "    for intensity_image, label_layer in zip(intensity_image_stack, labels_layer_stack):\n",
    "        result.append(get_intensity_for_timepoint(intensity_image, label_layer))\n",
    "    return result"
   ]
  },
  {
   "cell_type": "markdown",
   "id": "d81e2003-6976-4f52-9153-c633a437aa60",
   "metadata": {},
   "source": [
    "The first function measures the mean_intensity and the second function applies this on a whole time-lapse dataset. Therefore, the functions both have one main task and the first function is nested in the second one."
   ]
  },
  {
   "cell_type": "markdown",
   "id": "030550ca-9259-4d0e-a41b-d85f6a234929",
   "metadata": {},
   "source": [
    "## Libraries to extract features of all timepoints"
   ]
  },
  {
   "cell_type": "markdown",
   "id": "7f9ca9c0-663a-491b-b743-5567b3b343bb",
   "metadata": {},
   "source": [
    "Now, we want to measure different intensity-based parameters on all timepoints. Therefore, we use `regionprops_table_all_frames` from [napari_skimage_regionprops](https://github.com/haesleinhuepf/napari-skimage-regionprops)."
   ]
  },
  {
   "cell_type": "code",
   "execution_count": 17,
   "id": "0101002d-b8ac-4997-9714-e423bb0ef6a3",
   "metadata": {
    "tags": []
   },
   "outputs": [],
   "source": [
    "from napari_skimage_regionprops import regionprops_table_all_frames"
   ]
  },
  {
   "cell_type": "code",
   "execution_count": 18,
   "id": "34a9f756-c26e-4964-9928-6718bf5fd9e5",
   "metadata": {},
   "outputs": [
    {
     "name": "stdout",
     "output_type": "stream",
     "text": [
      "analyzing frame 0\n",
      "analyzing frame 1\n",
      "analyzing frame 2\n",
      "analyzing frame 3\n",
      "analyzing frame 4\n",
      "analyzing frame 5\n",
      "analyzing frame 6\n",
      "analyzing frame 7\n",
      "analyzing frame 8\n",
      "analyzing frame 9\n"
     ]
    },
    {
     "data": {
      "text/html": [
       "<div>\n",
       "<style scoped>\n",
       "    .dataframe tbody tr th:only-of-type {\n",
       "        vertical-align: middle;\n",
       "    }\n",
       "\n",
       "    .dataframe tbody tr th {\n",
       "        vertical-align: top;\n",
       "    }\n",
       "\n",
       "    .dataframe thead th {\n",
       "        text-align: right;\n",
       "    }\n",
       "</style>\n",
       "<table border=\"1\" class=\"dataframe\">\n",
       "  <thead>\n",
       "    <tr style=\"text-align: right;\">\n",
       "      <th></th>\n",
       "      <th>label</th>\n",
       "      <th>max_intensity</th>\n",
       "      <th>mean_intensity</th>\n",
       "      <th>min_intensity</th>\n",
       "      <th>standard_deviation_intensity</th>\n",
       "      <th>frame</th>\n",
       "    </tr>\n",
       "  </thead>\n",
       "  <tbody>\n",
       "    <tr>\n",
       "      <th>0</th>\n",
       "      <td>1</td>\n",
       "      <td>255.0</td>\n",
       "      <td>223.347107</td>\n",
       "      <td>91.0</td>\n",
       "      <td>40.516113</td>\n",
       "      <td>0</td>\n",
       "    </tr>\n",
       "    <tr>\n",
       "      <th>1</th>\n",
       "      <td>2</td>\n",
       "      <td>97.0</td>\n",
       "      <td>93.042557</td>\n",
       "      <td>70.0</td>\n",
       "      <td>7.657447</td>\n",
       "      <td>0</td>\n",
       "    </tr>\n",
       "    <tr>\n",
       "      <th>2</th>\n",
       "      <td>3</td>\n",
       "      <td>154.0</td>\n",
       "      <td>112.046814</td>\n",
       "      <td>68.0</td>\n",
       "      <td>16.508696</td>\n",
       "      <td>0</td>\n",
       "    </tr>\n",
       "    <tr>\n",
       "      <th>3</th>\n",
       "      <td>4</td>\n",
       "      <td>245.0</td>\n",
       "      <td>192.766434</td>\n",
       "      <td>85.0</td>\n",
       "      <td>39.013126</td>\n",
       "      <td>0</td>\n",
       "    </tr>\n",
       "    <tr>\n",
       "      <th>4</th>\n",
       "      <td>5</td>\n",
       "      <td>255.0</td>\n",
       "      <td>162.704330</td>\n",
       "      <td>67.0</td>\n",
       "      <td>42.194302</td>\n",
       "      <td>0</td>\n",
       "    </tr>\n",
       "    <tr>\n",
       "      <th>...</th>\n",
       "      <td>...</td>\n",
       "      <td>...</td>\n",
       "      <td>...</td>\n",
       "      <td>...</td>\n",
       "      <td>...</td>\n",
       "      <td>...</td>\n",
       "    </tr>\n",
       "    <tr>\n",
       "      <th>1697</th>\n",
       "      <td>336</td>\n",
       "      <td>189.0</td>\n",
       "      <td>135.748642</td>\n",
       "      <td>61.0</td>\n",
       "      <td>30.539036</td>\n",
       "      <td>9</td>\n",
       "    </tr>\n",
       "    <tr>\n",
       "      <th>1698</th>\n",
       "      <td>337</td>\n",
       "      <td>173.0</td>\n",
       "      <td>116.306427</td>\n",
       "      <td>38.0</td>\n",
       "      <td>35.460144</td>\n",
       "      <td>9</td>\n",
       "    </tr>\n",
       "    <tr>\n",
       "      <th>1699</th>\n",
       "      <td>338</td>\n",
       "      <td>183.0</td>\n",
       "      <td>121.075317</td>\n",
       "      <td>39.0</td>\n",
       "      <td>38.362331</td>\n",
       "      <td>9</td>\n",
       "    </tr>\n",
       "    <tr>\n",
       "      <th>1700</th>\n",
       "      <td>339</td>\n",
       "      <td>133.0</td>\n",
       "      <td>98.173592</td>\n",
       "      <td>55.0</td>\n",
       "      <td>22.237257</td>\n",
       "      <td>9</td>\n",
       "    </tr>\n",
       "    <tr>\n",
       "      <th>1701</th>\n",
       "      <td>340</td>\n",
       "      <td>110.0</td>\n",
       "      <td>82.390472</td>\n",
       "      <td>48.0</td>\n",
       "      <td>16.561571</td>\n",
       "      <td>9</td>\n",
       "    </tr>\n",
       "  </tbody>\n",
       "</table>\n",
       "<p>1702 rows × 6 columns</p>\n",
       "</div>"
      ],
      "text/plain": [
       "      label  max_intensity  mean_intensity  min_intensity  \\\n",
       "0         1          255.0      223.347107           91.0   \n",
       "1         2           97.0       93.042557           70.0   \n",
       "2         3          154.0      112.046814           68.0   \n",
       "3         4          245.0      192.766434           85.0   \n",
       "4         5          255.0      162.704330           67.0   \n",
       "...     ...            ...             ...            ...   \n",
       "1697    336          189.0      135.748642           61.0   \n",
       "1698    337          173.0      116.306427           38.0   \n",
       "1699    338          183.0      121.075317           39.0   \n",
       "1700    339          133.0       98.173592           55.0   \n",
       "1701    340          110.0       82.390472           48.0   \n",
       "\n",
       "      standard_deviation_intensity  frame  \n",
       "0                        40.516113      0  \n",
       "1                         7.657447      0  \n",
       "2                        16.508696      0  \n",
       "3                        39.013126      0  \n",
       "4                        42.194302      0  \n",
       "...                            ...    ...  \n",
       "1697                     30.539036      9  \n",
       "1698                     35.460144      9  \n",
       "1699                     38.362331      9  \n",
       "1700                     22.237257      9  \n",
       "1701                     16.561571      9  \n",
       "\n",
       "[1702 rows x 6 columns]"
      ]
     },
     "execution_count": 18,
     "metadata": {},
     "output_type": "execute_result"
    }
   ],
   "source": [
    "stats = regionprops_table_all_frames(image_stack[:,np.newaxis,:,:], \n",
    "                             segmented_stack[:,np.newaxis,:,:],\n",
    "                             size=False,\n",
    "                             intensity=True)\n",
    "pd.DataFrame(stats)"
   ]
  },
  {
   "cell_type": "markdown",
   "id": "de9c5ce2-fc5d-496e-99a4-69b24ec80a09",
   "metadata": {},
   "source": [
    "You could also use `label_statistics_in_all_frames` from [napari-simpleitk-image-processing](https://github.com/haesleinhuepf/napari-simpleitk-image-processing) which provides some additional intensity-based parameters:"
   ]
  },
  {
   "cell_type": "code",
   "execution_count": 19,
   "id": "01504f20-01cb-42b0-ab95-5c5106c0bba7",
   "metadata": {
    "tags": []
   },
   "outputs": [],
   "source": [
    "from napari_simpleitk_image_processing._simpleitk_image_processing import label_statistics_in_all_frames"
   ]
  },
  {
   "cell_type": "code",
   "execution_count": 20,
   "id": "a6533ef9-8689-47ce-adcb-49ed576a07ae",
   "metadata": {
    "tags": []
   },
   "outputs": [
    {
     "name": "stdout",
     "output_type": "stream",
     "text": [
      "analyzing frame 0\n",
      "analyzing frame 1\n",
      "analyzing frame 2\n",
      "analyzing frame 3\n",
      "analyzing frame 4\n",
      "analyzing frame 5\n",
      "analyzing frame 6\n",
      "analyzing frame 7\n",
      "analyzing frame 8\n",
      "analyzing frame 9\n"
     ]
    },
    {
     "data": {
      "text/html": [
       "<div>\n",
       "<style scoped>\n",
       "    .dataframe tbody tr th:only-of-type {\n",
       "        vertical-align: middle;\n",
       "    }\n",
       "\n",
       "    .dataframe tbody tr th {\n",
       "        vertical-align: top;\n",
       "    }\n",
       "\n",
       "    .dataframe thead th {\n",
       "        text-align: right;\n",
       "    }\n",
       "</style>\n",
       "<table border=\"1\" class=\"dataframe\">\n",
       "  <thead>\n",
       "    <tr style=\"text-align: right;\">\n",
       "      <th></th>\n",
       "      <th>label</th>\n",
       "      <th>maximum</th>\n",
       "      <th>mean</th>\n",
       "      <th>median</th>\n",
       "      <th>minimum</th>\n",
       "      <th>sigma</th>\n",
       "      <th>sum</th>\n",
       "      <th>variance</th>\n",
       "      <th>frame</th>\n",
       "    </tr>\n",
       "  </thead>\n",
       "  <tbody>\n",
       "    <tr>\n",
       "      <th>0</th>\n",
       "      <td>1</td>\n",
       "      <td>255.0</td>\n",
       "      <td>223.347113</td>\n",
       "      <td>248.525391</td>\n",
       "      <td>91.0</td>\n",
       "      <td>40.523332</td>\n",
       "      <td>626712.0</td>\n",
       "      <td>1642.140432</td>\n",
       "      <td>0</td>\n",
       "    </tr>\n",
       "    <tr>\n",
       "      <th>1</th>\n",
       "      <td>2</td>\n",
       "      <td>97.0</td>\n",
       "      <td>93.042553</td>\n",
       "      <td>97.119141</td>\n",
       "      <td>70.0</td>\n",
       "      <td>7.740232</td>\n",
       "      <td>4373.0</td>\n",
       "      <td>59.911193</td>\n",
       "      <td>0</td>\n",
       "    </tr>\n",
       "    <tr>\n",
       "      <th>2</th>\n",
       "      <td>3</td>\n",
       "      <td>154.0</td>\n",
       "      <td>112.046817</td>\n",
       "      <td>110.068359</td>\n",
       "      <td>68.0</td>\n",
       "      <td>16.513038</td>\n",
       "      <td>213001.0</td>\n",
       "      <td>272.680439</td>\n",
       "      <td>0</td>\n",
       "    </tr>\n",
       "    <tr>\n",
       "      <th>3</th>\n",
       "      <td>4</td>\n",
       "      <td>245.0</td>\n",
       "      <td>192.766438</td>\n",
       "      <td>201.708984</td>\n",
       "      <td>85.0</td>\n",
       "      <td>39.019508</td>\n",
       "      <td>589287.0</td>\n",
       "      <td>1522.522001</td>\n",
       "      <td>0</td>\n",
       "    </tr>\n",
       "    <tr>\n",
       "      <th>4</th>\n",
       "      <td>5</td>\n",
       "      <td>255.0</td>\n",
       "      <td>162.704329</td>\n",
       "      <td>162.861328</td>\n",
       "      <td>67.0</td>\n",
       "      <td>42.199321</td>\n",
       "      <td>684009.0</td>\n",
       "      <td>1780.782651</td>\n",
       "      <td>0</td>\n",
       "    </tr>\n",
       "    <tr>\n",
       "      <th>...</th>\n",
       "      <td>...</td>\n",
       "      <td>...</td>\n",
       "      <td>...</td>\n",
       "      <td>...</td>\n",
       "      <td>...</td>\n",
       "      <td>...</td>\n",
       "      <td>...</td>\n",
       "      <td>...</td>\n",
       "      <td>...</td>\n",
       "    </tr>\n",
       "    <tr>\n",
       "      <th>1697</th>\n",
       "      <td>336</td>\n",
       "      <td>189.0</td>\n",
       "      <td>135.748642</td>\n",
       "      <td>140.314453</td>\n",
       "      <td>61.0</td>\n",
       "      <td>30.544961</td>\n",
       "      <td>349960.0</td>\n",
       "      <td>932.994614</td>\n",
       "      <td>9</td>\n",
       "    </tr>\n",
       "    <tr>\n",
       "      <th>1698</th>\n",
       "      <td>337</td>\n",
       "      <td>173.0</td>\n",
       "      <td>116.306430</td>\n",
       "      <td>115.048828</td>\n",
       "      <td>38.0</td>\n",
       "      <td>35.472278</td>\n",
       "      <td>170040.0</td>\n",
       "      <td>1258.282491</td>\n",
       "      <td>9</td>\n",
       "    </tr>\n",
       "    <tr>\n",
       "      <th>1699</th>\n",
       "      <td>338</td>\n",
       "      <td>183.0</td>\n",
       "      <td>121.075317</td>\n",
       "      <td>123.169922</td>\n",
       "      <td>39.0</td>\n",
       "      <td>38.376643</td>\n",
       "      <td>162362.0</td>\n",
       "      <td>1472.766711</td>\n",
       "      <td>9</td>\n",
       "    </tr>\n",
       "    <tr>\n",
       "      <th>1700</th>\n",
       "      <td>339</td>\n",
       "      <td>133.0</td>\n",
       "      <td>98.173594</td>\n",
       "      <td>97.904297</td>\n",
       "      <td>55.0</td>\n",
       "      <td>22.264490</td>\n",
       "      <td>40153.0</td>\n",
       "      <td>495.707536</td>\n",
       "      <td>9</td>\n",
       "    </tr>\n",
       "    <tr>\n",
       "      <th>1701</th>\n",
       "      <td>340</td>\n",
       "      <td>110.0</td>\n",
       "      <td>82.390476</td>\n",
       "      <td>84.369141</td>\n",
       "      <td>48.0</td>\n",
       "      <td>16.601144</td>\n",
       "      <td>17302.0</td>\n",
       "      <td>275.597995</td>\n",
       "      <td>9</td>\n",
       "    </tr>\n",
       "  </tbody>\n",
       "</table>\n",
       "<p>1702 rows × 9 columns</p>\n",
       "</div>"
      ],
      "text/plain": [
       "      label  maximum        mean      median  minimum      sigma       sum  \\\n",
       "0         1    255.0  223.347113  248.525391     91.0  40.523332  626712.0   \n",
       "1         2     97.0   93.042553   97.119141     70.0   7.740232    4373.0   \n",
       "2         3    154.0  112.046817  110.068359     68.0  16.513038  213001.0   \n",
       "3         4    245.0  192.766438  201.708984     85.0  39.019508  589287.0   \n",
       "4         5    255.0  162.704329  162.861328     67.0  42.199321  684009.0   \n",
       "...     ...      ...         ...         ...      ...        ...       ...   \n",
       "1697    336    189.0  135.748642  140.314453     61.0  30.544961  349960.0   \n",
       "1698    337    173.0  116.306430  115.048828     38.0  35.472278  170040.0   \n",
       "1699    338    183.0  121.075317  123.169922     39.0  38.376643  162362.0   \n",
       "1700    339    133.0   98.173594   97.904297     55.0  22.264490   40153.0   \n",
       "1701    340    110.0   82.390476   84.369141     48.0  16.601144   17302.0   \n",
       "\n",
       "         variance  frame  \n",
       "0     1642.140432      0  \n",
       "1       59.911193      0  \n",
       "2      272.680439      0  \n",
       "3     1522.522001      0  \n",
       "4     1780.782651      0  \n",
       "...           ...    ...  \n",
       "1697   932.994614      9  \n",
       "1698  1258.282491      9  \n",
       "1699  1472.766711      9  \n",
       "1700   495.707536      9  \n",
       "1701   275.597995      9  \n",
       "\n",
       "[1702 rows x 9 columns]"
      ]
     },
     "execution_count": 20,
     "metadata": {},
     "output_type": "execute_result"
    }
   ],
   "source": [
    "stats = label_statistics_in_all_frames(image_stack[:,np.newaxis,:,:], \n",
    "                             segmented_stack[:,np.newaxis,:,:],\n",
    "                             size=False,\n",
    "                             intensity=True)\n",
    "pd.DataFrame(stats)"
   ]
  },
  {
   "cell_type": "markdown",
   "id": "88274090-8a4a-4b93-a3cd-38713b4fba08",
   "metadata": {},
   "source": [
    "If you are interested in the differences between the libraries, you can go to [feature_extraction](https://haesleinhuepf.github.io/BioImageAnalysisNotebooks/22_feature_extraction/readme.html)."
   ]
  }
 ],
 "metadata": {
  "kernelspec": {
   "display_name": "Python 3 (ipykernel)",
   "language": "python",
   "name": "python3"
  },
  "language_info": {
   "codemirror_mode": {
    "name": "ipython",
    "version": 3
   },
   "file_extension": ".py",
   "mimetype": "text/x-python",
   "name": "python",
   "nbconvert_exporter": "python",
   "pygments_lexer": "ipython3",
   "version": "3.9.16"
  },
  "widgets": {
   "application/vnd.jupyter.widget-state+json": {
    "state": {
     "0adadc1febc74ee9b4ab3e76133e737a": {
      "model_module": "@jupyter-widgets/controls",
      "model_module_version": "2.0.0",
      "model_name": "IntSliderModel",
      "state": {
       "behavior": "drag-tap",
       "continuous_update": false,
       "description": "Slice",
       "layout": "IPY_MODEL_ac9d202e660945be89d26398b328c24e",
       "max": 9,
       "style": "IPY_MODEL_4a94fbc1376e4c7eb1bfa274edb34bd5",
       "value": 5
      }
     },
     "0f0d0c5a9fd4480b907733aea60a5f16": {
      "model_module": "@jupyter-widgets/base",
      "model_module_version": "2.0.0",
      "model_name": "LayoutModel",
      "state": {}
     },
     "39deade014134de8b8194c02b154bc0d": {
      "model_module": "@jupyter-widgets/controls",
      "model_module_version": "2.0.0",
      "model_name": "IntSliderModel",
      "state": {
       "behavior": "drag-tap",
       "continuous_update": false,
       "description": "Curtain",
       "layout": "IPY_MODEL_44696c771d3941d19a68f5cbb900af36",
       "max": 1200,
       "style": "IPY_MODEL_60d2361f0372476a833fc7e657d1696f",
       "value": 600
      }
     },
     "42868ddc79f1405188e2b1b60a0848e4": {
      "model_module": "@jupyter-widgets/base",
      "model_module_version": "2.0.0",
      "model_name": "LayoutModel",
      "state": {}
     },
     "44696c771d3941d19a68f5cbb900af36": {
      "model_module": "@jupyter-widgets/base",
      "model_module_version": "2.0.0",
      "model_name": "LayoutModel",
      "state": {}
     },
     "4a94fbc1376e4c7eb1bfa274edb34bd5": {
      "model_module": "@jupyter-widgets/controls",
      "model_module_version": "2.0.0",
      "model_name": "SliderStyleModel",
      "state": {
       "description_width": ""
      }
     },
     "4bc226c1da7a407bb18f172f7b56fdef": {
      "model_module": "@jupyter-widgets/base",
      "model_module_version": "2.0.0",
      "model_name": "LayoutModel",
      "state": {}
     },
     "57c3717f3cdf4e03a63fbd01277ab6e3": {
      "model_module": "@jupyter-widgets/controls",
      "model_module_version": "2.0.0",
      "model_name": "HBoxModel",
      "state": {
       "children": [
        "IPY_MODEL_61a83da238434cf098d186a1b2854624"
       ],
       "layout": "IPY_MODEL_4bc226c1da7a407bb18f172f7b56fdef"
      }
     },
     "60d2361f0372476a833fc7e657d1696f": {
      "model_module": "@jupyter-widgets/controls",
      "model_module_version": "2.0.0",
      "model_name": "SliderStyleModel",
      "state": {
       "description_width": ""
      }
     },
     "61a83da238434cf098d186a1b2854624": {
      "model_module": "@jupyter-widgets/controls",
      "model_module_version": "2.0.0",
      "model_name": "VBoxModel",
      "state": {
       "children": [
        "IPY_MODEL_752db9f524dd451abd38e94bc106a6b2"
       ],
       "layout": "IPY_MODEL_42868ddc79f1405188e2b1b60a0848e4"
      }
     },
     "752db9f524dd451abd38e94bc106a6b2": {
      "model_module": "ipycanvas",
      "model_module_version": "^0.13",
      "model_name": "CanvasModel",
      "state": {
       "_canvas_manager": "IPY_MODEL_914574f33ece475b84f5a2b25596480f",
       "_model_module_version": "^0.13",
       "_view_module_version": "^0.13",
       "height": 360,
       "layout": "IPY_MODEL_0f0d0c5a9fd4480b907733aea60a5f16",
       "width": 360
      }
     },
     "914574f33ece475b84f5a2b25596480f": {
      "model_module": "ipycanvas",
      "model_module_version": "^0.13",
      "model_name": "CanvasManagerModel",
      "state": {
       "_model_module_version": "^0.13",
       "_view_module": null,
       "_view_module_version": ""
      }
     },
     "ac9d202e660945be89d26398b328c24e": {
      "model_module": "@jupyter-widgets/base",
      "model_module_version": "2.0.0",
      "model_name": "LayoutModel",
      "state": {}
     },
     "b1199bc3403c419bb809a0d9d76fb5c0": {
      "model_module": "@jupyter-widgets/base",
      "model_module_version": "2.0.0",
      "model_name": "LayoutModel",
      "state": {}
     },
     "e1066e7a30914eeda84cde1dad1b0e9e": {
      "model_module": "@jupyter-widgets/controls",
      "model_module_version": "2.0.0",
      "model_name": "VBoxModel",
      "state": {
       "children": [
        "IPY_MODEL_57c3717f3cdf4e03a63fbd01277ab6e3",
        "IPY_MODEL_0adadc1febc74ee9b4ab3e76133e737a",
        "IPY_MODEL_39deade014134de8b8194c02b154bc0d"
       ],
       "layout": "IPY_MODEL_b1199bc3403c419bb809a0d9d76fb5c0"
      }
     }
    },
    "version_major": 2,
    "version_minor": 0
   }
  }
 },
 "nbformat": 4,
 "nbformat_minor": 5
}
