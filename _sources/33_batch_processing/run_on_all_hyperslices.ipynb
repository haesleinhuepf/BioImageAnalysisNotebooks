{
 "cells": [
  {
   "cell_type": "code",
   "execution_count": 2,
   "id": "ece1d646",
   "metadata": {},
   "outputs": [],
   "source": [
    "import numpy as np\n",
    "from skimage.filters import gaussian"
   ]
  },
  {
   "cell_type": "code",
   "execution_count": 19,
   "id": "267a0e9a",
   "metadata": {},
   "outputs": [],
   "source": [
    "def blur(image, sigma=1):\n",
    "    if len(image.shape) > 3:\n",
    "        raise ValueError(\"image must havve < 4 dimensions.\")\n",
    "    print(\"blurring sigma =\", sigma)\n",
    "    return gaussian(image, sigma)"
   ]
  },
  {
   "cell_type": "code",
   "execution_count": 40,
   "id": "cae6c7ae",
   "metadata": {},
   "outputs": [],
   "source": [
    "image2d = np.asarray([\n",
    "    [1, 1, 1, 1, 1],\n",
    "    [1, 2, 1, 1, 1],\n",
    "    [1, 1, 1, 1, 1],\n",
    "    [1, 1, 1, 1, 1],\n",
    "    [1, 1, 1, 1, 1]\n",
    "])\n",
    "image3d = np.asarray([image2d, image2d, image2d])\n",
    "image4d = np.asarray([image3d, image3d, image3d, image3d])\n",
    "image5d = np.asarray([image4d, image4d, image4d, image4d, image4d])\n",
    "image6d = np.asarray([image5d, image5d, image5d, image5d, image5d, image5d])"
   ]
  },
  {
   "cell_type": "code",
   "execution_count": 41,
   "id": "fb854e14",
   "metadata": {},
   "outputs": [
    {
     "name": "stdout",
     "output_type": "stream",
     "text": [
      "(5, 5)\n",
      "(3, 5, 5)\n",
      "(4, 3, 5, 5)\n",
      "(5, 4, 3, 5, 5)\n",
      "(6, 5, 4, 3, 5, 5)\n"
     ]
    }
   ],
   "source": [
    "print(image2d.shape)\n",
    "print(image3d.shape)\n",
    "print(image4d.shape)\n",
    "print(image5d.shape)\n",
    "print(image6d.shape)"
   ]
  },
  {
   "cell_type": "code",
   "execution_count": 22,
   "id": "e7dd2d3a",
   "metadata": {},
   "outputs": [
    {
     "name": "stdout",
     "output_type": "stream",
     "text": [
      "blurring sigma = 1\n"
     ]
    }
   ],
   "source": [
    "res = blur(image2d)"
   ]
  },
  {
   "cell_type": "code",
   "execution_count": 23,
   "id": "10c6736d",
   "metadata": {},
   "outputs": [
    {
     "name": "stdout",
     "output_type": "stream",
     "text": [
      "blurring sigma = 1\n"
     ]
    }
   ],
   "source": [
    "res = blur(image3d)"
   ]
  },
  {
   "cell_type": "code",
   "execution_count": 24,
   "id": "4584e323",
   "metadata": {},
   "outputs": [
    {
     "ename": "ValueError",
     "evalue": "image must havve < 4 dimensions.",
     "output_type": "error",
     "traceback": [
      "\u001b[1;31m---------------------------------------------------------------------------\u001b[0m",
      "\u001b[1;31mValueError\u001b[0m                                Traceback (most recent call last)",
      "\u001b[1;32m~\\AppData\\Local\\Temp/ipykernel_16644/2954039322.py\u001b[0m in \u001b[0;36m<module>\u001b[1;34m\u001b[0m\n\u001b[1;32m----> 1\u001b[1;33m \u001b[0mres\u001b[0m \u001b[1;33m=\u001b[0m \u001b[0mblur\u001b[0m\u001b[1;33m(\u001b[0m\u001b[0mimage4d\u001b[0m\u001b[1;33m)\u001b[0m\u001b[1;33m\u001b[0m\u001b[1;33m\u001b[0m\u001b[0m\n\u001b[0m",
      "\u001b[1;32m~\\AppData\\Local\\Temp/ipykernel_16644/3584614194.py\u001b[0m in \u001b[0;36mblur\u001b[1;34m(image, sigma)\u001b[0m\n\u001b[0;32m      1\u001b[0m \u001b[1;32mdef\u001b[0m \u001b[0mblur\u001b[0m\u001b[1;33m(\u001b[0m\u001b[0mimage\u001b[0m\u001b[1;33m,\u001b[0m \u001b[0msigma\u001b[0m\u001b[1;33m=\u001b[0m\u001b[1;36m1\u001b[0m\u001b[1;33m)\u001b[0m\u001b[1;33m:\u001b[0m\u001b[1;33m\u001b[0m\u001b[1;33m\u001b[0m\u001b[0m\n\u001b[0;32m      2\u001b[0m     \u001b[1;32mif\u001b[0m \u001b[0mlen\u001b[0m\u001b[1;33m(\u001b[0m\u001b[0mimage\u001b[0m\u001b[1;33m.\u001b[0m\u001b[0mshape\u001b[0m\u001b[1;33m)\u001b[0m \u001b[1;33m>\u001b[0m \u001b[1;36m3\u001b[0m\u001b[1;33m:\u001b[0m\u001b[1;33m\u001b[0m\u001b[1;33m\u001b[0m\u001b[0m\n\u001b[1;32m----> 3\u001b[1;33m         \u001b[1;32mraise\u001b[0m \u001b[0mValueError\u001b[0m\u001b[1;33m(\u001b[0m\u001b[1;34m\"image must havve < 4 dimensions.\"\u001b[0m\u001b[1;33m)\u001b[0m\u001b[1;33m\u001b[0m\u001b[1;33m\u001b[0m\u001b[0m\n\u001b[0m\u001b[0;32m      4\u001b[0m     \u001b[0mprint\u001b[0m\u001b[1;33m(\u001b[0m\u001b[1;34m\"blurring sigma =\"\u001b[0m\u001b[1;33m,\u001b[0m \u001b[0msigma\u001b[0m\u001b[1;33m)\u001b[0m\u001b[1;33m\u001b[0m\u001b[1;33m\u001b[0m\u001b[0m\n\u001b[0;32m      5\u001b[0m     \u001b[1;32mreturn\u001b[0m \u001b[0mgaussian\u001b[0m\u001b[1;33m(\u001b[0m\u001b[0mimage\u001b[0m\u001b[1;33m,\u001b[0m \u001b[0msigma\u001b[0m\u001b[1;33m)\u001b[0m\u001b[1;33m\u001b[0m\u001b[1;33m\u001b[0m\u001b[0m\n",
      "\u001b[1;31mValueError\u001b[0m: image must havve < 4 dimensions."
     ]
    }
   ],
   "source": [
    "res = blur(image4d)"
   ]
  },
  {
   "cell_type": "code",
   "execution_count": 32,
   "id": "4be47c38",
   "metadata": {},
   "outputs": [],
   "source": [
    "def run_on_all_hyperslices(image, operation, *args, **kwargs):\n",
    "    result = np.copy(image)\n",
    "    for i in range(image.shape[0]):\n",
    "        result[i] = operation(image[i], *args, **kwargs)\n",
    "    return result"
   ]
  },
  {
   "cell_type": "code",
   "execution_count": 33,
   "id": "c66bd68e",
   "metadata": {},
   "outputs": [
    {
     "name": "stdout",
     "output_type": "stream",
     "text": [
      "blurring sigma = 2\n",
      "blurring sigma = 2\n",
      "blurring sigma = 2\n",
      "blurring sigma = 2\n"
     ]
    }
   ],
   "source": [
    "res = run_on_all_hyperslices(image4d, blur, sigma=2)"
   ]
  },
  {
   "cell_type": "code",
   "execution_count": 34,
   "id": "87452ecb",
   "metadata": {},
   "outputs": [
    {
     "ename": "ValueError",
     "evalue": "image must havve < 4 dimensions.",
     "output_type": "error",
     "traceback": [
      "\u001b[1;31m---------------------------------------------------------------------------\u001b[0m",
      "\u001b[1;31mValueError\u001b[0m                                Traceback (most recent call last)",
      "\u001b[1;32m~\\AppData\\Local\\Temp/ipykernel_16644/3132670590.py\u001b[0m in \u001b[0;36m<module>\u001b[1;34m\u001b[0m\n\u001b[1;32m----> 1\u001b[1;33m \u001b[0mres\u001b[0m \u001b[1;33m=\u001b[0m \u001b[0mrun_on_all_hyperslices\u001b[0m\u001b[1;33m(\u001b[0m\u001b[0mimage5d\u001b[0m\u001b[1;33m,\u001b[0m \u001b[0mblur\u001b[0m\u001b[1;33m,\u001b[0m \u001b[0msigma\u001b[0m\u001b[1;33m=\u001b[0m\u001b[1;36m2\u001b[0m\u001b[1;33m)\u001b[0m\u001b[1;33m\u001b[0m\u001b[1;33m\u001b[0m\u001b[0m\n\u001b[0m",
      "\u001b[1;32m~\\AppData\\Local\\Temp/ipykernel_16644/2177098049.py\u001b[0m in \u001b[0;36mrun_on_all_hyperslices\u001b[1;34m(image, operation, *args, **kwargs)\u001b[0m\n\u001b[0;32m      2\u001b[0m     \u001b[0mresult\u001b[0m \u001b[1;33m=\u001b[0m \u001b[0mnp\u001b[0m\u001b[1;33m.\u001b[0m\u001b[0mcopy\u001b[0m\u001b[1;33m(\u001b[0m\u001b[0mimage\u001b[0m\u001b[1;33m)\u001b[0m\u001b[1;33m\u001b[0m\u001b[1;33m\u001b[0m\u001b[0m\n\u001b[0;32m      3\u001b[0m     \u001b[1;32mfor\u001b[0m \u001b[0mi\u001b[0m \u001b[1;32min\u001b[0m \u001b[0mrange\u001b[0m\u001b[1;33m(\u001b[0m\u001b[0mimage\u001b[0m\u001b[1;33m.\u001b[0m\u001b[0mshape\u001b[0m\u001b[1;33m[\u001b[0m\u001b[1;36m0\u001b[0m\u001b[1;33m]\u001b[0m\u001b[1;33m)\u001b[0m\u001b[1;33m:\u001b[0m\u001b[1;33m\u001b[0m\u001b[1;33m\u001b[0m\u001b[0m\n\u001b[1;32m----> 4\u001b[1;33m         \u001b[0mresult\u001b[0m\u001b[1;33m[\u001b[0m\u001b[0mi\u001b[0m\u001b[1;33m]\u001b[0m \u001b[1;33m=\u001b[0m \u001b[0moperation\u001b[0m\u001b[1;33m(\u001b[0m\u001b[0mimage\u001b[0m\u001b[1;33m[\u001b[0m\u001b[0mi\u001b[0m\u001b[1;33m]\u001b[0m\u001b[1;33m,\u001b[0m \u001b[1;33m*\u001b[0m\u001b[0margs\u001b[0m\u001b[1;33m,\u001b[0m \u001b[1;33m**\u001b[0m\u001b[0mkwargs\u001b[0m\u001b[1;33m)\u001b[0m\u001b[1;33m\u001b[0m\u001b[1;33m\u001b[0m\u001b[0m\n\u001b[0m\u001b[0;32m      5\u001b[0m     \u001b[1;32mreturn\u001b[0m \u001b[0mresult\u001b[0m\u001b[1;33m\u001b[0m\u001b[1;33m\u001b[0m\u001b[0m\n",
      "\u001b[1;32m~\\AppData\\Local\\Temp/ipykernel_16644/3584614194.py\u001b[0m in \u001b[0;36mblur\u001b[1;34m(image, sigma)\u001b[0m\n\u001b[0;32m      1\u001b[0m \u001b[1;32mdef\u001b[0m \u001b[0mblur\u001b[0m\u001b[1;33m(\u001b[0m\u001b[0mimage\u001b[0m\u001b[1;33m,\u001b[0m \u001b[0msigma\u001b[0m\u001b[1;33m=\u001b[0m\u001b[1;36m1\u001b[0m\u001b[1;33m)\u001b[0m\u001b[1;33m:\u001b[0m\u001b[1;33m\u001b[0m\u001b[1;33m\u001b[0m\u001b[0m\n\u001b[0;32m      2\u001b[0m     \u001b[1;32mif\u001b[0m \u001b[0mlen\u001b[0m\u001b[1;33m(\u001b[0m\u001b[0mimage\u001b[0m\u001b[1;33m.\u001b[0m\u001b[0mshape\u001b[0m\u001b[1;33m)\u001b[0m \u001b[1;33m>\u001b[0m \u001b[1;36m3\u001b[0m\u001b[1;33m:\u001b[0m\u001b[1;33m\u001b[0m\u001b[1;33m\u001b[0m\u001b[0m\n\u001b[1;32m----> 3\u001b[1;33m         \u001b[1;32mraise\u001b[0m \u001b[0mValueError\u001b[0m\u001b[1;33m(\u001b[0m\u001b[1;34m\"image must havve < 4 dimensions.\"\u001b[0m\u001b[1;33m)\u001b[0m\u001b[1;33m\u001b[0m\u001b[1;33m\u001b[0m\u001b[0m\n\u001b[0m\u001b[0;32m      4\u001b[0m     \u001b[0mprint\u001b[0m\u001b[1;33m(\u001b[0m\u001b[1;34m\"blurring sigma =\"\u001b[0m\u001b[1;33m,\u001b[0m \u001b[0msigma\u001b[0m\u001b[1;33m)\u001b[0m\u001b[1;33m\u001b[0m\u001b[1;33m\u001b[0m\u001b[0m\n\u001b[0;32m      5\u001b[0m     \u001b[1;32mreturn\u001b[0m \u001b[0mgaussian\u001b[0m\u001b[1;33m(\u001b[0m\u001b[0mimage\u001b[0m\u001b[1;33m,\u001b[0m \u001b[0msigma\u001b[0m\u001b[1;33m)\u001b[0m\u001b[1;33m\u001b[0m\u001b[1;33m\u001b[0m\u001b[0m\n",
      "\u001b[1;31mValueError\u001b[0m: image must havve < 4 dimensions."
     ]
    }
   ],
   "source": [
    "res = run_on_all_hyperslices(image5d, blur, sigma=2)"
   ]
  },
  {
   "cell_type": "code",
   "execution_count": 38,
   "id": "1e1b64fe",
   "metadata": {},
   "outputs": [
    {
     "name": "stdout",
     "output_type": "stream",
     "text": [
      "blurring sigma = 2\n",
      "blurring sigma = 2\n",
      "blurring sigma = 2\n",
      "blurring sigma = 2\n",
      "blurring sigma = 2\n",
      "blurring sigma = 2\n",
      "blurring sigma = 2\n",
      "blurring sigma = 2\n",
      "blurring sigma = 2\n",
      "blurring sigma = 2\n",
      "blurring sigma = 2\n",
      "blurring sigma = 2\n",
      "blurring sigma = 2\n",
      "blurring sigma = 2\n",
      "blurring sigma = 2\n",
      "blurring sigma = 2\n",
      "blurring sigma = 2\n",
      "blurring sigma = 2\n",
      "blurring sigma = 2\n",
      "blurring sigma = 2\n"
     ]
    }
   ],
   "source": [
    "res = run_on_all_hyperslices(image5d, run_on_all_hyperslices, blur, 2)"
   ]
  },
  {
   "cell_type": "code",
   "execution_count": 43,
   "id": "8ffb30da",
   "metadata": {},
   "outputs": [
    {
     "ename": "ValueError",
     "evalue": "image must havve < 4 dimensions.",
     "output_type": "error",
     "traceback": [
      "\u001b[1;31m---------------------------------------------------------------------------\u001b[0m",
      "\u001b[1;31mValueError\u001b[0m                                Traceback (most recent call last)",
      "\u001b[1;32m~\\AppData\\Local\\Temp/ipykernel_16644/492889405.py\u001b[0m in \u001b[0;36m<module>\u001b[1;34m\u001b[0m\n\u001b[1;32m----> 1\u001b[1;33m \u001b[0mres\u001b[0m \u001b[1;33m=\u001b[0m \u001b[0mrun_on_all_hyperslices\u001b[0m\u001b[1;33m(\u001b[0m\u001b[0mimage6d\u001b[0m\u001b[1;33m,\u001b[0m \u001b[0mrun_on_all_hyperslices\u001b[0m\u001b[1;33m,\u001b[0m \u001b[0mblur\u001b[0m\u001b[1;33m,\u001b[0m \u001b[1;36m2\u001b[0m\u001b[1;33m)\u001b[0m\u001b[1;33m\u001b[0m\u001b[1;33m\u001b[0m\u001b[0m\n\u001b[0m",
      "\u001b[1;32m~\\AppData\\Local\\Temp/ipykernel_16644/2177098049.py\u001b[0m in \u001b[0;36mrun_on_all_hyperslices\u001b[1;34m(image, operation, *args, **kwargs)\u001b[0m\n\u001b[0;32m      2\u001b[0m     \u001b[0mresult\u001b[0m \u001b[1;33m=\u001b[0m \u001b[0mnp\u001b[0m\u001b[1;33m.\u001b[0m\u001b[0mcopy\u001b[0m\u001b[1;33m(\u001b[0m\u001b[0mimage\u001b[0m\u001b[1;33m)\u001b[0m\u001b[1;33m\u001b[0m\u001b[1;33m\u001b[0m\u001b[0m\n\u001b[0;32m      3\u001b[0m     \u001b[1;32mfor\u001b[0m \u001b[0mi\u001b[0m \u001b[1;32min\u001b[0m \u001b[0mrange\u001b[0m\u001b[1;33m(\u001b[0m\u001b[0mimage\u001b[0m\u001b[1;33m.\u001b[0m\u001b[0mshape\u001b[0m\u001b[1;33m[\u001b[0m\u001b[1;36m0\u001b[0m\u001b[1;33m]\u001b[0m\u001b[1;33m)\u001b[0m\u001b[1;33m:\u001b[0m\u001b[1;33m\u001b[0m\u001b[1;33m\u001b[0m\u001b[0m\n\u001b[1;32m----> 4\u001b[1;33m         \u001b[0mresult\u001b[0m\u001b[1;33m[\u001b[0m\u001b[0mi\u001b[0m\u001b[1;33m]\u001b[0m \u001b[1;33m=\u001b[0m \u001b[0moperation\u001b[0m\u001b[1;33m(\u001b[0m\u001b[0mimage\u001b[0m\u001b[1;33m[\u001b[0m\u001b[0mi\u001b[0m\u001b[1;33m]\u001b[0m\u001b[1;33m,\u001b[0m \u001b[1;33m*\u001b[0m\u001b[0margs\u001b[0m\u001b[1;33m,\u001b[0m \u001b[1;33m**\u001b[0m\u001b[0mkwargs\u001b[0m\u001b[1;33m)\u001b[0m\u001b[1;33m\u001b[0m\u001b[1;33m\u001b[0m\u001b[0m\n\u001b[0m\u001b[0;32m      5\u001b[0m     \u001b[1;32mreturn\u001b[0m \u001b[0mresult\u001b[0m\u001b[1;33m\u001b[0m\u001b[1;33m\u001b[0m\u001b[0m\n",
      "\u001b[1;32m~\\AppData\\Local\\Temp/ipykernel_16644/2177098049.py\u001b[0m in \u001b[0;36mrun_on_all_hyperslices\u001b[1;34m(image, operation, *args, **kwargs)\u001b[0m\n\u001b[0;32m      2\u001b[0m     \u001b[0mresult\u001b[0m \u001b[1;33m=\u001b[0m \u001b[0mnp\u001b[0m\u001b[1;33m.\u001b[0m\u001b[0mcopy\u001b[0m\u001b[1;33m(\u001b[0m\u001b[0mimage\u001b[0m\u001b[1;33m)\u001b[0m\u001b[1;33m\u001b[0m\u001b[1;33m\u001b[0m\u001b[0m\n\u001b[0;32m      3\u001b[0m     \u001b[1;32mfor\u001b[0m \u001b[0mi\u001b[0m \u001b[1;32min\u001b[0m \u001b[0mrange\u001b[0m\u001b[1;33m(\u001b[0m\u001b[0mimage\u001b[0m\u001b[1;33m.\u001b[0m\u001b[0mshape\u001b[0m\u001b[1;33m[\u001b[0m\u001b[1;36m0\u001b[0m\u001b[1;33m]\u001b[0m\u001b[1;33m)\u001b[0m\u001b[1;33m:\u001b[0m\u001b[1;33m\u001b[0m\u001b[1;33m\u001b[0m\u001b[0m\n\u001b[1;32m----> 4\u001b[1;33m         \u001b[0mresult\u001b[0m\u001b[1;33m[\u001b[0m\u001b[0mi\u001b[0m\u001b[1;33m]\u001b[0m \u001b[1;33m=\u001b[0m \u001b[0moperation\u001b[0m\u001b[1;33m(\u001b[0m\u001b[0mimage\u001b[0m\u001b[1;33m[\u001b[0m\u001b[0mi\u001b[0m\u001b[1;33m]\u001b[0m\u001b[1;33m,\u001b[0m \u001b[1;33m*\u001b[0m\u001b[0margs\u001b[0m\u001b[1;33m,\u001b[0m \u001b[1;33m**\u001b[0m\u001b[0mkwargs\u001b[0m\u001b[1;33m)\u001b[0m\u001b[1;33m\u001b[0m\u001b[1;33m\u001b[0m\u001b[0m\n\u001b[0m\u001b[0;32m      5\u001b[0m     \u001b[1;32mreturn\u001b[0m \u001b[0mresult\u001b[0m\u001b[1;33m\u001b[0m\u001b[1;33m\u001b[0m\u001b[0m\n",
      "\u001b[1;32m~\\AppData\\Local\\Temp/ipykernel_16644/3584614194.py\u001b[0m in \u001b[0;36mblur\u001b[1;34m(image, sigma)\u001b[0m\n\u001b[0;32m      1\u001b[0m \u001b[1;32mdef\u001b[0m \u001b[0mblur\u001b[0m\u001b[1;33m(\u001b[0m\u001b[0mimage\u001b[0m\u001b[1;33m,\u001b[0m \u001b[0msigma\u001b[0m\u001b[1;33m=\u001b[0m\u001b[1;36m1\u001b[0m\u001b[1;33m)\u001b[0m\u001b[1;33m:\u001b[0m\u001b[1;33m\u001b[0m\u001b[1;33m\u001b[0m\u001b[0m\n\u001b[0;32m      2\u001b[0m     \u001b[1;32mif\u001b[0m \u001b[0mlen\u001b[0m\u001b[1;33m(\u001b[0m\u001b[0mimage\u001b[0m\u001b[1;33m.\u001b[0m\u001b[0mshape\u001b[0m\u001b[1;33m)\u001b[0m \u001b[1;33m>\u001b[0m \u001b[1;36m3\u001b[0m\u001b[1;33m:\u001b[0m\u001b[1;33m\u001b[0m\u001b[1;33m\u001b[0m\u001b[0m\n\u001b[1;32m----> 3\u001b[1;33m         \u001b[1;32mraise\u001b[0m \u001b[0mValueError\u001b[0m\u001b[1;33m(\u001b[0m\u001b[1;34m\"image must havve < 4 dimensions.\"\u001b[0m\u001b[1;33m)\u001b[0m\u001b[1;33m\u001b[0m\u001b[1;33m\u001b[0m\u001b[0m\n\u001b[0m\u001b[0;32m      4\u001b[0m     \u001b[0mprint\u001b[0m\u001b[1;33m(\u001b[0m\u001b[1;34m\"blurring sigma =\"\u001b[0m\u001b[1;33m,\u001b[0m \u001b[0msigma\u001b[0m\u001b[1;33m)\u001b[0m\u001b[1;33m\u001b[0m\u001b[1;33m\u001b[0m\u001b[0m\n\u001b[0;32m      5\u001b[0m     \u001b[1;32mreturn\u001b[0m \u001b[0mgaussian\u001b[0m\u001b[1;33m(\u001b[0m\u001b[0mimage\u001b[0m\u001b[1;33m,\u001b[0m \u001b[0msigma\u001b[0m\u001b[1;33m)\u001b[0m\u001b[1;33m\u001b[0m\u001b[1;33m\u001b[0m\u001b[0m\n",
      "\u001b[1;31mValueError\u001b[0m: image must havve < 4 dimensions."
     ]
    }
   ],
   "source": [
    "res = run_on_all_hyperslices(image6d, run_on_all_hyperslices, blur, 2)"
   ]
  },
  {
   "cell_type": "code",
   "execution_count": 44,
   "id": "53fa89b6",
   "metadata": {},
   "outputs": [
    {
     "name": "stdout",
     "output_type": "stream",
     "text": [
      "blurring sigma = 2\n",
      "blurring sigma = 2\n",
      "blurring sigma = 2\n",
      "blurring sigma = 2\n",
      "blurring sigma = 2\n",
      "blurring sigma = 2\n",
      "blurring sigma = 2\n",
      "blurring sigma = 2\n",
      "blurring sigma = 2\n",
      "blurring sigma = 2\n",
      "blurring sigma = 2\n",
      "blurring sigma = 2\n",
      "blurring sigma = 2\n",
      "blurring sigma = 2\n",
      "blurring sigma = 2\n",
      "blurring sigma = 2\n",
      "blurring sigma = 2\n",
      "blurring sigma = 2\n",
      "blurring sigma = 2\n",
      "blurring sigma = 2\n",
      "blurring sigma = 2\n",
      "blurring sigma = 2\n",
      "blurring sigma = 2\n",
      "blurring sigma = 2\n",
      "blurring sigma = 2\n",
      "blurring sigma = 2\n",
      "blurring sigma = 2\n",
      "blurring sigma = 2\n",
      "blurring sigma = 2\n",
      "blurring sigma = 2\n",
      "blurring sigma = 2\n",
      "blurring sigma = 2\n",
      "blurring sigma = 2\n",
      "blurring sigma = 2\n",
      "blurring sigma = 2\n",
      "blurring sigma = 2\n",
      "blurring sigma = 2\n",
      "blurring sigma = 2\n",
      "blurring sigma = 2\n",
      "blurring sigma = 2\n",
      "blurring sigma = 2\n",
      "blurring sigma = 2\n",
      "blurring sigma = 2\n",
      "blurring sigma = 2\n",
      "blurring sigma = 2\n",
      "blurring sigma = 2\n",
      "blurring sigma = 2\n",
      "blurring sigma = 2\n",
      "blurring sigma = 2\n",
      "blurring sigma = 2\n",
      "blurring sigma = 2\n",
      "blurring sigma = 2\n",
      "blurring sigma = 2\n",
      "blurring sigma = 2\n",
      "blurring sigma = 2\n",
      "blurring sigma = 2\n",
      "blurring sigma = 2\n",
      "blurring sigma = 2\n",
      "blurring sigma = 2\n",
      "blurring sigma = 2\n",
      "blurring sigma = 2\n",
      "blurring sigma = 2\n",
      "blurring sigma = 2\n",
      "blurring sigma = 2\n",
      "blurring sigma = 2\n",
      "blurring sigma = 2\n",
      "blurring sigma = 2\n",
      "blurring sigma = 2\n",
      "blurring sigma = 2\n",
      "blurring sigma = 2\n",
      "blurring sigma = 2\n",
      "blurring sigma = 2\n",
      "blurring sigma = 2\n",
      "blurring sigma = 2\n",
      "blurring sigma = 2\n",
      "blurring sigma = 2\n",
      "blurring sigma = 2\n",
      "blurring sigma = 2\n",
      "blurring sigma = 2\n",
      "blurring sigma = 2\n",
      "blurring sigma = 2\n",
      "blurring sigma = 2\n",
      "blurring sigma = 2\n",
      "blurring sigma = 2\n",
      "blurring sigma = 2\n",
      "blurring sigma = 2\n",
      "blurring sigma = 2\n",
      "blurring sigma = 2\n",
      "blurring sigma = 2\n",
      "blurring sigma = 2\n",
      "blurring sigma = 2\n",
      "blurring sigma = 2\n",
      "blurring sigma = 2\n",
      "blurring sigma = 2\n",
      "blurring sigma = 2\n",
      "blurring sigma = 2\n",
      "blurring sigma = 2\n",
      "blurring sigma = 2\n",
      "blurring sigma = 2\n",
      "blurring sigma = 2\n",
      "blurring sigma = 2\n",
      "blurring sigma = 2\n",
      "blurring sigma = 2\n",
      "blurring sigma = 2\n",
      "blurring sigma = 2\n",
      "blurring sigma = 2\n",
      "blurring sigma = 2\n",
      "blurring sigma = 2\n",
      "blurring sigma = 2\n",
      "blurring sigma = 2\n",
      "blurring sigma = 2\n",
      "blurring sigma = 2\n",
      "blurring sigma = 2\n",
      "blurring sigma = 2\n",
      "blurring sigma = 2\n",
      "blurring sigma = 2\n",
      "blurring sigma = 2\n",
      "blurring sigma = 2\n",
      "blurring sigma = 2\n",
      "blurring sigma = 2\n"
     ]
    }
   ],
   "source": [
    "res = run_on_all_hyperslices(image6d, run_on_all_hyperslices, run_on_all_hyperslices, blur, 2)"
   ]
  },
  {
   "cell_type": "code",
   "execution_count": 50,
   "id": "bd37cb0e",
   "metadata": {},
   "outputs": [],
   "source": [
    "def run_on_all_hyperslices_recursive(image, operation, *args, **kwargs):\n",
    "    result = np.copy(image)\n",
    "    for i in range(image.shape[0]):\n",
    "        if len(image[i].shape) == 3:\n",
    "            result[i] = operation(image[i], *args, **kwargs)\n",
    "        else:\n",
    "            result[i] = run_on_all_hyperslices_recursive(image[i], operation, *args, **kwargs)\n",
    "    return result"
   ]
  },
  {
   "cell_type": "code",
   "execution_count": 51,
   "id": "76dbfdea",
   "metadata": {},
   "outputs": [
    {
     "name": "stdout",
     "output_type": "stream",
     "text": [
      "blurring sigma = 3\n",
      "blurring sigma = 3\n",
      "blurring sigma = 3\n",
      "blurring sigma = 3\n"
     ]
    }
   ],
   "source": [
    "res = run_on_all_hyperslices_recursive(image4d, blur, sigma=3)"
   ]
  },
  {
   "cell_type": "code",
   "execution_count": 52,
   "id": "49b311d9",
   "metadata": {},
   "outputs": [
    {
     "name": "stdout",
     "output_type": "stream",
     "text": [
      "blurring sigma = 3\n",
      "blurring sigma = 3\n",
      "blurring sigma = 3\n",
      "blurring sigma = 3\n",
      "blurring sigma = 3\n",
      "blurring sigma = 3\n",
      "blurring sigma = 3\n",
      "blurring sigma = 3\n",
      "blurring sigma = 3\n",
      "blurring sigma = 3\n",
      "blurring sigma = 3\n",
      "blurring sigma = 3\n",
      "blurring sigma = 3\n",
      "blurring sigma = 3\n",
      "blurring sigma = 3\n",
      "blurring sigma = 3\n",
      "blurring sigma = 3\n",
      "blurring sigma = 3\n",
      "blurring sigma = 3\n",
      "blurring sigma = 3\n"
     ]
    }
   ],
   "source": [
    "res = run_on_all_hyperslices_recursive(image5d, blur, sigma=3)"
   ]
  },
  {
   "cell_type": "code",
   "execution_count": 53,
   "id": "9cb05fe3",
   "metadata": {},
   "outputs": [
    {
     "name": "stdout",
     "output_type": "stream",
     "text": [
      "blurring sigma = 3\n",
      "blurring sigma = 3\n",
      "blurring sigma = 3\n",
      "blurring sigma = 3\n",
      "blurring sigma = 3\n",
      "blurring sigma = 3\n",
      "blurring sigma = 3\n",
      "blurring sigma = 3\n",
      "blurring sigma = 3\n",
      "blurring sigma = 3\n",
      "blurring sigma = 3\n",
      "blurring sigma = 3\n",
      "blurring sigma = 3\n",
      "blurring sigma = 3\n",
      "blurring sigma = 3\n",
      "blurring sigma = 3\n",
      "blurring sigma = 3\n",
      "blurring sigma = 3\n",
      "blurring sigma = 3\n",
      "blurring sigma = 3\n",
      "blurring sigma = 3\n",
      "blurring sigma = 3\n",
      "blurring sigma = 3\n",
      "blurring sigma = 3\n",
      "blurring sigma = 3\n",
      "blurring sigma = 3\n",
      "blurring sigma = 3\n",
      "blurring sigma = 3\n",
      "blurring sigma = 3\n",
      "blurring sigma = 3\n",
      "blurring sigma = 3\n",
      "blurring sigma = 3\n",
      "blurring sigma = 3\n",
      "blurring sigma = 3\n",
      "blurring sigma = 3\n",
      "blurring sigma = 3\n",
      "blurring sigma = 3\n",
      "blurring sigma = 3\n",
      "blurring sigma = 3\n",
      "blurring sigma = 3\n",
      "blurring sigma = 3\n",
      "blurring sigma = 3\n",
      "blurring sigma = 3\n",
      "blurring sigma = 3\n",
      "blurring sigma = 3\n",
      "blurring sigma = 3\n",
      "blurring sigma = 3\n",
      "blurring sigma = 3\n",
      "blurring sigma = 3\n",
      "blurring sigma = 3\n",
      "blurring sigma = 3\n",
      "blurring sigma = 3\n",
      "blurring sigma = 3\n",
      "blurring sigma = 3\n",
      "blurring sigma = 3\n",
      "blurring sigma = 3\n",
      "blurring sigma = 3\n",
      "blurring sigma = 3\n",
      "blurring sigma = 3\n",
      "blurring sigma = 3\n",
      "blurring sigma = 3\n",
      "blurring sigma = 3\n",
      "blurring sigma = 3\n",
      "blurring sigma = 3\n",
      "blurring sigma = 3\n",
      "blurring sigma = 3\n",
      "blurring sigma = 3\n",
      "blurring sigma = 3\n",
      "blurring sigma = 3\n",
      "blurring sigma = 3\n",
      "blurring sigma = 3\n",
      "blurring sigma = 3\n",
      "blurring sigma = 3\n",
      "blurring sigma = 3\n",
      "blurring sigma = 3\n",
      "blurring sigma = 3\n",
      "blurring sigma = 3\n",
      "blurring sigma = 3\n",
      "blurring sigma = 3\n",
      "blurring sigma = 3\n",
      "blurring sigma = 3\n",
      "blurring sigma = 3\n",
      "blurring sigma = 3\n",
      "blurring sigma = 3\n",
      "blurring sigma = 3\n",
      "blurring sigma = 3\n",
      "blurring sigma = 3\n",
      "blurring sigma = 3\n",
      "blurring sigma = 3\n",
      "blurring sigma = 3\n",
      "blurring sigma = 3\n",
      "blurring sigma = 3\n",
      "blurring sigma = 3\n",
      "blurring sigma = 3\n",
      "blurring sigma = 3\n",
      "blurring sigma = 3\n",
      "blurring sigma = 3\n",
      "blurring sigma = 3\n",
      "blurring sigma = 3\n",
      "blurring sigma = 3\n",
      "blurring sigma = 3\n",
      "blurring sigma = 3\n",
      "blurring sigma = 3\n",
      "blurring sigma = 3\n",
      "blurring sigma = 3\n",
      "blurring sigma = 3\n",
      "blurring sigma = 3\n",
      "blurring sigma = 3\n",
      "blurring sigma = 3\n",
      "blurring sigma = 3\n",
      "blurring sigma = 3\n",
      "blurring sigma = 3\n",
      "blurring sigma = 3\n",
      "blurring sigma = 3\n",
      "blurring sigma = 3\n",
      "blurring sigma = 3\n",
      "blurring sigma = 3\n",
      "blurring sigma = 3\n",
      "blurring sigma = 3\n",
      "blurring sigma = 3\n"
     ]
    }
   ],
   "source": [
    "res = run_on_all_hyperslices_recursive(image6d, blur, sigma=3)"
   ]
  },
  {
   "cell_type": "code",
   "execution_count": null,
   "id": "36a933f1",
   "metadata": {},
   "outputs": [],
   "source": []
  }
 ],
 "metadata": {
  "kernelspec": {
   "display_name": "Python 3 (ipykernel)",
   "language": "python",
   "name": "python3"
  },
  "language_info": {
   "codemirror_mode": {
    "name": "ipython",
    "version": 3
   },
   "file_extension": ".py",
   "mimetype": "text/x-python",
   "name": "python",
   "nbconvert_exporter": "python",
   "pygments_lexer": "ipython3",
   "version": "3.9.0"
  }
 },
 "nbformat": 4,
 "nbformat_minor": 5
}
