{
 "cells": [
  {
   "cell_type": "markdown",
   "id": "a167c16f-6769-4425-9244-38c30aaa4d16",
   "metadata": {},
   "source": [
    "# Quantitative labeling comparison\n",
    "Segmentation algorithms may produce different results. These differences may or may not be crucial, depending on the purpose of the scientific analysis these algorithms are used for.\n",
    "\n",
    "In this notebook we will check if the number of segmented objects is different using Otsu's thresholding method on blobs.tif and we will check if the area measurements are different between these two algorithms. The visual comparison performed before suggests that there should be a difference in area measurements."
   ]
  },
  {
   "cell_type": "code",
   "execution_count": 1,
   "id": "689b4b03-fb4c-4854-b5dd-5c2d45bfe3fe",
   "metadata": {},
   "outputs": [],
   "source": [
    "import numpy as np\n",
    "from skimage.io import imread, imsave\n",
    "import matplotlib.pyplot as plt\n",
    "import pandas as pd\n",
    "from skimage.measure import regionprops\n",
    "from pyclesperanto_prototype import imshow\n",
    "from scipy.stats import describe\n",
    "from scipy.stats import ttest_ind\n",
    "from statsmodels.stats.weightstats import ttost_ind"
   ]
  },
  {
   "cell_type": "markdown",
   "id": "a3d1485b-8b39-4453-b6da-6f61c11e6170",
   "metadata": {},
   "source": [
    "Just as a recap, we take a quick look at the two label images. One was produced in ImageJ, the other using scikit-image."
   ]
  },
  {
   "cell_type": "code",
   "execution_count": 22,
   "id": "29d71c2d-3007-47ad-b23b-e8b6d03edce5",
   "metadata": {},
   "outputs": [
    {
     "data": {
      "image/png": "[encoded data removed]",
      "text/plain": [
       "<Figure size 432x288 with 1 Axes>"
      ]
     },
     "metadata": {
      "needs_background": "light"
     },
     "output_type": "display_data"
    },
    {
     "data": {
      "image/png": "[encoded data removed]",
      "text/plain": [
       "<Figure size 432x288 with 1 Axes>"
      ]
     },
     "metadata": {
      "needs_background": "light"
     },
     "output_type": "display_data"
    }
   ],
   "source": [
    "blobs_labels_imagej = imread(\"blobs_labels_imagej.tif\")\n",
    "blobs_labels_skimage = imread(\"blobs_labels_skimage.tif\")\n",
    "\n",
    "imshow(blobs_labels_imagej, labels=True)\n",
    "imshow(blobs_labels_skimage, labels=True)"
   ]
  },
  {
   "cell_type": "markdown",
   "id": "3df8c5f2-7b81-44e7-8c86-60ddcec53495",
   "metadata": {},
   "source": [
    "## Comparing label counts\n",
    "First, we will count the number of objects in the two images. If the images are labeled subsequently, which means every integer label between 0 and the maximum of the labels exits, the maximum intensity in these label images corresponds to the number of labels present in the image."
   ]
  },
  {
   "cell_type": "code",
   "execution_count": 20,
   "id": "712da4dc-1d9d-45cd-96ea-b51aedd93586",
   "metadata": {},
   "outputs": [
    {
     "data": {
      "text/plain": [
       "(63, 64)"
      ]
     },
     "execution_count": 20,
     "metadata": {},
     "output_type": "execute_result"
    }
   ],
   "source": [
    "blobs_labels_imagej.max(), blobs_labels_skimage.max()"
   ]
  },
  {
   "cell_type": "markdown",
   "id": "f423f115-8e58-4944-9a17-d23fd68347ad",
   "metadata": {},
   "source": [
    "If the images are not subsequently labeled, we should first determine the unique sets of labels and count them. If background intensity (`0`) is present, these two numbers will be higher by one than the maximum."
   ]
  },
  {
   "cell_type": "code",
   "execution_count": 21,
   "id": "afb5d1fe-6ca8-4f09-8f74-2e3a95979fa4",
   "metadata": {},
   "outputs": [
    {
     "data": {
      "text/plain": [
       "(64, 65)"
      ]
     },
     "execution_count": 21,
     "metadata": {},
     "output_type": "execute_result"
    }
   ],
   "source": [
    "len(np.unique(blobs_labels_imagej)), len(np.unique(blobs_labels_skimage))"
   ]
  },
  {
   "cell_type": "markdown",
   "id": "a380aaa1-47cb-41f4-adc8-b7465a85f8b9",
   "metadata": {},
   "source": [
    "Comparing label counts from one single image gives limited insights. It shall be recommended to compare counts from multiple images and apply statistical tests as shown below. With these error analysis methods one can get deeper insights into how different the algorithms are."
   ]
  },
  {
   "cell_type": "markdown",
   "id": "4cc39a8e-7b0c-49b5-b34b-40879343e0d4",
   "metadata": {},
   "source": [
    "## Quantitative comparison\n",
    "Depending on the desired scientific analysis, the found number of objects may not be relevant, but the area of the found objects might be. Hence, we shoud compare how different area measurements between the algorithms are. Also this should actually be done using multiplel images. We demonstrate it with the single image to make it easisly reproducible.\n",
    "\n",
    "First, we derive area measurements from the label images and take a quick look."
   ]
  },
  {
   "cell_type": "code",
   "execution_count": 23,
   "id": "16851b28-dcca-49d1-a916-3a464842e82f",
   "metadata": {},
   "outputs": [
    {
     "name": "stdout",
     "output_type": "stream",
     "text": [
      "[415, 181, 646, 426, 465, 273, 74, 264, 221, 25, 485, 639, 92, 216, 432, 387, 503, 407, 257, 345, 149, 399, 407, 245, 494, 272, 659, 171, 350, 527, 581, 10, 611, 184, 584, 20, 260, 871, 461, 228, 158, 387, 398, 233, 364, 629, 364, 558, 62, 158, 450, 598, 525, 197, 544, 828, 267, 201, 1, 87, 73, 49, 46]\n"
     ]
    }
   ],
   "source": [
    "imagej_statistics = regionprops(blobs_labels_imagej)\n",
    "imagej_areas = [p.area for p in imagej_statistics]\n",
    "print(imagej_areas)"
   ]
  },
  {
   "cell_type": "code",
   "execution_count": 24,
   "id": "1f223eae-aa90-4754-9b6c-256ce0981f20",
   "metadata": {},
   "outputs": [
    {
     "name": "stdout",
     "output_type": "stream",
     "text": [
      "[433, 185, 658, 434, 477, 285, 81, 278, 231, 30, 501, 660, 99, 228, 448, 401, 520, 425, 271, 350, 159, 412, 426, 260, 506, 289, 676, 175, 361, 545, 610, 14, 641, 195, 593, 22, 268, 902, 473, 239, 167, 413, 415, 244, 377, 652, 379, 578, 69, 170, 472, 613, 543, 204, 555, 858, 281, 215, 3, 1, 81, 90, 53, 49]\n"
     ]
    }
   ],
   "source": [
    "skimage_statistics = regionprops(blobs_labels_skimage)\n",
    "skimage_areas = [p.area for p in skimage_statistics]\n",
    "print(skimage_areas)"
   ]
  },
  {
   "cell_type": "markdown",
   "id": "27ab82e2-79ec-4420-a060-d870ff3294c2",
   "metadata": {},
   "source": [
    "Just to confirm our insights from above, we check the number of measurements"
   ]
  },
  {
   "cell_type": "code",
   "execution_count": 7,
   "id": "92061541-35ca-405d-bacc-6023950fc85a",
   "metadata": {},
   "outputs": [
    {
     "data": {
      "text/plain": [
       "(63, 64)"
      ]
     },
     "execution_count": 7,
     "metadata": {},
     "output_type": "execute_result"
    }
   ],
   "source": [
    "len(imagej_areas), len(skimage_areas)"
   ]
  },
  {
   "cell_type": "markdown",
   "id": "4c1a4753-9ece-40ab-b52c-7a1994941b26",
   "metadata": {},
   "source": [
    "A simple and yet powerful approach for comparing quantitative measurements visually, is to draw histograms of the measurements, e.g. using [matplotlib's `hist` method](https://matplotlib.org/stable/api/_as_gen/matplotlib.pyplot.hist.html). This method works for non-paired data and for paired datasets."
   ]
  },
  {
   "cell_type": "code",
   "execution_count": 8,
   "id": "1b0418ab-a354-4759-88f7-bf089c2d7001",
   "metadata": {},
   "outputs": [
    {
     "data": {
      "text/plain": [
       "(array([10.,  5., 11.,  5., 12.,  6.,  7.,  5.,  0.,  2.]),\n",
       " array([  1.,  88., 175., 262., 349., 436., 523., 610., 697., 784., 871.]),\n",
       " <BarContainer object of 10 artists>)"
      ]
     },
     "execution_count": 8,
     "metadata": {},
     "output_type": "execute_result"
    },
    {
     "data": {
      "image/png": "[encoded data removed]",
      "text/plain": [
       "<Figure size 432x288 with 1 Axes>"
      ]
     },
     "metadata": {
      "needs_background": "light"
     },
     "output_type": "display_data"
    }
   ],
   "source": [
    "plt.hist(imagej_areas)"
   ]
  },
  {
   "cell_type": "code",
   "execution_count": 9,
   "id": "a3bfbc18-ec03-48e8-823d-8dcd1e9c2436",
   "metadata": {},
   "outputs": [
    {
     "data": {
      "text/plain": [
       "(array([11.,  5., 11.,  6., 11.,  6.,  7.,  5.,  0.,  2.]),\n",
       " array([  1. ,  91.1, 181.2, 271.3, 361.4, 451.5, 541.6, 631.7, 721.8,\n",
       "        811.9, 902. ]),\n",
       " <BarContainer object of 10 artists>)"
      ]
     },
     "execution_count": 9,
     "metadata": {},
     "output_type": "execute_result"
    },
    {
     "data": {
      "image/png": "[encoded data removed]",
      "text/plain": [
       "<Figure size 432x288 with 1 Axes>"
      ]
     },
     "metadata": {
      "needs_background": "light"
     },
     "output_type": "display_data"
    }
   ],
   "source": [
    "plt.hist(skimage_areas)"
   ]
  },
  {
   "cell_type": "markdown",
   "id": "4cd42978-2a36-4cf9-9dd7-4ec83aa9b3fe",
   "metadata": {},
   "source": [
    "The histograms look very similar, and small differences can be identified.\n",
    "\n",
    "We can nicer to read overview by using scipy's [`describe` method](https://docs.scipy.org/doc/scipy/reference/generated/scipy.stats.describe.html)."
   ]
  },
  {
   "cell_type": "code",
   "execution_count": 26,
   "id": "7d6823a3-f469-4455-ae5d-4e2650384dd8",
   "metadata": {},
   "outputs": [
    {
     "data": {
      "text/plain": [
       "DescribeResult(nobs=63, minmax=(1, 871), mean=339.8888888888889, variance=43858.100358422926, skewness=0.2985582216973995, kurtosis=-0.5512673189985389)"
      ]
     },
     "execution_count": 26,
     "metadata": {},
     "output_type": "execute_result"
    }
   ],
   "source": [
    "describe(imagej_areas)"
   ]
  },
  {
   "cell_type": "code",
   "execution_count": 11,
   "id": "0873164b-6dd9-4a7f-9969-61bb1673495c",
   "metadata": {},
   "outputs": [
    {
     "data": {
      "text/plain": [
       "DescribeResult(nobs=64, minmax=(1, 902), mean=347.546875, variance=47422.15649801587, skewness=0.29237468285874324, kurtosis=-0.5465739129172253)"
      ]
     },
     "execution_count": 11,
     "metadata": {},
     "output_type": "execute_result"
    }
   ],
   "source": [
    "describe(skimage_areas)"
   ]
  },
  {
   "cell_type": "markdown",
   "id": "2521b057-5f45-44ae-835a-af2e9a5e5b50",
   "metadata": {},
   "source": [
    "A bit easier to read is the output of [pandas' `describe` mwethod](https://pandas.pydata.org/docs/reference/api/pandas.DataFrame.describe.html). In order to make it work for our data, we need to create to pandas DataFrames and concatenate them. This is necessary because we have measurements with different lengths ([read more](https://stackoverflow.com/questions/27126511/add-columns-different-length-pandas/33404243))."
   ]
  },
  {
   "cell_type": "code",
   "execution_count": 32,
   "id": "24b5d511-d5bb-4bcd-bdef-86fb1753fd40",
   "metadata": {},
   "outputs": [
    {
     "data": {
      "text/html": [
       "<div>\n",
       "<style scoped>\n",
       "    .dataframe tbody tr th:only-of-type {\n",
       "        vertical-align: middle;\n",
       "    }\n",
       "\n",
       "    .dataframe tbody tr th {\n",
       "        vertical-align: top;\n",
       "    }\n",
       "\n",
       "    .dataframe thead th {\n",
       "        text-align: right;\n",
       "    }\n",
       "</style>\n",
       "<table border=\"1\" class=\"dataframe\">\n",
       "  <thead>\n",
       "    <tr style=\"text-align: right;\">\n",
       "      <th></th>\n",
       "      <th>ImageJ</th>\n",
       "      <th>scikit-image</th>\n",
       "    </tr>\n",
       "  </thead>\n",
       "  <tbody>\n",
       "    <tr>\n",
       "      <th>count</th>\n",
       "      <td>63.000000</td>\n",
       "      <td>64.000000</td>\n",
       "    </tr>\n",
       "    <tr>\n",
       "      <th>mean</th>\n",
       "      <td>339.888889</td>\n",
       "      <td>347.546875</td>\n",
       "    </tr>\n",
       "    <tr>\n",
       "      <th>std</th>\n",
       "      <td>209.423256</td>\n",
       "      <td>217.766289</td>\n",
       "    </tr>\n",
       "    <tr>\n",
       "      <th>min</th>\n",
       "      <td>1.000000</td>\n",
       "      <td>1.000000</td>\n",
       "    </tr>\n",
       "    <tr>\n",
       "      <th>25%</th>\n",
       "      <td>182.500000</td>\n",
       "      <td>182.500000</td>\n",
       "    </tr>\n",
       "    <tr>\n",
       "      <th>50%</th>\n",
       "      <td>350.000000</td>\n",
       "      <td>355.500000</td>\n",
       "    </tr>\n",
       "    <tr>\n",
       "      <th>75%</th>\n",
       "      <td>489.500000</td>\n",
       "      <td>502.250000</td>\n",
       "    </tr>\n",
       "    <tr>\n",
       "      <th>max</th>\n",
       "      <td>871.000000</td>\n",
       "      <td>902.000000</td>\n",
       "    </tr>\n",
       "  </tbody>\n",
       "</table>\n",
       "</div>"
      ],
      "text/plain": [
       "           ImageJ  scikit-image\n",
       "count   63.000000     64.000000\n",
       "mean   339.888889    347.546875\n",
       "std    209.423256    217.766289\n",
       "min      1.000000      1.000000\n",
       "25%    182.500000    182.500000\n",
       "50%    350.000000    355.500000\n",
       "75%    489.500000    502.250000\n",
       "max    871.000000    902.000000"
      ]
     },
     "execution_count": 32,
     "metadata": {},
     "output_type": "execute_result"
    }
   ],
   "source": [
    "table1 = {\n",
    "    \"ImageJ\": imagej_areas\n",
    "}\n",
    "table2 = {\n",
    "    \"scikit-image\": skimage_areas\n",
    "}\n",
    "\n",
    "df = pd.concat([pd.DataFrame(table1), pd.DataFrame(table2)], axis=1)\n",
    "df.describe()"
   ]
  },
  {
   "cell_type": "markdown",
   "id": "82450e3a-3283-4814-841b-550cae0e3fac",
   "metadata": {},
   "source": [
    "## Student's t-test - testing for differences\n",
    "We now know that the mean of the measurements are different. We should determine if the differences between the measurements are significant. \n",
    "\n",
    "We can use the [Student's t-test](https://en.wikipedia.org/wiki/Student%27s_t-test) for that using the null-hypothesis: Means of measurements are different. We use the [`ttest_ind` method](https://docs.scipy.org/doc/scipy/reference/generated/scipy.stats.ttest_ind.html) because we do not have paired datasets."
   ]
  },
  {
   "cell_type": "code",
   "execution_count": 12,
   "id": "97ab434a-8008-48ef-b00b-1b6a14af87e8",
   "metadata": {},
   "outputs": [
    {
     "data": {
      "text/plain": [
       "Ttest_indResult(statistic=-0.20194436015007275, pvalue=0.8402885093667958)"
      ]
     },
     "execution_count": 12,
     "metadata": {},
     "output_type": "execute_result"
    }
   ],
   "source": [
    "ttest_ind(imagej_areas, skimage_areas)"
   ]
  },
  {
   "cell_type": "markdown",
   "id": "4fb39ead-cc08-46c5-8ea2-62b41a057f28",
   "metadata": {},
   "source": [
    "From the printed p-value we can _not_ conclude that differences are insignificant. We can only say that according to the given sample, significance could not be shown."
   ]
  },
  {
   "cell_type": "markdown",
   "id": "de3bb520-4302-415b-a974-12dd3a818843",
   "metadata": {},
   "source": [
    "## Two-sided t-test for equivalence testing\n",
    "For proving that two algorithms perform similarly and means are different less that a given threshold, we can use a two-sided t-test, e.g. using statsmodels' [`ttost_ind` method](https://www.statsmodels.org/dev/generated/statsmodels.stats.weightstats.ttost_ind.html). Our null-hypothesis: Means of measurements are more than 5% different."
   ]
  },
  {
   "cell_type": "code",
   "execution_count": 15,
   "id": "c2165ac0-909f-48c6-9fd2-27a5acd6ceb7",
   "metadata": {},
   "outputs": [
    {
     "data": {
      "text/plain": [
       "17.185894097222224"
      ]
     },
     "execution_count": 15,
     "metadata": {},
     "output_type": "execute_result"
    }
   ],
   "source": [
    "five_percent_error_threshold = 0.05 * (np.mean(imagej_areas) + np.mean(skimage_areas)) / 2\n",
    "five_percent_error_threshold"
   ]
  },
  {
   "cell_type": "code",
   "execution_count": 18,
   "id": "e11a5198-6148-4393-bce9-f468a2f0ec1d",
   "metadata": {},
   "outputs": [
    {
     "data": {
      "text/plain": [
       "(0.40101477051276024,\n",
       " (0.25125499758118736, 0.40101477051276024, 125.0),\n",
       " (-0.6551437178813329, 0.2567895351853574, 125.0))"
      ]
     },
     "execution_count": 18,
     "metadata": {},
     "output_type": "execute_result"
    }
   ],
   "source": [
    "ttost_ind(imagej_areas, skimage_areas, -five_percent_error_threshold, five_percent_error_threshold)"
   ]
  },
  {
   "cell_type": "markdown",
   "id": "910539bf-2edc-4a9b-beda-fe31d14384b0",
   "metadata": {},
   "source": [
    "Note to self: I'm not sure if I interpret the result correctly. I'm also not sure if I use this test correctly. If anyone reads this, and understands why the p-value here is 0.4, please get in touch: robert.haase@tu-dresden.de"
   ]
  },
  {
   "cell_type": "code",
   "execution_count": 19,
   "id": "72200b62-1f6a-4a99-9163-23bb555e29d7",
   "metadata": {},
   "outputs": [
    {
     "data": {
      "text/plain": [
       "\u001b[1;31mSignature:\u001b[0m\n",
       "\u001b[0mttost_ind\u001b[0m\u001b[1;33m(\u001b[0m\u001b[1;33m\n",
       "\u001b[0m    \u001b[0mx1\u001b[0m\u001b[1;33m,\u001b[0m\u001b[1;33m\n",
       "\u001b[0m    \u001b[0mx2\u001b[0m\u001b[1;33m,\u001b[0m\u001b[1;33m\n",
       "\u001b[0m    \u001b[0mlow\u001b[0m\u001b[1;33m,\u001b[0m\u001b[1;33m\n",
       "\u001b[0m    \u001b[0mupp\u001b[0m\u001b[1;33m,\u001b[0m\u001b[1;33m\n",
       "\u001b[0m    \u001b[0musevar\u001b[0m\u001b[1;33m=\u001b[0m\u001b[1;34m'pooled'\u001b[0m\u001b[1;33m,\u001b[0m\u001b[1;33m\n",
       "\u001b[0m    \u001b[0mweights\u001b[0m\u001b[1;33m=\u001b[0m\u001b[1;33m(\u001b[0m\u001b[1;32mNone\u001b[0m\u001b[1;33m,\u001b[0m \u001b[1;32mNone\u001b[0m\u001b[1;33m)\u001b[0m\u001b[1;33m,\u001b[0m\u001b[1;33m\n",
       "\u001b[0m    \u001b[0mtransform\u001b[0m\u001b[1;33m=\u001b[0m\u001b[1;32mNone\u001b[0m\u001b[1;33m,\u001b[0m\u001b[1;33m\n",
       "\u001b[0m\u001b[1;33m)\u001b[0m\u001b[1;33m\u001b[0m\u001b[1;33m\u001b[0m\u001b[0m\n",
       "\u001b[1;31mDocstring:\u001b[0m\n",
       "test of (non-)equivalence for two independent samples\n",
       "\n",
       "TOST: two one-sided t tests\n",
       "\n",
       "null hypothesis:  m1 - m2 < low or m1 - m2 > upp\n",
       "alternative hypothesis:  low < m1 - m2 < upp\n",
       "\n",
       "where m1, m2 are the means, expected values of the two samples.\n",
       "\n",
       "If the pvalue is smaller than a threshold, say 0.05, then we reject the\n",
       "hypothesis that the difference between the two samples is larger than the\n",
       "the thresholds given by low and upp.\n",
       "\n",
       "Parameters\n",
       "----------\n",
       "x1 : array_like, 1-D or 2-D\n",
       "    first of the two independent samples, see notes for 2-D case\n",
       "x2 : array_like, 1-D or 2-D\n",
       "    second of the two independent samples, see notes for 2-D case\n",
       "low, upp : float\n",
       "    equivalence interval low < m1 - m2 < upp\n",
       "usevar : str, 'pooled' or 'unequal'\n",
       "    If ``pooled``, then the standard deviation of the samples is assumed to be\n",
       "    the same. If ``unequal``, then Welch ttest with Satterthwait degrees\n",
       "    of freedom is used\n",
       "weights : tuple of None or ndarrays\n",
       "    Case weights for the two samples. For details on weights see\n",
       "    ``DescrStatsW``\n",
       "transform : None or function\n",
       "    If None (default), then the data is not transformed. Given a function,\n",
       "    sample data and thresholds are transformed. If transform is log, then\n",
       "    the equivalence interval is in ratio: low < m1 / m2 < upp\n",
       "\n",
       "Returns\n",
       "-------\n",
       "pvalue : float\n",
       "    pvalue of the non-equivalence test\n",
       "t1, pv1 : tuple of floats\n",
       "    test statistic and pvalue for lower threshold test\n",
       "t2, pv2 : tuple of floats\n",
       "    test statistic and pvalue for upper threshold test\n",
       "\n",
       "Notes\n",
       "-----\n",
       "The test rejects if the 2*alpha confidence interval for the difference\n",
       "is contained in the ``(low, upp)`` interval.\n",
       "\n",
       "This test works also for multi-endpoint comparisons: If d1 and d2\n",
       "have the same number of columns, then each column of the data in d1 is\n",
       "compared with the corresponding column in d2. This is the same as\n",
       "comparing each of the corresponding columns separately. Currently no\n",
       "multi-comparison correction is used. The raw p-values reported here can\n",
       "be correction with the functions in ``multitest``.\n",
       "\u001b[1;31mFile:\u001b[0m      c:\\users\\rober\\miniconda3\\envs\\bio_39\\lib\\site-packages\\statsmodels\\stats\\weightstats.py\n",
       "\u001b[1;31mType:\u001b[0m      function\n"
      ]
     },
     "metadata": {},
     "output_type": "display_data"
    }
   ],
   "source": [
    "ttost_ind?"
   ]
  },
  {
   "cell_type": "code",
   "execution_count": null,
   "id": "35d496a0-4bb0-408e-b5f5-c83371603cb3",
   "metadata": {},
   "outputs": [],
   "source": []
  }
 ],
 "metadata": {
  "kernelspec": {
   "display_name": "Python 3 (ipykernel)",
   "language": "python",
   "name": "python3"
  },
  "language_info": {
   "codemirror_mode": {
    "name": "ipython",
    "version": 3
   },
   "file_extension": ".py",
   "mimetype": "text/x-python",
   "name": "python",
   "nbconvert_exporter": "python",
   "pygments_lexer": "ipython3",
   "version": "3.9.10"
  }
 },
 "nbformat": 4,
 "nbformat_minor": 5
}
