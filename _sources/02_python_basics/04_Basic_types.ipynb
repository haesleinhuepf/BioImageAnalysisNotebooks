{
 "cells": [
  {
   "cell_type": "markdown",
   "id": "5fa37873",
   "metadata": {},
   "source": [
    "# Basic types in python\n",
    "Variables in python can hold different types of numbers and also other things such as text, images and more complex objects.\n",
    "\n",
    "We can also print out the type of a variable.\n",
    "\n",
    "See also\n",
    "* [Built-in types in python](https://docs.python.org/3/library/stdtypes.html)\n",
    "* [Basic types in python](https://realpython.com/python-data-types/)\n",
    "\n",
    "This is an integer number:"
   ]
  },
  {
   "cell_type": "code",
   "execution_count": 1,
   "id": "e95849c6",
   "metadata": {},
   "outputs": [],
   "source": [
    "a = 5"
   ]
  },
  {
   "cell_type": "code",
   "execution_count": 2,
   "id": "a263822b",
   "metadata": {},
   "outputs": [
    {
     "data": {
      "text/plain": [
       "int"
      ]
     },
     "execution_count": 2,
     "metadata": {},
     "output_type": "execute_result"
    }
   ],
   "source": [
    "type(a)"
   ]
  },
  {
   "cell_type": "markdown",
   "id": "3a6be7b8",
   "metadata": {},
   "source": [
    "And this is a floating point variable:"
   ]
  },
  {
   "cell_type": "code",
   "execution_count": 3,
   "id": "a516e7c1",
   "metadata": {},
   "outputs": [],
   "source": [
    "b = 3.5"
   ]
  },
  {
   "cell_type": "code",
   "execution_count": 4,
   "id": "66661ed1",
   "metadata": {},
   "outputs": [
    {
     "data": {
      "text/plain": [
       "float"
      ]
     },
     "execution_count": 4,
     "metadata": {},
     "output_type": "execute_result"
    }
   ],
   "source": [
    "type(b)"
   ]
  },
  {
   "cell_type": "markdown",
   "id": "99aec830",
   "metadata": {},
   "source": [
    "When combining variables of different types, Python makes a decision which type the new variable should have"
   ]
  },
  {
   "cell_type": "code",
   "execution_count": 5,
   "id": "2f182cd9",
   "metadata": {},
   "outputs": [],
   "source": [
    "c = a + b"
   ]
  },
  {
   "cell_type": "code",
   "execution_count": 6,
   "id": "c6e68377",
   "metadata": {},
   "outputs": [
    {
     "data": {
      "text/plain": [
       "float"
      ]
     },
     "execution_count": 6,
     "metadata": {},
     "output_type": "execute_result"
    }
   ],
   "source": [
    "type(c)"
   ]
  },
  {
   "cell_type": "markdown",
   "id": "933a5b96",
   "metadata": {},
   "source": [
    "# Strings\n",
    "Variables can also hold text. We call them a \"string\" in this case, and define them by surrounding the value with either single quotes ```' '``` or double quotes ```\" \"```:"
   ]
  },
  {
   "cell_type": "code",
   "execution_count": 7,
   "id": "d233f613",
   "metadata": {},
   "outputs": [],
   "source": [
    "first_name = \"Robert\"\n",
    "last_name = 'Haase'"
   ]
  },
  {
   "cell_type": "markdown",
   "id": "b6d41406",
   "metadata": {},
   "source": [
    "Strings can be concatenated using the `+` operator:"
   ]
  },
  {
   "cell_type": "code",
   "execution_count": 8,
   "id": "b420698c",
   "metadata": {},
   "outputs": [
    {
     "data": {
      "text/plain": [
       "'RobertHaase'"
      ]
     },
     "execution_count": 8,
     "metadata": {},
     "output_type": "execute_result"
    }
   ],
   "source": [
    "first_name + last_name"
   ]
  },
  {
   "cell_type": "code",
   "execution_count": 9,
   "id": "a3d6173d",
   "metadata": {},
   "outputs": [
    {
     "data": {
      "text/plain": [
       "'Robert Haase'"
      ]
     },
     "execution_count": 9,
     "metadata": {},
     "output_type": "execute_result"
    }
   ],
   "source": [
    "first_name + \" \" + last_name"
   ]
  },
  {
   "cell_type": "markdown",
   "id": "1ec0678e",
   "metadata": {},
   "source": [
    "If we want to have single and double quotation marks within our text, we can put them in like this:"
   ]
  },
  {
   "cell_type": "code",
   "execution_count": 10,
   "id": "795ae689",
   "metadata": {},
   "outputs": [
    {
     "name": "stdout",
     "output_type": "stream",
     "text": [
      "She said 'Hi'.\n"
     ]
    }
   ],
   "source": [
    "text = \"She said 'Hi'.\"\n",
    "print(text)"
   ]
  },
  {
   "cell_type": "code",
   "execution_count": 11,
   "id": "b362013b",
   "metadata": {},
   "outputs": [
    {
     "name": "stdout",
     "output_type": "stream",
     "text": [
      "He said \"How are you?\".\n"
     ]
    }
   ],
   "source": [
    "text = 'He said \"How are you?\".'\n",
    "print(text)"
   ]
  },
  {
   "cell_type": "markdown",
   "id": "0d09f2c9",
   "metadata": {},
   "source": [
    "## Combining strings and numbers"
   ]
  },
  {
   "cell_type": "markdown",
   "id": "5429a062",
   "metadata": {},
   "source": [
    "When combining variables of numeric types and string types, errors may appear:"
   ]
  },
  {
   "cell_type": "code",
   "execution_count": 12,
   "id": "4698af1b",
   "metadata": {},
   "outputs": [
    {
     "ename": "TypeError",
     "evalue": "can only concatenate str (not \"int\") to str",
     "output_type": "error",
     "traceback": [
      "\u001b[0;31m---------------------------------------------------------------------------\u001b[0m",
      "\u001b[0;31mTypeError\u001b[0m                                 Traceback (most recent call last)",
      "Input \u001b[0;32mIn [12]\u001b[0m, in \u001b[0;36m<cell line: 1>\u001b[0;34m()\u001b[0m\n\u001b[0;32m----> 1\u001b[0m \u001b[43mfirst_name\u001b[49m\u001b[43m \u001b[49m\u001b[38;5;241;43m+\u001b[39;49m\u001b[43m \u001b[49m\u001b[43ma\u001b[49m\n",
      "\u001b[0;31mTypeError\u001b[0m: can only concatenate str (not \"int\") to str"
     ]
    }
   ],
   "source": [
    "first_name + a"
   ]
  },
  {
   "cell_type": "markdown",
   "id": "9f7da8aa",
   "metadata": {},
   "source": [
    "Those can be prevented by converting the numeric variable to a string type using the `str()` function:"
   ]
  },
  {
   "cell_type": "code",
   "execution_count": 13,
   "id": "4dcb76f5",
   "metadata": {},
   "outputs": [
    {
     "data": {
      "text/plain": [
       "'Robert5'"
      ]
     },
     "execution_count": 13,
     "metadata": {},
     "output_type": "execute_result"
    }
   ],
   "source": [
    "first_name + str(a)"
   ]
  },
  {
   "cell_type": "markdown",
   "id": "9dea8ae1",
   "metadata": {},
   "source": [
    "You can also convert strings to numbers in case they contain numbers:"
   ]
  },
  {
   "cell_type": "code",
   "execution_count": 14,
   "id": "ee227469",
   "metadata": {},
   "outputs": [],
   "source": [
    "d = \"5\""
   ]
  },
  {
   "cell_type": "code",
   "execution_count": 15,
   "id": "7429b783",
   "metadata": {},
   "outputs": [
    {
     "data": {
      "text/plain": [
       "5"
      ]
     },
     "execution_count": 15,
     "metadata": {},
     "output_type": "execute_result"
    }
   ],
   "source": [
    "int(d)"
   ]
  },
  {
   "cell_type": "code",
   "execution_count": 16,
   "id": "e504db1c",
   "metadata": {},
   "outputs": [
    {
     "data": {
      "text/plain": [
       "10"
      ]
     },
     "execution_count": 16,
     "metadata": {},
     "output_type": "execute_result"
    }
   ],
   "source": [
    "a + int(d)"
   ]
  },
  {
   "cell_type": "markdown",
   "id": "7e020198",
   "metadata": {},
   "source": [
    "If the string does not contain a number, an error message may appear:"
   ]
  },
  {
   "cell_type": "code",
   "execution_count": 17,
   "id": "e30cac65",
   "metadata": {},
   "outputs": [
    {
     "ename": "ValueError",
     "evalue": "invalid literal for int() with base 10: 'hello'",
     "output_type": "error",
     "traceback": [
      "\u001b[0;31m---------------------------------------------------------------------------\u001b[0m",
      "\u001b[0;31mValueError\u001b[0m                                Traceback (most recent call last)",
      "Input \u001b[0;32mIn [17]\u001b[0m, in \u001b[0;36m<cell line: 1>\u001b[0;34m()\u001b[0m\n\u001b[0;32m----> 1\u001b[0m \u001b[38;5;28;43mint\u001b[39;49m\u001b[43m(\u001b[49m\u001b[38;5;124;43m\"\u001b[39;49m\u001b[38;5;124;43mhello\u001b[39;49m\u001b[38;5;124;43m\"\u001b[39;49m\u001b[43m)\u001b[49m\n",
      "\u001b[0;31mValueError\u001b[0m: invalid literal for int() with base 10: 'hello'"
     ]
    }
   ],
   "source": [
    "int(\"hello\")"
   ]
  },
  {
   "cell_type": "code",
   "execution_count": 18,
   "id": "8491727e",
   "metadata": {},
   "outputs": [
    {
     "ename": "ValueError",
     "evalue": "invalid literal for int() with base 10: ''",
     "output_type": "error",
     "traceback": [
      "\u001b[0;31m---------------------------------------------------------------------------\u001b[0m",
      "\u001b[0;31mValueError\u001b[0m                                Traceback (most recent call last)",
      "Input \u001b[0;32mIn [18]\u001b[0m, in \u001b[0;36m<cell line: 1>\u001b[0;34m()\u001b[0m\n\u001b[0;32m----> 1\u001b[0m \u001b[38;5;28;43mint\u001b[39;49m\u001b[43m(\u001b[49m\u001b[38;5;124;43m\"\u001b[39;49m\u001b[38;5;124;43m\"\u001b[39;49m\u001b[43m)\u001b[49m\n",
      "\u001b[0;31mValueError\u001b[0m: invalid literal for int() with base 10: ''"
     ]
    }
   ],
   "source": [
    "int(\"\")"
   ]
  },
  {
   "cell_type": "code",
   "execution_count": 19,
   "id": "47f13c1d",
   "metadata": {},
   "outputs": [
    {
     "data": {
      "text/plain": [
       "5"
      ]
     },
     "execution_count": 19,
     "metadata": {},
     "output_type": "execute_result"
    }
   ],
   "source": [
    "int(\"5\")"
   ]
  },
  {
   "cell_type": "markdown",
   "id": "42afe2d0-54a3-499b-91c8-38e24f46b8a0",
   "metadata": {},
   "source": [
    "## f-strings\n",
    "\n",
    "Instead of having to manually convert numbers to strings in order to assemble them with other strings, we can resort to f-strings which are defined by simply adding an ```f``` before the opening quote of a regular string:"
   ]
  },
  {
   "cell_type": "code",
   "execution_count": 20,
   "id": "7c09db40-9744-452e-90c1-1c1e6c38e699",
   "metadata": {},
   "outputs": [
    {
     "data": {
      "text/plain": [
       "'This is an f-string'"
      ]
     },
     "execution_count": 20,
     "metadata": {},
     "output_type": "execute_result"
    }
   ],
   "source": [
    "f\"This is an f-string\""
   ]
  },
  {
   "cell_type": "markdown",
   "id": "12d5f1be-1e6a-4a3b-bf2d-4e1f4bdad0d9",
   "metadata": {},
   "source": [
    "We can now add variables directly in this text by surrounding them with curly brackets:"
   ]
  },
  {
   "cell_type": "code",
   "execution_count": 21,
   "id": "878f0760-a54b-4070-9ef6-6cad337f9579",
   "metadata": {},
   "outputs": [
    {
     "data": {
      "text/plain": [
       "\"This is an f-string. a's value is 5. Doubling the value of a gives 10.\""
      ]
     },
     "execution_count": 21,
     "metadata": {},
     "output_type": "execute_result"
    }
   ],
   "source": [
    "f\"This is an f-string. a's value is {a}. Doubling the value of a gives {2*a}.\""
   ]
  },
  {
   "cell_type": "markdown",
   "id": "23524143-d78f-42a4-8900-0392b8e056b7",
   "metadata": {},
   "source": [
    "As you can see above, f-strings can contain as many variables as needed and curly brackets can contain more than just a variable. We can even execute functions inside them:"
   ]
  },
  {
   "cell_type": "code",
   "execution_count": 22,
   "id": "63495e54-2568-40d9-a6d3-ca84e86942a9",
   "metadata": {},
   "outputs": [
    {
     "data": {
      "text/plain": [
       "'The first_name variable contains 2 r letters.'"
      ]
     },
     "execution_count": 22,
     "metadata": {},
     "output_type": "execute_result"
    }
   ],
   "source": [
    "f\"The first_name variable contains {first_name.lower().count('r')} r letters.\""
   ]
  },
  {
   "cell_type": "markdown",
   "id": "aa036de2",
   "metadata": {},
   "source": [
    "# Exercise\n",
    "[Marie Curie's](https://en.wikipedia.org/wiki/Marie_Curie) name and birthdate are stored in variables. Concatenate them in one string variable and print it out. The output should be \"Marie Curie, * 7 November 1867\""
   ]
  },
  {
   "cell_type": "code",
   "execution_count": 23,
   "id": "3cbf8c1c",
   "metadata": {},
   "outputs": [],
   "source": [
    "first_name = \"Marie\"\n",
    "last_name = \"Curie\"\n",
    "\n",
    "birthday_day = 7\n",
    "birthday_month = \"November\"\n",
    "birthday_year = 1867"
   ]
  }
 ],
 "metadata": {
  "kernelspec": {
   "display_name": "Python 3 (ipykernel)",
   "language": "python",
   "name": "python3"
  },
  "language_info": {
   "codemirror_mode": {
    "name": "ipython",
    "version": 3
   },
   "file_extension": ".py",
   "mimetype": "text/x-python",
   "name": "python",
   "nbconvert_exporter": "python",
   "pygments_lexer": "ipython3",
   "version": "3.8.13"
  }
 },
 "nbformat": 4,
 "nbformat_minor": 5
}
