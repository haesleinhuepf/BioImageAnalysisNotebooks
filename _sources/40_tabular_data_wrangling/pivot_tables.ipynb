{
 "cells": [
  {
   "cell_type": "markdown",
   "id": "4c16c877-0135-4ee4-86e2-db21dca5eb5f",
   "metadata": {},
   "source": [
    "# Pivot tables\n",
    "For analysing data in groups, it may make sense to turn it into a [Pivot table](https://en.wikipedia.org/wiki/Pivot_table). "
   ]
  },
  {
   "cell_type": "code",
   "execution_count": 1,
   "id": "05824a7f",
   "metadata": {},
   "outputs": [],
   "source": [
    "import pandas as pd"
   ]
  },
  {
   "cell_type": "code",
   "execution_count": 2,
   "id": "9cbdbb5a",
   "metadata": {},
   "outputs": [
    {
     "data": {
      "text/html": [
       "<div>\n",
       "<style scoped>\n",
       "    .dataframe tbody tr th:only-of-type {\n",
       "        vertical-align: middle;\n",
       "    }\n",
       "\n",
       "    .dataframe tbody tr th {\n",
       "        vertical-align: top;\n",
       "    }\n",
       "\n",
       "    .dataframe thead th {\n",
       "        text-align: right;\n",
       "    }\n",
       "</style>\n",
       "<table border=\"1\" class=\"dataframe\">\n",
       "  <thead>\n",
       "    <tr style=\"text-align: right;\">\n",
       "      <th></th>\n",
       "      <th>cell</th>\n",
       "      <th>location</th>\n",
       "      <th>spikes</th>\n",
       "      <th>value</th>\n",
       "    </tr>\n",
       "  </thead>\n",
       "  <tbody>\n",
       "    <tr>\n",
       "      <th>0</th>\n",
       "      <td>Purkinje</td>\n",
       "      <td>brain1</td>\n",
       "      <td>simple</td>\n",
       "      <td>3.3</td>\n",
       "    </tr>\n",
       "    <tr>\n",
       "      <th>1</th>\n",
       "      <td>Purkinje</td>\n",
       "      <td>brain1</td>\n",
       "      <td>complex</td>\n",
       "      <td>5.1</td>\n",
       "    </tr>\n",
       "    <tr>\n",
       "      <th>2</th>\n",
       "      <td>Purkinje</td>\n",
       "      <td>brain2</td>\n",
       "      <td>simple</td>\n",
       "      <td>2.5</td>\n",
       "    </tr>\n",
       "    <tr>\n",
       "      <th>3</th>\n",
       "      <td>Purkinje</td>\n",
       "      <td>brain2</td>\n",
       "      <td>complex</td>\n",
       "      <td>6.2</td>\n",
       "    </tr>\n",
       "    <tr>\n",
       "      <th>4</th>\n",
       "      <td>Purkinje</td>\n",
       "      <td>brain1</td>\n",
       "      <td>simple</td>\n",
       "      <td>2.8</td>\n",
       "    </tr>\n",
       "  </tbody>\n",
       "</table>\n",
       "</div>"
      ],
      "text/plain": [
       "       cell location   spikes  value\n",
       "0  Purkinje   brain1   simple    3.3\n",
       "1  Purkinje   brain1  complex    5.1\n",
       "2  Purkinje   brain2   simple    2.5\n",
       "3  Purkinje   brain2  complex    6.2\n",
       "4  Purkinje   brain1   simple    2.8"
      ]
     },
     "execution_count": 2,
     "metadata": {},
     "output_type": "execute_result"
    }
   ],
   "source": [
    "df = pd.DataFrame(\n",
    "    {\n",
    "        \"cell\": [\"Purkinje\",\"Purkinje\",\"Purkinje\",\"Purkinje\",\"Purkinje\"],\n",
    "        \"location\": [\"brain1\", \"brain1\", \"brain2\", \"brain2\", \"brain1\"],\n",
    "        \"spikes\": [\"simple\", \"complex\", \"simple\", \"complex\", \"simple\"],\n",
    "        \"value\": [3.3, 5.1, 2.5, 6.2, 2.8],\n",
    "    }\n",
    ")\n",
    "\n",
    "df"
   ]
  },
  {
   "cell_type": "markdown",
   "id": "bc8d6dc5",
   "metadata": {},
   "source": [
    "You can turn your table into a pivot table, for example by computing the mean of columns for elements in groups using [`pandas.pivot_table()`](https://pandas.pydata.org/docs/reference/api/pandas.pivot_table.html)"
   ]
  },
  {
   "cell_type": "code",
   "execution_count": 3,
   "id": "8eeca8cf",
   "metadata": {},
   "outputs": [
    {
     "data": {
      "text/html": [
       "<div>\n",
       "<style scoped>\n",
       "    .dataframe tbody tr th:only-of-type {\n",
       "        vertical-align: middle;\n",
       "    }\n",
       "\n",
       "    .dataframe tbody tr th {\n",
       "        vertical-align: top;\n",
       "    }\n",
       "\n",
       "    .dataframe thead th {\n",
       "        text-align: right;\n",
       "    }\n",
       "</style>\n",
       "<table border=\"1\" class=\"dataframe\">\n",
       "  <thead>\n",
       "    <tr style=\"text-align: right;\">\n",
       "      <th></th>\n",
       "      <th>spikes</th>\n",
       "      <th>complex</th>\n",
       "      <th>simple</th>\n",
       "    </tr>\n",
       "    <tr>\n",
       "      <th>cell</th>\n",
       "      <th>location</th>\n",
       "      <th></th>\n",
       "      <th></th>\n",
       "    </tr>\n",
       "  </thead>\n",
       "  <tbody>\n",
       "    <tr>\n",
       "      <th rowspan=\"2\" valign=\"top\">Purkinje</th>\n",
       "      <th>brain1</th>\n",
       "      <td>5.1</td>\n",
       "      <td>3.05</td>\n",
       "    </tr>\n",
       "    <tr>\n",
       "      <th>brain2</th>\n",
       "      <td>6.2</td>\n",
       "      <td>2.50</td>\n",
       "    </tr>\n",
       "  </tbody>\n",
       "</table>\n",
       "</div>"
      ],
      "text/plain": [
       "spikes             complex  simple\n",
       "cell     location                 \n",
       "Purkinje brain1        5.1    3.05\n",
       "         brain2        6.2    2.50"
      ]
     },
     "execution_count": 3,
     "metadata": {},
     "output_type": "execute_result"
    }
   ],
   "source": [
    "pivot = pd.pivot_table(\n",
    "    df, values=\"value\", index=[\"cell\", \"location\"], columns=[\"spikes\"], aggfunc=\"mean\"\n",
    ")\n",
    "pivot"
   ]
  }
 ],
 "metadata": {
  "kernelspec": {
   "display_name": "Python 3 (ipykernel)",
   "language": "python",
   "name": "python3"
  },
  "language_info": {
   "codemirror_mode": {
    "name": "ipython",
    "version": 3
   },
   "file_extension": ".py",
   "mimetype": "text/x-python",
   "name": "python",
   "nbconvert_exporter": "python",
   "pygments_lexer": "ipython3",
   "version": "3.9.9"
  }
 },
 "nbformat": 4,
 "nbformat_minor": 5
}
