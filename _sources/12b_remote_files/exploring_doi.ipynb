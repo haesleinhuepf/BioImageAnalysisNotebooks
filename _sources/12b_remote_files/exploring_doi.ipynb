{
 "cells": [
  {
   "cell_type": "markdown",
   "id": "13e2e653-e785-4944-b636-c5af8ac8479f",
   "metadata": {},
   "source": [
    "# Reading meta data from DOI.org\n",
    "In this notebook we will access meta data of records on https://doi.org ."
   ]
  },
  {
   "cell_type": "code",
   "execution_count": 1,
   "id": "a9b1e8c9-5e06-469c-9026-fcd051c19f0d",
   "metadata": {},
   "outputs": [],
   "source": [
    "import requests\n",
    "import json"
   ]
  },
  {
   "cell_type": "markdown",
   "id": "7b076f43-2533-4266-887f-760be61820f6",
   "metadata": {},
   "source": [
    "For this, we write a little helper function."
   ]
  },
  {
   "cell_type": "code",
   "execution_count": 2,
   "id": "6d4c61b7-a34d-489c-a8c7-4cc379d0c6a6",
   "metadata": {},
   "outputs": [],
   "source": [
    "def read_doi(doi):\n",
    "    \"\"\"\n",
    "    Reads meta data of records in doi.org.\n",
    "    \"\"\"\n",
    "\n",
    "    doi = doi.replace(\"https://doi.org/\", \"\")\n",
    "    url = \"https://doi.org/api/handles/\" + doi\n",
    "    \n",
    "    # Download the file\n",
    "    response = requests.get(url)\n",
    "    data = response.json()\n",
    "    return data"
   ]
  },
  {
   "cell_type": "markdown",
   "id": "6b60eef3-afac-441d-ab87-e572bf0ae209",
   "metadata": {},
   "source": [
    "We can then call the function and store the results in a `data` object."
   ]
  },
  {
   "cell_type": "code",
   "execution_count": 3,
   "id": "dd0e3c6a-0fb3-4cae-b763-7fc5bb0dd2b8",
   "metadata": {},
   "outputs": [
    {
     "data": {
      "text/plain": [
       "{'responseCode': 1,\n",
       " 'handle': '10.5281/zenodo.3833824',\n",
       " 'values': [{'index': 100,\n",
       "   'type': 'HS_ADMIN',\n",
       "   'data': {'format': 'admin',\n",
       "    'value': {'handle': '10.admin/codata',\n",
       "     'index': 300,\n",
       "     'permissions': '111111111111'}},\n",
       "   'ttl': 86400,\n",
       "   'timestamp': '2020-05-19T10:28:11Z'},\n",
       "  {'index': 1,\n",
       "   'type': 'URL',\n",
       "   'data': {'format': 'string', 'value': 'https://zenodo.org/record/3833824'},\n",
       "   'ttl': 86400,\n",
       "   'timestamp': '2020-05-19T10:28:11Z'}]}"
      ]
     },
     "execution_count": 3,
     "metadata": {},
     "output_type": "execute_result"
    }
   ],
   "source": [
    "data = read_doi(\"https://doi.org/10.5281/zenodo.3833824\")\n",
    "data"
   ]
  },
  {
   "cell_type": "markdown",
   "id": "69457d57-6b3b-481b-9d14-ba8d8a9b0c12",
   "metadata": {},
   "source": [
    "This [json](https://www.json.org/json-en.html) object consists of Python dictionaries and lists. We can navigate through those and extract information."
   ]
  },
  {
   "cell_type": "code",
   "execution_count": 4,
   "id": "59897f15-2db0-4fa3-8029-af8dc9d941de",
   "metadata": {},
   "outputs": [
    {
     "data": {
      "text/plain": [
       "{'index': 100,\n",
       " 'type': 'HS_ADMIN',\n",
       " 'data': {'format': 'admin',\n",
       "  'value': {'handle': '10.admin/codata',\n",
       "   'index': 300,\n",
       "   'permissions': '111111111111'}},\n",
       " 'ttl': 86400,\n",
       " 'timestamp': '2020-05-19T10:28:11Z'}"
      ]
     },
     "execution_count": 4,
     "metadata": {},
     "output_type": "execute_result"
    }
   ],
   "source": [
    "data['values'][0]"
   ]
  },
  {
   "cell_type": "markdown",
   "id": "9ce5a0f4-bbbe-4b18-92bb-3dfe9f5e1dc5",
   "metadata": {},
   "source": [
    "## Exercise \n",
    "Find out the author(s) of the DOI above."
   ]
  }
 ],
 "metadata": {
  "kernelspec": {
   "display_name": "Python 3 (ipykernel)",
   "language": "python",
   "name": "python3"
  },
  "language_info": {
   "codemirror_mode": {
    "name": "ipython",
    "version": 3
   },
   "file_extension": ".py",
   "mimetype": "text/x-python",
   "name": "python",
   "nbconvert_exporter": "python",
   "pygments_lexer": "ipython3",
   "version": "3.9.16"
  }
 },
 "nbformat": 4,
 "nbformat_minor": 5
}
