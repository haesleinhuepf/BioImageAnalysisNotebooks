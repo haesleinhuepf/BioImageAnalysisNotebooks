{
 "cells": [
  {
   "cell_type": "markdown",
   "id": "632ef739-4aa0-4e94-b367-cd8df9891b0b",
   "metadata": {},
   "source": [
    "# Parallelization\n",
    "When programming custom algorithms in python, it can happen that our code becomes slow because we run a couple of nested for-loops. If the inner loops do not depend on each other, code can be parallelized and sped up. Note, we are parallelizing code on a central processing unit (CPU) don't mix it up with GPU-acceleration that uses graphics processing units (GPUs).\n",
    "\n",
    "See also\n",
    "* [Scikit-image parallelization tutorial](https://scikit-image.org/docs/stable/user_guide/tutorial_parallelization.html)"
   ]
  },
  {
   "cell_type": "code",
   "execution_count": 1,
   "id": "eb758e9f-259e-4768-b2de-33f33342ace9",
   "metadata": {},
   "outputs": [],
   "source": [
    "import time\n",
    "import numpy as np\n",
    "from functools import partial\n",
    "import timeit\n",
    "import matplotlib.pyplot as plt\n",
    "import platform"
   ]
  },
  {
   "cell_type": "markdown",
   "id": "01ba8886-6f3b-4757-8797-5f808a3a3183",
   "metadata": {},
   "source": [
    "We start with an algorithm that does something with an image at given pixel coordinates"
   ]
  },
  {
   "cell_type": "code",
   "execution_count": 2,
   "id": "4b205479-f418-4088-8eb0-f1ae6f5c860e",
   "metadata": {},
   "outputs": [],
   "source": [
    "def slow_thing(image, x, y):\n",
    "    # Silly algorithm for wasting compute time\n",
    "    sum = 0\n",
    "    for i in range(1000):\n",
    "        for j in range(100):\n",
    "            sum = sum + x\n",
    "        sum = sum + y\n",
    "    image[x, y] = sum\n",
    "\n",
    "image = np.zeros((10, 10))"
   ]
  },
  {
   "cell_type": "markdown",
   "id": "4a186868-2971-4780-97ef-c9532a05a590",
   "metadata": {},
   "source": [
    "We now use [timeit](https://docs.python.org/3/library/timeit.html) to measure how long the operation takes for processing a single pixel."
   ]
  },
  {
   "cell_type": "code",
   "execution_count": 3,
   "id": "d19d9c74-6187-4b88-a4a6-24d30e47a3ac",
   "metadata": {},
   "outputs": [
    {
     "name": "stdout",
     "output_type": "stream",
     "text": [
      "3.3 ms ± 395 µs per loop (mean ± std. dev. of 7 runs, 100 loops each)\n"
     ]
    }
   ],
   "source": [
    "%timeit slow_thing(image, 4, 5)"
   ]
  },
  {
   "cell_type": "markdown",
   "id": "ed6a9e66-c405-411b-a918-2a21bc513b77",
   "metadata": {},
   "source": [
    "We now define the operation on the whole image and measure the time of this function."
   ]
  },
  {
   "cell_type": "code",
   "execution_count": 4,
   "id": "42d965c7-98c7-4e63-9f8f-f5c5dd304271",
   "metadata": {},
   "outputs": [],
   "source": [
    "def process_image(image):\n",
    "    for x in range(image.shape[1]):\n",
    "        for y in range(image.shape[1]):\n",
    "            slow_thing(image, x, y)"
   ]
  },
  {
   "cell_type": "code",
   "execution_count": 5,
   "id": "2df82cdc-7ed4-4d1c-a31e-7862a211cfe5",
   "metadata": {},
   "outputs": [
    {
     "name": "stdout",
     "output_type": "stream",
     "text": [
      "353 ms ± 42.4 ms per loop (mean ± std. dev. of 7 runs, 1 loop each)\n"
     ]
    }
   ],
   "source": [
    "%timeit process_image(image)"
   ]
  },
  {
   "cell_type": "markdown",
   "id": "152d9860-90c9-46ee-9d73-48d6785dafd9",
   "metadata": {},
   "source": [
    "This function is quite slow and parallelization may make sense."
   ]
  },
  {
   "cell_type": "markdown",
   "id": "d0048e31-5126-43bf-8ff6-293b508e5544",
   "metadata": {},
   "source": [
    "## Parallelization using joblib.Parallel\n",
    "A simple and straightforward approach for parallelization is using [`joblib.Parallel`](https://joblib.readthedocs.io/en/latest/generated/joblib.Parallel.html) and `joblib.delayed`."
   ]
  },
  {
   "cell_type": "code",
   "execution_count": 6,
   "id": "fef01218-9344-409d-bcd6-1da820fef914",
   "metadata": {},
   "outputs": [],
   "source": [
    "from joblib import Parallel, delayed, cpu_count"
   ]
  },
  {
   "cell_type": "markdown",
   "id": "60999e6e-f489-4884-a15e-95bf861bbc5a",
   "metadata": {},
   "source": [
    "Note the reverse writing of the for loops in the following block. The term `delayed(slow_thing)(image, x, y)` is technically a function call, that is not executed. Later, when the return value of this call is actually needed, then the actually execution will happen. See [dask delayed](https://docs.dask.org/en/stable/delayed.html) for details."
   ]
  },
  {
   "cell_type": "code",
   "execution_count": 7,
   "id": "326eb729-0b7a-4951-818e-610c961d987c",
   "metadata": {},
   "outputs": [],
   "source": [
    "def process_image_parallel(image):\n",
    "    Parallel(n_jobs=-1)(delayed(slow_thing)(image, x, y) \n",
    "                        for y in range(image.shape[0]) \n",
    "                        for x in range(image.shape[1]))"
   ]
  },
  {
   "cell_type": "code",
   "execution_count": 8,
   "id": "5d98cc5f-99dd-48a4-abd9-22f594683b8c",
   "metadata": {},
   "outputs": [
    {
     "name": "stdout",
     "output_type": "stream",
     "text": [
      "62.4 ms ± 218 µs per loop (mean ± std. dev. of 7 runs, 1 loop each)\n"
     ]
    }
   ],
   "source": [
    "%timeit process_image_parallel(image)"
   ]
  },
  {
   "cell_type": "markdown",
   "id": "0dfd1716-3270-498f-94d0-1f036f67a35c",
   "metadata": {},
   "source": [
    "A speedup of 7 is not bad. The `n_jobs=-1` implies that all compute units / threads are used. We can also print out how many compute cores were used:"
   ]
  },
  {
   "cell_type": "code",
   "execution_count": 9,
   "id": "73d74568-984d-4160-ab22-5dd0df446b07",
   "metadata": {},
   "outputs": [
    {
     "data": {
      "text/plain": [
       "16"
      ]
     },
     "execution_count": 9,
     "metadata": {},
     "output_type": "execute_result"
    }
   ],
   "source": [
    "cpu_count()"
   ]
  },
  {
   "cell_type": "markdown",
   "id": "116a2466-fb42-4db4-a42d-5c7018e39bff",
   "metadata": {},
   "source": [
    "For documentation purposes, we can also print out on what kind of CPU that algorithm was executed. This string might be more or less informative depending on what operating system / computer we are executing this notebook."
   ]
  },
  {
   "cell_type": "code",
   "execution_count": 10,
   "id": "5d97f430-4b8b-4b9b-89aa-d1fbbb4c4803",
   "metadata": {},
   "outputs": [
    {
     "data": {
      "text/plain": [
       "'AMD64 Family 25 Model 68 Stepping 1, AuthenticAMD'"
      ]
     },
     "execution_count": 10,
     "metadata": {},
     "output_type": "execute_result"
    }
   ],
   "source": [
    "platform.processor()"
   ]
  },
  {
   "cell_type": "markdown",
   "id": "3169c33a-1346-4627-8485-9491cefa956b",
   "metadata": {},
   "source": [
    "## Benchmarking execution time\n",
    "In image processing, it is very common that execution time of algorithms shows different patterns depending on image size. We will now benchmark the algorithm above and see how it performs on differently sized images.\n",
    "To bind a function to benchmark to a given image without executing it, we are using the [partial](https://docs.python.org/3/library/functools.html#functools.partial) pattern."
   ]
  },
  {
   "cell_type": "code",
   "execution_count": 11,
   "id": "f57c6d5f-4ae7-435d-b6ec-e50d40075f91",
   "metadata": {},
   "outputs": [],
   "source": [
    "def benchmark(target_function):\n",
    "    \"\"\"\n",
    "    Tests a function on a couple of image sizes and returns times taken for processing.\n",
    "    \"\"\"\n",
    "    sizes = np.arange(1, 5) * 10\n",
    "\n",
    "    benchmark_data = []\n",
    "\n",
    "    for size in sizes:\n",
    "        print(\"Size\", size)\n",
    "\n",
    "        # make new data\n",
    "        image = np.zeros((size, size))\n",
    "        \n",
    "        # bind target function to given image\n",
    "        partial_function = partial(target_function, image)\n",
    "\n",
    "        # measure execution time\n",
    "        time_in_s = timeit.timeit(partial_function, number=10)\n",
    "        print(\"time\", time_in_s, \"s\")\n",
    "\n",
    "        # store results\n",
    "        benchmark_data.append([size, time_in_s])\n",
    "\n",
    "    return np.asarray(benchmark_data)"
   ]
  },
  {
   "cell_type": "code",
   "execution_count": 12,
   "id": "ca137a83-cd86-43c5-8737-0ec1b8c02983",
   "metadata": {},
   "outputs": [
    {
     "name": "stdout",
     "output_type": "stream",
     "text": [
      "Benchmarking normal\n",
      "Size 10\n",
      "time 3.5427859 s\n",
      "Size 20\n",
      "time 13.8465019 s\n",
      "Size 30\n",
      "time 30.883478699999998 s\n",
      "Size 40\n",
      "time 55.4255712 s\n",
      "Benchmarking parallel\n",
      "Size 10\n",
      "time 0.7873560999999967 s\n",
      "Size 20\n",
      "time 2.0985788000000127 s\n",
      "Size 30\n",
      "time 4.9782009000000045 s\n",
      "Size 40\n",
      "time 7.9171936000000045 s\n"
     ]
    }
   ],
   "source": [
    "print(\"Benchmarking normal\")\n",
    "benchmark_data_normal = benchmark(process_image)\n",
    "print(\"Benchmarking parallel\")\n",
    "benchmark_data_parallel = benchmark(process_image_parallel)"
   ]
  },
  {
   "cell_type": "code",
   "execution_count": 13,
   "id": "b1ddb8a2-1628-40eb-b656-7bde6541c249",
   "metadata": {},
   "outputs": [
    {
     "data": {
      "image/png": "[encoded data removed]",
      "text/plain": [
       "<Figure size 640x480 with 1 Axes>"
      ]
     },
     "metadata": {},
     "output_type": "display_data"
    }
   ],
   "source": [
    "plt.scatter(benchmark_data_normal[:,0] ** 2, benchmark_data_normal[:,1])\n",
    "plt.scatter(benchmark_data_parallel[:,0] ** 2, benchmark_data_parallel[:,1])\n",
    "plt.legend([\"normal\", \"parallel\"])\n",
    "plt.xlabel(\"Image size in pixels\")\n",
    "plt.ylabel(\"Compute time in s\")\n",
    "plt.show()"
   ]
  },
  {
   "cell_type": "markdown",
   "id": "71e07e3b-7fae-481d-8686-07777024ff4b",
   "metadata": {},
   "source": [
    "If we see this pattern, we speak of _linear_ relationship between data size and compute time. Computer scientists use the [O notation](https://en.wikipedia.org/wiki/Big_O_notation) to describe the [complexity](https://en.wikipedia.org/wiki/Computational_complexity) of algorithms. This algorithm has `O(n)` and `n` represents the number of pixels in this case.\n",
    "\n",
    "## Quality assurance\n",
    "Note that in this section we only measured compute time of algorithms. We did not determine if the differently optimized versions of the algorithms produce the same result. Quality assurance is good scientific practice. The same is relevant in the context of GPU-acceleration and for example described in detail [here](https://arxiv.org/pdf/2008.11799)."
   ]
  }
 ],
 "metadata": {
  "kernelspec": {
   "display_name": "Python 3 (ipykernel)",
   "language": "python",
   "name": "python3"
  },
  "language_info": {
   "codemirror_mode": {
    "name": "ipython",
    "version": 3
   },
   "file_extension": ".py",
   "mimetype": "text/x-python",
   "name": "python",
   "nbconvert_exporter": "python",
   "pygments_lexer": "ipython3",
   "version": "3.9.19"
  },
  "widgets": {
   "application/vnd.jupyter.widget-state+json": {
    "state": {},
    "version_major": 2,
    "version_minor": 0
   }
  }
 },
 "nbformat": 4,
 "nbformat_minor": 5
}
