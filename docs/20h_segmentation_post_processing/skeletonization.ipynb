{
 "cells": [
  {
   "cell_type": "markdown",
   "metadata": {},
   "source": [
    "# Skeletonization\n",
    "\n",
    "In this notebook, we will explore binary image skeletonization. Skeletonization is a process that reduces binary objects to their skeletal form, preserving the structure and connectivity of the original object."
   ]
  },
  {
   "cell_type": "code",
   "execution_count": null,
   "metadata": {},
   "outputs": [],
   "source": [
    "import numpy as np\n",
    "import matplotlib.pyplot as plt\n",
    "from skimage.morphology import skeletonize\n",
    "from skimage.util import invert\n",
    "\n",
    "# Create a binary image with a simple object\n",
    "binary_image = np.zeros((400, 400), dtype=np.uint8)\n",
    "rr, cc = np.ogrid[:400, :400]\n",
    "circle = (rr - 200) ** 2 + (cc - 200) ** 2 < 100 ** 2\n",
    "binary_image[circle] = 1\n",
    "\n",
    "# Invert the image\n",
    "binary_image = invert(binary_image)\n",
    "\n",
    "# Perform skeletonization\n",
    "skeleton = skeletonize(binary_image)\n",
    "\n",
    "# Plot the result\n",
    "fig, axes = plt.subplots(1, 2, figsize=(8, 4), sharex=True, sharey=True)\n",
    "ax = axes.ravel()\n",
    "\n",
    "ax[0].imshow(binary_image, cmap=plt.cm.gray)\n",
    "ax[0].set_title('Original binary image')\n",
    "ax[1].imshow(skeleton, cmap=plt.cm.gray)\n",
    "ax[1].set_title('Skeletonized image')\n",
    "\n",
    "for a in ax:\n",
    "    a.axis('off')\n",
    "\n",
    "plt.tight_layout()\n",
    "plt.show()"
   ]
  }
 ],
 "metadata": {
  "kernelspec": {
   "display_name": "Python 3",
   "language": "python",
   "name": "python3"
  },
  "language_info": {
   "codemirror_mode": {
    "name": "ipython",
    "version": 3
   },
   "file_extension": ".py",
   "mimetype": "text/x-python",
   "name": "python",
   "nbconvert_exporter": "python",
   "pygments_lexer": "ipython3",
   "version": "3.8.5"
  }
 },
 "nbformat": 4,
 "nbformat_minor": 4
}