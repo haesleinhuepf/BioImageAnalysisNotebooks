{
 "cells": [
  {
   "cell_type": "markdown",
   "id": "5230dc33-291b-4748-a4c8-77bb80036486",
   "metadata": {},
   "source": [
    "# Prevent magic numbers\n",
    "When reading code, we sometimes find numbers in the code where it is not ovious what they do. However, when we change them, suddenly our program does not work anymore. We call these numbers [magic numbers](https://en.wikipedia.org/wiki/Magic_number_(programming)). For example, do you know what the `3` and `7` in the code below do?"
   ]
  },
  {
   "cell_type": "code",
   "execution_count": 1,
   "id": "c0ddc835-d1a8-4d05-abc6-9df2e606b9fe",
   "metadata": {},
   "outputs": [],
   "source": [
    "from skimage.io import imread\n",
    "from skimage.filters import gaussian, threshold_otsu\n",
    "from skimage.measure import label"
   ]
  },
  {
   "cell_type": "code",
   "execution_count": 2,
   "id": "ff35ed3c-4159-479c-8be8-f314eda942d9",
   "metadata": {},
   "outputs": [
    {
     "data": {
      "text/plain": [
       "37"
      ]
     },
     "execution_count": 2,
     "metadata": {},
     "output_type": "execute_result"
    }
   ],
   "source": [
    "image = imread(\"../../data/BBBC007_batch/17P1_POS0013_D_1UL.tif\")\n",
    "\n",
    "# noise removal\n",
    "blurred = gaussian(image, 3)\n",
    "\n",
    "# instance segmentation\n",
    "binary = blurred > threshold_otsu(blurred)\n",
    "labels = label(binary)\n",
    "\n",
    "# quantitative measurement\n",
    "labels.max()"
   ]
  },
  {
   "cell_type": "code",
   "execution_count": 3,
   "id": "a373b994-def7-4bdd-8525-2c81b5970d8a",
   "metadata": {},
   "outputs": [
    {
     "data": {
      "text/plain": [
       "19"
      ]
     },
     "execution_count": 3,
     "metadata": {},
     "output_type": "execute_result"
    }
   ],
   "source": [
    "image = imread(\"../../data/BBBC007_batch/17P1_POS0013_D_1UL.tif\")\n",
    "\n",
    "# noise removal\n",
    "blurred = gaussian(image, 7)\n",
    "\n",
    "# instance segmentation\n",
    "binary = blurred > threshold_otsu(blurred)\n",
    "labels = label(binary)\n",
    "\n",
    "# quantitative measurement\n",
    "labels.max()"
   ]
  },
  {
   "cell_type": "markdown",
   "id": "d9f144e8-0b63-491d-ad45-7bdf360ad958",
   "metadata": {},
   "source": [
    "## A configuration section at the beginning\n",
    "To prevent magic numbers and to make code better readable, it is recommended to have a configuration code section at the beginning of every script / notebook. There you can also use comments to explain what variables mean. Btw. giving those variables good names is key."
   ]
  },
  {
   "cell_type": "code",
   "execution_count": 4,
   "id": "951b4f71-158f-468b-84a2-a9fd1b1deb23",
   "metadata": {},
   "outputs": [],
   "source": [
    "# enter the image filename to be processed here\n",
    "file_to_process = \"../../data/BBBC007_batch/17P1_POS0013_D_1UL.tif\"\n",
    "\n",
    "# enter the expected radius of nuclei here, in pixel units\n",
    "approximate_nuclei_radius = 3"
   ]
  },
  {
   "cell_type": "code",
   "execution_count": 5,
   "id": "9f715981-c55d-4526-bbe6-bfb0f521be49",
   "metadata": {},
   "outputs": [
    {
     "data": {
      "text/plain": [
       "37"
      ]
     },
     "execution_count": 5,
     "metadata": {},
     "output_type": "execute_result"
    }
   ],
   "source": [
    "image = imread(file_to_process)\n",
    "\n",
    "# noise removal\n",
    "blurred = gaussian(image, approximate_nuclei_radius)\n",
    "\n",
    "# instance segmentation\n",
    "binary = blurred > threshold_otsu(blurred)\n",
    "labels = label(binary)\n",
    "\n",
    "# quantitative measurement\n",
    "labels.max()"
   ]
  },
  {
   "cell_type": "markdown",
   "id": "2326b955-ec1e-416e-9606-36a2f7709d90",
   "metadata": {},
   "source": [
    "One more hint: Python allows specifying [keyword arguments](https://treyhunner.com/2018/04/keyword-arguments-in-python/) when calling functions. When using them, code becomes easier to read and understand:"
   ]
  },
  {
   "cell_type": "code",
   "execution_count": 6,
   "id": "76d0cc44-4a5e-4dcd-990e-ec2e49b5462f",
   "metadata": {},
   "outputs": [],
   "source": [
    "blurred = gaussian(image, sigma=approximate_nuclei_radius)"
   ]
  },
  {
   "cell_type": "code",
   "execution_count": null,
   "id": "5384afe5-3760-424e-8d7c-998f4aa724fe",
   "metadata": {},
   "outputs": [],
   "source": []
  }
 ],
 "metadata": {
  "kernelspec": {
   "display_name": "Python 3 (ipykernel)",
   "language": "python",
   "name": "python3"
  },
  "language_info": {
   "codemirror_mode": {
    "name": "ipython",
    "version": 3
   },
   "file_extension": ".py",
   "mimetype": "text/x-python",
   "name": "python",
   "nbconvert_exporter": "python",
   "pygments_lexer": "ipython3",
   "version": "3.9.13"
  }
 },
 "nbformat": 4,
 "nbformat_minor": 5
}
