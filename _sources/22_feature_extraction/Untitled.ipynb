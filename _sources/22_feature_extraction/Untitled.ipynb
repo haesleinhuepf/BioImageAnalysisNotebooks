{
 "cells": [
  {
   "cell_type": "code",
   "execution_count": 1,
   "id": "0c9a0a63-ea1b-42da-9467-7ff037fb2d8f",
   "metadata": {},
   "outputs": [],
   "source": [
    "from bia_bob import bob\n",
    "import stackview\n",
    "import numpy as np"
   ]
  },
  {
   "cell_type": "code",
   "execution_count": 17,
   "id": "4459f953-2e2f-447f-9c6f-d6a07e370720",
   "metadata": {},
   "outputs": [],
   "source": [
    "binary_image = np.asarray([\n",
    "    [1,0,0,0,0,0],\n",
    "    [0,1,0,0,0,0],\n",
    "    [0,0,1,0,0,0],\n",
    "    [0,0,0,1,0,0],\n",
    "    [0,0,0,1,0,0],\n",
    "    [0,0,0,1,0,0],\n",
    "])"
   ]
  },
  {
   "cell_type": "code",
   "execution_count": 19,
   "id": "bfe95e23-1b85-44e6-ba65-d2ea2b4050c5",
   "metadata": {},
   "outputs": [
    {
     "name": "stdout",
     "output_type": "stream",
     "text": [
      "[[0 0]\n",
      " [1 1]\n",
      " [2 2]\n",
      " [3 3]\n",
      " [4 3]\n",
      " [5 3]]\n"
     ]
    }
   ],
   "source": [
    "import numpy as np\n",
    "from skimage import io\n",
    "import skan\n",
    "\n",
    "# Convert binary image into a graph representation\n",
    "graph = skan.Skeleton(binary_image)\n",
    "\n",
    "# Extract the coordinates of the polyline from the graph\n",
    "polyline = graph.coordinates\n",
    "\n",
    "# Print the result\n",
    "print(polyline)"
   ]
  },
  {
   "cell_type": "code",
   "execution_count": 21,
   "id": "39a32340-a947-4eac-b1e3-5db12852ea57",
   "metadata": {},
   "outputs": [],
   "source": [
    "# Initialize a list to store the distances\n",
    "distances = [0]\n",
    "\n",
    "# Compute the distance between each pair of consecutive points in the polyline\n",
    "# Iterate over pairs of points using zip and calculate the Euclidean distance \n",
    "# between 'point' and 'follower' for each pair\n",
    "# Append the distance to the list 'distances'\n",
    "for point, follower in zip(polyline[:-1], polyline[1:]):\n",
    "    d = euclidean(point, follower)\n",
    "    distances.append(np.sum(distances[-1]) + d)\n",
    "\n",
    "# distances will contain the cumulative distances\n",
    "distances"
   ]
  },
  {
   "cell_type": "code",
   "execution_count": null,
   "id": "2da17e03-8b86-4cf2-b113-440315f5ef7d",
   "metadata": {},
   "outputs": [],
   "source": []
  }
 ],
 "metadata": {
  "kernelspec": {
   "display_name": "Python 3 (ipykernel)",
   "language": "python",
   "name": "python3"
  },
  "language_info": {
   "codemirror_mode": {
    "name": "ipython",
    "version": 3
   },
   "file_extension": ".py",
   "mimetype": "text/x-python",
   "name": "python",
   "nbconvert_exporter": "python",
   "pygments_lexer": "ipython3",
   "version": "3.9.16"
  }
 },
 "nbformat": 4,
 "nbformat_minor": 5
}
