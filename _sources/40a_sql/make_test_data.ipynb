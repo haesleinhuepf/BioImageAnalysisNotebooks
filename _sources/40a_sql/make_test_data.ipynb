{
 "cells": [
  {
   "cell_type": "markdown",
   "id": "f755f82e-d3bf-47de-b9c0-254ec7ac6f1b",
   "metadata": {},
   "source": [
    "# Experimental data\n",
    "\n",
    "This notebook serves generating some test data. Assume we designed a couple of experiments exposing cells to a certain concentration of a drug. During these experiments we acquired images and later measurements: We counted the cells over time. "
   ]
  },
  {
   "cell_type": "code",
   "execution_count": 1,
   "id": "6519a8d7-2d2d-477a-9332-96713aeb85ff",
   "metadata": {},
   "outputs": [],
   "source": [
    "import pandas as pd\n",
    "import numpy as np"
   ]
  },
  {
   "cell_type": "code",
   "execution_count": 2,
   "id": "3e7f20c3-64fd-4263-ac64-c4b683424b22",
   "metadata": {},
   "outputs": [],
   "source": [
    "experiments = {\n",
    "    \"ID\":[1,2,3,4],\n",
    "    \"Comment\":[\"High dose\", \"Medium dose\", \"Control\", \"Super high dose\"],\n",
    "    \"Concentration\":[50, 20, 0, 1000]\n",
    "}\n",
    "pd.DataFrame(experiments).to_csv(\"../../data/experiments.csv\")"
   ]
  },
  {
   "cell_type": "code",
   "execution_count": 3,
   "id": "4bf20833-aa87-42cb-abc7-a933000d67ec",
   "metadata": {},
   "outputs": [],
   "source": [
    "images = {\n",
    "    \"ID\":list(range(1, 11)),\n",
    "    \"Filename\":[f\"image{i}.tif\" for i in range(10)],\n",
    "    \"experiment_ID\":[1,1,1,2,2,2,3,3,3,3]\n",
    "}\n",
    "pd.DataFrame(images).to_csv(\"../../data/images.csv\")"
   ]
  },
  {
   "cell_type": "code",
   "execution_count": 4,
   "id": "aba5e196-61a5-4b99-8add-1ed60228e5e3",
   "metadata": {},
   "outputs": [
    {
     "name": "stdout",
     "output_type": "stream",
     "text": [
      "1 1 [99 52 33 25 21 17 15 12 11  9]\n",
      "2 1 [201  92  63  48  40  32  26  23  21  19]\n",
      "3 1 [123  59  38  30  24  20  17  14  13  11]\n",
      "4 2 [70 32 21 16 13 11  9  8  7  6]\n",
      "5 2 [63 33 21 16 13 11  9  8  7  6]\n",
      "6 2 [158  75  50  37  29  24  22  19  17  15]\n",
      "7 3 [153 142 145 146 153 143 153 143 149 150]\n",
      "8 3 [157 151 148 151 150 161 154 157 158 149]\n",
      "9 3 [63 60 59 61 60 61 61 58 59 63]\n",
      "10 3 [52 54 53 54 56 52 54 54 54 51]\n"
     ]
    }
   ],
   "source": [
    "measurements = {\n",
    "    \"image_ID\":[],\n",
    "    \"time_after_exposure_in_s\":[],\n",
    "    \"number_of_cells\":[]\n",
    "}\n",
    "\n",
    "for i, e in zip(images[\"ID\"], images[\"experiment_ID\"]):\n",
    "        \n",
    "    num_cells_over_time = (np.random.random(1) + 0.5) * (np.random.random((10,)) * 10 + 100)\n",
    "    \n",
    "    if e < 3: # control; no decay\n",
    "        decay = np.reciprocal(np.arange(1, 11) / (1 + np.exp(-e)))\n",
    "        num_cells_over_time = num_cells_over_time * decay\n",
    "        \n",
    "    num_cells_over_time = num_cells_over_time.astype(int)\n",
    "    \n",
    "    print(i, e, num_cells_over_time)\n",
    "    \n",
    "    for t, n in enumerate(num_cells_over_time):\n",
    "        measurements[\"image_ID\"].append(i)\n",
    "        measurements[\"time_after_exposure_in_s\"].append(t)\n",
    "        measurements[\"number_of_cells\"].append(n)\n",
    "    \n",
    "    \n",
    "pd.DataFrame(measurements).to_csv(\"../../data/measurements.csv\")"
   ]
  },
  {
   "cell_type": "code",
   "execution_count": null,
   "id": "01a2bdc7-55f6-456e-931f-c46a4daccf4f",
   "metadata": {},
   "outputs": [],
   "source": []
  }
 ],
 "metadata": {
  "kernelspec": {
   "display_name": "Python 3 (ipykernel)",
   "language": "python",
   "name": "python3"
  },
  "language_info": {
   "codemirror_mode": {
    "name": "ipython",
    "version": 3
   },
   "file_extension": ".py",
   "mimetype": "text/x-python",
   "name": "python",
   "nbconvert_exporter": "python",
   "pygments_lexer": "ipython3",
   "version": "3.9.15"
  },
  "widgets": {
   "application/vnd.jupyter.widget-state+json": {
    "state": {},
    "version_major": 2,
    "version_minor": 0
   }
  }
 },
 "nbformat": 4,
 "nbformat_minor": 5
}
