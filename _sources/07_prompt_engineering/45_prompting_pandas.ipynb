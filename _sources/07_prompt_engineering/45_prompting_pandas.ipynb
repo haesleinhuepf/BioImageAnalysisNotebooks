{
 "cells": [
  {
   "cell_type": "markdown",
   "id": "e4a5187a-1ffb-4164-83c9-472a3ed525cd",
   "metadata": {},
   "source": [
    "# Prompting tasks for pandas\n",
    "In this notebook we use bob to explore and plot some tabular data using [pandas](https://pandas.pydata.org/)."
   ]
  },
  {
   "cell_type": "code",
   "execution_count": 1,
   "id": "61d91b32-ec3a-413f-a665-c327471d8057",
   "metadata": {},
   "outputs": [],
   "source": [
    "from bia_bob import bob"
   ]
  },
  {
   "cell_type": "markdown",
   "id": "8dfce434-9f86-48cb-8e87-fb45037e79be",
   "metadata": {},
   "source": [
    "In this example we use a [videogame sales dataset by Gregory Smith](https://zenodo.org/records/5898311) which is licensed [CC-BY 4.0](https://creativecommons.org/licenses/by/4.0/legalcode)."
   ]
  },
  {
   "cell_type": "code",
   "execution_count": 2,
   "id": "f924eb45-f99d-4755-9849-7125bc4ddbb5",
   "metadata": {},
   "outputs": [
    {
     "data": {
      "text/markdown": [
       "Plan:\n",
       "1. Import the pandas library.\n",
       "2. Use the `try-except` block to check if the file `vgsales.csv` exists.\n",
       "3. If the file exists, open it using pandas.\n",
       "4. If the file doesn't exist, download it from the provided URL and save it as `vgsales.csv`.\n",
       "5. Open the file using pandas.\n",
       "\n",
       "Code:\n"
      ],
      "text/plain": [
       "<IPython.core.display.Markdown object>"
      ]
     },
     "metadata": {},
     "output_type": "display_data"
    }
   ],
   "source": [
    "%%bob\n",
    "write python code that\n",
    "* opens the file vgsales.csv using pandas\n",
    "* if the file doesn't exist, open it from https://zenodo.org/records/5898311/files/vgsales.csv?download=1 \n",
    "  and save it as vgsales.csv"
   ]
  },
  {
   "cell_type": "code",
   "execution_count": 3,
   "id": "ea107335-b5d7-4b32-8fa9-62aabd92cfaf",
   "metadata": {},
   "outputs": [
    {
     "name": "stdout",
     "output_type": "stream",
     "text": [
      "   Rank                      Name Platform    Year         Genre Publisher  \\\n",
      "0     1                Wii Sports      Wii  2006.0        Sports  Nintendo   \n",
      "1     2         Super Mario Bros.      NES  1985.0      Platform  Nintendo   \n",
      "2     3            Mario Kart Wii      Wii  2008.0        Racing  Nintendo   \n",
      "3     4         Wii Sports Resort      Wii  2009.0        Sports  Nintendo   \n",
      "4     5  Pokemon Red/Pokemon Blue       GB  1996.0  Role-Playing  Nintendo   \n",
      "\n",
      "   NA_Sales  EU_Sales  JP_Sales  Other_Sales  Global_Sales  \n",
      "0     41.49     29.02      3.77         8.46         82.74  \n",
      "1     29.08      3.58      6.81         0.77         40.24  \n",
      "2     15.85     12.88      3.79         3.31         35.82  \n",
      "3     15.75     11.01      3.28         2.96         33.00  \n",
      "4     11.27      8.89     10.22         1.00         31.37  \n"
     ]
    }
   ],
   "source": [
    "import pandas as pd\n",
    "\n",
    "try:\n",
    "    # Try to open the file\n",
    "    df = pd.read_csv('vgsales.csv')\n",
    "except FileNotFoundError:\n",
    "    # If the file doesn't exist, download it and save as 'vgsales.csv'\n",
    "    url = 'https://zenodo.org/records/5898311/files/vgsales.csv?download=1'\n",
    "    df = pd.read_csv(url)\n",
    "    df.to_csv('vgsales.csv')\n",
    "\n",
    "# Print the first few rows of the dataframe\n",
    "print(df.head())"
   ]
  },
  {
   "cell_type": "code",
   "execution_count": 4,
   "id": "d62ddb2a-f39a-4211-ab31-ae3717621899",
   "metadata": {},
   "outputs": [
    {
     "data": {
      "text/markdown": [
       "Plan:\n",
       "1. Group the data by the 'Year' column.\n",
       "2. Calculate the sum of 'Global_Sales' for each year.\n",
       "3. Sort the data in ascending order by year.\n",
       "4. Plot a bar plot of the 'Global_Sales' values.\n",
       "\n",
       "Code:\n"
      ],
      "text/plain": [
       "<IPython.core.display.Markdown object>"
      ]
     },
     "metadata": {},
     "output_type": "display_data"
    }
   ],
   "source": [
    "%%bob \n",
    "group and sort the data by Year and \n",
    "draw a bar plot of Global_Sales"
   ]
  },
  {
   "cell_type": "code",
   "execution_count": 5,
   "id": "d8e1d740-8fcc-489d-b64b-075f219d852b",
   "metadata": {},
   "outputs": [
    {
     "data": {
      "image/png": "[encoded data removed]",
      "text/plain": [
       "<Figure size 640x480 with 1 Axes>"
      ]
     },
     "metadata": {},
     "output_type": "display_data"
    }
   ],
   "source": [
    "import pandas as pd\n",
    "import matplotlib.pyplot as plt\n",
    "\n",
    "# Group the data by 'Year' and calculate the sum of 'Global_Sales'\n",
    "grouped_data = df.groupby('Year')['Global_Sales'].sum()\n",
    "\n",
    "# Sort the data in ascending order by year\n",
    "sorted_data = grouped_data.sort_values(ascending=True)\n",
    "\n",
    "# Plot a bar plot of the 'Global_Sales' values\n",
    "plt.bar(sorted_data.index, sorted_data.values)\n",
    "plt.xlabel('Year')\n",
    "plt.ylabel('Global Sales')\n",
    "plt.title('Global Sales per Year')\n",
    "\n",
    "# Adjust the x-axis labels for better visibility\n",
    "plt.xticks(rotation=45)\n",
    "\n",
    "# Show the plot\n",
    "plt.show()"
   ]
  },
  {
   "cell_type": "code",
   "execution_count": 6,
   "id": "51702500-d8c7-4e06-9c09-cc0dbcbe60f6",
   "metadata": {},
   "outputs": [
    {
     "data": {
      "text/markdown": [
       "Plan:\n",
       "1. Sort the dataset based on the 'Global_Sales' column in descending order.\n",
       "2. Select the first 10 datasets from the sorted dataset.\n",
       "\n",
       "Code:\n"
      ],
      "text/plain": [
       "<IPython.core.display.Markdown object>"
      ]
     },
     "metadata": {},
     "output_type": "display_data"
    }
   ],
   "source": [
    "%%bob\n",
    "Select the 10 datasets with the highest Global_Sales"
   ]
  },
  {
   "cell_type": "code",
   "execution_count": 7,
   "id": "45abd226-6161-4007-b3a9-77385b50d2b0",
   "metadata": {},
   "outputs": [
    {
     "name": "stdout",
     "output_type": "stream",
     "text": [
      "   Rank                       Name Platform    Year         Genre Publisher  \\\n",
      "0     1                 Wii Sports      Wii  2006.0        Sports  Nintendo   \n",
      "1     2          Super Mario Bros.      NES  1985.0      Platform  Nintendo   \n",
      "2     3             Mario Kart Wii      Wii  2008.0        Racing  Nintendo   \n",
      "3     4          Wii Sports Resort      Wii  2009.0        Sports  Nintendo   \n",
      "4     5   Pokemon Red/Pokemon Blue       GB  1996.0  Role-Playing  Nintendo   \n",
      "5     6                     Tetris       GB  1989.0        Puzzle  Nintendo   \n",
      "6     7      New Super Mario Bros.       DS  2006.0      Platform  Nintendo   \n",
      "7     8                   Wii Play      Wii  2006.0          Misc  Nintendo   \n",
      "8     9  New Super Mario Bros. Wii      Wii  2009.0      Platform  Nintendo   \n",
      "9    10                  Duck Hunt      NES  1984.0       Shooter  Nintendo   \n",
      "\n",
      "   NA_Sales  EU_Sales  JP_Sales  Other_Sales  Global_Sales  \n",
      "0     41.49     29.02      3.77         8.46         82.74  \n",
      "1     29.08      3.58      6.81         0.77         40.24  \n",
      "2     15.85     12.88      3.79         3.31         35.82  \n",
      "3     15.75     11.01      3.28         2.96         33.00  \n",
      "4     11.27      8.89     10.22         1.00         31.37  \n",
      "5     23.20      2.26      4.22         0.58         30.26  \n",
      "6     11.38      9.23      6.50         2.90         30.01  \n",
      "7     14.03      9.20      2.93         2.85         29.02  \n",
      "8     14.59      7.06      4.70         2.26         28.62  \n",
      "9     26.93      0.63      0.28         0.47         28.31  \n"
     ]
    }
   ],
   "source": [
    "# Sort the dataset based on 'Global_Sales' in descending order\n",
    "sorted_data = df.sort_values(by='Global_Sales', ascending=False)\n",
    "\n",
    "# Select the first 10 datasets with highest 'Global_Sales'\n",
    "top_10_datasets = sorted_data.head(10)\n",
    "\n",
    "# Display the selected datasets\n",
    "print(top_10_datasets)"
   ]
  },
  {
   "cell_type": "markdown",
   "id": "dfe7f45f-5d34-4017-9f55-865578c81480",
   "metadata": {},
   "source": [
    "## Exercise\n",
    "Use `%%bob` to determine the most sold game."
   ]
  },
  {
   "cell_type": "code",
   "execution_count": null,
   "id": "24f5f690-5fbb-485a-a324-0328e3ecfb03",
   "metadata": {},
   "outputs": [],
   "source": []
  }
 ],
 "metadata": {
  "kernelspec": {
   "display_name": "Python 3 (ipykernel)",
   "language": "python",
   "name": "python3"
  },
  "language_info": {
   "codemirror_mode": {
    "name": "ipython",
    "version": 3
   },
   "file_extension": ".py",
   "mimetype": "text/x-python",
   "name": "python",
   "nbconvert_exporter": "python",
   "pygments_lexer": "ipython3",
   "version": "3.10.13"
  }
 },
 "nbformat": 4,
 "nbformat_minor": 5
}
