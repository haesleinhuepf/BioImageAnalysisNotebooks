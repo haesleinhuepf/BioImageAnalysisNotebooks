{
 "cells": [
  {
   "cell_type": "markdown",
   "id": "d68666d3-ff03-42da-8ca6-b4207be48ae6",
   "metadata": {},
   "source": [
    "# Accessing meta data on Zenodo\n",
    "In this notebook we see how to access meta data of records on zenodo.org"
   ]
  },
  {
   "cell_type": "code",
   "execution_count": 1,
   "id": "61cbaf09-b397-4560-a9b4-a9f7069346fe",
   "metadata": {},
   "outputs": [],
   "source": [
    "import requests\n",
    "import json"
   ]
  },
  {
   "cell_type": "markdown",
   "id": "a24875e0-94bf-4ccb-a1e8-9bcc0eaef06d",
   "metadata": {},
   "source": [
    "For this, we write a little helper function."
   ]
  },
  {
   "cell_type": "code",
   "execution_count": 2,
   "id": "a147e672-b54d-40b1-9050-d3ec6ab1d424",
   "metadata": {},
   "outputs": [],
   "source": [
    "def read_zenodo(record):\n",
    "    \"\"\"\n",
    "    Reads meta data from records on zenodo.org and returns them as json object.\n",
    "    The record can be a link ()\n",
    "    \"\"\"\n",
    "    import requests\n",
    "    import json\n",
    "\n",
    "    record = record.replace(\"https://zenodo.org/\", \"\")\n",
    "    url = \"https://zenodo.org/api/\" + record\n",
    "    \n",
    "    # Download the file\n",
    "    response = requests.get(url)\n",
    "    data = response.json()\n",
    "    return data"
   ]
  },
  {
   "cell_type": "markdown",
   "id": "69602a75-901c-4ca6-a6de-f78659813344",
   "metadata": {},
   "source": [
    "We can then call the function and store the results in a `data` object."
   ]
  },
  {
   "cell_type": "code",
   "execution_count": 3,
   "id": "0489fd47-488d-4814-b1cb-6215d60bba4d",
   "metadata": {},
   "outputs": [
    {
     "data": {
      "text/plain": [
       "{'created': '2019-10-15T07:35:56.339355+00:00',\n",
       " 'modified': '2020-01-20T17:07:16.366704+00:00',\n",
       " 'id': 3490058,\n",
       " 'conceptrecid': '3490057',\n",
       " 'doi': '10.5281/zenodo.3490058',\n",
       " 'conceptdoi': '10.5281/zenodo.3490057',\n",
       " 'doi_url': 'https://doi.org/10.5281/zenodo.3490058',\n",
       " 'metadata': {'title': 'Efficiently starting institutional research data management',\n",
       "  'doi': '10.5281/zenodo.3490058',\n",
       "  'publication_date': '2019-10-15',\n",
       "  'description': '<p>Researchers are increasingly often confronted with research data management (RDM) topics during their work. Higher education institutions therefore begin to offer services for RDM at some point to give support and advice. However, many groundbreaking decisions have to be made at the very beginning of RDM services. Priorities must be set and policies formulated. Likewise, the staff must first be qualified in order to provide advice and adequately deal with the manifold problems awaiting.<br>\\nThe FDMentor project has therefore bundled the expertise of five German universities with different experiences and levels of RDM knowledge to jointly develop strategies, roadmaps, guidelines, and open access training material. Humboldt-Universit&auml;t zu Berlin, Freie Universit&auml;t Berlin, Technische Universit&auml;t Berlin, University of Potsdam, and European University Viadrina Frankfurt (Oder) have worked together on common solutions that are easy to adapt. With funding of the German Federal Ministry of Education and Research, the collaborative project addressed four problem areas: strategy development, legal issues, policy development, and competence enhancement. The aim of the project outcomes is to provide other higher education institutions with the best possible support for the efficient introduction of research data management. Therefore, all project results are freely accessible under the CC-BY 4.0 international license. The early involvement of the community in the form of workshops and the collection of feedback has proven its worth: the FDMentor strategies, roadmaps, guidelines, and training materials are applied and adapted beyond the partner universities.</p>',\n",
       "  'access_right': 'open',\n",
       "  'creators': [{'name': 'Biernacka, Katarzyna',\n",
       "    'affiliation': 'Humboldt-Universität zu Berlin',\n",
       "    'orcid': '0000-0002-6363-0064'},\n",
       "   {'name': 'Cortez, Katrin', 'affiliation': 'Humboldt-Universität zu Berlin'},\n",
       "   {'name': 'Helbig, Kerstin',\n",
       "    'affiliation': 'Humboldt-Universität zu Berlin',\n",
       "    'orcid': '0000-0002-2775-6751'}],\n",
       "  'version': '1.0',\n",
       "  'language': 'eng',\n",
       "  'resource_type': {'title': 'Poster', 'type': 'poster'},\n",
       "  'meeting': {'title': 'RDA 14th Plenary - Data Makes the Difference',\n",
       "   'dates': '23-25 October 2019',\n",
       "   'place': 'Helsinki, Finland',\n",
       "   'url': 'https://www.rd-alliance.org/rda-14th-plenary-helsinki-espoo'},\n",
       "  'license': {'id': 'cc-by-4.0'},\n",
       "  'communities': [{'id': 'fdmentor'}],\n",
       "  'relations': {'version': [{'index': 0,\n",
       "     'is_last': True,\n",
       "     'parent': {'pid_type': 'recid', 'pid_value': '3490057'}}]},\n",
       "  'notes': 'This work was funded by the German Federal Ministry of Education and Research (FKZ 16FDM010) and presented at the RDA Plenary 2019 in Helsinki, Finland.'},\n",
       " 'title': 'Efficiently starting institutional research data management',\n",
       " 'links': {'self': 'https://zenodo.org/api/records/3490058',\n",
       "  'self_html': 'https://zenodo.org/records/3490058',\n",
       "  'self_doi': 'https://zenodo.org/doi/10.5281/zenodo.3490058',\n",
       "  'doi': 'https://doi.org/10.5281/zenodo.3490058',\n",
       "  'parent': 'https://zenodo.org/api/records/3490057',\n",
       "  'parent_html': 'https://zenodo.org/records/3490057',\n",
       "  'parent_doi': 'https://zenodo.org/doi/10.5281/zenodo.3490057',\n",
       "  'self_iiif_manifest': 'https://zenodo.org/api/iiif/record:3490058/manifest',\n",
       "  'self_iiif_sequence': 'https://zenodo.org/api/iiif/record:3490058/sequence/default',\n",
       "  'files': 'https://zenodo.org/api/records/3490058/files',\n",
       "  'media_files': 'https://zenodo.org/api/records/3490058/media-files',\n",
       "  'archive': 'https://zenodo.org/api/records/3490058/files-archive',\n",
       "  'archive_media': 'https://zenodo.org/api/records/3490058/media-files-archive',\n",
       "  'latest': 'https://zenodo.org/api/records/3490058/versions/latest',\n",
       "  'latest_html': 'https://zenodo.org/records/3490058/latest',\n",
       "  'draft': 'https://zenodo.org/api/records/3490058/draft',\n",
       "  'versions': 'https://zenodo.org/api/records/3490058/versions',\n",
       "  'access_links': 'https://zenodo.org/api/records/3490058/access/links',\n",
       "  'access_users': 'https://zenodo.org/api/records/3490058/access/users',\n",
       "  'access_request': 'https://zenodo.org/api/records/3490058/access/request',\n",
       "  'access': 'https://zenodo.org/api/records/3490058/access',\n",
       "  'reserve_doi': 'https://zenodo.org/api/records/3490058/draft/pids/doi',\n",
       "  'communities': 'https://zenodo.org/api/records/3490058/communities',\n",
       "  'communities-suggestions': 'https://zenodo.org/api/records/3490058/communities-suggestions',\n",
       "  'requests': 'https://zenodo.org/api/records/3490058/requests'},\n",
       " 'updated': '2020-01-20T17:07:16.366704+00:00',\n",
       " 'recid': '3490058',\n",
       " 'revision': 5,\n",
       " 'files': [{'id': 'b6d0b3e8-895b-4934-a8cd-1f1748b5a0ae',\n",
       "   'key': 'Poster-Efficiently-starting-institutional-RDM.pdf',\n",
       "   'size': 433244,\n",
       "   'checksum': 'md5:a1399249c4b1368107959c5cc897ae2d',\n",
       "   'links': {'self': 'https://zenodo.org/api/records/3490058/files/Poster-Efficiently-starting-institutional-RDM.pdf/content'}}],\n",
       " 'owners': [{'id': 18826}],\n",
       " 'status': 'published',\n",
       " 'stats': {'downloads': 95,\n",
       "  'unique_downloads': 89,\n",
       "  'views': 158,\n",
       "  'unique_views': 142,\n",
       "  'version_downloads': 93,\n",
       "  'version_unique_downloads': 87,\n",
       "  'version_unique_views': 137,\n",
       "  'version_views': 153},\n",
       " 'state': 'done',\n",
       " 'submitted': True}"
      ]
     },
     "execution_count": 3,
     "metadata": {},
     "output_type": "execute_result"
    }
   ],
   "source": [
    "data = read_zenodo(\"https://zenodo.org/records/3490058\")\n",
    "\n",
    "data"
   ]
  },
  {
   "cell_type": "markdown",
   "id": "fa59993d-dfa2-4d51-8c04-32a2b4b2f6e0",
   "metadata": {},
   "source": [
    "This [json](https://www.json.org/json-en.html) object consists of Python dictionaries and lists. We can navigate through those and extract information."
   ]
  },
  {
   "cell_type": "code",
   "execution_count": 4,
   "id": "7a554615-b15e-4360-a7f4-69cd241383ed",
   "metadata": {},
   "outputs": [
    {
     "data": {
      "text/plain": [
       "'published'"
      ]
     },
     "execution_count": 4,
     "metadata": {},
     "output_type": "execute_result"
    }
   ],
   "source": [
    "data['status']"
   ]
  },
  {
   "cell_type": "code",
   "execution_count": 5,
   "id": "3b4c977b-786a-4225-b071-b1d08bdc59a1",
   "metadata": {},
   "outputs": [
    {
     "data": {
      "text/plain": [
       "'eng'"
      ]
     },
     "execution_count": 5,
     "metadata": {},
     "output_type": "execute_result"
    }
   ],
   "source": [
    "data['metadata']['language']"
   ]
  },
  {
   "cell_type": "code",
   "execution_count": 6,
   "id": "c4f7bfd4-8a19-47db-a648-c04b28174be9",
   "metadata": {},
   "outputs": [
    {
     "data": {
      "text/plain": [
       "[{'id': 'b6d0b3e8-895b-4934-a8cd-1f1748b5a0ae',\n",
       "  'key': 'Poster-Efficiently-starting-institutional-RDM.pdf',\n",
       "  'size': 433244,\n",
       "  'checksum': 'md5:a1399249c4b1368107959c5cc897ae2d',\n",
       "  'links': {'self': 'https://zenodo.org/api/records/3490058/files/Poster-Efficiently-starting-institutional-RDM.pdf/content'}}]"
      ]
     },
     "execution_count": 6,
     "metadata": {},
     "output_type": "execute_result"
    }
   ],
   "source": [
    "data['files']"
   ]
  },
  {
   "cell_type": "code",
   "execution_count": 7,
   "id": "47530402-a22b-496c-a7bc-c0418097cf54",
   "metadata": {},
   "outputs": [
    {
     "data": {
      "text/plain": [
       "['Poster-Efficiently-starting-institutional-RDM.pdf']"
      ]
     },
     "execution_count": 7,
     "metadata": {},
     "output_type": "execute_result"
    }
   ],
   "source": [
    "[f['key'] for f in data['files']]"
   ]
  },
  {
   "cell_type": "markdown",
   "id": "393d0dd2-7c22-4098-a44d-402263abbf96",
   "metadata": {},
   "source": [
    "## Exercises\n",
    "Print out the list of author names of the record above."
   ]
  },
  {
   "cell_type": "code",
   "execution_count": null,
   "id": "87140633-cce3-4985-b56b-76a9def83d85",
   "metadata": {},
   "outputs": [],
   "source": []
  },
  {
   "cell_type": "markdown",
   "id": "c0bff1ae-e69c-4d8a-b760-63817b981adf",
   "metadata": {},
   "source": [
    "Print out the place of the meeting where the slides were presented."
   ]
  },
  {
   "cell_type": "code",
   "execution_count": null,
   "id": "ac7fe27b-ad3f-4610-9fa5-b5c8a5155200",
   "metadata": {},
   "outputs": [],
   "source": []
  },
  {
   "cell_type": "markdown",
   "id": "97c8976c-57d3-4fab-a403-680b0fe404f2",
   "metadata": {},
   "source": [
    "Print out how often the record was viewed and downloaded."
   ]
  },
  {
   "cell_type": "code",
   "execution_count": null,
   "id": "b0608a31-c211-4988-b6ff-4cff9a419928",
   "metadata": {},
   "outputs": [],
   "source": []
  }
 ],
 "metadata": {
  "kernelspec": {
   "display_name": "Python 3 (ipykernel)",
   "language": "python",
   "name": "python3"
  },
  "language_info": {
   "codemirror_mode": {
    "name": "ipython",
    "version": 3
   },
   "file_extension": ".py",
   "mimetype": "text/x-python",
   "name": "python",
   "nbconvert_exporter": "python",
   "pygments_lexer": "ipython3",
   "version": "3.9.16"
  }
 },
 "nbformat": 4,
 "nbformat_minor": 5
}
