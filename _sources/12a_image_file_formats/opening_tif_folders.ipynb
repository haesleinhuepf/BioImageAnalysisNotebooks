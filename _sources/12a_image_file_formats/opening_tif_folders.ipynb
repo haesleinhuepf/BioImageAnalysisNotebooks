{
 "cells": [
  {
   "cell_type": "markdown",
   "id": "71f84baf-4332-4a4f-8b04-989417f0dac4",
   "metadata": {},
   "source": [
    "# Loading multi-channel / multi-position folders of tif-files\n",
    "Some microscopes write image data to disc as tif-files slice-by slice. You find then many files named for example `image_z03_ch01.tif` in these folders. For loading these folders you typically need to know details such as how many z-slices and how many channels were imaged, or if the image data has multiple time-points or not. \n",
    "\n",
    "See also [this discussion](https://forum.image.sc/t/reading-2d-images-as-a-multi-channel-3d-stack-in-python/75460)."
   ]
  },
  {
   "cell_type": "code",
   "execution_count": 1,
   "id": "5dcadd94-3c42-435a-a4cc-52082757b13c",
   "metadata": {},
   "outputs": [],
   "source": [
    "from skimage import io\n",
    "import matplotlib.pyplot as plt\n",
    "import tifffile as tif\n",
    "import numpy as np\n",
    "\n",
    "import shutil\n",
    "import os\n",
    "\n",
    "path = \"../../data/tif_folder/\""
   ]
  },
  {
   "cell_type": "markdown",
   "id": "d16d6962-3e29-4b93-a1b9-54d2d7b9c539",
   "metadata": {},
   "source": [
    "For demonstration purposes, we just create such a folder with dummy image data."
   ]
  },
  {
   "cell_type": "code",
   "execution_count": 2,
   "id": "c4d89a5f-5f7d-44e2-b350-4a8a8ec11040",
   "metadata": {},
   "outputs": [],
   "source": [
    "if not os.path.exists(path):\n",
    "    os.mkdir(path)"
   ]
  },
  {
   "cell_type": "code",
   "execution_count": 3,
   "id": "f5cc4c11-b95e-406a-b16d-f02a98f40ccd",
   "metadata": {},
   "outputs": [],
   "source": [
    "for z in range(1,7):\n",
    "    for c in range(1,5):\n",
    "        #image = io.imread(\"c:/structure/data/blobs.tif\")\n",
    "        #io.imsave(f\"c:/structure/data/images/r01c01f34p0{z}-ch0{c}t01.tiff\", image)\n",
    "        \n",
    "        shutil.copy(\"../../data/blobs.tif\",\n",
    "                    path + f\"image_z{str(z).zfill(2)}-ch{str(c).zfill(2)}.tiff\")"
   ]
  },
  {
   "cell_type": "markdown",
   "id": "2d57f8f6-52e3-454f-a05f-34c28b20cbc0",
   "metadata": {},
   "source": [
    "To get an overview, we can print out the file names in the folder."
   ]
  },
  {
   "cell_type": "code",
   "execution_count": 4,
   "id": "bbf4b820-b7ab-4406-8ee0-90469159aa25",
   "metadata": {},
   "outputs": [
    {
     "name": "stdout",
     "output_type": "stream",
     "text": [
      "image_z01-ch01.tiff\n",
      "image_z01-ch02.tiff\n",
      "image_z01-ch03.tiff\n",
      "image_z01-ch04.tiff\n",
      "image_z02-ch01.tiff\n",
      "image_z02-ch02.tiff\n",
      "image_z02-ch03.tiff\n",
      "image_z02-ch04.tiff\n",
      "image_z03-ch01.tiff\n",
      "image_z03-ch02.tiff\n",
      "image_z03-ch03.tiff\n",
      "image_z03-ch04.tiff\n",
      "image_z04-ch01.tiff\n",
      "image_z04-ch02.tiff\n",
      "image_z04-ch03.tiff\n",
      "image_z04-ch04.tiff\n",
      "image_z05-ch01.tiff\n",
      "image_z05-ch02.tiff\n",
      "image_z05-ch03.tiff\n",
      "image_z05-ch04.tiff\n",
      "image_z06-ch01.tiff\n",
      "image_z06-ch02.tiff\n",
      "image_z06-ch03.tiff\n",
      "image_z06-ch04.tiff\n"
     ]
    }
   ],
   "source": [
    "for file in os.listdir(path):\n",
    "    print(file)"
   ]
  },
  {
   "cell_type": "markdown",
   "id": "fecc5d69-2f8c-4c05-89d2-41b40616b916",
   "metadata": {},
   "source": [
    "scikit-image offers a [`imread_collection`](https://scikit-image.org/docs/stable/api/skimage.io.html#skimage.io.imread_collection) for loading files matching to a pattern, e.g. containing `*`."
   ]
  },
  {
   "cell_type": "code",
   "execution_count": 5,
   "id": "4ee85a79-0c8e-4d1b-a2a5-b563c25d8b39",
   "metadata": {},
   "outputs": [
    {
     "data": {
      "text/plain": [
       "<skimage.io.collection.ImageCollection at 0x2244cd228e0>"
      ]
     },
     "execution_count": 5,
     "metadata": {},
     "output_type": "execute_result"
    }
   ],
   "source": [
    "im_collection = io.imread_collection(path + \"*\")\n",
    "im_collection"
   ]
  },
  {
   "cell_type": "markdown",
   "id": "118f72a7-9124-4970-9d3a-95e78c4635bd",
   "metadata": {},
   "source": [
    "You can turn this collection of images into an numpy-array-based image stack. Unfortunately, the number of z-slices and channels is unknown at this point."
   ]
  },
  {
   "cell_type": "code",
   "execution_count": 6,
   "id": "61ebcdcd-a8f8-4b7f-a6e6-470541e14d1b",
   "metadata": {},
   "outputs": [
    {
     "data": {
      "text/plain": [
       "(24, 254, 256)"
      ]
     },
     "execution_count": 6,
     "metadata": {},
     "output_type": "execute_result"
    }
   ],
   "source": [
    "image_stack = im_collection.concatenate()\n",
    "image_stack.shape"
   ]
  },
  {
   "cell_type": "markdown",
   "id": "ed8a414b-6b3d-4898-a2cb-be04fe5f2bdc",
   "metadata": {},
   "source": [
    "If you know the number of z-slices and channels, you can [`reshape`]() the image to a 3D+ch or 4D image."
   ]
  },
  {
   "cell_type": "code",
   "execution_count": 7,
   "id": "56260861-930d-4faf-9fea-ef16be53a4ab",
   "metadata": {},
   "outputs": [
    {
     "data": {
      "text/plain": [
       "(4, 6, 254, 256)"
      ]
     },
     "execution_count": 7,
     "metadata": {},
     "output_type": "execute_result"
    }
   ],
   "source": [
    "num_channels = 4\n",
    "num_z_slices = 6\n",
    "image4d = np.reshape(image_stack, (num_channels, num_z_slices, image_stack.shape[-2], image_stack.shape[-1]))\n",
    "image4d.shape"
   ]
  },
  {
   "cell_type": "markdown",
   "id": "5eb92aad-91b4-444b-977f-996ba6bec1ff",
   "metadata": {},
   "source": [
    "Alternatively, you can also build your own for-loops for loading the data from disc. This gives you a bit more freedom, e.g. for sorting slices and channels into the dimensions used."
   ]
  },
  {
   "cell_type": "code",
   "execution_count": 8,
   "id": "bf1fa78a-de06-406c-97d8-fc42a1627ed7",
   "metadata": {},
   "outputs": [
    {
     "data": {
      "text/plain": [
       "(6, 4, 254, 256)"
      ]
     },
     "execution_count": 8,
     "metadata": {},
     "output_type": "execute_result"
    }
   ],
   "source": [
    "num_channels = 4\n",
    "num_z_slices = 6\n",
    "\n",
    "image4d_loaded = np.asarray([\n",
    "    [io.imread(path + f\"image_z{str(z).zfill(2)}-ch{str(c).zfill(2)}.tiff\") for c in range(1, 5)]\n",
    "    for z in range(1, 7)\n",
    "])\n",
    "image4d_loaded.shape"
   ]
  },
  {
   "cell_type": "code",
   "execution_count": null,
   "id": "ae87cfa4-5acd-4e98-a520-bd04be1d54ab",
   "metadata": {},
   "outputs": [],
   "source": []
  }
 ],
 "metadata": {
  "kernelspec": {
   "display_name": "Python 3 (ipykernel)",
   "language": "python",
   "name": "python3"
  },
  "language_info": {
   "codemirror_mode": {
    "name": "ipython",
    "version": 3
   },
   "file_extension": ".py",
   "mimetype": "text/x-python",
   "name": "python",
   "nbconvert_exporter": "python",
   "pygments_lexer": "ipython3",
   "version": "3.9.15"
  },
  "widgets": {
   "application/vnd.jupyter.widget-state+json": {
    "state": {},
    "version_major": 2,
    "version_minor": 0
   }
  }
 },
 "nbformat": 4,
 "nbformat_minor": 5
}
