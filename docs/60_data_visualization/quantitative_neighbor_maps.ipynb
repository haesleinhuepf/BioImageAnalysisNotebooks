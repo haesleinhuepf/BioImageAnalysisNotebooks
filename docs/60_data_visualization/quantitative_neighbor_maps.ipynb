{
 "cells": [
  {
   "cell_type": "markdown",
   "metadata": {},
   "source": [
    "# Quantitative maps from neighbor statistics"
   ]
  },
  {
   "cell_type": "code",
   "execution_count": 1,
   "metadata": {},
   "outputs": [],
   "source": [
    "import pyclesperanto_prototype as cle\n",
    "import numpy as np\n",
    "from numpy import random\n",
    "from skimage.io import imread\n",
    "import matplotlib"
   ]
  },
  {
   "cell_type": "markdown",
   "metadata": {},
   "source": [
    "The example imge \"maize_clsm.tif\" was taken from the repository [mathematical_morphology_with_MorphoLibJ](https://github.com/dlegland/mathematical_morphology_with_MorphoLibJ) and is licensed by David Legland under [CC-BY 4.0 license](\n",
    "https://github.com/dlegland/mathematical_morphology_with_MorphoLibJ/blob/master/LICENSE)"
   ]
  },
  {
   "cell_type": "code",
   "execution_count": 2,
   "metadata": {},
   "outputs": [
{
 "data": {
