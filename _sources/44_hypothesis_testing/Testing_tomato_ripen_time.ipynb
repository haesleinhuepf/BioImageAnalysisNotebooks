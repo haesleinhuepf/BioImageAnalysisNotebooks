{
 "cells": [
  {
   "cell_type": "markdown",
   "metadata": {},
   "source": [
    "# Setting up a dataset"
   ]
  },
  {
   "cell_type": "code",
   "execution_count": 1,
   "metadata": {},
   "outputs": [
    {
     "name": "stdout",
     "output_type": "stream",
     "text": [
      "[25.36077192 21.99284607 24.66147459 24.13522414 25.19699394 27.1105588\n",
      " 27.21711827 23.99201324 24.62837502 24.00316964 23.97265165 23.69150348\n",
      " 23.87474102 24.24951924 22.70964348 27.44811164 23.14164549 23.69577962\n",
      " 24.63399963 25.52432004 24.44467109 24.68202734 20.99456432 25.01167432\n",
      " 25.31265913 25.98709214 17.59602636 28.80564209 24.74442957 23.09989612\n",
      " 24.0190898  22.8590973  22.8516007  25.67153251 25.13355891 26.42321083\n",
      " 27.99791641 20.84282366 21.66138292 23.38381399 20.58994995 26.24360199\n",
      " 25.36720024 25.46465655 21.03491453 24.78498624 27.36868498 27.48801593\n",
      " 25.57688679 25.54842762 26.74737965 22.51636024 25.75046789 20.93175349\n",
      " 25.83472988 23.41791145 22.6338715  22.12807181 29.58382288 21.54881035\n",
      " 24.60023214 25.09047661 24.75968111 24.64405223 25.7446681  25.201116\n",
      " 23.38080789 22.85446879 20.55882516 24.80651406 25.26496377 25.95638214\n",
      " 24.69654821 26.11271043 24.57061342 26.21995055 23.57329152 22.38873739\n",
      " 23.79337091 25.38534656 24.89694605 22.29055239 23.23316104 26.95960368\n",
      " 23.48341966 25.05951226 22.38369459 24.06997003 27.97668846 25.86545142\n",
      " 26.85137435 25.39114133 23.21363012 24.38962764 22.08019012 26.99443634\n",
      " 24.40998955 26.6712733  25.06958356 27.04129782]\n"
     ]
    }
   ],
   "source": [
    "import tomatoes\n",
    "\n",
    "number_of_tomatoes = 100\n",
    "\n",
    "ripe_time = tomatoes.ripen(number_of_tomatoes)\n",
    "\n",
    "print(ripe_time)"
   ]
  },
  {
   "cell_type": "markdown",
   "metadata": {},
   "source": [
    "# Descriptive statistics"
   ]
  },
  {
   "cell_type": "code",
   "execution_count": 2,
   "metadata": {},
   "outputs": [],
   "source": [
    "import numpy as np\n",
    "\n",
    "def do_descriptive_statistics(x):\n",
    "    mean_x = np.mean(x)\n",
    "    standard_deviation_x = np.std(x)\n",
    "\n",
    "    print(\"Mean: \" + str(mean_x) + \" +- \" + str(standard_deviation_x))"
   ]
  },
  {
   "cell_type": "code",
   "execution_count": 3,
   "metadata": {},
   "outputs": [
    {
     "name": "stdout",
     "output_type": "stream",
     "text": [
      "Mean: 24.512579751104184 +- 1.9787623359862967\n"
     ]
    }
   ],
   "source": [
    "do_descriptive_statistics(ripe_time)"
   ]
  },
  {
   "cell_type": "code",
   "execution_count": 4,
   "metadata": {},
   "outputs": [
    {
     "data": {
      "image/png": "[encoded data removed]",
      "text/plain": [
       "<Figure size 432x288 with 1 Axes>"
      ]
     },
     "metadata": {
      "needs_background": "light"
     },
     "output_type": "display_data"
    }
   ],
   "source": [
    "import matplotlib.pyplot as plt\n",
    "\n",
    "fig, ax = plt.subplots()\n",
    "ax.hist(ripe_time, bins=10)\n",
    "ax.set_title('Ripe time of ' + str(len(ripe_time)) + ' tomatoes')\n",
    "ax.set_ylabel(\"count\")\n",
    "ax.set_xlabel(\"Ripe time / days\")\n",
    "plt.show()"
   ]
  },
  {
   "cell_type": "markdown",
   "metadata": {},
   "source": [
    "# Hypothesis testing\n",
    "\n",
    "* null-hypothesis: Tomatoes become ripe after 25 days\n",
    "\n",
    "* alternate hypothesis: Ripe time of our tomatoes is different from 25 days\n",
    "\n",
    "## Parametric test: One sample t-test\n",
    "Parameter: Presumptive mean of the population: 25"
   ]
  },
  {
   "cell_type": "code",
   "execution_count": 1,
   "metadata": {},
   "outputs": [
    {
     "ename": "NameError",
     "evalue": "name 'ripe_time' is not defined",
     "output_type": "error",
     "traceback": [
      "\u001b[1;31m---------------------------------------------------------------------------\u001b[0m",
      "\u001b[1;31mNameError\u001b[0m                                 Traceback (most recent call last)",
      "\u001b[1;32m<ipython-input-1-40d3242832e0>\u001b[0m in \u001b[0;36m<module>\u001b[1;34m\u001b[0m\n\u001b[0;32m      3\u001b[0m \u001b[0mpresumptive_ripe_time\u001b[0m \u001b[1;33m=\u001b[0m \u001b[1;36m25\u001b[0m\u001b[1;33m\u001b[0m\u001b[1;33m\u001b[0m\u001b[0m\n\u001b[0;32m      4\u001b[0m \u001b[1;33m\u001b[0m\u001b[0m\n\u001b[1;32m----> 5\u001b[1;33m \u001b[0mstatistics\u001b[0m\u001b[1;33m,\u001b[0m \u001b[0mp_value\u001b[0m \u001b[1;33m=\u001b[0m \u001b[0mstats\u001b[0m\u001b[1;33m.\u001b[0m\u001b[0mttest_1samp\u001b[0m\u001b[1;33m(\u001b[0m\u001b[0mripe_time\u001b[0m\u001b[1;33m,\u001b[0m \u001b[0mpresumptive_ripe_time\u001b[0m\u001b[1;33m)\u001b[0m\u001b[1;33m\u001b[0m\u001b[1;33m\u001b[0m\u001b[0m\n\u001b[0m\u001b[0;32m      6\u001b[0m \u001b[1;33m\u001b[0m\u001b[0m\n\u001b[0;32m      7\u001b[0m \u001b[0mprint\u001b[0m\u001b[1;33m(\u001b[0m\u001b[1;34m\"p-value: \"\u001b[0m \u001b[1;33m+\u001b[0m \u001b[0mstr\u001b[0m\u001b[1;33m(\u001b[0m\u001b[0mp_value\u001b[0m\u001b[1;33m)\u001b[0m\u001b[1;33m)\u001b[0m\u001b[1;33m\u001b[0m\u001b[1;33m\u001b[0m\u001b[0m\n",
      "\u001b[1;31mNameError\u001b[0m: name 'ripe_time' is not defined"
     ]
    }
   ],
   "source": [
    "from scipy import stats\n",
    "\n",
    "presumptive_ripe_time = 25\n",
    "\n",
    "statistics, p_value = stats.ttest_1samp(ripe_time, presumptive_ripe_time)\n",
    "\n",
    "print(\"p-value: \" + str(p_value))"
   ]
  },
  {
   "cell_type": "code",
   "execution_count": null,
   "metadata": {},
   "outputs": [],
   "source": []
  }
 ],
 "metadata": {
  "kernelspec": {
   "display_name": "Python 3",
   "language": "python",
   "name": "python3"
  },
  "language_info": {
   "codemirror_mode": {
    "name": "ipython",
    "version": 3
   },
   "file_extension": ".py",
   "mimetype": "text/x-python",
   "name": "python",
   "nbconvert_exporter": "python",
   "pygments_lexer": "ipython3",
   "version": "3.8.3"
  }
 },
 "nbformat": 4,
 "nbformat_minor": 4
}
