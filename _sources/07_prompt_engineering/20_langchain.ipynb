{
 "cells": [
  {
   "cell_type": "markdown",
   "id": "8e9e7c85-62ea-4d80-9989-1b7517916140",
   "metadata": {},
   "source": [
    "## Prompting tasks using LangChain\n",
    "In this notebook we demonstrate how to prompt for executing tasks using chatGPT and [LangChain](https://github.com/hwchase17/langchain). Using English language, we ask for doing something with data, and LangChain will execute the task."
   ]
  },
  {
   "cell_type": "code",
   "execution_count": 1,
   "id": "f4ae3a80-b6ea-4409-95b7-caecd4e4211c",
   "metadata": {},
   "outputs": [],
   "source": [
    "from langchain.tools import tool\n",
    "from langchain.memory import ConversationBufferMemory\n",
    "from langchain.chat_models import ChatOpenAI\n",
    "from langchain.utilities import SerpAPIWrapper\n",
    "from langchain.agents import initialize_agent\n",
    "from langchain.agents import AgentType"
   ]
  },
  {
   "cell_type": "markdown",
   "id": "6b78c8e5-58d1-4750-b659-e639a2b99d2f",
   "metadata": {},
   "source": [
    "To demonstrate how this works, we define three functions that modify a string and collect them in a list called `tools`."
   ]
  },
  {
   "cell_type": "code",
   "execution_count": 2,
   "id": "1299e632-1c54-467e-852a-26d497cd1d8d",
   "metadata": {},
   "outputs": [],
   "source": [
    "tools = []"
   ]
  },
  {
   "cell_type": "code",
   "execution_count": 3,
   "id": "c52e83ba-48ce-40ea-85a3-31539c72e8f7",
   "metadata": {},
   "outputs": [],
   "source": [
    "@tools.append\n",
    "@tool\n",
    "def upper_case(text:str):\n",
    "    \"\"\"Useful for making a text uppercase or capital letters.\"\"\"\n",
    "    return text.upper()\n",
    "\n",
    "@tools.append\n",
    "@tool\n",
    "def lower_case(text:str):\n",
    "    \"\"\"Useful for making a text lowercase or small letters.\"\"\"\n",
    "    return text.lower()\n",
    "\n",
    "@tools.append\n",
    "@tool\n",
    "def reverse(text:str):\n",
    "    \"\"\"Useful for making reversing order of a text.\"\"\"\n",
    "    return text[::-1]"
   ]
  },
  {
   "cell_type": "markdown",
   "id": "c0524eb1-7633-45e7-982b-1c2cc5af0b16",
   "metadata": {},
   "source": [
    "We create some memory and a large language model based on OpenAI's chatGPT."
   ]
  },
  {
   "cell_type": "code",
   "execution_count": 4,
   "id": "5d032bf0-49d1-42d4-9654-394a9e660996",
   "metadata": {},
   "outputs": [],
   "source": [
    "memory = ConversationBufferMemory(memory_key=\"chat_history\", return_messages=True)\n",
    "\n",
    "llm=ChatOpenAI(temperature=0)"
   ]
  },
  {
   "cell_type": "markdown",
   "id": "7bda4152-8cd8-4257-8e7a-e31fca49ffad",
   "metadata": {
    "tags": []
   },
   "source": [
    "Given the list of tools, the large language model and the memory, we can create an agent."
   ]
  },
  {
   "cell_type": "code",
   "execution_count": 5,
   "id": "28afdf8e-87f2-44a7-9f8d-ef188e0f13b5",
   "metadata": {},
   "outputs": [],
   "source": [
    "agent = initialize_agent(\n",
    "    tools, \n",
    "    llm, \n",
    "    agent=AgentType.CHAT_CONVERSATIONAL_REACT_DESCRIPTION, \n",
    "    memory=memory,\n",
    "    handle_parsing_errors=True\n",
    ")"
   ]
  },
  {
   "cell_type": "markdown",
   "id": "23e3065d-8d55-46dc-b160-ff4349ee3beb",
   "metadata": {
    "tags": []
   },
   "source": [
    "This agent can then respond to prompts."
   ]
  },
  {
   "cell_type": "code",
   "execution_count": 6,
   "id": "5bf8d165-de48-4052-8121-d0bedac8a3e2",
   "metadata": {},
   "outputs": [
    {
     "data": {
      "text/plain": [
       "'Nice to meet you, Robert! How can I assist you today?'"
      ]
     },
     "execution_count": 6,
     "metadata": {},
     "output_type": "execute_result"
    }
   ],
   "source": [
    "agent.run(\"Hi, I am Robert\")"
   ]
  },
  {
   "cell_type": "markdown",
   "id": "d8afb239-93e9-4773-bcc2-37b2fda2a81b",
   "metadata": {},
   "source": [
    "As it has memory, it can remind information we gave it earlier."
   ]
  },
  {
   "cell_type": "code",
   "execution_count": 7,
   "id": "1989ffdb-afe9-4d65-bdad-3ef25aadddd3",
   "metadata": {},
   "outputs": [
    {
     "data": {
      "text/plain": [
       "'Your name is Robert.'"
      ]
     },
     "execution_count": 7,
     "metadata": {},
     "output_type": "execute_result"
    }
   ],
   "source": [
    "agent.run(\"What's my name?\")"
   ]
  },
  {
   "cell_type": "markdown",
   "id": "752ff4fc-fc27-4360-b46f-e6aa89b376b6",
   "metadata": {
    "tags": []
   },
   "source": [
    "And we can use English language to apply one of the functions above."
   ]
  },
  {
   "cell_type": "code",
   "execution_count": 8,
   "id": "009a4a17-578a-47ff-8ddd-999cfe49c3a3",
   "metadata": {
    "tags": []
   },
   "outputs": [
    {
     "data": {
      "text/plain": [
       "'treboR'"
      ]
     },
     "execution_count": 8,
     "metadata": {},
     "output_type": "execute_result"
    }
   ],
   "source": [
    "agent.run(\"Can you reverse my name?\")"
   ]
  },
  {
   "cell_type": "markdown",
   "id": "1c5f825b-515a-435e-a7bb-ea22cba53afd",
   "metadata": {},
   "source": [
    "Multiple tasks can also be chained."
   ]
  },
  {
   "cell_type": "code",
   "execution_count": 9,
   "id": "58833309-6ea3-4d83-9471-87f83d945f2a",
   "metadata": {},
   "outputs": [
    {
     "data": {
      "text/plain": [
       "'TREBOR'"
      ]
     },
     "execution_count": 9,
     "metadata": {},
     "output_type": "execute_result"
    }
   ],
   "source": [
    "agent.run(\"Do you know my name reversed and upper case?\")"
   ]
  },
  {
   "cell_type": "markdown",
   "id": "1259eee2-b5f7-487c-b200-cf5c472838d7",
   "metadata": {},
   "source": [
    "## Exercise\n",
    "Add a `print('Hello world')` to the function `reverse`, rerun the entire notebook and execue the last cell above multiple times. Is the `Hello world` printed every time? If not, why?"
   ]
  },
  {
   "cell_type": "code",
   "execution_count": null,
   "id": "3a78de42-7960-43f0-a62b-98106e57e75a",
   "metadata": {},
   "outputs": [],
   "source": []
  }
 ],
 "metadata": {
  "kernelspec": {
   "display_name": "Python 3 (ipykernel)",
   "language": "python",
   "name": "python3"
  },
  "language_info": {
   "codemirror_mode": {
    "name": "ipython",
    "version": 3
   },
   "file_extension": ".py",
   "mimetype": "text/x-python",
   "name": "python",
   "nbconvert_exporter": "python",
   "pygments_lexer": "ipython3",
   "version": "3.10.13"
  }
 },
 "nbformat": 4,
 "nbformat_minor": 5
}
