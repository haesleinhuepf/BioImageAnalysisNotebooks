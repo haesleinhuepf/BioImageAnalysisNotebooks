{
 "cells": [
  {
   "cell_type": "markdown",
   "id": "b4fc675c-5d4c-4a36-a07f-1c04f0d10c07",
   "metadata": {},
   "source": [
    "# Bug fixing\n",
    "Bia-bob can assist bug fixing. In case you meet a bug, just put `%%fix` in the beginnign of the cell and exectue the cell again. The cell's code will then be replaced with an updated version of the code."
   ]
  },
  {
   "cell_type": "code",
   "execution_count": 1,
   "id": "d677eeda-d384-48d3-b9a7-8ac9bc3b56e2",
   "metadata": {},
   "outputs": [],
   "source": [
    "from bia_bob import fix"
   ]
  },
  {
   "cell_type": "markdown",
   "id": "16c3e037-7a5d-43ce-bdf2-309e3ebf71bb",
   "metadata": {},
   "source": [
    "For example, if you execute this code, there will be an error:"
   ]
  },
  {
   "cell_type": "code",
   "execution_count": 2,
   "id": "92966320-2db1-4a9f-98ab-a772836f7b8e",
   "metadata": {},
   "outputs": [
    {
     "ename": "SyntaxError",
     "evalue": "invalid syntax (324394650.py, line 2)",
     "output_type": "error",
     "traceback": [
      "\u001b[1;36m  Cell \u001b[1;32mIn[2], line 2\u001b[1;36m\u001b[0m\n\u001b[1;33m    image = imread(../../data/blobs.tif)\u001b[0m\n\u001b[1;37m                   ^\u001b[0m\n\u001b[1;31mSyntaxError\u001b[0m\u001b[1;31m:\u001b[0m invalid syntax\n"
     ]
    }
   ],
   "source": [
    "from skimage.io import imread\n",
    "image = imread(../../data/blobs.tif)"
   ]
  },
  {
   "cell_type": "markdown",
   "id": "dd365b31-7809-42e0-8385-5688fa147ed6",
   "metadata": {},
   "source": [
    "You can then add the `%%fix` magic in the cell above as shown here:"
   ]
  },
  {
   "cell_type": "code",
   "execution_count": 4,
   "id": "84e16614-1ad9-42a5-b1d4-a2a6860b3ba8",
   "metadata": {},
   "outputs": [],
   "source": [
    "%%fix\n",
    "from skimage.io import imread\n",
    "image = imread(../../data/blobs.tif)"
   ]
  },
  {
   "cell_type": "markdown",
   "id": "932c3087-85e0-4f8e-bf08-1a534efbacaf",
   "metadata": {},
   "source": [
    "The cell will then be replaced by this one:"
   ]
  },
  {
   "cell_type": "code",
   "execution_count": 5,
   "id": "5f18df6a-daa8-46be-9015-3081bf4c3d07",
   "metadata": {},
   "outputs": [],
   "source": [
    "from skimage.io import imread\n",
    "image = imread('../../data/blobs.tif')"
   ]
  },
  {
   "cell_type": "code",
   "execution_count": null,
   "id": "a9e0522f-473c-479c-9501-afe70d86aec3",
   "metadata": {},
   "outputs": [],
   "source": []
  }
 ],
 "metadata": {
  "kernelspec": {
   "display_name": "Python 3 (ipykernel)",
   "language": "python",
   "name": "python3"
  },
  "language_info": {
   "codemirror_mode": {
    "name": "ipython",
    "version": 3
   },
   "file_extension": ".py",
   "mimetype": "text/x-python",
   "name": "python",
   "nbconvert_exporter": "python",
   "pygments_lexer": "ipython3",
   "version": "3.10.13"
  }
 },
 "nbformat": 4,
 "nbformat_minor": 5
}
