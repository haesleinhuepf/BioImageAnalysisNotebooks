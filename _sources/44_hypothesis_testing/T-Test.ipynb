{
 "cells": [
  {
   "cell_type": "markdown",
   "metadata": {},
   "source": [
    "# T-Test\n",
    "See also: https://en.wikipedia.org/wiki/Student%27s_t-test\n",
    "\n",
    "null-hypothesis: Our sample set has a mean that is equal to a given population mean.\n"
   ]
  },
  {
   "cell_type": "code",
   "execution_count": 98,
   "metadata": {
    "scrolled": true
   },
   "outputs": [
    {
     "data": {
      "image/png": "[encoded data removed]",
      "text/plain": [
       "<Figure size 432x288 with 1 Axes>"
      ]
     },
     "metadata": {
      "needs_background": "light"
     },
     "output_type": "display_data"
    }
   ],
   "source": [
    "import numpy as np\n",
    "from numpy import random\n",
    "import matplotlib.pyplot as plt\n",
    "\n",
    "given_mean = 7 # this number serves for generating the sample\n",
    "               # in a realistic scenario, we don't know it\n",
    "\n",
    "# generate random numbers following a normal distribution\n",
    "x = random.normal(loc=7, scale=1, size=100)\n",
    "\n",
    "\n",
    "fig, ax = plt.subplots()\n",
    "ax.hist(x, bins=100)\n",
    "ax.set_ylabel(\"count\")\n",
    "ax.set_xlabel(\"Day the patient felt better\")\n",
    "plt.show()"
   ]
  },
  {
   "cell_type": "code",
   "execution_count": 94,
   "metadata": {},
   "outputs": [
    {
     "data": {
      "image/png": "[encoded data removed]",
      "text/plain": [
       "<Figure size 432x288 with 1 Axes>"
      ]
     },
     "metadata": {
      "needs_background": "light"
     },
     "output_type": "display_data"
    }
   ],
   "source": [
    "fig, ax = plt.subplots()\n",
    "ax.hist(x, bins=10, density=True)\n",
    "ax.set_ylabel(\"likelihood\")\n",
    "ax.set_xlabel(\"Day the patient felt better\")\n",
    "plt.show()"
   ]
  },
  {
   "cell_type": "code",
   "execution_count": 95,
   "metadata": {},
   "outputs": [
    {
     "name": "stdout",
     "output_type": "stream",
     "text": [
      "Mean of the sample is 6.91035435725224\n",
      "Standard deviation of the sample is 0.9794186535937979\n"
     ]
    }
   ],
   "source": [
    "# Descriptive statistics\n",
    "mean = np.mean(x)\n",
    "print(\"Mean of the sample is \" + str(mean)) \n",
    "\n",
    "standard_deviation = np.std(x)\n",
    "print(\"Standard deviation of the sample is \" + str(standard_deviation)) "
   ]
  },
  {
   "cell_type": "code",
   "execution_count": 83,
   "metadata": {},
   "outputs": [
    {
     "name": "stdout",
     "output_type": "stream",
     "text": [
      "p-value of or mean being 9: p = 2.1331173491593363e-37\n"
     ]
    },
    {
     "data": {
      "text/plain": [
       "2.1331173491593363e-37"
      ]
     },
     "execution_count": 83,
     "metadata": {},
     "output_type": "execute_result"
    }
   ],
   "source": []
  },
  {
   "cell_type": "code",
   "execution_count": 77,
   "metadata": {},
   "outputs": [
    {
     "name": "stdout",
     "output_type": "stream",
     "text": [
      "p-value of or mean being 4.0: p = 1.2080635908265571e-57\n",
      "p-value of or mean being 4.5: p = 1.4774685646480428e-50\n",
      "p-value of or mean being 5.0: p = 2.927549110228349e-42\n",
      "p-value of or mean being 5.5: p = 2.0723760293438062e-32\n",
      "p-value of or mean being 6.0: p = 8.80211621737463e-21\n",
      "p-value of or mean being 6.5: p = 2.1235971268731145e-08\n",
      "p-value of or mean being 7.0: p = 0.7671296791633029\n",
      "p-value of or mean being 7.5: p = 2.97710641011874e-07\n",
      "p-value of or mean being 8.0: p = 1.6669010569660399e-19\n",
      "p-value of or mean being 8.5: p = 2.6682967439642807e-31\n",
      "p-value of or mean being 9.0: p = 2.501526909114919e-41\n",
      "p-value of or mean being 9.5: p = 9.090047576810763e-50\n"
     ]
    },
    {
     "data": {
      "image/png": "[encoded data removed]",
      "text/plain": [
       "<Figure size 432x288 with 1 Axes>"
      ]
     },
     "metadata": {
      "needs_background": "light"
     },
     "output_type": "display_data"
    },
    {
     "name": "stdout",
     "output_type": "stream",
     "text": [
      "[1.2080635908265571e-57, 1.4774685646480428e-50, 2.927549110228349e-42, 2.0723760293438062e-32, 8.80211621737463e-21, 2.1235971268731145e-08, 0.7671296791633029, 2.97710641011874e-07, 1.6669010569660399e-19, 2.6682967439642807e-31, 2.501526909114919e-41, 9.090047576810763e-50]\n"
     ]
    }
   ],
   "source": [
    "\n"
   ]
  },
  {
   "cell_type": "markdown",
   "metadata": {},
   "source": [
    "The p-value tells us something about the probability that the mean of our distribution is exactly a given value. However, it's not the probabiltiy of the mean being exactly this value, because the p-value has something to do with the given value AND with the given distribution:"
   ]
  },
  {
   "cell_type": "markdown",
   "metadata": {},
   "source": [
    "# A different sample"
   ]
  },
  {
   "cell_type": "code",
   "execution_count": 52,
   "metadata": {
    "scrolled": false
   },
   "outputs": [
    {
     "data": {
      "image/png": "[encoded data removed]",
      "text/plain": [
       "<Figure size 432x288 with 1 Axes>"
      ]
     },
     "metadata": {
      "needs_background": "light"
     },
     "output_type": "display_data"
    }
   ],
   "source": [
    "# we change our sample-set distribution: still the same mean, but less samples\n",
    "x = random.normal(loc=7, scale=2, size=10)\n",
    "\n",
    "fig, ax = plt.subplots()\n",
    "ax.hist(x, bins=100)\n",
    "ax.set_ylabel(\"count\")\n",
    "ax.set_xlabel(\"x\")\n",
    "plt.show()"
   ]
  },
  {
   "cell_type": "code",
   "execution_count": 54,
   "metadata": {},
   "outputs": [
    {
     "name": "stdout",
     "output_type": "stream",
     "text": [
      "Mean of the sample is 8.119529116048758\n",
      "Standard deviation of the sample is 2.0204845095615167\n"
     ]
    }
   ],
   "source": [
    "# Descriptive statistics\n",
    "mean = np.mean(x)\n",
    "print(\"Mean of the sample is \" + str(mean)) \n",
    "\n",
    "standard_deviation = np.std(x)\n",
    "print(\"Standard deviation of the sample is \" + str(standard_deviation)) "
   ]
  },
  {
   "cell_type": "code",
   "execution_count": 57,
   "metadata": {
    "scrolled": false
   },
   "outputs": [
    {
     "name": "stdout",
     "output_type": "stream",
     "text": [
      "p-value of or mean being 5.0: p = 0.0012334275352099738\n",
      "p-value of or mean being 5.25: p = 0.002109113565393285\n",
      "p-value of or mean being 5.5: p = 0.0036779985289670967\n",
      "p-value of or mean being 5.75: p = 0.006533286207939051\n",
      "p-value of or mean being 6.0: p = 0.011793208822144456\n",
      "p-value of or mean being 6.25: p = 0.021546001246203775\n",
      "p-value of or mean being 6.5: p = 0.039593910627630714\n",
      "p-value of or mean being 6.75: p = 0.07252704549826716\n",
      "p-value of or mean being 7.0: p = 0.13082302205953084\n",
      "p-value of or mean being 7.25: p = 0.2288536626571357\n",
      "p-value of or mean being 7.5: p = 0.38163334982616415\n",
      "p-value of or mean being 7.75: p = 0.5965754653989805\n",
      "p-value of or mean being 8.0: p = 0.8630646511353139\n",
      "p-value of or mean being 8.25: p = 0.8506951082698209\n",
      "p-value of or mean being 8.5: p = 0.5859313467823023\n",
      "p-value of or mean being 8.75: p = 0.3736492963758953\n"
     ]
    },
    {
     "data": {
      "image/png": "[encoded data removed]",
      "text/plain": [
       "<Figure size 432x288 with 1 Axes>"
      ]
     },
     "metadata": {
      "needs_background": "light"
     },
     "output_type": "display_data"
    },
    {
     "name": "stdout",
     "output_type": "stream",
     "text": [
      "[0.0012334275352099738, 0.002109113565393285, 0.0036779985289670967, 0.006533286207939051, 0.011793208822144456, 0.021546001246203775, 0.039593910627630714, 0.07252704549826716, 0.13082302205953084, 0.2288536626571357, 0.38163334982616415, 0.5965754653989805, 0.8630646511353139, 0.8506951082698209, 0.5859313467823023, 0.3736492963758953]\n"
     ]
    }
   ],
   "source": [
    "range = np.arange(5, 9, 0.25)\n",
    "results = []\n",
    "for value in range:\n",
    "    results = results + [test_if_mean_is(value)]\n",
    "    \n",
    "    \n",
    "fig, ax = plt.subplots()\n",
    "ax.plot(range, results)\n",
    "ax.set_ylabel(\"p-value\")\n",
    "ax.set_xlabel(\"x\")\n",
    "plt.show()\n",
    "\n",
    "print(results)\n"
   ]
  },
  {
   "cell_type": "code",
   "execution_count": 21,
   "metadata": {
    "scrolled": true
   },
   "outputs": [
    {
     "name": "stdout",
     "output_type": "stream",
     "text": [
      "p-value of or mean being 6.0: p = 0.023914983809892813\n"
     ]
    },
    {
     "ename": "TypeError",
     "evalue": "can only concatenate list (not \"NoneType\") to list",
     "output_type": "error",
     "traceback": [
      "\u001b[1;31m---------------------------------------------------------------------------\u001b[0m",
      "\u001b[1;31mTypeError\u001b[0m                                 Traceback (most recent call last)",
      "\u001b[1;32m<ipython-input-21-edd57d4b05b6>\u001b[0m in \u001b[0;36m<module>\u001b[1;34m\u001b[0m\n\u001b[0;32m      1\u001b[0m \u001b[0mresults\u001b[0m \u001b[1;33m=\u001b[0m \u001b[1;33m[\u001b[0m\u001b[1;33m]\u001b[0m\u001b[1;33m\u001b[0m\u001b[1;33m\u001b[0m\u001b[0m\n\u001b[0;32m      2\u001b[0m \u001b[1;32mfor\u001b[0m \u001b[0mvalue\u001b[0m \u001b[1;32min\u001b[0m \u001b[0mnp\u001b[0m\u001b[1;33m.\u001b[0m\u001b[0marange\u001b[0m\u001b[1;33m(\u001b[0m\u001b[1;36m6\u001b[0m\u001b[1;33m,\u001b[0m \u001b[1;36m8\u001b[0m\u001b[1;33m,\u001b[0m \u001b[1;36m0.25\u001b[0m\u001b[1;33m)\u001b[0m\u001b[1;33m:\u001b[0m\u001b[1;33m\u001b[0m\u001b[1;33m\u001b[0m\u001b[0m\n\u001b[1;32m----> 3\u001b[1;33m     \u001b[0mresults\u001b[0m \u001b[1;33m=\u001b[0m \u001b[0mresults\u001b[0m \u001b[1;33m+\u001b[0m \u001b[0mtest_if_mean_is\u001b[0m\u001b[1;33m(\u001b[0m\u001b[0mvalue\u001b[0m\u001b[1;33m)\u001b[0m\u001b[1;33m\u001b[0m\u001b[1;33m\u001b[0m\u001b[0m\n\u001b[0m",
      "\u001b[1;31mTypeError\u001b[0m: can only concatenate list (not \"NoneType\") to list"
     ]
    }
   ],
   "source": []
  },
  {
   "cell_type": "markdown",
   "metadata": {},
   "source": [
    "null-hypothesis: there is no effect, distributions are equal\n",
    "alternative hypothesis: mean is greater in sample2 compared sample1\n",
    "\n",
    "set threshold: significance level (alpha): How different does it have to be in order to be \"significantly different\": 1%, 5%, 100%\n",
    "\n",
    "\n",
    "\n"
   ]
  }
 ],
 "metadata": {
  "kernelspec": {
   "display_name": "Python 3",
   "language": "python",
   "name": "python3"
  },
  "language_info": {
   "codemirror_mode": {
    "name": "ipython",
    "version": 3
   },
   "file_extension": ".py",
   "mimetype": "text/x-python",
   "name": "python",
   "nbconvert_exporter": "python",
   "pygments_lexer": "ipython3",
   "version": "3.8.3"
  }
 },
 "nbformat": 4,
 "nbformat_minor": 4
}
