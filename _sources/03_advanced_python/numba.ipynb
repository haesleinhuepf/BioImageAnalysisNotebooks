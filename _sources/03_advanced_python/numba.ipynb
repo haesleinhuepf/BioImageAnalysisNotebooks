{
 "cells": [
  {
   "cell_type": "markdown",
   "id": "632ef739-4aa0-4e94-b367-cd8df9891b0b",
   "metadata": {},
   "source": [
    "# Parallelization using numba\n",
    "In this notebook we will optimize execution time of an algorithm by using [numba](https://numba.pydata.org/)."
   ]
  },
  {
   "cell_type": "code",
   "execution_count": 1,
   "id": "eb758e9f-259e-4768-b2de-33f33342ace9",
   "metadata": {},
   "outputs": [],
   "source": [
    "import time\n",
    "import numpy as np\n",
    "from functools import partial\n",
    "import timeit\n",
    "import matplotlib.pyplot as plt\n",
    "import platform"
   ]
  },
  {
   "cell_type": "code",
   "execution_count": 2,
   "id": "3bd91f50-3b6c-475a-b1a7-bf24564f0acc",
   "metadata": {},
   "outputs": [],
   "source": [
    "image = np.zeros((10, 10))"
   ]
  },
  {
   "cell_type": "markdown",
   "id": "3169c33a-1346-4627-8485-9491cefa956b",
   "metadata": {},
   "source": [
    "## Benchmarking execution time\n",
    "In image processing, it is very common that execution time of algorithms shows different patterns depending on image size. We will now benchmark the algorithm above and see how it performs on differently sized images.\n",
    "To bind a function to benchmark to a given image without executing it, we are using the [partial](https://docs.python.org/3/library/functools.html#functools.partial) pattern."
   ]
  },
  {
   "cell_type": "code",
   "execution_count": 3,
   "id": "f57c6d5f-4ae7-435d-b6ec-e50d40075f91",
   "metadata": {},
   "outputs": [],
   "source": [
    "def benchmark(target_function):\n",
    "    \"\"\"\n",
    "    Tests a function on a couple of image sizes and returns times taken for processing.\n",
    "    \"\"\"\n",
    "    sizes = np.arange(1, 5) * 10\n",
    "\n",
    "    benchmark_data = []\n",
    "\n",
    "    for size in sizes:\n",
    "        print(\"Size\", size)\n",
    "\n",
    "        # make new data\n",
    "        image = np.zeros((size, size))\n",
    "        \n",
    "        # bind target function to given image\n",
    "        partial_function = partial(target_function, image)\n",
    "\n",
    "        # measure execution time\n",
    "        time_in_s = timeit.timeit(partial_function, number=10)\n",
    "        print(\"time\", time_in_s, \"s\")\n",
    "\n",
    "        # store results\n",
    "        benchmark_data.append([size, time_in_s])\n",
    "\n",
    "    return np.asarray(benchmark_data)"
   ]
  },
  {
   "cell_type": "markdown",
   "id": "71e07e3b-7fae-481d-8686-07777024ff4b",
   "metadata": {},
   "source": [
    "This is the algorithm we would like to optimize:"
   ]
  },
  {
   "cell_type": "code",
   "execution_count": 4,
   "id": "ad8aa333-fda9-4b97-9fff-310a1313b401",
   "metadata": {},
   "outputs": [],
   "source": [
    "def silly_sum(image):\n",
    "    # Silly algorithm for wasting compute time\n",
    "    sum = 0\n",
    "    for i in range(image.shape[1]):\n",
    "        for j in range(image.shape[0]):\n",
    "            for k in range(image.shape[0]):\n",
    "                for l in range(image.shape[0]):\n",
    "                    sum = sum + image[i,j] - k + l\n",
    "        sum = sum + i\n",
    "        image[i, j] = sum / image.shape[1] / image.shape[0]"
   ]
  },
  {
   "cell_type": "code",
   "execution_count": 5,
   "id": "9d451c7c-e14f-4274-8a39-210fa01c7176",
   "metadata": {},
   "outputs": [
    {
     "name": "stdout",
     "output_type": "stream",
     "text": [
      "Size 10\n",
      "time 0.026225900000000024 s\n",
      "Size 20\n",
      "time 0.3880397999999996 s\n",
      "Size 30\n",
      "time 2.4635917000000003 s\n",
      "Size 40\n",
      "time 6.705509999999999 s\n"
     ]
    }
   ],
   "source": [
    "benchmark_data_silly_sum = benchmark(silly_sum)"
   ]
  },
  {
   "cell_type": "code",
   "execution_count": 6,
   "id": "ef55ae09-b594-46bf-ba87-c84895608b08",
   "metadata": {},
   "outputs": [
    {
     "data": {
      "image/png": "[encoded data removed]",
      "text/plain": [
       "<Figure size 640x480 with 1 Axes>"
      ]
     },
     "metadata": {},
     "output_type": "display_data"
    }
   ],
   "source": [
    "plt.scatter(benchmark_data_silly_sum[:,0] ** 2, benchmark_data_silly_sum[:,1])\n",
    "plt.legend([\"normal\"])\n",
    "plt.xlabel(\"Image size in pixels\")\n",
    "plt.ylabel(\"Compute time in s\")\n",
    "plt.show()"
   ]
  },
  {
   "cell_type": "markdown",
   "id": "1167b4de-68d7-4ec1-9016-c85466226c40",
   "metadata": {},
   "source": [
    "This algorithm is stronger dependent on image size, the plot shows approximately [quadratic](https://en.wikipedia.org/wiki/Time_complexity#Table_of_common_time_complexities) complexity. That means if the data size doubles, the compute time multiplies by four. The algorithms O-notation is `O(n^2)`. We could presume that a similar algorithm applied in 3D has cubic complexity, `O(n^3)`. If such algorithms are bottlenecks in your science, parallelization and GPU-acceleration make a lot of sense."
   ]
  },
  {
   "cell_type": "markdown",
   "id": "d69ce323-e968-4062-b2b1-3dc3a63db960",
   "metadata": {},
   "source": [
    "## Code optimization using numba\n",
    "In case the code we perform is simple and just uses standard python, numpy etc. function, we can use a just-in-time (JIT) compiler, e.g. provided by [numba](https://numba.pydata.org/) to speedup the code."
   ]
  },
  {
   "cell_type": "code",
   "execution_count": 7,
   "id": "0c8f70d3-aae4-4843-a195-ee0a7556c826",
   "metadata": {},
   "outputs": [],
   "source": [
    "from numba import jit\n",
    "\n",
    "@jit\n",
    "def process_image_compiled(image):\n",
    "    for x in range(image.shape[1]):\n",
    "        for y in range(image.shape[1]):\n",
    "            # Silly algorithm for wasting compute time\n",
    "            sum = 0\n",
    "            for i in range(1000):\n",
    "                for j in range(1000):\n",
    "                    sum = sum + x\n",
    "                sum = sum + y\n",
    "            image[x, y] = sum"
   ]
  },
  {
   "cell_type": "code",
   "execution_count": 8,
   "id": "bed1d1f8-80c6-4349-9b27-82dadb20fd4f",
   "metadata": {},
   "outputs": [
    {
     "name": "stdout",
     "output_type": "stream",
     "text": [
      "The slowest run took 56.00 times longer than the fastest. This could mean that an intermediate result is being cached.\n",
      "2.84 µs ± 5.7 µs per loop (mean ± std. dev. of 7 runs, 1 loop each)\n"
     ]
    }
   ],
   "source": [
    "%timeit process_image_compiled(image)"
   ]
  }
 ],
 "metadata": {
  "kernelspec": {
   "display_name": "Python 3 (ipykernel)",
   "language": "python",
   "name": "python3"
  },
  "language_info": {
   "codemirror_mode": {
    "name": "ipython",
    "version": 3
   },
   "file_extension": ".py",
   "mimetype": "text/x-python",
   "name": "python",
   "nbconvert_exporter": "python",
   "pygments_lexer": "ipython3",
   "version": "3.9.19"
  },
  "widgets": {
   "application/vnd.jupyter.widget-state+json": {
    "state": {},
    "version_major": 2,
    "version_minor": 0
   }
  }
 },
 "nbformat": 4,
 "nbformat_minor": 5
}
