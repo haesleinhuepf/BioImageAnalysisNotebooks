{
 "cells": [
  {
   "cell_type": "markdown",
   "id": "0532bcef-9980-4ab7-b8d0-c331a4949cbf",
   "metadata": {},
   "source": [
    "# Prompting for text\n",
    "In this notebook we collect a few use-cases for prompting chatGPT. We will also see some not so useful cases."
   ]
  },
  {
   "cell_type": "code",
   "execution_count": 1,
   "id": "9e2b9c11-0382-412e-a777-8609148757fd",
   "metadata": {},
   "outputs": [],
   "source": [
    "from openai import OpenAI\n",
    "from IPython.core.magic import register_line_cell_magic\n",
    "from IPython.display import display, Markdown"
   ]
  },
  {
   "cell_type": "code",
   "execution_count": 2,
   "id": "ca746212-7688-4e08-8a5f-b5edca583386",
   "metadata": {},
   "outputs": [],
   "source": [
    "@register_line_cell_magic\n",
    "def prompt(line:str, cell:str, model=\"gpt-3.5-turbo\"):\n",
    "    \"\"\"A prompt helper function that sends a message to openAI\n",
    "    and prints out the text response.\n",
    "    \"\"\"\n",
    "    message = line + \"\\n\" + cell\n",
    "    client = OpenAI()\n",
    "    response = client.chat.completions.create(\n",
    "        model=model,\n",
    "        messages=[{\"role\": \"user\", \"content\": message}]\n",
    "    )\n",
    "    text = response.choices[0].message.content\n",
    "    display(Markdown(text))"
   ]
  },
  {
   "cell_type": "markdown",
   "id": "71fe797b-fb56-422f-b0c8-eedda41b70ca",
   "metadata": {},
   "source": [
    "## Translation\n",
    "chatGPT works very well for translating text."
   ]
  },
  {
   "cell_type": "code",
   "execution_count": 3,
   "id": "6d86a1a5-a4c8-4d8d-b762-884882eb819a",
   "metadata": {},
   "outputs": [
    {
     "data": {
      "text/markdown": [
       "Was ist das Lieblingsweihnachtslied aller Eltern? Stille Nacht!"
      ],
      "text/plain": [
       "<IPython.core.display.Markdown object>"
      ]
     },
     "metadata": {},
     "output_type": "display_data"
    }
   ],
   "source": [
    "%%prompt\n",
    "Translate the following joke to German:\n",
    "\n",
    "What is every parent's favorite Christmas song? Silent Night!"
   ]
  },
  {
   "cell_type": "markdown",
   "id": "70043127-9ef4-4854-8531-2d511a03db1d",
   "metadata": {},
   "source": [
    "## Restructuring data\n",
    "It also works well for extracting data from text."
   ]
  },
  {
   "cell_type": "code",
   "execution_count": 4,
   "id": "f57c6027-c1f5-46fb-986a-abd5e083f3f0",
   "metadata": {},
   "outputs": [
    {
     "data": {
      "text/markdown": [
       "Number of students asked: 100\n",
       "Cloud storage size: 250 GB"
      ],
      "text/plain": [
       "<IPython.core.display.Markdown object>"
      ]
     },
     "metadata": {},
     "output_type": "display_data"
    }
   ],
   "source": [
    "%%prompt\n",
    "Given a story, please restructure the contained data.\n",
    "\n",
    "Story:\n",
    "The compute center of the university recently conducted a study to figure \n",
    "out needs of students for computational resources. After interviewing 100 \n",
    "students they concluded that most of them were happy with 250 GB of cloud\n",
    "storage.\n",
    "\n",
    "Restructure the story above to extract these numbers:\n",
    "* Number of students asked:\n",
    "* Cloud storage size:"
   ]
  },
  {
   "cell_type": "markdown",
   "id": "726bad09-214e-498e-8b4a-3dad6b54ec8b",
   "metadata": {},
   "source": [
    "## Knowledge\n",
    "chatGPT has some weak sides when it comes to quering for data. It may, or may not tell the truth. Also note that the used model is trained on the internet from the past."
   ]
  },
  {
   "cell_type": "code",
   "execution_count": 5,
   "id": "b6fc5028-a4b7-4ee4-b52b-757332775ee2",
   "metadata": {},
   "outputs": [
    {
     "data": {
      "text/markdown": [
       "Robert Haase's research field at the University of Leipzig is in the area of computer science, specifically in the field of computer vision and microscopy image analysis. He focuses on developing algorithms and techniques for analyzing and processing large-scale microscopic images to extract meaningful information and gain insights into biological processes."
      ],
      "text/plain": [
       "<IPython.core.display.Markdown object>"
      ]
     },
     "metadata": {},
     "output_type": "display_data"
    }
   ],
   "source": [
    "%%prompt\n",
    "What's Robert Haase's (Uni Leipzig) research field ?"
   ]
  },
  {
   "cell_type": "code",
   "execution_count": 6,
   "id": "63d62b2d-7482-4963-98bd-ddce6bc26541",
   "metadata": {},
   "outputs": [
    {
     "data": {
      "text/markdown": [
       "As of my knowledge, Robert Haase is primarily associated with the field of bioimage analysis, particularly focusing on the development and application of computational methods for the analysis and visualization of biological images, such as microscopy data. However, please note that research interests and fields can evolve over time, so it is recommended to refer to the most recent information or contact the individual directly for the most accurate details."
      ],
      "text/plain": [
       "<IPython.core.display.Markdown object>"
      ]
     },
     "metadata": {},
     "output_type": "display_data"
    }
   ],
   "source": [
    "%%prompt\n",
    "What's Robert Haase's (TU Dresden) research field ?"
   ]
  },
  {
   "cell_type": "markdown",
   "id": "676d13f0-6ab9-4c52-9698-0c5508fc4a94",
   "metadata": {},
   "source": [
    "## Math"
   ]
  },
  {
   "cell_type": "code",
   "execution_count": 7,
   "id": "2b6752d1-4642-4da2-845d-1c50a6055bd7",
   "metadata": {},
   "outputs": [
    {
     "data": {
      "text/markdown": [
       "To calculate the total storage needed, multiply the storage requirement per student by the number of students:\n",
       "\n",
       "250 GB * 100 students = 25,000 GB\n",
       "\n",
       "Therefore, the total storage needed is 25,000 GB."
      ],
      "text/plain": [
       "<IPython.core.display.Markdown object>"
      ]
     },
     "metadata": {},
     "output_type": "display_data"
    }
   ],
   "source": [
    "%%prompt\n",
    "If there are 100 students who each require 250 GB of cloud storage, how much storage do we need in total ? "
   ]
  },
  {
   "cell_type": "code",
   "execution_count": 8,
   "id": "8e4958e9-3268-4a7f-94fc-a92ee13500c1",
   "metadata": {},
   "outputs": [
    {
     "data": {
      "text/markdown": [
       "You have a total of 11 fruits (5 apples + 6 oranges)."
      ],
      "text/plain": [
       "<IPython.core.display.Markdown object>"
      ]
     },
     "metadata": {},
     "output_type": "display_data"
    }
   ],
   "source": [
    "%%prompt\n",
    "I have 5 apples, 6 oranges and 4 potatoes. How many fruits to I have?"
   ]
  },
  {
   "cell_type": "code",
   "execution_count": 9,
   "id": "70367746-455d-4d0e-94b6-5e9133089b32",
   "metadata": {},
   "outputs": [
    {
     "data": {
      "text/markdown": [
       "There are 6 o's in Woolloomooloo."
      ],
      "text/plain": [
       "<IPython.core.display.Markdown object>"
      ]
     },
     "metadata": {},
     "output_type": "display_data"
    }
   ],
   "source": [
    "%%prompt\n",
    "How many o are in Woolloomooloo ?"
   ]
  },
  {
   "cell_type": "markdown",
   "id": "7e98bbe0-ed42-41a9-8230-97fff380f78a",
   "metadata": {},
   "source": [
    "## Exercise\n",
    "Come up with two more examples: One where chatGPT works reproducibly, and one where it reproducibly answers wrong information or denies answering."
   ]
  },
  {
   "cell_type": "code",
   "execution_count": null,
   "id": "5827d332-7c95-4a38-8cec-717ac8d6d9b0",
   "metadata": {},
   "outputs": [],
   "source": []
  }
 ],
 "metadata": {
  "kernelspec": {
   "display_name": "Python 3 (ipykernel)",
   "language": "python",
   "name": "python3"
  },
  "language_info": {
   "codemirror_mode": {
    "name": "ipython",
    "version": 3
   },
   "file_extension": ".py",
   "mimetype": "text/x-python",
   "name": "python",
   "nbconvert_exporter": "python",
   "pygments_lexer": "ipython3",
   "version": "3.10.13"
  }
 },
 "nbformat": 4,
 "nbformat_minor": 5
}
