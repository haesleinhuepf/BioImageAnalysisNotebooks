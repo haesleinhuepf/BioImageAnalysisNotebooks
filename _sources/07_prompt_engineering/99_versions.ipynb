{
 "cells": [
  {
   "cell_type": "markdown",
   "id": "d3dc3d9e-631c-4e40-ac2c-6ec7ed8e64c9",
   "metadata": {},
   "source": [
    "# Versions of libraries\n",
    "The field Generative Artificial Intelligence is moving fast and code libraries are updated quickly. To make the notebooks in this chapter as reproducible as possible, we're here documenting which versions of libraries were used."
   ]
  },
  {
   "cell_type": "code",
   "execution_count": 1,
   "id": "25eb6a15-daad-48bf-83c5-2472119c892f",
   "metadata": {},
   "outputs": [
    {
     "data": {
      "text/plain": [
       "'1.5.0'"
      ]
     },
     "execution_count": 1,
     "metadata": {},
     "output_type": "execute_result"
    }
   ],
   "source": [
    "import openai\n",
    "openai.__version__"
   ]
  },
  {
   "cell_type": "code",
   "execution_count": 2,
   "id": "ef0fcc12-e690-47cf-8156-9e9875000181",
   "metadata": {},
   "outputs": [
    {
     "data": {
      "text/plain": [
       "'0.0.350'"
      ]
     },
     "execution_count": 2,
     "metadata": {},
     "output_type": "execute_result"
    }
   ],
   "source": [
    "import langchain\n",
    "langchain.__version__"
   ]
  },
  {
   "cell_type": "code",
   "execution_count": 3,
   "id": "70d9129d-cbb6-4ca9-b8ff-f2d233b6b9be",
   "metadata": {},
   "outputs": [
    {
     "data": {
      "text/plain": [
       "'0.6.2'"
      ]
     },
     "execution_count": 3,
     "metadata": {},
     "output_type": "execute_result"
    }
   ],
   "source": [
    "import bia_bob\n",
    "bia_bob.__version__"
   ]
  },
  {
   "cell_type": "code",
   "execution_count": 4,
   "id": "bb0ec417-3942-4bcc-b707-5069d92f3901",
   "metadata": {},
   "outputs": [
    {
     "data": {
      "text/plain": [
       "'2.1.2'"
      ]
     },
     "execution_count": 4,
     "metadata": {},
     "output_type": "execute_result"
    }
   ],
   "source": [
    "import torch\n",
    "torch.__version__"
   ]
  },
  {
   "cell_type": "code",
   "execution_count": 5,
   "id": "2633016a-a927-4167-8315-1ced2e6f7643",
   "metadata": {},
   "outputs": [
    {
     "data": {
      "text/plain": [
       "'0.24.0'"
      ]
     },
     "execution_count": 5,
     "metadata": {},
     "output_type": "execute_result"
    }
   ],
   "source": [
    "import diffusers\n",
    "diffusers.__version__"
   ]
  },
  {
   "cell_type": "code",
   "execution_count": 7,
   "id": "471e68d5-7b09-4bea-9575-23503af4bde2",
   "metadata": {},
   "outputs": [
    {
     "data": {
      "text/plain": [
       "'0.4.0'"
      ]
     },
     "execution_count": 7,
     "metadata": {},
     "output_type": "execute_result"
    }
   ],
   "source": [
    "import darth_d\n",
    "darth_d.__version__"
   ]
  },
  {
   "cell_type": "code",
   "execution_count": 8,
   "id": "94c248a6-1a22-4fd3-8f71-7250d6859402",
   "metadata": {},
   "outputs": [
    {
     "data": {
      "text/plain": [
       "'0.22.0'"
      ]
     },
     "execution_count": 8,
     "metadata": {},
     "output_type": "execute_result"
    }
   ],
   "source": [
    "import skimage\n",
    "skimage.__version__"
   ]
  },
  {
   "cell_type": "code",
   "execution_count": null,
   "id": "2134b756-0b4f-4329-978e-6e08c6965eae",
   "metadata": {},
   "outputs": [],
   "source": []
  }
 ],
 "metadata": {
  "kernelspec": {
   "display_name": "Python 3 (ipykernel)",
   "language": "python",
   "name": "python3"
  },
  "language_info": {
   "codemirror_mode": {
    "name": "ipython",
    "version": 3
   },
   "file_extension": ".py",
   "mimetype": "text/x-python",
   "name": "python",
   "nbconvert_exporter": "python",
   "pygments_lexer": "ipython3",
   "version": "3.10.13"
  }
 },
 "nbformat": 4,
 "nbformat_minor": 5
}
