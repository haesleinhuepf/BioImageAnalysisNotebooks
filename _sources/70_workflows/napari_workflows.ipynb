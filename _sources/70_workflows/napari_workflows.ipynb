{
 "cells": [
  {
   "cell_type": "markdown",
   "id": "b6ae8a12-e1db-452a-b47a-2e5c8180dacd",
   "metadata": {},
   "source": [
    "# Workflows in napari\n",
    "For using [napari](https://github.com/napari/napari) and [dask](https://dask.dev) together to define and design workflows, we made a small library to make these things more convenient: [napari-workflows](https://github.com/haesleinhuepf/napari-workflows). Goal was to allow the user to setup a workflow by clicking in napari. These workflows are then accessible as object, similar to a dictionary, that can be asked for results of given workflow steps. For example, in the workflow shown below, an input image is blurred using a Gaussian kernel and then thresholded using [Otsu's method](https://ieeexplore.ieee.org/document/4310076) and [scikit-image](https://scikit-image.org)."
   ]
  },
  {
   "cell_type": "code",
   "execution_count": 1,
   "id": "3b987de5",
   "metadata": {},
   "outputs": [],
   "source": [
    "from napari_workflows import Workflow\n",
    "\n",
    "from skimage.io import imread\n",
    "from skimage.filters import threshold_otsu, gaussian\n",
    "from skimage.measure import label\n",
    "from pyclesperanto_prototype import imshow"
   ]
  },
  {
   "cell_type": "markdown",
   "id": "64fe6332",
   "metadata": {},
   "source": [
    "First, we define a workflow and add operations to it. E.g. an operation that takes an image named `\"input\"` and produces a `\"denoised\"` image out of it using the `gaussian()` function and `sigma=2` as parameter."
   ]
  },
  {
   "cell_type": "code",
   "execution_count": 2,
   "id": "86b4a6bf",
   "metadata": {},
   "outputs": [],
   "source": [
    "workflow = Workflow()\n",
    "\n",
    "# define denoising\n",
    "workflow.set(\"denoised\", gaussian, \"input\", sigma=2)"
   ]
  },
  {
   "cell_type": "markdown",
   "id": "9cce465e",
   "metadata": {},
   "source": [
    "We can also add custom function, which is for exmaple necessary to produce a binary image out of an intensity image directly with a single function call."
   ]
  },
  {
   "cell_type": "code",
   "execution_count": 3,
   "id": "fcb3e945",
   "metadata": {},
   "outputs": [],
   "source": [
    "# define segmentation\n",
    "def threshold(image):\n",
    "    return image > threshold_otsu(image)\n",
    "workflow.set(\"binarized\", threshold, \"denoised\")"
   ]
  },
  {
   "cell_type": "markdown",
   "id": "b3dbc14b",
   "metadata": {},
   "source": [
    "We also apply connected component labeling to the binary image."
   ]
  },
  {
   "cell_type": "code",
   "execution_count": 4,
   "id": "1207d855",
   "metadata": {},
   "outputs": [
    {
     "name": "stdout",
     "output_type": "stream",
     "text": [
      "Workflow:\n",
      "denoised <- (<function gaussian at 0x19b297940>, 'input', 2, None, 'nearest', 0, None, False, 4.0)\n",
      "binarized <- (<function threshold at 0x19dbd8430>, 'denoised')\n",
      "labeled <- (<function label at 0x19ba7c820>, 'binarized', None, False)\n",
      "\n"
     ]
    }
   ],
   "source": [
    "workflow.set(\"labeled\", label, \"binarized\")\n",
    "\n",
    "# Let's print out the whole workflow\n",
    "print(str(workflow))"
   ]
  },
  {
   "cell_type": "markdown",
   "id": "cf7cb3fc",
   "metadata": {},
   "source": [
    "## Executing workflows\n",
    "Until here, there were no images involved. We now load an image and store it in the workflow as `\"input\"`."
   ]
  },
  {
   "cell_type": "code",
   "execution_count": 5,
   "id": "c26e000d",
   "metadata": {},
   "outputs": [
    {
     "name": "stdout",
     "output_type": "stream",
     "text": [
      "Workflow:\n",
      "denoised <- (<function gaussian at 0x19b297940>, 'input', 2, None, 'nearest', 0, None, False, 4.0)\n",
      "binarized <- (<function threshold at 0x19dbd8430>, 'denoised')\n",
      "labeled <- (<function label at 0x19ba7c820>, 'binarized', None, False)\n",
      "input <- [[ 40  32  24 ... 216 200 200]\n",
      " [ 56  40  24 ... 232 216 216]\n",
      " [ 64  48  24 ... 240 232 232]\n",
      " ...\n",
      " [ 72  80  80 ...  48  48  48]\n",
      " [ 80  80  80 ...  48  48  48]\n",
      " [ 96  88  80 ...  48  48  48]]\n",
      "\n"
     ]
    }
   ],
   "source": [
    "workflow.set(\"input\", imread(\"https://samples.fiji.sc/blobs.png\"))\n",
    "\n",
    "print(str(workflow))"
   ]
  },
  {
   "cell_type": "markdown",
   "id": "853cf256",
   "metadata": {},
   "source": [
    "To actually execute computation, we call the `workflow.get()` function that produces a single specified output. Under the hood, it will also execute all intermediate operations that are necessary to come to the final output."
   ]
  },
  {
   "cell_type": "code",
   "execution_count": 6,
   "id": "ea713793",
   "metadata": {},
   "outputs": [
    {
     "data": {
      "image/png": "[encoded data removed]",
      "text/plain": [
       "<Figure size 432x288 with 1 Axes>"
      ]
     },
     "metadata": {
      "needs_background": "light"
     },
     "output_type": "display_data"
    }
   ],
   "source": [
    "result = workflow.get(\"labeled\")\n",
    "\n",
    "imshow(result, labels=True)"
   ]
  },
  {
   "cell_type": "code",
   "execution_count": null,
   "id": "11220c1e",
   "metadata": {},
   "outputs": [],
   "source": []
  }
 ],
 "metadata": {
  "kernelspec": {
   "display_name": "Python 3 (ipykernel)",
   "language": "python",
   "name": "python3"
  },
  "language_info": {
   "codemirror_mode": {
    "name": "ipython",
    "version": 3
   },
   "file_extension": ".py",
   "mimetype": "text/x-python",
   "name": "python",
   "nbconvert_exporter": "python",
   "pygments_lexer": "ipython3",
   "version": "3.9.9"
  }
 },
 "nbformat": 4,
 "nbformat_minor": 5
}
