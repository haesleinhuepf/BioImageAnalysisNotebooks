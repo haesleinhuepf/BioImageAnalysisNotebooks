{
 "cells": [
  {
   "cell_type": "markdown",
   "id": "7d9ebe36-31df-4c90-b09e-65c9afedf3b1",
   "metadata": {},
   "source": [
    "# Accessing image files in the owncloud\n",
    "\n",
    "**NOTE: This notebook has been moded to the section \"remote files\"**\n",
    "\n",
    "\n",
    "This notebook we will demonstrate how to download files from an owncloud server, how to process it locally and upload the results back to the server.\n",
    "\n",
    "Depending on which cloud we use, we may have to install different libaries.\n",
    "\n",
    "* Owncloud installation\n",
    "```\n",
    "pip install pyocclient\n",
    "```\n",
    "\n",
    "* Nextcloud installation\n",
    "```\n",
    "pip install pyncclient\n",
    "```"
   ]
  },
  {
   "cell_type": "code",
   "execution_count": 1,
   "id": "558d6ae7-dead-4181-ae8b-bae3fa02cf64",
   "metadata": {},
   "outputs": [],
   "source": [
    "from skimage.io import imread, imshow, imsave\n",
    "from napari_segment_blobs_and_things_with_membranes import voronoi_otsu_labeling\n",
    "import ipywidgets as widgets\n",
    "\n",
    "import owncloud\n",
    "# import nextcloud_client as owncloud"
   ]
  },
  {
   "cell_type": "markdown",
   "id": "040f6ba3-ad0e-4640-86f0-29e7e39390fc",
   "metadata": {},
   "source": [
    "## Login\n",
    "After executing the next cell locally, you will see three input fields where you can enter the server url, username and password.\n",
    "\n",
    "![](login.png)"
   ]
  },
  {
   "cell_type": "code",
   "execution_count": 2,
   "id": "005749f6-513f-442e-83bc-24ebc27e6458",
   "metadata": {},
   "outputs": [
    {
     "data": {
      "application/vnd.jupyter.widget-view+json": {
       "model_id": "4c1c468cd2ef485399bc48a83025df81",
       "version_major": 2,
       "version_minor": 0
      },
      "text/plain": [
       "VBox(children=(Text(value='https://sharing.biotec.tu-dresden.de', description='Server'), Text(value='', descri…"
      ]
     },
     "execution_count": 2,
     "metadata": {},
     "output_type": "execute_result"
    }
   ],
   "source": [
    "server_widget = widgets.Text(value='https://sharing.biotec.tu-dresden.de', description='Server')\n",
    "username_widget = widgets.Text(description='Username:')\n",
    "password_widget = widgets.Password(description='Password')\n",
    "\n",
    "widgets.VBox([server_widget, username_widget, password_widget])"
   ]
  },
  {
   "cell_type": "markdown",
   "id": "b6818166-4d90-4572-a83c-4ffcc94766ff",
   "metadata": {},
   "source": [
    "**Do NOT hit Shift-Enter after entering username and password**"
   ]
  },
  {
   "cell_type": "code",
   "execution_count": 3,
   "id": "4d904fd9-acbe-4d9c-9b28-a1073bc128cc",
   "metadata": {},
   "outputs": [],
   "source": [
    "if username_widget.value == '':\n",
    "    raise RuntimeError('Enter username and password above')"
   ]
  },
  {
   "cell_type": "code",
   "execution_count": 4,
   "id": "daab6956-fa31-4660-be02-0dee8712e8dd",
   "metadata": {},
   "outputs": [],
   "source": [
    "oc = owncloud.Client(server_widget.value)\n",
    "oc.login(username_widget.value, password_widget.value)"
   ]
  },
  {
   "cell_type": "markdown",
   "id": "41a3a588-db89-42bd-83cf-cfde579fe45f",
   "metadata": {},
   "source": [
    "A typical error message is 401: Access denied. Check your username and password.\n",
    "\n",
    "## Browsing the remote server\n",
    "To see if the connection was successful, we can just list the files in a given folder."
   ]
  },
  {
   "cell_type": "code",
   "execution_count": 5,
   "id": "815f1c03-e403-459b-8635-759ff750a732",
   "metadata": {},
   "outputs": [
    {
     "name": "stdout",
     "output_type": "stream",
     "text": [
      "/data/blobs.tif\n",
      "/data/blobs_labels.tif\n",
      "/data/testfolder/\n",
      "/data/zfish_nucl_env.tif\n"
     ]
    }
   ],
   "source": [
    "# enter a folder on the owncloud drive that exists. '/' is the root folder.\n",
    "remote_folder = \"/data/\"\n",
    "\n",
    "for f in oc.list(remote_folder):\n",
    "    print (f.path)"
   ]
  },
  {
   "cell_type": "code",
   "execution_count": 6,
   "id": "6b980b56-1e9c-4696-9fdb-deeaba5f659d",
   "metadata": {},
   "outputs": [],
   "source": [
    "import tempfile\n",
    "temp_folder = tempfile.TemporaryDirectory(prefix=\"napari-owncloud\")\n"
   ]
  },
  {
   "cell_type": "code",
   "execution_count": 11,
   "id": "989569f4-43cd-4a7a-81f0-2d82d75c8e3f",
   "metadata": {},
   "outputs": [
    {
     "data": {
      "text/plain": [
       "True"
      ]
     },
     "execution_count": 11,
     "metadata": {},
     "output_type": "execute_result"
    }
   ],
   "source": [
    "import os\n",
    "\n",
    "temp_dir = temp_folder.name.replace(\"\\\\\", \"/\") + remote_folder\n",
    "\n",
    "os.path.isdir(temp_dir)"
   ]
  },
  {
   "cell_type": "code",
   "execution_count": 12,
   "id": "615b2875-168f-4ef7-9c86-574963e5a69f",
   "metadata": {},
   "outputs": [
    {
     "ename": "FileExistsError",
     "evalue": "[WinError 183] Cannot create a file when that file already exists: 'C:/Users/haase/AppData/Local/Temp/napari-owncloudc0epk0iu/data/'",
     "output_type": "error",
     "traceback": [
      "\u001b[1;31m---------------------------------------------------------------------------\u001b[0m",
      "\u001b[1;31mFileExistsError\u001b[0m                           Traceback (most recent call last)",
      "Cell \u001b[1;32mIn [12], line 1\u001b[0m\n\u001b[1;32m----> 1\u001b[0m \u001b[43mos\u001b[49m\u001b[38;5;241;43m.\u001b[39;49m\u001b[43mmkdir\u001b[49m\u001b[43m(\u001b[49m\u001b[43mtemp_dir\u001b[49m\u001b[43m)\u001b[49m\n",
      "\u001b[1;31mFileExistsError\u001b[0m: [WinError 183] Cannot create a file when that file already exists: 'C:/Users/haase/AppData/Local/Temp/napari-owncloudc0epk0iu/data/'"
     ]
    }
   ],
   "source": [
    "\n",
    "os.mkdir(temp_dir)"
   ]
  },
  {
   "cell_type": "markdown",
   "id": "c08c077f-7c76-40a3-97d2-a16f435cf8c4",
   "metadata": {},
   "source": [
    "## Retrieving a file\n",
    "We can download a file to a local directory."
   ]
  },
  {
   "cell_type": "code",
   "execution_count": 6,
   "id": "9e989c43-684e-41b6-af53-68515cfc3be2",
   "metadata": {},
   "outputs": [
    {
     "data": {
      "text/plain": [
       "True"
      ]
     },
     "execution_count": 6,
     "metadata": {},
     "output_type": "execute_result"
    }
   ],
   "source": [
    "# enter the source file here\n",
    "remote_source_file = '/data/blobs.tif'\n",
    "# enter the destination\n",
    "local_file = 'blobs.tif'\n",
    "\n",
    "oc.get_file(remote_path=remote_source_file, \n",
    "            local_file=local_file)"
   ]
  },
  {
   "cell_type": "markdown",
   "id": "abd6569b-d49e-40d7-89a9-2ce1e0e2745a",
   "metadata": {},
   "source": [
    "## Image processing\n",
    "As we downloaded the file, image processing works as usual."
   ]
  },
  {
   "cell_type": "code",
   "execution_count": 7,
   "id": "c66d5f7a-9c7f-467c-ab23-2d2375d236dc",
   "metadata": {},
   "outputs": [
    {
     "data": {
      "text/plain": [
       "<matplotlib.image.AxesImage at 0x1d29730e760>"
      ]
     },
     "execution_count": 7,
     "metadata": {},
     "output_type": "execute_result"
    },
    {
     "data": {
      "image/png": "[encoded data removed]",
      "text/plain": [
       "<Figure size 640x480 with 1 Axes>"
      ]
     },
     "metadata": {},
     "output_type": "display_data"
    }
   ],
   "source": [
    "image = imread(local_file)\n",
    "imshow(image)"
   ]
  },
  {
   "cell_type": "code",
   "execution_count": 8,
   "id": "54431d4f-e023-4b28-ba71-63631120c8c8",
   "metadata": {},
   "outputs": [
    {
     "data": {
      "text/html": [
       "<table>\n",
       "<tr>\n",
       "<td>\n",
       "<img src=\"data:image/png;base64,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\"></img>\n",
       "</td>\n",
       "<td style=\"text-align: center; vertical-align: top;\">\n",
       "<b><a href=\"https://www.napari-hub.org/plugins/napari-segment-blobs-and-things-with-membranes\" target=\"_blank\">nsbatwm made </a>image</b><br/>\n",
       "<table>\n",
       "<tr><td>shape</td><td>(254,&nbsp;256)</td></tr>\n",
       "<tr><td>dtype</td><td>int32</td></tr>\n",
       "<tr><td>size</td><td>254.0 kB</td></tr>\n",
       "<tr><td>min</td><td>0</td></tr><tr><td>max</td><td>65</td></tr>\n",
       "</table>\n",
       "\n",
       "</td>\n",
       "</tr>\n",
       "</table>"
      ],
      "text/plain": [
       "StackViewNDArray([[0, 0, 0, ..., 4, 4, 4],\n",
       "                  [0, 0, 0, ..., 4, 4, 4],\n",
       "                  [0, 0, 0, ..., 4, 4, 4],\n",
       "                  ...,\n",
       "                  [0, 0, 0, ..., 0, 0, 0],\n",
       "                  [0, 0, 0, ..., 0, 0, 0],\n",
       "                  [0, 0, 0, ..., 0, 0, 0]])"
      ]
     },
     "execution_count": 8,
     "metadata": {},
     "output_type": "execute_result"
    }
   ],
   "source": [
    "labels = voronoi_otsu_labeling(image, spot_sigma=3.5)\n",
    "labels"
   ]
  },
  {
   "cell_type": "markdown",
   "id": "0d184952-da5e-4e1c-8325-a0f4655169ad",
   "metadata": {},
   "source": [
    "## Uploading results\n",
    "Before uploading an image to the cloud we need to save it locally."
   ]
  },
  {
   "cell_type": "code",
   "execution_count": 9,
   "id": "e564bd91-73e9-4fa4-abab-854f74bf4fc0",
   "metadata": {},
   "outputs": [],
   "source": [
    "local_file_to_upload = \"blobs_labels.tif\"\n",
    "\n",
    "imsave(local_file_to_upload, labels, check_contrast=False)"
   ]
  },
  {
   "cell_type": "markdown",
   "id": "e8acac0f-9ce8-4266-9826-ac19b2c56721",
   "metadata": {},
   "source": [
    "We will upload the file to this folder:"
   ]
  },
  {
   "cell_type": "code",
   "execution_count": 10,
   "id": "810cd512-1570-4c1f-b552-77c700dc7794",
   "metadata": {},
   "outputs": [
    {
     "data": {
      "text/plain": [
       "'/data/'"
      ]
     },
     "execution_count": 10,
     "metadata": {},
     "output_type": "execute_result"
    }
   ],
   "source": [
    "remote_folder"
   ]
  },
  {
   "cell_type": "code",
   "execution_count": 11,
   "id": "8fb1558f-6d98-4eff-8fe2-f955533e6459",
   "metadata": {},
   "outputs": [
    {
     "data": {
      "text/plain": [
       "True"
      ]
     },
     "execution_count": 11,
     "metadata": {},
     "output_type": "execute_result"
    }
   ],
   "source": [
    "oc.put_file(remote_folder, local_file_to_upload)"
   ]
  },
  {
   "cell_type": "markdown",
   "id": "d851413a-c6d7-4e69-b997-0217da2c5122",
   "metadata": {},
   "source": [
    "Just to be sure, we check if the file arrived by printing out the files in the folder again."
   ]
  },
  {
   "cell_type": "code",
   "execution_count": 12,
   "id": "3e26590c-187e-4234-affa-d655285ec373",
   "metadata": {},
   "outputs": [
    {
     "name": "stdout",
     "output_type": "stream",
     "text": [
      "/data/blobs.tif\n",
      "/data/blobs_labels.tif\n",
      "/data/zfish_nucl_env.tif\n"
     ]
    }
   ],
   "source": [
    "for f in oc.list(remote_folder):\n",
    "    print (f.path)"
   ]
  },
  {
   "cell_type": "markdown",
   "id": "c0de2827-e958-40c3-bbb5-ed616b7d2f8c",
   "metadata": {},
   "source": [
    "## Logout\n",
    "When you're done, log out!"
   ]
  },
  {
   "cell_type": "code",
   "execution_count": 13,
   "id": "43eb402f-349e-40e0-b1e5-adc551ce8a56",
   "metadata": {},
   "outputs": [
    {
     "data": {
      "text/plain": [
       "True"
      ]
     },
     "execution_count": 13,
     "metadata": {},
     "output_type": "execute_result"
    }
   ],
   "source": [
    "oc.logout()"
   ]
  },
  {
   "cell_type": "code",
   "execution_count": null,
   "id": "44d3d55d-4dda-4016-b1c8-4b10e2f227af",
   "metadata": {},
   "outputs": [],
   "source": []
  }
 ],
 "metadata": {
  "kernelspec": {
   "display_name": "Python 3 (ipykernel)",
   "language": "python",
   "name": "python3"
  },
  "language_info": {
   "codemirror_mode": {
    "name": "ipython",
    "version": 3
   },
   "file_extension": ".py",
   "mimetype": "text/x-python",
   "name": "python",
   "nbconvert_exporter": "python",
   "pygments_lexer": "ipython3",
   "version": "3.9.16"
  }
 },
 "nbformat": 4,
 "nbformat_minor": 5
}
