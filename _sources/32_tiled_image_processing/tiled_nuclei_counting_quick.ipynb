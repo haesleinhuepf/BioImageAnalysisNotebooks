{
 "cells": [
  {
   "cell_type": "markdown",
   "id": "500b07b7-5f43-40c0-ba80-bc6cd759f9f4",
   "metadata": {},
   "source": [
    "# Tiled image processing, a quick run-through\n",
    "\n",
    "In this notebook we will process a big dataset that has been saved in zarr format to count cells in individual tiles using [dask](https://docs.dask.org/en/stable/) and [zarr](https://zarr.readthedocs.io/en/stable/). The underlying principles will be explained in the next sections."
   ]
  },
  {
   "cell_type": "code",
   "execution_count": 1,
   "id": "e6a9300d-1f11-4a3b-94bb-a136ba69f09d",
   "metadata": {},
   "outputs": [],
   "source": [
    "import zarr\n",
    "import dask.array as da\n",
    "import numpy as np\n",
    "from skimage.io import imread\n",
    "import pyclesperanto_prototype as cle\n",
    "from pyclesperanto_prototype import imshow\n",
    "from numcodecs import Blosc"
   ]
  },
  {
   "cell_type": "markdown",
   "id": "8959f8d4-a6d6-4a2d-b4b7-9378d2ceec01",
   "metadata": {},
   "source": [
    "For demonstration purposes, we use a dataset that is provided by Theresa Suckert, OncoRay, University Hospital Carl Gustav Carus, TU Dresden. The dataset is licensed [License: CC-BY 4.0](https://creativecommons.org/licenses/by/4.0/). We are using a cropped version here that was resaved a 8-bit image to be able to provide it with the notebook. You find the full size 16-bit image in CZI file format [online](https://zenodo.org/record/4276076#.YX1F-55BxaQ). The biological background is explained in [Suckert et al. 2020](https://www.sciencedirect.com/science/article/abs/pii/S0167814020301043), where we also applied a similar workflow. \n",
    "\n",
    "When working with big data, you will likely have an image stored in the right format to begin with. For demonstration purposes, we save here a test image into the zarr format, which is commonly used for handling big image data."
   ]
  },
  {
   "cell_type": "code",
   "execution_count": 2,
   "id": "cc2eeeb8-eb5e-49fc-8569-cdff5e143e5e",
   "metadata": {},
   "outputs": [],
   "source": [
    "# Resave a test image into tiled zarr format\n",
    "input_filename = '../../data/P1_H_C3H_M004_17-cropped.tif'\n",
    "zarr_filename = '../../data/P1_H_C3H_M004_17-cropped.zarr'\n",
    "image = imread(input_filename)[1]\n",
    "compressor = Blosc(cname='zstd', clevel=3, shuffle=Blosc.BITSHUFFLE)\n",
    "zarray = zarr.array(image, chunks=(100, 100), compressor=compressor)\n",
    "zarr.convenience.save(zarr_filename, zarray)"
   ]
  },
  {
   "cell_type": "markdown",
   "id": "d76246fe-7358-4e0c-8112-1f1fd0af4108",
   "metadata": {},
   "source": [
    "## Loading the zarr-backed image\n",
    "Dask brings built-in support for the zarr file format. We can create dask arrays directly from a zarr file."
   ]
  },
  {
   "cell_type": "code",
   "execution_count": 3,
   "id": "2132d10e-1ec5-43eb-9c3c-a4d9358919cc",
   "metadata": {},
   "outputs": [
    {
     "data": {
      "text/html": [
       "<table>\n",
       "    <tr>\n",
       "        <td>\n",
       "            <table>\n",
       "                <thead>\n",
       "                    <tr>\n",
       "                        <td> </td>\n",
       "                        <th> Array </th>\n",
       "                        <th> Chunk </th>\n",
       "                    </tr>\n",
       "                </thead>\n",
       "                <tbody>\n",
       "                    \n",
       "                    <tr>\n",
       "                        <th> Bytes </th>\n",
       "                        <td> 9.54 MiB </td>\n",
       "                        <td> 9.77 kiB </td>\n",
       "                    </tr>\n",
       "                    \n",
       "                    <tr>\n",
       "                        <th> Shape </th>\n",
       "                        <td> (2000, 5000) </td>\n",
       "                        <td> (100, 100) </td>\n",
       "                    </tr>\n",
       "                    <tr>\n",
       "                        <th> Count </th>\n",
       "                        <td> 1001 Tasks </td>\n",
       "                        <td> 1000 Chunks </td>\n",
       "                    </tr>\n",
       "                    <tr>\n",
       "                    <th> Type </th>\n",
       "                    <td> uint8 </td>\n",
       "                    <td> numpy.ndarray </td>\n",
       "                    </tr>\n",
       "                </tbody>\n",
       "            </table>\n",
       "        </td>\n",
       "        <td>\n",
       "        <svg width=\"170\" height=\"98\" style=\"stroke:rgb(0,0,0);stroke-width:1\" >\n",
       "\n",
       "  <!-- Horizontal lines -->\n",
       "  <line x1=\"0\" y1=\"0\" x2=\"120\" y2=\"0\" style=\"stroke-width:2\" />\n",
       "  <line x1=\"0\" y1=\"2\" x2=\"120\" y2=\"2\" />\n",
       "  <line x1=\"0\" y1=\"4\" x2=\"120\" y2=\"4\" />\n",
       "  <line x1=\"0\" y1=\"7\" x2=\"120\" y2=\"7\" />\n",
       "  <line x1=\"0\" y1=\"9\" x2=\"120\" y2=\"9\" />\n",
       "  <line x1=\"0\" y1=\"12\" x2=\"120\" y2=\"12\" />\n",
       "  <line x1=\"0\" y1=\"14\" x2=\"120\" y2=\"14\" />\n",
       "  <line x1=\"0\" y1=\"16\" x2=\"120\" y2=\"16\" />\n",
       "  <line x1=\"0\" y1=\"19\" x2=\"120\" y2=\"19\" />\n",
       "  <line x1=\"0\" y1=\"21\" x2=\"120\" y2=\"21\" />\n",
       "  <line x1=\"0\" y1=\"24\" x2=\"120\" y2=\"24\" />\n",
       "  <line x1=\"0\" y1=\"26\" x2=\"120\" y2=\"26\" />\n",
       "  <line x1=\"0\" y1=\"28\" x2=\"120\" y2=\"28\" />\n",
       "  <line x1=\"0\" y1=\"31\" x2=\"120\" y2=\"31\" />\n",
       "  <line x1=\"0\" y1=\"33\" x2=\"120\" y2=\"33\" />\n",
       "  <line x1=\"0\" y1=\"36\" x2=\"120\" y2=\"36\" />\n",
       "  <line x1=\"0\" y1=\"38\" x2=\"120\" y2=\"38\" />\n",
       "  <line x1=\"0\" y1=\"40\" x2=\"120\" y2=\"40\" />\n",
       "  <line x1=\"0\" y1=\"43\" x2=\"120\" y2=\"43\" />\n",
       "  <line x1=\"0\" y1=\"48\" x2=\"120\" y2=\"48\" style=\"stroke-width:2\" />\n",
       "\n",
       "  <!-- Vertical lines -->\n",
       "  <line x1=\"0\" y1=\"0\" x2=\"0\" y2=\"48\" style=\"stroke-width:2\" />\n",
       "  <line x1=\"4\" y1=\"0\" x2=\"4\" y2=\"48\" />\n",
       "  <line x1=\"12\" y1=\"0\" x2=\"12\" y2=\"48\" />\n",
       "  <line x1=\"16\" y1=\"0\" x2=\"16\" y2=\"48\" />\n",
       "  <line x1=\"24\" y1=\"0\" x2=\"24\" y2=\"48\" />\n",
       "  <line x1=\"31\" y1=\"0\" x2=\"31\" y2=\"48\" />\n",
       "  <line x1=\"36\" y1=\"0\" x2=\"36\" y2=\"48\" />\n",
       "  <line x1=\"43\" y1=\"0\" x2=\"43\" y2=\"48\" />\n",
       "  <line x1=\"50\" y1=\"0\" x2=\"50\" y2=\"48\" />\n",
       "  <line x1=\"55\" y1=\"0\" x2=\"55\" y2=\"48\" />\n",
       "  <line x1=\"62\" y1=\"0\" x2=\"62\" y2=\"48\" />\n",
       "  <line x1=\"67\" y1=\"0\" x2=\"67\" y2=\"48\" />\n",
       "  <line x1=\"74\" y1=\"0\" x2=\"74\" y2=\"48\" />\n",
       "  <line x1=\"81\" y1=\"0\" x2=\"81\" y2=\"48\" />\n",
       "  <line x1=\"86\" y1=\"0\" x2=\"86\" y2=\"48\" />\n",
       "  <line x1=\"93\" y1=\"0\" x2=\"93\" y2=\"48\" />\n",
       "  <line x1=\"100\" y1=\"0\" x2=\"100\" y2=\"48\" />\n",
       "  <line x1=\"105\" y1=\"0\" x2=\"105\" y2=\"48\" />\n",
       "  <line x1=\"112\" y1=\"0\" x2=\"112\" y2=\"48\" />\n",
       "  <line x1=\"120\" y1=\"0\" x2=\"120\" y2=\"48\" style=\"stroke-width:2\" />\n",
       "\n",
       "  <!-- Colored Rectangle -->\n",
       "  <polygon points=\"0.0,0.0 120.0,0.0 120.0,48.0 0.0,48.0\" style=\"fill:#8B4903A0;stroke-width:0\"/>\n",
       "\n",
       "  <!-- Text -->\n",
       "  <text x=\"60.000000\" y=\"68.000000\" font-size=\"1.0rem\" font-weight=\"100\" text-anchor=\"middle\" >5000</text>\n",
       "  <text x=\"140.000000\" y=\"24.000000\" font-size=\"1.0rem\" font-weight=\"100\" text-anchor=\"middle\" transform=\"rotate(-90,140.000000,24.000000)\">2000</text>\n",
       "</svg>\n",
       "        </td>\n",
       "    </tr>\n",
       "</table>"
      ],
      "text/plain": [
       "dask.array<from-zarr, shape=(2000, 5000), dtype=uint8, chunksize=(100, 100), chunktype=numpy.ndarray>"
      ]
     },
     "execution_count": 3,
     "metadata": {},
     "output_type": "execute_result"
    }
   ],
   "source": [
    "zarr_image = da.from_zarr(zarr_filename)\n",
    "zarr_image"
   ]
  },
  {
   "cell_type": "markdown",
   "id": "c2721aa7-947e-4855-9325-c3e2b4746226",
   "metadata": {},
   "source": [
    "We can apply image processing to this tiled dataset directly."
   ]
  },
  {
   "cell_type": "markdown",
   "id": "84fd34c2-68fe-4eeb-8f2b-d213226086e0",
   "metadata": {},
   "source": [
    "## Counting nuclei\n",
    "For counting the nuclei, we setup a simple image processing workflow. It returns an image with a single pixel containing the number of nuclei in the given input image. These single pixels will be assembled to a pixel count map; an image with much less pixels than the original image, but with the advantage that we can look at it - it's no big data anymore.cle.exclude_labels_with_map_values_within_range"
   ]
  },
  {
   "cell_type": "code",
   "execution_count": 4,
   "id": "713fcb46-9e8c-4090-a73e-a4d3b60dae24",
   "metadata": {},
   "outputs": [],
   "source": [
    "def count_nuclei(image):\n",
    "    \"\"\"\n",
    "    Label objects in a binary image and produce a pixel-count-map image.\n",
    "    \"\"\"\n",
    "    # Count nuclei including those which touch the image border\n",
    "    labels = cle.voronoi_otsu_labeling(image, spot_sigma=3.5)\n",
    "    label_intensity_map = cle.mean_intensity_map(image, labels)\n",
    "    \n",
    "    high_intensity_labels = cle.exclude_labels_with_map_values_within_range(label_intensity_map, labels, maximum_value_range=20)\n",
    "    nuclei_count = high_intensity_labels.max()\n",
    "    \n",
    "    # Count nuclei excluding those which touch the image border\n",
    "    labels_without_borders = cle.exclude_labels_on_edges(high_intensity_labels)\n",
    "    nuclei_count_excluding_borders = labels_without_borders.max()\n",
    "    \n",
    "    # Both nuclei-count including and excluding nuclei at image borders \n",
    "    # are no good approximation. We should exclude the nuclei only on \n",
    "    # half of the borders to get a good estimate.\n",
    "    # Alternatively, we just take the average of both counts.\n",
    "    result = np.asarray([[(nuclei_count + nuclei_count_excluding_borders) / 2]])\n",
    "    \n",
    "    return result"
   ]
  },
  {
   "cell_type": "markdown",
   "id": "6b5420e4-f405-4ab9-b385-87be0b0750ce",
   "metadata": {},
   "source": [
    "Before we can start the computation, we need to deactivate asynchronous execution of operations in pyclesperanto. [See also related issue](https://github.com/clEsperanto/pyclesperanto_prototype/issues/163)."
   ]
  },
  {
   "cell_type": "code",
   "execution_count": 5,
   "id": "00cf9b77-0baa-492a-bc63-edf5e798c636",
   "metadata": {},
   "outputs": [],
   "source": [
    "cle.set_wait_for_kernel_finish(True)"
   ]
  },
  {
   "cell_type": "markdown",
   "id": "251e38da-f93f-4e1b-85bc-d4fb9181c680",
   "metadata": {},
   "source": [
    "For processing tiles using dask, we setup processing blocks with no overlap."
   ]
  },
  {
   "cell_type": "code",
   "execution_count": 6,
   "id": "eeba9ded-3fb3-4dba-81f3-6212c1251cbc",
   "metadata": {},
   "outputs": [
    {
     "data": {
      "text/html": [
       "<table>\n",
       "    <tr>\n",
       "        <td>\n",
       "            <table>\n",
       "                <thead>\n",
       "                    <tr>\n",
       "                        <td> </td>\n",
       "                        <th> Array </th>\n",
       "                        <th> Chunk </th>\n",
       "                    </tr>\n",
       "                </thead>\n",
       "                <tbody>\n",
       "                    \n",
       "                    <tr>\n",
       "                        <th> Bytes </th>\n",
       "                        <td> 76.29 MiB </td>\n",
       "                        <td> 78.12 kiB </td>\n",
       "                    </tr>\n",
       "                    \n",
       "                    <tr>\n",
       "                        <th> Shape </th>\n",
       "                        <td> (2000, 5000) </td>\n",
       "                        <td> (100, 100) </td>\n",
       "                    </tr>\n",
       "                    <tr>\n",
       "                        <th> Count </th>\n",
       "                        <td> 2001 Tasks </td>\n",
       "                        <td> 1000 Chunks </td>\n",
       "                    </tr>\n",
       "                    <tr>\n",
       "                    <th> Type </th>\n",
       "                    <td> float64 </td>\n",
       "                    <td> numpy.ndarray </td>\n",
       "                    </tr>\n",
       "                </tbody>\n",
       "            </table>\n",
       "        </td>\n",
       "        <td>\n",
       "        <svg width=\"170\" height=\"98\" style=\"stroke:rgb(0,0,0);stroke-width:1\" >\n",
       "\n",
       "  <!-- Horizontal lines -->\n",
       "  <line x1=\"0\" y1=\"0\" x2=\"120\" y2=\"0\" style=\"stroke-width:2\" />\n",
       "  <line x1=\"0\" y1=\"2\" x2=\"120\" y2=\"2\" />\n",
       "  <line x1=\"0\" y1=\"4\" x2=\"120\" y2=\"4\" />\n",
       "  <line x1=\"0\" y1=\"7\" x2=\"120\" y2=\"7\" />\n",
       "  <line x1=\"0\" y1=\"9\" x2=\"120\" y2=\"9\" />\n",
       "  <line x1=\"0\" y1=\"12\" x2=\"120\" y2=\"12\" />\n",
       "  <line x1=\"0\" y1=\"14\" x2=\"120\" y2=\"14\" />\n",
       "  <line x1=\"0\" y1=\"16\" x2=\"120\" y2=\"16\" />\n",
       "  <line x1=\"0\" y1=\"19\" x2=\"120\" y2=\"19\" />\n",
       "  <line x1=\"0\" y1=\"21\" x2=\"120\" y2=\"21\" />\n",
       "  <line x1=\"0\" y1=\"24\" x2=\"120\" y2=\"24\" />\n",
       "  <line x1=\"0\" y1=\"26\" x2=\"120\" y2=\"26\" />\n",
       "  <line x1=\"0\" y1=\"28\" x2=\"120\" y2=\"28\" />\n",
       "  <line x1=\"0\" y1=\"31\" x2=\"120\" y2=\"31\" />\n",
       "  <line x1=\"0\" y1=\"33\" x2=\"120\" y2=\"33\" />\n",
       "  <line x1=\"0\" y1=\"36\" x2=\"120\" y2=\"36\" />\n",
       "  <line x1=\"0\" y1=\"38\" x2=\"120\" y2=\"38\" />\n",
       "  <line x1=\"0\" y1=\"40\" x2=\"120\" y2=\"40\" />\n",
       "  <line x1=\"0\" y1=\"43\" x2=\"120\" y2=\"43\" />\n",
       "  <line x1=\"0\" y1=\"48\" x2=\"120\" y2=\"48\" style=\"stroke-width:2\" />\n",
       "\n",
       "  <!-- Vertical lines -->\n",
       "  <line x1=\"0\" y1=\"0\" x2=\"0\" y2=\"48\" style=\"stroke-width:2\" />\n",
       "  <line x1=\"4\" y1=\"0\" x2=\"4\" y2=\"48\" />\n",
       "  <line x1=\"12\" y1=\"0\" x2=\"12\" y2=\"48\" />\n",
       "  <line x1=\"16\" y1=\"0\" x2=\"16\" y2=\"48\" />\n",
       "  <line x1=\"24\" y1=\"0\" x2=\"24\" y2=\"48\" />\n",
       "  <line x1=\"31\" y1=\"0\" x2=\"31\" y2=\"48\" />\n",
       "  <line x1=\"36\" y1=\"0\" x2=\"36\" y2=\"48\" />\n",
       "  <line x1=\"43\" y1=\"0\" x2=\"43\" y2=\"48\" />\n",
       "  <line x1=\"50\" y1=\"0\" x2=\"50\" y2=\"48\" />\n",
       "  <line x1=\"55\" y1=\"0\" x2=\"55\" y2=\"48\" />\n",
       "  <line x1=\"62\" y1=\"0\" x2=\"62\" y2=\"48\" />\n",
       "  <line x1=\"67\" y1=\"0\" x2=\"67\" y2=\"48\" />\n",
       "  <line x1=\"74\" y1=\"0\" x2=\"74\" y2=\"48\" />\n",
       "  <line x1=\"81\" y1=\"0\" x2=\"81\" y2=\"48\" />\n",
       "  <line x1=\"86\" y1=\"0\" x2=\"86\" y2=\"48\" />\n",
       "  <line x1=\"93\" y1=\"0\" x2=\"93\" y2=\"48\" />\n",
       "  <line x1=\"100\" y1=\"0\" x2=\"100\" y2=\"48\" />\n",
       "  <line x1=\"105\" y1=\"0\" x2=\"105\" y2=\"48\" />\n",
       "  <line x1=\"112\" y1=\"0\" x2=\"112\" y2=\"48\" />\n",
       "  <line x1=\"120\" y1=\"0\" x2=\"120\" y2=\"48\" style=\"stroke-width:2\" />\n",
       "\n",
       "  <!-- Colored Rectangle -->\n",
       "  <polygon points=\"0.0,0.0 120.0,0.0 120.0,48.0 0.0,48.0\" style=\"fill:#8B4903A0;stroke-width:0\"/>\n",
       "\n",
       "  <!-- Text -->\n",
       "  <text x=\"60.000000\" y=\"68.000000\" font-size=\"1.0rem\" font-weight=\"100\" text-anchor=\"middle\" >5000</text>\n",
       "  <text x=\"140.000000\" y=\"24.000000\" font-size=\"1.0rem\" font-weight=\"100\" text-anchor=\"middle\" transform=\"rotate(-90,140.000000,24.000000)\">2000</text>\n",
       "</svg>\n",
       "        </td>\n",
       "    </tr>\n",
       "</table>"
      ],
      "text/plain": [
       "dask.array<count_nuclei, shape=(2000, 5000), dtype=float64, chunksize=(100, 100), chunktype=numpy.ndarray>"
      ]
     },
     "execution_count": 6,
     "metadata": {},
     "output_type": "execute_result"
    }
   ],
   "source": [
    "tile_map = da.map_blocks(count_nuclei, zarr_image)\n",
    "\n",
    "tile_map"
   ]
  },
  {
   "cell_type": "markdown",
   "id": "08cbf9c0-7fe7-4eb7-b104-907cc62cb03b",
   "metadata": {},
   "source": [
    "As the result image is much smaller then the original, we can compute the whole result map."
   ]
  },
  {
   "cell_type": "code",
   "execution_count": 7,
   "id": "c32f321d-90a0-4f3e-90fe-0f876761ea89",
   "metadata": {},
   "outputs": [],
   "source": [
    "result = tile_map.compute()"
   ]
  },
  {
   "cell_type": "code",
   "execution_count": 8,
   "id": "d49be008-f92f-4eef-891a-d9a9a883eb21",
   "metadata": {},
   "outputs": [
    {
     "data": {
      "text/plain": [
       "(20, 50)"
      ]
     },
     "execution_count": 8,
     "metadata": {},
     "output_type": "execute_result"
    }
   ],
   "source": [
    "result.shape"
   ]
  },
  {
   "cell_type": "markdown",
   "id": "b51ff80c-79f6-497c-a8df-3dfe4fee89ce",
   "metadata": {},
   "source": [
    "Again, as the result map is small, we can just visualize it."
   ]
  },
  {
   "cell_type": "code",
   "execution_count": 9,
   "id": "64dbfdf3-6663-4949-9446-eb393ecdc288",
   "metadata": {},
   "outputs": [
    {
     "data": {
      "image/png": "[encoded data removed]",
      "text/plain": [
       "<Figure size 432x288 with 2 Axes>"
      ]
     },
     "metadata": {
      "needs_background": "light"
     },
     "output_type": "display_data"
    }
   ],
   "source": [
    "cle.imshow(result, colorbar=True)"
   ]
  },
  {
   "cell_type": "markdown",
   "id": "58e69505-e192-4256-b8d7-a2267ba03ce9",
   "metadata": {},
   "source": [
    "With a quick visual check in the original image, we can see that indeed in the top left corner of the image, there are much less cells than in the bottom right."
   ]
  },
  {
   "cell_type": "code",
   "execution_count": 10,
   "id": "47821e67-f35a-431e-a1bc-1800f63b0010",
   "metadata": {},
   "outputs": [
    {
     "data": {
      "image/png": "[encoded data removed]",
      "text/plain": [
       "<Figure size 432x288 with 1 Axes>"
      ]
     },
     "metadata": {
      "needs_background": "light"
     },
     "output_type": "display_data"
    }
   ],
   "source": [
    "cle.imshow(cle.voronoi_otsu_labeling(image, spot_sigma=3.5), labels=True)"
   ]
  },
  {
   "cell_type": "code",
   "execution_count": null,
   "id": "b567b6ad-7307-42d2-924d-54caf1ec4396",
   "metadata": {},
   "outputs": [],
   "source": []
  }
 ],
 "metadata": {
  "kernelspec": {
   "display_name": "Python 3 (ipykernel)",
   "language": "python",
   "name": "python3"
  },
  "language_info": {
   "codemirror_mode": {
    "name": "ipython",
    "version": 3
   },
   "file_extension": ".py",
   "mimetype": "text/x-python",
   "name": "python",
   "nbconvert_exporter": "python",
   "pygments_lexer": "ipython3",
   "version": "3.9.0"
  }
 },
 "nbformat": 4,
 "nbformat_minor": 5
}
